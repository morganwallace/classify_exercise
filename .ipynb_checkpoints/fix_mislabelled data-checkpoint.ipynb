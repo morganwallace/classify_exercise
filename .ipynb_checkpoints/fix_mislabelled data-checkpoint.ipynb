{
 "metadata": {
  "name": ""
 },
 "nbformat": 3,
 "nbformat_minor": 0,
 "worksheets": [
  {
   "cells": [
    {
     "cell_type": "code",
     "collapsed": false,
     "input": [
      "import pickle"
     ],
     "language": "python",
     "metadata": {},
     "outputs": [],
     "prompt_number": 1
    },
    {
     "cell_type": "code",
     "collapsed": false,
     "input": [
      "!ls"
     ],
     "language": "python",
     "metadata": {},
     "outputs": [
      {
       "output_type": "stream",
       "stream": "stdout",
       "text": [
        "Machine Learning - Free Weights.ipynb final_project_proposal.md\r\n",
        "Manually add reps.ipynb               labeled_data.csv\r\n",
        "README.md                             peak_detect_functions.ipynb\r\n",
        "SVC.ipynb                             save_graph_and_data.py\r\n",
        "Untitled0.ipynb                       \u001b[1m\u001b[36msaved_animations_and_data\u001b[m\u001b[m\r\n",
        "__init__.py                           saved_data.py\r\n",
        "all_samples.csv                       saved_data.pyc\r\n",
        "all_samples.p                         svc_model.p\r\n",
        "exercise_analysis.py                  svm_model.py\r\n",
        "exercise_analysis.pyc\r\n"
       ]
      }
     ],
     "prompt_number": 2
    },
    {
     "cell_type": "code",
     "collapsed": false,
     "input": [
      "filename='saved_animations_and_data/2014-04-23__16-20-43_bicep curls_lisa/2014-04-23__16-20-43_bicep curls.p'\n",
      "f=open(filename)\n",
      "data=pickle.load(f)\n",
      "f.close()"
     ],
     "language": "python",
     "metadata": {},
     "outputs": [],
     "prompt_number": 54
    },
    {
     "cell_type": "code",
     "collapsed": false,
     "input": [
      "#fix name and exerciseType\n",
      "for i in range(len(data)):\n",
      "    data[i][0]='lisa'\n",
      "    data[i][1]='bicep curls'"
     ],
     "language": "python",
     "metadata": {},
     "outputs": [],
     "prompt_number": 57
    },
    {
     "cell_type": "code",
     "collapsed": false,
     "input": [
      "data[4]"
     ],
     "language": "python",
     "metadata": {},
     "outputs": [
      {
       "metadata": {},
       "output_type": "pyout",
       "prompt_number": 58,
       "text": [
        "['lisa',\n",
        " 'bicep curls',\n",
        " 0,\n",
        " 0.6346879005432129,\n",
        " 0.54,\n",
        " 0.42,\n",
        " -0.68,\n",
        " -2,\n",
        " -127,\n",
        " 141,\n",
        " -322.0,\n",
        " 152.72,\n",
        " 247.48]"
       ]
      }
     ],
     "prompt_number": 58
    },
    {
     "cell_type": "code",
     "collapsed": false,
     "input": [
      "\n",
      "pickle.dump(data, open(filename,\"wb\"))"
     ],
     "language": "python",
     "metadata": {},
     "outputs": [],
     "prompt_number": 53
    },
    {
     "cell_type": "code",
     "collapsed": false,
     "input": [
      "!ls saved_animations_and_data/"
     ],
     "language": "python",
     "metadata": {},
     "outputs": [
      {
       "output_type": "stream",
       "stream": "stdout",
       "text": [
        "\u001b[1m\u001b[36m2014-04-23__15-07-22_bicep curls_kate\u001b[m\u001b[m\r\n",
        "\u001b[1m\u001b[36m2014-04-23__15-07-39_bicep curls_kate\u001b[m\u001b[m\r\n",
        "\u001b[1m\u001b[36m2014-04-23__15-08-16_bicep curls_kate\u001b[m\u001b[m\r\n",
        "\u001b[1m\u001b[36m2014-04-23__15-09-41_tricep_kate\u001b[m\u001b[m\r\n",
        "\u001b[1m\u001b[36m2014-04-23__15-10-18_tricep_kate\u001b[m\u001b[m\r\n",
        "\u001b[1m\u001b[36m2014-04-23__15-11-27_shoulder_kate\u001b[m\u001b[m\r\n",
        "\u001b[1m\u001b[36m2014-04-23__15-12-04_shoulder_kate\u001b[m\u001b[m\r\n",
        "\u001b[1m\u001b[36m2014-04-23__15-13-17_bicep curls_shaohan\u001b[m\u001b[m\r\n",
        "\u001b[1m\u001b[36m2014-04-23__15-13-56_bicep curls_shaohan\u001b[m\u001b[m\r\n",
        "\u001b[1m\u001b[36m2014-04-23__15-15-10_tricep_shaohan\u001b[m\u001b[m\r\n",
        "\u001b[1m\u001b[36m2014-04-23__15-15-56_tricep_shaohan\u001b[m\u001b[m\r\n",
        "\u001b[1m\u001b[36m2014-04-23__15-16-11_tricep_shaohan\u001b[m\u001b[m\r\n",
        "\u001b[1m\u001b[36m2014-04-23__15-16-58_shoulder_shaohan\u001b[m\u001b[m\r\n",
        "\u001b[1m\u001b[36m2014-04-23__15-17-30_shoulder_shaohan\u001b[m\u001b[m\r\n",
        "\u001b[1m\u001b[36m2014-04-23__16-20-43_bicep curls_lisa\u001b[m\u001b[m\r\n",
        "\u001b[1m\u001b[36m2014-04-23__16-22-37_bicep_lisa\u001b[m\u001b[m\r\n",
        "\u001b[1m\u001b[36m2014-04-23__16-23-38_tricep_lisa\u001b[m\u001b[m\r\n",
        "\u001b[1m\u001b[36m2014-04-23__16-24-35_tricep_lisa\u001b[m\u001b[m\r\n",
        "\u001b[1m\u001b[36m2014-04-23__16-25-43_shoulder_lisa\u001b[m\u001b[m\r\n",
        "\u001b[1m\u001b[36m2014-04-23__16-26-35_shoulder_lisa\u001b[m\u001b[m\r\n",
        "\u001b[1m\u001b[36m2014-04-23__16-27-23_shoulder_test\u001b[m\u001b[m\r\n",
        "\u001b[1m\u001b[36m2014-04-23__16-29-22_bicep curls_Dan\u001b[m\u001b[m\r\n",
        "\u001b[1m\u001b[36m2014-04-23__16-29-53_bicep curls_Dan\u001b[m\u001b[m\r\n",
        "\u001b[1m\u001b[36m2014-04-23__16-30-41_tricep_Dan\u001b[m\u001b[m\r\n",
        "\u001b[1m\u001b[36m2014-04-23__16-31-17_tricep_Dan\u001b[m\u001b[m\r\n",
        "\u001b[1m\u001b[36m2014-04-23__16-32-06_shoulder_Dan\u001b[m\u001b[m\r\n",
        "\u001b[1m\u001b[36m2014-04-23__16-32-52_shoulder_Dan\u001b[m\u001b[m\r\n",
        "\u001b[1m\u001b[36m2014-04-23__16-35-30_bicep curls_Sandra\u001b[m\u001b[m\r\n",
        "\u001b[1m\u001b[36m2014-04-23__16-36-12_bicep curls_Sandra\u001b[m\u001b[m\r\n",
        "\u001b[1m\u001b[36m2014-04-23__16-37-21_tricep_Sandra\u001b[m\u001b[m\r\n",
        "\u001b[1m\u001b[36m2014-04-23__16-38-05_tricep_Sandra\u001b[m\u001b[m\r\n",
        "\u001b[1m\u001b[36m2014-04-23__16-38-48_shoulder_Sandra\u001b[m\u001b[m\r\n",
        "\u001b[1m\u001b[36m2014-04-23__16-39-44_shoulder_Sandra\u001b[m\u001b[m\r\n",
        "\u001b[1m\u001b[36m2014-04-23__18-07-31_shoulder_Roy\u001b[m\u001b[m\r",
        "\r\n"
       ]
      }
     ],
     "prompt_number": 43
    },
    {
     "cell_type": "code",
     "collapsed": false,
     "input": [],
     "language": "python",
     "metadata": {},
     "outputs": [
      {
       "output_type": "stream",
       "stream": "stdout",
       "text": [
        "Machine Learning - Free Weights.ipynb fix_mislabelled data.ipynb\r\n",
        "Manually add reps.ipynb               labeled_data.csv\r\n",
        "README.md                             peak_detect_functions.ipynb\r\n",
        "SVC.ipynb                             save_graph_and_data.py\r\n",
        "__init__.py                           \u001b[1m\u001b[36msaved_animations_and_data\u001b[m\u001b[m\r\n",
        "all_samples.csv                       saved_data.py\r\n",
        "all_samples.p                         saved_data.pyc\r\n",
        "exercise_analysis.py                  svc_model.p\r\n",
        "exercise_analysis.pyc                 svm_model.py\r\n",
        "final_project_proposal.md\r\n"
       ]
      }
     ],
     "prompt_number": 38
    },
    {
     "cell_type": "code",
     "collapsed": false,
     "input": [],
     "language": "python",
     "metadata": {},
     "outputs": []
    }
   ],
   "metadata": {}
  }
 ]
}