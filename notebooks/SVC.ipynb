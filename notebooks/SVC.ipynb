{
 "metadata": {
  "name": ""
 },
 "nbformat": 3,
 "nbformat_minor": 0,
 "worksheets": [
  {
   "cells": [
    {
     "cell_type": "markdown",
     "metadata": {},
     "source": [
      "# Machine Learning tests\n",
      "## Support Vector Classifier (SVC)"
     ]
    },
    {
     "cell_type": "markdown",
     "metadata": {},
     "source": [
      "Import libraries for **device** and **data**"
     ]
    },
    {
     "cell_type": "code",
     "collapsed": false,
     "input": [
      "from __future__ import division\n",
      "\n",
      "import random\n",
      "import pickle\n",
      "import sklearn\n",
      "import pandas as pd\n",
      "from pandas import read_csv\n",
      "import numpy as np"
     ],
     "language": "python",
     "metadata": {},
     "outputs": [],
     "prompt_number": 1
    },
    {
     "cell_type": "markdown",
     "metadata": {},
     "source": [
      "Import libraries for **ploting** and **visualization**"
     ]
    },
    {
     "cell_type": "code",
     "collapsed": false,
     "input": [
      "# Matplotlib\n",
      "import matplotlib.pyplot as plt\n",
      "import pylab as pl\n",
      "\n",
      "#put plots in ipython notebook, inline.\n",
      "%matplotlib inline\n",
      "\n",
      "\n",
      "# MPLD3\n",
      "try:\n",
      "    import mpld3\n",
      "    from mpld3 import enable_notebook\n",
      "    from mpld3 import plugins\n",
      "    enable_notebook()\n",
      "except Exception as e:\n",
      "    print \"Attempt to import and enable mpld3 failed\", e\n",
      "    \n",
      "    \n",
      "# Seaborn\n",
      "# what would seaborn do?\n",
      "try:\n",
      "    import seaborn as sns\n",
      "except Exception as e:\n",
      "    print \"Attempt to import and enable seaborn failed\", e"
     ],
     "language": "python",
     "metadata": {},
     "outputs": [],
     "prompt_number": 2
    },
    {
     "cell_type": "markdown",
     "metadata": {},
     "source": [
      "Open and show data"
     ]
    },
    {
     "cell_type": "code",
     "collapsed": false,
     "input": [
      "df_training=read_csv(open('../data/training_data.csv','r'))\n",
      "df_training.describe()"
     ],
     "language": "python",
     "metadata": {},
     "outputs": [
      {
       "html": [
        "<div style=\"max-height:1000px;max-width:1500px;overflow:auto;\">\n",
        "<table border=\"1\" class=\"dataframe\">\n",
        "  <thead>\n",
        "    <tr style=\"text-align: right;\">\n",
        "      <th></th>\n",
        "      <th>Unnamed: 0</th>\n",
        "      <th>rep_count</th>\n",
        "      <th>t (sec)</th>\n",
        "      <th>acc_x</th>\n",
        "      <th>acc_y</th>\n",
        "      <th>acc_z</th>\n",
        "      <th>gyro_x</th>\n",
        "      <th>gyro_y</th>\n",
        "      <th>gyro_z</th>\n",
        "      <th>magnet_x</th>\n",
        "      <th>magnet_y</th>\n",
        "      <th>magnet_z</th>\n",
        "      <th>set_id</th>\n",
        "    </tr>\n",
        "  </thead>\n",
        "  <tbody>\n",
        "    <tr>\n",
        "      <th>count</th>\n",
        "      <td> 11327.000000</td>\n",
        "      <td> 11327.000000</td>\n",
        "      <td> 11327.000000</td>\n",
        "      <td> 11327.000000</td>\n",
        "      <td> 11327.000000</td>\n",
        "      <td> 11327.000000</td>\n",
        "      <td> 11327.000000</td>\n",
        "      <td> 11327.000000</td>\n",
        "      <td> 11327.000000</td>\n",
        "      <td> 11327.000000</td>\n",
        "      <td> 11327.000000</td>\n",
        "      <td> 11327.000000</td>\n",
        "      <td> 11327.000000</td>\n",
        "    </tr>\n",
        "    <tr>\n",
        "      <th>mean</th>\n",
        "      <td>  5752.068950</td>\n",
        "      <td>     0.225479</td>\n",
        "      <td>    12.632310</td>\n",
        "      <td>     0.139194</td>\n",
        "      <td>     0.035604</td>\n",
        "      <td>    -0.141018</td>\n",
        "      <td>   634.695241</td>\n",
        "      <td>   105.519908</td>\n",
        "      <td>    37.996733</td>\n",
        "      <td>    65.079177</td>\n",
        "      <td>   260.058667</td>\n",
        "      <td>   -33.433110</td>\n",
        "      <td>    28.470381</td>\n",
        "    </tr>\n",
        "    <tr>\n",
        "      <th>std</th>\n",
        "      <td>  3359.748079</td>\n",
        "      <td>     1.204432</td>\n",
        "      <td>     7.258747</td>\n",
        "      <td>     0.485011</td>\n",
        "      <td>     0.843428</td>\n",
        "      <td>     0.298536</td>\n",
        "      <td>  7925.164827</td>\n",
        "      <td>  5206.683010</td>\n",
        "      <td>  9886.754633</td>\n",
        "      <td>   271.360455</td>\n",
        "      <td>   377.540984</td>\n",
        "      <td>   208.606891</td>\n",
        "      <td>    16.161013</td>\n",
        "    </tr>\n",
        "    <tr>\n",
        "      <th>min</th>\n",
        "      <td>     1.000000</td>\n",
        "      <td>     0.000000</td>\n",
        "      <td>     0.088000</td>\n",
        "      <td>    -1.130000</td>\n",
        "      <td>    -1.900000</td>\n",
        "      <td>    -1.200000</td>\n",
        "      <td>-32768.000000</td>\n",
        "      <td>-32752.000000</td>\n",
        "      <td>-32736.000000</td>\n",
        "      <td>  -692.760000</td>\n",
        "      <td>  -470.120000</td>\n",
        "      <td>  -581.440000</td>\n",
        "      <td>     1.000000</td>\n",
        "    </tr>\n",
        "    <tr>\n",
        "      <th>25%</th>\n",
        "      <td>  2845.500000</td>\n",
        "      <td>     0.000000</td>\n",
        "      <td>     6.345000</td>\n",
        "      <td>    -0.230000</td>\n",
        "      <td>    -0.890000</td>\n",
        "      <td>    -0.290000</td>\n",
        "      <td> -2036.000000</td>\n",
        "      <td> -1474.500000</td>\n",
        "      <td> -4034.500000</td>\n",
        "      <td>  -149.040000</td>\n",
        "      <td>   -62.560000</td>\n",
        "      <td>  -174.800000</td>\n",
        "      <td>    14.000000</td>\n",
        "    </tr>\n",
        "    <tr>\n",
        "      <th>50%</th>\n",
        "      <td>  5691.000000</td>\n",
        "      <td>     0.000000</td>\n",
        "      <td>    12.645000</td>\n",
        "      <td>     0.210000</td>\n",
        "      <td>     0.330000</td>\n",
        "      <td>    -0.170000</td>\n",
        "      <td>    96.000000</td>\n",
        "      <td>   142.000000</td>\n",
        "      <td>    17.000000</td>\n",
        "      <td>    53.360000</td>\n",
        "      <td>   253.000000</td>\n",
        "      <td>   -65.320000</td>\n",
        "      <td>    28.000000</td>\n",
        "    </tr>\n",
        "    <tr>\n",
        "      <th>75%</th>\n",
        "      <td>  8736.500000</td>\n",
        "      <td>     0.000000</td>\n",
        "      <td>    18.943500</td>\n",
        "      <td>     0.450000</td>\n",
        "      <td>     0.845000</td>\n",
        "      <td>    -0.010000</td>\n",
        "      <td>  2665.000000</td>\n",
        "      <td>  1878.500000</td>\n",
        "      <td>  4559.000000</td>\n",
        "      <td>   221.720000</td>\n",
        "      <td>   602.600000</td>\n",
        "      <td>    83.720000</td>\n",
        "      <td>    42.000000</td>\n",
        "    </tr>\n",
        "    <tr>\n",
        "      <th>max</th>\n",
        "      <td> 11582.000000</td>\n",
        "      <td>    12.000000</td>\n",
        "      <td>    25.154000</td>\n",
        "      <td>     1.780000</td>\n",
        "      <td>     1.460000</td>\n",
        "      <td>     1.720000</td>\n",
        "      <td> 32752.000000</td>\n",
        "      <td> 32752.000000</td>\n",
        "      <td> 32752.000000</td>\n",
        "      <td>   745.200000</td>\n",
        "      <td>   944.840000</td>\n",
        "      <td>   758.080000</td>\n",
        "      <td>    56.000000</td>\n",
        "    </tr>\n",
        "  </tbody>\n",
        "</table>\n",
        "<p>8 rows \u00d7 13 columns</p>\n",
        "</div>"
       ],
       "metadata": {},
       "output_type": "pyout",
       "prompt_number": 8,
       "text": [
        "         Unnamed: 0     rep_count       t (sec)         acc_x         acc_y  \\\n",
        "count  11327.000000  11327.000000  11327.000000  11327.000000  11327.000000   \n",
        "mean    5752.068950      0.225479     12.632310      0.139194      0.035604   \n",
        "std     3359.748079      1.204432      7.258747      0.485011      0.843428   \n",
        "min        1.000000      0.000000      0.088000     -1.130000     -1.900000   \n",
        "25%     2845.500000      0.000000      6.345000     -0.230000     -0.890000   \n",
        "50%     5691.000000      0.000000     12.645000      0.210000      0.330000   \n",
        "75%     8736.500000      0.000000     18.943500      0.450000      0.845000   \n",
        "max    11582.000000     12.000000     25.154000      1.780000      1.460000   \n",
        "\n",
        "              acc_z        gyro_x        gyro_y        gyro_z      magnet_x  \\\n",
        "count  11327.000000  11327.000000  11327.000000  11327.000000  11327.000000   \n",
        "mean      -0.141018    634.695241    105.519908     37.996733     65.079177   \n",
        "std        0.298536   7925.164827   5206.683010   9886.754633    271.360455   \n",
        "min       -1.200000 -32768.000000 -32752.000000 -32736.000000   -692.760000   \n",
        "25%       -0.290000  -2036.000000  -1474.500000  -4034.500000   -149.040000   \n",
        "50%       -0.170000     96.000000    142.000000     17.000000     53.360000   \n",
        "75%       -0.010000   2665.000000   1878.500000   4559.000000    221.720000   \n",
        "max        1.720000  32752.000000  32752.000000  32752.000000    745.200000   \n",
        "\n",
        "           magnet_y      magnet_z        set_id  \n",
        "count  11327.000000  11327.000000  11327.000000  \n",
        "mean     260.058667    -33.433110     28.470381  \n",
        "std      377.540984    208.606891     16.161013  \n",
        "min     -470.120000   -581.440000      1.000000  \n",
        "25%      -62.560000   -174.800000     14.000000  \n",
        "50%      253.000000    -65.320000     28.000000  \n",
        "75%      602.600000     83.720000     42.000000  \n",
        "max      944.840000    758.080000     56.000000  \n",
        "\n",
        "[8 rows x 13 columns]"
       ]
      }
     ],
     "prompt_number": 8
    },
    {
     "cell_type": "code",
     "collapsed": false,
     "input": [
      "df_holdout=read_csv(open('../data/holdout.csv','r'))\n",
      "# df_holdout.describe()"
     ],
     "language": "python",
     "metadata": {},
     "outputs": [],
     "prompt_number": 7
    },
    {
     "cell_type": "markdown",
     "metadata": {},
     "source": [
      "###Extract features from labelled data"
     ]
    },
    {
     "cell_type": "code",
     "collapsed": false,
     "input": [
      "# Make new data object\n",
      "# Get info for each rep\n",
      "# Save as feature\n",
      "#\n",
      "def make_labeled_data(df_x):\n",
      "    all_reps=[]\n",
      "    labels=[]\n",
      "    \n",
      "    # Iterate through sets\n",
      "    for mySet in range( 1 , max(df_x.set_id)+1 ):\n",
      "        \n",
      "        # get list of indexes of labeled repititions for this set\n",
      "        rep_index_list=df_x[(df_x.rep_count!=0) & (df_x.set_id==mySet)].index.tolist()\n",
      "        \n",
      "        #use list of indexes to make slices of data for each rep\n",
      "        for i in range(len(rep_index_list)):\n",
      "            \n",
      "            #Make sure not to use the last label because it has no rep after it\n",
      "            if i==len(rep_index_list)-1: break\n",
      "            \n",
      "            #Make a slice of data frame just for this repitition\n",
      "            rep_df=df_x.iloc[rep_index_list[i]:rep_index_list[i+1]+1]\n",
      "            \n",
      "            #store data about this rep\n",
      "            rep_features=[]\n",
      "            # Use columns with sensor data for analysis\n",
      "            columns=list(df_x.columns[5:14])\n",
      "            for col in columns:\n",
      "                values=rep_df.loc[:,[col]].values #get raw values for each sensor\n",
      "                \n",
      "                # Analyze values for column\n",
      "                avg=np.mean(values)\n",
      "                std=np.std(values)\n",
      "                rng=max(values) - min(values)\n",
      "                \n",
      "                #save features\n",
      "                for i in (avg,std, rng[0]):\n",
      "                    rep_features.append(round(i,2))\n",
      "                    \n",
      "            labels.append(rep_df.iloc[0].exerciseType)\n",
      "            all_reps.append(rep_features)\n",
      "                        \n",
      "    return all_reps, labels"
     ],
     "language": "python",
     "metadata": {},
     "outputs": [],
     "prompt_number": 9
    },
    {
     "cell_type": "code",
     "collapsed": false,
     "input": [
      "d={'magnet': (-70.84, 503.24, 83.72), 'gyro': (-37, -37, 74), 'accel': (0.28, -0.04, -0.89), 'time': 1398637579.47}\n",
      "def to_df(d):\n",
      "    d"
     ],
     "language": "python",
     "metadata": {},
     "outputs": [],
     "prompt_number": 10
    },
    {
     "cell_type": "markdown",
     "metadata": {},
     "source": [
      "***notes on selected features***\n",
      "\n",
      "* Average values vary even between the same type of exercise - so it was removed as a feature"
     ]
    },
    {
     "cell_type": "code",
     "collapsed": false,
     "input": [
      "all_reps, labels = make_labeled_data(df_training)"
     ],
     "language": "python",
     "metadata": {},
     "outputs": [],
     "prompt_number": 11
    },
    {
     "cell_type": "code",
     "collapsed": false,
     "input": [
      "holdout_samples, holdout_labels=make_labeled_data(df_holdout)"
     ],
     "language": "python",
     "metadata": {},
     "outputs": [],
     "prompt_number": 12
    },
    {
     "cell_type": "code",
     "collapsed": false,
     "input": [
      "from sklearn import cross_validation\n",
      "X_train, X_test, y_train, y_test = cross_validation.train_test_split(all_reps,\n",
      "    labels, \n",
      "    random_state=0)"
     ],
     "language": "python",
     "metadata": {},
     "outputs": [],
     "prompt_number": 16
    },
    {
     "cell_type": "markdown",
     "metadata": {},
     "source": [
      "### Test for best kernel"
     ]
    },
    {
     "cell_type": "code",
     "collapsed": false,
     "input": [
      "from sklearn import svm\n",
      "kernels=['linear', 'poly', 'rbf', 'sigmoid'] # the kernel 'precomputed' throws errors\n",
      "for kern in kernels:\n",
      "    clf = svm.SVC(kernel=kern, C=1)\n",
      "    clf.fit(X_train, y_train)\n",
      "    clf.set_params(probability=True)\n",
      "    print kern\n",
      "    print 'cross validated score: '+ str(cross_validation.cross_val_score(clf,\n",
      "                                                                          X_test,\n",
      "                                                                          y_test,\n",
      "                                                                          cv=5))\n",
      "    print 'holdout score: '+str(clf.score(holdout_samples,holdout_labels))\n",
      "    print ''\n",
      "#     print(classification_report(y_true, y_pred, target_names=target_names))"
     ],
     "language": "python",
     "metadata": {},
     "outputs": [
      {
       "output_type": "stream",
       "stream": "stdout",
       "text": [
        "linear\n",
        "cross validated score: [ 1.  1.  1.  1.  1.]\n",
        "holdout score: 0.904347826087\n",
        "\n",
        "poly\n",
        "cross validated score: [ 1.          1.          0.90909091  1.          0.95454545]"
       ]
      },
      {
       "output_type": "stream",
       "stream": "stdout",
       "text": [
        "\n",
        "holdout score: 0.817391304348\n",
        "\n",
        "rbf\n",
        "cross validated score: [ 0.40909091  0.36363636  0.36363636  0.36363636  0.40909091]\n",
        "holdout score: 0.539130434783\n",
        "\n",
        "sigmoid\n",
        "cross validated score: [ 0.36363636  0.36363636  0.36363636  0.36363636  0.36363636]"
       ]
      },
      {
       "output_type": "stream",
       "stream": "stdout",
       "text": [
        "\n",
        "holdout score: 0.539130434783\n",
        "\n"
       ]
      }
     ],
     "prompt_number": 18
    },
    {
     "cell_type": "markdown",
     "metadata": {},
     "source": [
      "Best kernel is **Linear** but **poly** is almost as good"
     ]
    },
    {
     "cell_type": "code",
     "collapsed": false,
     "input": [
      "clf_final = sklearn.svm.SVC(kernel='linear', C=1,probability=True)\n",
      "clf_final.fit(X_train, y_train)"
     ],
     "language": "python",
     "metadata": {},
     "outputs": [
      {
       "metadata": {},
       "output_type": "pyout",
       "prompt_number": 41,
       "text": [
        "SVC(C=1, cache_size=200, class_weight=None, coef0=0.0, degree=3, gamma=0.0,\n",
        "  kernel='linear', max_iter=-1, probability=True, random_state=None,\n",
        "  shrinking=True, tol=0.001, verbose=False)"
       ]
      }
     ],
     "prompt_number": 41
    },
    {
     "cell_type": "code",
     "collapsed": false,
     "input": [
      "from sklearn.metrics import confusion_matrix\n",
      "y_true = y_test\n",
      "y_pred = [clf_final.predict(i)[0] for i in X_test]\n",
      "cm=confusion_matrix(y_true, y_pred)\n",
      "print cm"
     ],
     "language": "python",
     "metadata": {},
     "outputs": [
      {
       "output_type": "stream",
       "stream": "stdout",
       "text": [
        "[[40  0  0]\n",
        " [ 0 36  0]\n",
        " [ 0  0 34]]\n"
       ]
      }
     ],
     "prompt_number": 42
    },
    {
     "cell_type": "code",
     "collapsed": false,
     "input": [
      "# Show confusion matrix in a separate window\n",
      "# pl.matshow(cm)\n",
      "# pl.title('Confusion matrix')\n",
      "# pl.colorbar()\n",
      "# pl.ylabel('True label')\n",
      "# pl.xlabel('Predicted label')\n",
      "# pl.show()"
     ],
     "language": "python",
     "metadata": {},
     "outputs": [],
     "prompt_number": 43
    },
    {
     "cell_type": "markdown",
     "metadata": {},
     "source": [
      "### Test any random rep"
     ]
    },
    {
     "cell_type": "code",
     "collapsed": false,
     "input": [
      "random_rep=random.randint(1,len(all_reps))\n",
      "print 'repitition #'+str(random_rep)\n",
      "print \"classifier's guess: \"+clf_final.predict(all_reps[random_rep])[0]\n",
      "print \"actual label:       \"+labels[random_rep]\n",
      "# What probability\n",
      "print \"%prob 'tricep', %prob 'shoulder', %prob 'bicep curls'\"\n",
      "print clf_final.predict_proba(all_reps[random_rep])[0]"
     ],
     "language": "python",
     "metadata": {},
     "outputs": [
      {
       "output_type": "stream",
       "stream": "stdout",
       "text": [
        "repitition #230\n",
        "classifier's guess: shoulder\n",
        "actual label:       shoulder\n",
        "%prob 'tricep', %prob 'shoulder', %prob 'bicep curls'\n",
        "[  5.88610465e-07   9.99821096e-01   1.78315825e-04]\n"
       ]
      }
     ],
     "prompt_number": 44
    },
    {
     "cell_type": "code",
     "collapsed": false,
     "input": [
      "all_reps[random_rep]"
     ],
     "language": "python",
     "metadata": {},
     "outputs": [
      {
       "metadata": {},
       "output_type": "pyout",
       "prompt_number": 33,
       "text": [
        "[-0.53,\n",
        " 0.15,\n",
        " 0.47,\n",
        " 0.17,\n",
        " 0.55,\n",
        " 1.54,\n",
        " -0.24,\n",
        " 0.17,\n",
        " 0.44,\n",
        " -125.5,\n",
        " 5664.76,\n",
        " 17515.0,\n",
        " -288.81,\n",
        " 7329.64,\n",
        " 23406.0,\n",
        " -361.56,\n",
        " 15447.15,\n",
        " 44707.0,\n",
        " 394.33,\n",
        " 159.77,\n",
        " 481.16,\n",
        " 101.72,\n",
        " 266.52,\n",
        " 724.04,\n",
        " 256.91,\n",
        " 64.74,\n",
        " 188.6]"
       ]
      }
     ],
     "prompt_number": 33
    },
    {
     "cell_type": "markdown",
     "metadata": {},
     "source": [
      "How much time does it take to predict? Must be less than 100ms"
     ]
    },
    {
     "cell_type": "code",
     "collapsed": false,
     "input": [
      "%timeit(clf_final.predict(all_reps[sample_ind])[0])"
     ],
     "language": "python",
     "metadata": {},
     "outputs": [
      {
       "output_type": "stream",
       "stream": "stdout",
       "text": [
        "10000 loops, best of 3: 70.9 \u00b5s per loop\n"
       ]
      }
     ],
     "prompt_number": 109
    },
    {
     "cell_type": "markdown",
     "metadata": {},
     "source": [
      "70.9 microseconds is less than 1 ms so it's good  :)"
     ]
    },
    {
     "cell_type": "markdown",
     "metadata": {},
     "source": [
      "### Load all data into classifier for use with new data"
     ]
    },
    {
     "cell_type": "code",
     "collapsed": false,
     "input": [
      "import pickle\n",
      "pickle.dump(clf_final,open('../svc_model.p','wb'))"
     ],
     "language": "python",
     "metadata": {},
     "outputs": [],
     "prompt_number": 45
    },
    {
     "cell_type": "code",
     "collapsed": false,
     "input": [
      "model=pickle.load(open('../svc_model.p'))"
     ],
     "language": "python",
     "metadata": {},
     "outputs": [],
     "prompt_number": 35
    },
    {
     "cell_type": "code",
     "collapsed": false,
     "input": [
      "len(model.support_vectors_)"
     ],
     "language": "python",
     "metadata": {},
     "outputs": [
      {
       "metadata": {},
       "output_type": "pyout",
       "prompt_number": 38,
       "text": [
        "25"
       ]
      }
     ],
     "prompt_number": 38
    },
    {
     "cell_type": "code",
     "collapsed": false,
     "input": [],
     "language": "python",
     "metadata": {},
     "outputs": []
    }
   ],
   "metadata": {}
  }
 ]
}