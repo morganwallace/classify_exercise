{
 "metadata": {
  "name": ""
 },
 "nbformat": 3,
 "nbformat_minor": 0,
 "worksheets": [
  {
   "cells": [
    {
     "cell_type": "markdown",
     "metadata": {},
     "source": [
      "# Machine Learning tests\n",
      "## Support Vector Classifier (SVC)"
     ]
    },
    {
     "cell_type": "markdown",
     "metadata": {},
     "source": [
      "Import libraries for **device** and **data**"
     ]
    },
    {
     "cell_type": "code",
     "collapsed": false,
     "input": [
      "from __future__ import division\n",
      "\n",
      "import random\n",
      "import pickle\n",
      "import sklearn\n",
      "from sklearn import cross_validation\n",
      "from sklearn import svm\n",
      "from sklearn.metrics import classification_report\n",
      "from sklearn.metrics import precision_recall_fscore_support\n",
      "import pandas as pd\n",
      "from pandas import read_csv\n",
      "import numpy as np\n",
      "import csv\n",
      "import os\n",
      "import time"
     ],
     "language": "python",
     "metadata": {},
     "outputs": [],
     "prompt_number": 285
    },
    {
     "cell_type": "markdown",
     "metadata": {},
     "source": [
      "Import libraries for **ploting** and **visualization**"
     ]
    },
    {
     "cell_type": "code",
     "collapsed": false,
     "input": [
      "# Matplotlib\n",
      "import matplotlib.pyplot as plt\n",
      "import pylab as pl\n",
      "\n",
      "#put plots in ipython notebook, inline.\n",
      "%matplotlib inline\n",
      "\n",
      "\n",
      "# MPLD3\n",
      "try:\n",
      "    import mpld3\n",
      "    from mpld3 import enable_notebook\n",
      "    from mpld3 import plugins\n",
      "    enable_notebook()\n",
      "except Exception as e:\n",
      "    print \"Attempt to import and enable mpld3 failed\", e\n",
      "    \n",
      "    \n",
      "# Seaborn\n",
      "# what would seaborn do?\n",
      "try:\n",
      "    import seaborn as sns\n",
      "except Exception as e:\n",
      "    print \"Attempt to import and enable seaborn failed\", e"
     ],
     "language": "python",
     "metadata": {},
     "outputs": [],
     "prompt_number": 2
    },
    {
     "cell_type": "markdown",
     "metadata": {},
     "source": [
      "Open and show data"
     ]
    },
    {
     "cell_type": "code",
     "collapsed": false,
     "input": [
      "df_training=read_csv(open('../data/training_data.csv','r'))\n",
      "df_training.describe()"
     ],
     "language": "python",
     "metadata": {},
     "outputs": [
      {
       "html": [
        "<div style=\"max-height:1000px;max-width:1500px;overflow:auto;\">\n",
        "<table border=\"1\" class=\"dataframe\">\n",
        "  <thead>\n",
        "    <tr style=\"text-align: right;\">\n",
        "      <th></th>\n",
        "      <th>Unnamed: 0</th>\n",
        "      <th>rep_count</th>\n",
        "      <th>t (sec)</th>\n",
        "      <th>acc_x</th>\n",
        "      <th>acc_y</th>\n",
        "      <th>acc_z</th>\n",
        "      <th>gyro_x</th>\n",
        "      <th>gyro_y</th>\n",
        "      <th>gyro_z</th>\n",
        "      <th>magnet_x</th>\n",
        "      <th>magnet_y</th>\n",
        "      <th>magnet_z</th>\n",
        "      <th>set_id</th>\n",
        "    </tr>\n",
        "  </thead>\n",
        "  <tbody>\n",
        "    <tr>\n",
        "      <th>count</th>\n",
        "      <td> 11327.000000</td>\n",
        "      <td> 11327.000000</td>\n",
        "      <td> 11327.000000</td>\n",
        "      <td> 11327.000000</td>\n",
        "      <td> 11327.000000</td>\n",
        "      <td> 11327.000000</td>\n",
        "      <td> 11327.000000</td>\n",
        "      <td> 11327.000000</td>\n",
        "      <td> 11327.000000</td>\n",
        "      <td> 11327.000000</td>\n",
        "      <td> 11327.000000</td>\n",
        "      <td> 11327.000000</td>\n",
        "      <td> 11327.000000</td>\n",
        "    </tr>\n",
        "    <tr>\n",
        "      <th>mean</th>\n",
        "      <td>  5752.068950</td>\n",
        "      <td>     0.225479</td>\n",
        "      <td>    12.632310</td>\n",
        "      <td>     0.139194</td>\n",
        "      <td>     0.035604</td>\n",
        "      <td>    -0.141018</td>\n",
        "      <td>   634.695241</td>\n",
        "      <td>   105.519908</td>\n",
        "      <td>    37.996733</td>\n",
        "      <td>    65.079177</td>\n",
        "      <td>   260.058667</td>\n",
        "      <td>   -33.433110</td>\n",
        "      <td>    28.470381</td>\n",
        "    </tr>\n",
        "    <tr>\n",
        "      <th>std</th>\n",
        "      <td>  3359.748079</td>\n",
        "      <td>     1.204432</td>\n",
        "      <td>     7.258747</td>\n",
        "      <td>     0.485011</td>\n",
        "      <td>     0.843428</td>\n",
        "      <td>     0.298536</td>\n",
        "      <td>  7925.164827</td>\n",
        "      <td>  5206.683010</td>\n",
        "      <td>  9886.754633</td>\n",
        "      <td>   271.360455</td>\n",
        "      <td>   377.540984</td>\n",
        "      <td>   208.606891</td>\n",
        "      <td>    16.161013</td>\n",
        "    </tr>\n",
        "    <tr>\n",
        "      <th>min</th>\n",
        "      <td>     1.000000</td>\n",
        "      <td>     0.000000</td>\n",
        "      <td>     0.088000</td>\n",
        "      <td>    -1.130000</td>\n",
        "      <td>    -1.900000</td>\n",
        "      <td>    -1.200000</td>\n",
        "      <td>-32768.000000</td>\n",
        "      <td>-32752.000000</td>\n",
        "      <td>-32736.000000</td>\n",
        "      <td>  -692.760000</td>\n",
        "      <td>  -470.120000</td>\n",
        "      <td>  -581.440000</td>\n",
        "      <td>     1.000000</td>\n",
        "    </tr>\n",
        "    <tr>\n",
        "      <th>25%</th>\n",
        "      <td>  2845.500000</td>\n",
        "      <td>     0.000000</td>\n",
        "      <td>     6.345000</td>\n",
        "      <td>    -0.230000</td>\n",
        "      <td>    -0.890000</td>\n",
        "      <td>    -0.290000</td>\n",
        "      <td> -2036.000000</td>\n",
        "      <td> -1474.500000</td>\n",
        "      <td> -4034.500000</td>\n",
        "      <td>  -149.040000</td>\n",
        "      <td>   -62.560000</td>\n",
        "      <td>  -174.800000</td>\n",
        "      <td>    14.000000</td>\n",
        "    </tr>\n",
        "    <tr>\n",
        "      <th>50%</th>\n",
        "      <td>  5691.000000</td>\n",
        "      <td>     0.000000</td>\n",
        "      <td>    12.645000</td>\n",
        "      <td>     0.210000</td>\n",
        "      <td>     0.330000</td>\n",
        "      <td>    -0.170000</td>\n",
        "      <td>    96.000000</td>\n",
        "      <td>   142.000000</td>\n",
        "      <td>    17.000000</td>\n",
        "      <td>    53.360000</td>\n",
        "      <td>   253.000000</td>\n",
        "      <td>   -65.320000</td>\n",
        "      <td>    28.000000</td>\n",
        "    </tr>\n",
        "    <tr>\n",
        "      <th>75%</th>\n",
        "      <td>  8736.500000</td>\n",
        "      <td>     0.000000</td>\n",
        "      <td>    18.943500</td>\n",
        "      <td>     0.450000</td>\n",
        "      <td>     0.845000</td>\n",
        "      <td>    -0.010000</td>\n",
        "      <td>  2665.000000</td>\n",
        "      <td>  1878.500000</td>\n",
        "      <td>  4559.000000</td>\n",
        "      <td>   221.720000</td>\n",
        "      <td>   602.600000</td>\n",
        "      <td>    83.720000</td>\n",
        "      <td>    42.000000</td>\n",
        "    </tr>\n",
        "    <tr>\n",
        "      <th>max</th>\n",
        "      <td> 11582.000000</td>\n",
        "      <td>    12.000000</td>\n",
        "      <td>    25.154000</td>\n",
        "      <td>     1.780000</td>\n",
        "      <td>     1.460000</td>\n",
        "      <td>     1.720000</td>\n",
        "      <td> 32752.000000</td>\n",
        "      <td> 32752.000000</td>\n",
        "      <td> 32752.000000</td>\n",
        "      <td>   745.200000</td>\n",
        "      <td>   944.840000</td>\n",
        "      <td>   758.080000</td>\n",
        "      <td>    56.000000</td>\n",
        "    </tr>\n",
        "  </tbody>\n",
        "</table>\n",
        "<p>8 rows \u00d7 13 columns</p>\n",
        "</div>"
       ],
       "metadata": {},
       "output_type": "pyout",
       "prompt_number": 3,
       "text": [
        "         Unnamed: 0     rep_count       t (sec)         acc_x         acc_y  \\\n",
        "count  11327.000000  11327.000000  11327.000000  11327.000000  11327.000000   \n",
        "mean    5752.068950      0.225479     12.632310      0.139194      0.035604   \n",
        "std     3359.748079      1.204432      7.258747      0.485011      0.843428   \n",
        "min        1.000000      0.000000      0.088000     -1.130000     -1.900000   \n",
        "25%     2845.500000      0.000000      6.345000     -0.230000     -0.890000   \n",
        "50%     5691.000000      0.000000     12.645000      0.210000      0.330000   \n",
        "75%     8736.500000      0.000000     18.943500      0.450000      0.845000   \n",
        "max    11582.000000     12.000000     25.154000      1.780000      1.460000   \n",
        "\n",
        "              acc_z        gyro_x        gyro_y        gyro_z      magnet_x  \\\n",
        "count  11327.000000  11327.000000  11327.000000  11327.000000  11327.000000   \n",
        "mean      -0.141018    634.695241    105.519908     37.996733     65.079177   \n",
        "std        0.298536   7925.164827   5206.683010   9886.754633    271.360455   \n",
        "min       -1.200000 -32768.000000 -32752.000000 -32736.000000   -692.760000   \n",
        "25%       -0.290000  -2036.000000  -1474.500000  -4034.500000   -149.040000   \n",
        "50%       -0.170000     96.000000    142.000000     17.000000     53.360000   \n",
        "75%       -0.010000   2665.000000   1878.500000   4559.000000    221.720000   \n",
        "max        1.720000  32752.000000  32752.000000  32752.000000    745.200000   \n",
        "\n",
        "           magnet_y      magnet_z        set_id  \n",
        "count  11327.000000  11327.000000  11327.000000  \n",
        "mean     260.058667    -33.433110     28.470381  \n",
        "std      377.540984    208.606891     16.161013  \n",
        "min     -470.120000   -581.440000      1.000000  \n",
        "25%      -62.560000   -174.800000     14.000000  \n",
        "50%      253.000000    -65.320000     28.000000  \n",
        "75%      602.600000     83.720000     42.000000  \n",
        "max      944.840000    758.080000     56.000000  \n",
        "\n",
        "[8 rows x 13 columns]"
       ]
      }
     ],
     "prompt_number": 3
    },
    {
     "cell_type": "code",
     "collapsed": false,
     "input": [
      "df_all=df_training=read_csv(open('../data/labeled_data.csv','r'))"
     ],
     "language": "python",
     "metadata": {},
     "outputs": [],
     "prompt_number": 412
    },
    {
     "cell_type": "code",
     "collapsed": false,
     "input": [
      "df_holdout=read_csv(open('../data/holdout.csv','r'))\n",
      "# df_holdout.describe()"
     ],
     "language": "python",
     "metadata": {},
     "outputs": [],
     "prompt_number": 4
    },
    {
     "cell_type": "markdown",
     "metadata": {},
     "source": [
      "###Extract features from labelled data"
     ]
    },
    {
     "cell_type": "code",
     "collapsed": false,
     "input": [
      "# Attribution: https://gist.github.com/schlady/1576079\n",
      "\n",
      "def peakdetect(y_axis, x_axis = None, lookahead = 500, delta = 0):\n",
      "    \"\"\"\n",
      "    Converted from/based on a MATLAB script at http://billauer.co.il/peakdet.html\n",
      "    \n",
      "    Algorithm for detecting local maximas and minmias in a signal.\n",
      "    Discovers peaks by searching for values which are surrounded by lower\n",
      "    or larger values for maximas and minimas respectively\n",
      "    \n",
      "    keyword arguments:\n",
      "    y_axis -- A list containg the signal over which to find peaks\n",
      "    x_axis -- A x-axis whose values correspond to the 'y_axis' list and is used\n",
      "        in the return to specify the postion of the peaks. If omitted the index\n",
      "        of the y_axis is used. (default: None)\n",
      "    lookahead -- (optional) distance to look ahead from a peak candidate to\n",
      "        determine if it is the actual peak (default: 500) \n",
      "        '(sample / period) / f' where '4 >= f >= 1.25' might be a good value\n",
      "    delta -- (optional) this specifies a minimum difference between a peak and\n",
      "        the following points, before a peak may be considered a peak. Useful\n",
      "        to hinder the algorithm from picking up false peaks towards to end of\n",
      "        the signal. To work well delta should be set to 'delta >= RMSnoise * 5'.\n",
      "        (default: 0)\n",
      "            Delta function causes a 20% decrease in speed, when omitted\n",
      "            Correctly used it can double the speed of the algorithm\n",
      "    \n",
      "    return -- two lists [maxtab, mintab] containing the positive and negative\n",
      "        peaks respectively. Each cell of the lists contains a tupple of:\n",
      "        (position, peak_value) \n",
      "        to get the average peak value do 'np.mean(maxtab, 0)[1]' on the results\n",
      "    \"\"\"\n",
      "    maxtab = []\n",
      "    mintab = []\n",
      "    dump = []   #Used to pop the first hit which always if false\n",
      "       \n",
      "    length = len(y_axis)\n",
      "    if x_axis is None:\n",
      "        x_axis = range(length)\n",
      "    \n",
      "    #perform some checks\n",
      "    if length != len(x_axis):\n",
      "        raise ValueError, \"Input vectors y_axis and x_axis must have same length\"\n",
      "    if lookahead < 1:\n",
      "        raise ValueError, \"Lookahead must be above '1' in value\"\n",
      "    if not (np.isscalar(delta) and delta >= 0):\n",
      "        raise ValueError, \"delta must be a positive number\"\n",
      "    \n",
      "    #needs to be a numpy array\n",
      "    y_axis = np.asarray(y_axis)\n",
      "    \n",
      "    #maxima and minima candidates are temporarily stored in\n",
      "    #mx and mn respectively\n",
      "    mn, mx = np.Inf, -np.Inf\n",
      "    \n",
      "    #Only detect peak if there is 'lookahead' amount of points after it\n",
      "    for index, (x, y) in enumerate(zip(x_axis[:-lookahead], y_axis[:-lookahead])):\n",
      "        if y > mx:\n",
      "            mx = y\n",
      "            mxpos = x\n",
      "        if y < mn:\n",
      "            mn = y\n",
      "            mnpos = x\n",
      "        \n",
      "        ####look for max####\n",
      "        if y < mx-delta and mx != np.Inf:\n",
      "            #Maxima peak candidate found\n",
      "            #look ahead in signal to ensure that this is a peak and not jitter\n",
      "            if y_axis[index:index+lookahead].max() < mx:\n",
      "                maxtab.append((mxpos, mx))\n",
      "                dump.append(True)\n",
      "                #set algorithm to only find minima now\n",
      "                mx = np.Inf\n",
      "                mn = np.Inf\n",
      "        \n",
      "        ####look for min####\n",
      "        if y > mn+delta and mn != -np.Inf:\n",
      "            #Minima peak candidate found \n",
      "            #look ahead in signal to ensure that this is a peak and not jitter\n",
      "            if y_axis[index:index+lookahead].min() > mn:\n",
      "                mintab.append((mnpos, mn))\n",
      "                dump.append(False)\n",
      "                #set algorithm to only find maxima now\n",
      "                mn = -np.Inf\n",
      "                mx = -np.Inf\n",
      "    \n",
      "    \n",
      "    #Remove the false hit on the first value of the y_axis\n",
      "    try:\n",
      "        if dump[0]:\n",
      "            maxtab.pop(0)\n",
      "            #print \"pop max\"\n",
      "        else:\n",
      "            mintab.pop(0)\n",
      "            #print \"pop min\"\n",
      "        del dump\n",
      "    except IndexError:\n",
      "        #no peaks were found, should the function return empty lists?\n",
      "        pass\n",
      "    \n",
      "    return maxtab, mintab\n",
      " "
     ],
     "language": "python",
     "metadata": {},
     "outputs": [],
     "prompt_number": 60
    },
    {
     "cell_type": "code",
     "collapsed": false,
     "input": [
      "def remap(peaks):\n",
      "    \"\"\"Reformat coordinates of peaks to properly feed into pyplot\"\"\"\n",
      "    tabs=[]\n",
      "    for tab in peaks: #mintab and maxtab\n",
      "        tab=([i[1] for i in tab],[i[0] for i in tab])\n",
      "        tabs.append(tab)\n",
      "    return tabs\n",
      "\n",
      "def get_peaks(df_x,sensor='acc',mylookahead=10):\n",
      "    deltas={'acc':.15,'gyro':2500,'magnet':15}\n",
      "    delta=deltas[sensor]\n",
      "    peak_dict={}\n",
      "    ranges={}\n",
      "    times={}\n",
      "    if sensor==\"acc\": axes=list(df_x.columns[4:7])\n",
      "    if sensor==\"gyro\": axes=list(df_x.columns[7:10])\n",
      "    if sensor==\"magnet\": axes=list(df_x.columns[10:13])\n",
      "\n",
      "    for axis in axes:\n",
      "        peaks=peakdetect(df_x[axis],df_x['t (sec)'], lookahead=mylookahead,delta=delta)\n",
      "        peaks=remap(peaks)\n",
      "        print \"%d local min, %d local max found on %s axis\" % (len(peaks[1][0]),len(peaks[0][0]),axis)\n",
      "        times[axis] = [i[1] for i in peaks]\n",
      "    return times\n"
     ],
     "language": "python",
     "metadata": {},
     "outputs": [],
     "prompt_number": 61
    },
    {
     "cell_type": "code",
     "collapsed": false,
     "input": [
      "# Make new data object\n",
      "# Get info for each rep\n",
      "# Save as feature\n",
      "#\n",
      "def make_labeled_data(df_x):\n",
      "    all_reps=[]\n",
      "    labels=[]\n",
      "    \n",
      "    # Iterate through sets\n",
      "    for mySet in range( 1 , max(df_x.set_id)+1 ):\n",
      "        \n",
      "        # get list of indexes of labeled repititions for this set\n",
      "        rep_index_list=df_x[(df_x.rep_count!=0) & (df_x.set_id==mySet)].index.tolist()\n",
      "        \n",
      "        #use list of indexes to make slices of data for each rep\n",
      "        for i in range(len(rep_index_list)):\n",
      "            \n",
      "            #Make sure not to use the last label because it has no rep after it\n",
      "            if i==len(rep_index_list)-1: break\n",
      "            \n",
      "            #Make a slice of data frame just for this repitition\n",
      "            rep_df=df_x.iloc[rep_index_list[i]:rep_index_list[i+1]+1]\n",
      "            \n",
      "            #store data about this rep\n",
      "            rep_features=[]\n",
      "            # Use columns with sensor data for analysis\n",
      "            columns=list(df_x.columns[5:14])\n",
      "            for col in columns:\n",
      "                values=rep_df.loc[:,[col]].values #get raw values for each sensor\n",
      "                \n",
      "                # Analyze values for column\n",
      "                avg=np.mean(values)\n",
      "                std=np.std(values)\n",
      "                rng=max(values) - min(values)\n",
      "                \n",
      "                #save features\n",
      "                for i in (avg,std, rng[0]):\n",
      "                    rep_features.append(round(i,2))\n",
      "                    \n",
      "            labels.append(rep_df.iloc[0].exerciseType)\n",
      "            all_reps.append(rep_features)\n",
      "                        \n",
      "    return all_reps, labels"
     ],
     "language": "python",
     "metadata": {},
     "outputs": [],
     "prompt_number": 62
    },
    {
     "cell_type": "code",
     "collapsed": false,
     "input": [
      "def add_reps(df_x,mylist):\n",
      "\n",
      "    count=0\n",
      "#     df_x=df[df.set_id==set_id]\n",
      "    for t in mylist:\n",
      "        count+=1\n",
      "        t=round(t,3)\n",
      "        indx = df_x[(df_x['t (sec)']>t-.05) & (df_x['t (sec)']<t+.05)].index.tolist()[0]\n",
      "        df_x.loc[indx,'rep_count']=count\n",
      "    return df_x"
     ],
     "language": "python",
     "metadata": {},
     "outputs": [],
     "prompt_number": 63
    },
    {
     "cell_type": "code",
     "collapsed": false,
     "input": [
      "# from functions import *"
     ],
     "language": "python",
     "metadata": {},
     "outputs": [],
     "prompt_number": 64
    },
    {
     "cell_type": "code",
     "collapsed": false,
     "input": [
      "dom_axes={'bicep curls':{'axis':'acc_y','minmax':0},\n",
      "          'tricep':{'axis':'acc_x','minmax':1},\n",
      "          'shoulder':{'axis':'acc_y','minmax':1},}"
     ],
     "language": "python",
     "metadata": {},
     "outputs": [],
     "prompt_number": 65
    },
    {
     "cell_type": "code",
     "collapsed": false,
     "input": [
      "# d=df_all.head()\n",
      "# df_x=df_all.iloc[:]\n",
      "# df_x.pop('set_id')\n",
      "# df_x['set_id'] = 79\n",
      "\n",
      "# d=d.append(df_x)\n",
      "# d.pop('Unnamed: 0')\n",
      "\n"
     ],
     "language": "python",
     "metadata": {},
     "outputs": [],
     "prompt_number": 416
    },
    {
     "cell_type": "code",
     "collapsed": false,
     "input": [
      "def save_new_data(df_x):\n",
      "    #get setid\n",
      "    df_all=read_csv(open('../data/labeled_data.csv','r'))\n",
      "    df_all.pop('Unnamed: 0')\n",
      "    setid=df_all.iloc[-1].set_id\n",
      "    setid+=1\n",
      "    df_x['set_id']=setid\n",
      "    \n",
      "    df_all=df_all.append(df_x.iloc[:])\n",
      "    df_all.to_csv('../data/labeled_data.csv')\n",
      "    \n",
      "    df_training=read_csv(open('../data/training_data.csv','r'))\n",
      "    df_training.pop('Unnamed: 0')\n",
      "    df_training=df_training.append(df_x.iloc[:])\n",
      "    df_training.to_csv('../data/training_data.csv')\n",
      "    \n",
      "    print 'saved with set_id='+str(setid)\n",
      "#     #save to all data A.K.A. 'labeled_data.csv'\n",
      "#     with open('../data/labeled_data.csv','a') as labeled_csv:\n",
      "#         csv_writer=csv.writer(labeled_csv)\n",
      "#         labeled_csv.write('\\n')\n",
      "#         for i in range(len(df_x)):\n",
      "#             s=list(df_x.iloc[i])\n",
      "#             s.append(setid)\n",
      "#             s.insert(0,0)\n",
      "#             csv_writer.writerow(s)\n",
      "\n",
      "#     #save to training set\n",
      "#     with open('../data/training_data.csv','a') as labeled_csv:\n",
      "#         csv_writer=csv.writer(labeled_csv)\n",
      "#         labeled_csv.write('\\n')\n",
      "#         for i in range(len(df_x)):\n",
      "#             s=list(df_x.iloc[i])\n",
      "#             s.append(setid)\n",
      "#             s.insert(0,0)\n",
      "#             csv_writer.writerow(s)"
     ],
     "language": "python",
     "metadata": {},
     "outputs": [],
     "prompt_number": 420
    },
    {
     "cell_type": "code",
     "collapsed": false,
     "input": [
      "# attribution: \n",
      "#http://stackoverflow.com/questions/5821125/how-to-plot-confusion-matrix-with-string-axis-rather-than-integer-in-python\n",
      "def confusion_matrix(clf,X_test,y_test,kernel='',classifierType=''):\n",
      "    from sklearn.metrics import confusion_matrix\n",
      "    y_pred = [clf.predict(i)[0] for i in X_test]\n",
      "    cm=confusion_matrix(y_test, y_pred, labels= clf.classes_)\n",
      "    norm_conf = []\n",
      "    for i in cm:\n",
      "        a = 0\n",
      "        tmp_arr = []\n",
      "        a = sum(i, 0)\n",
      "        for j in i:\n",
      "            tmp_arr.append(float(j)/float(a))\n",
      "        norm_conf.append(tmp_arr)\n",
      "    \n",
      "    fig = plt.figure()\n",
      "    plt.clf()\n",
      "    ax = fig.add_subplot(111)\n",
      "    ax.set_aspect(1)\n",
      "    plt.title(kernel+\" - \"+classifierType)\n",
      "    unique_conditions = clf.classes_\n",
      "    plt.xticks(np.arange(len(unique_conditions)), unique_conditions)\n",
      "    plt.yticks(np.arange(len(unique_conditions)), unique_conditions)\n",
      "    \n",
      "    res = ax.imshow(np.array(norm_conf), cmap=plt.cm.jet, \n",
      "                    interpolation='nearest')\n",
      "    for i, cas in enumerate(cm):\n",
      "        for j, c in enumerate(cas):\n",
      "            if c>0:\n",
      "                plt.text(j-.2, i+.2, c, fontsize=20, color='white')\n",
      "    width = len(cm)\n",
      "    height = len(cm[0])\n",
      "    \n",
      "    # for x in xrange(width):\n",
      "    #     for y in xrange(height):\n",
      "    #         ax.annotate(str(cm[x][y]), xy=(y, x), \n",
      "    #                     horizontalalignment='center',\n",
      "    #                     verticalalignment='center')\n",
      "    \n",
      "    cb = fig.colorbar(res)\n",
      "    "
     ],
     "language": "python",
     "metadata": {},
     "outputs": [],
     "prompt_number": 372
    },
    {
     "cell_type": "code",
     "collapsed": false,
     "input": [
      "range(3)"
     ],
     "language": "python",
     "metadata": {},
     "outputs": [
      {
       "metadata": {},
       "output_type": "pyout",
       "prompt_number": 363,
       "text": [
        "[0, 1, 2]"
       ]
      }
     ],
     "prompt_number": 363
    },
    {
     "cell_type": "code",
     "collapsed": false,
     "input": [
      "# kernels=['linear', 'poly', 'rbf', 'sigmoid'] the kernel 'precomputed' throws errors\n",
      "def test_accuracy(X_train, y_train,X_test,y_test,holdout_samples,holdout_labels, timestamp,kernel='linear'):\n",
      "    clf = svm.SVC(kernel=kernel, C=1,probability=True)\n",
      "    clf.fit(X_train, y_train)\n",
      "    clf.set_params()\n",
      "    new_metrics={'kernel':kernel}\n",
      "    print '\\n\\nkernel: '+kernel\n",
      "    metrics=['accuracy', 'f1',  'precision']\n",
      "    for metric in metrics:\n",
      "        x=list(cross_validation.cross_val_score(clf\n",
      "                                               ,X_test\n",
      "                                               ,y_test\n",
      "                                               ,cv=5\n",
      "                                               ,scoring=metric))\n",
      "        new_metrics['cross_val_'+metric]=x\n",
      "        new_metrics['cross_val_'+metric+'_avg']=sum(x)/len(x)\n",
      "        print 'cross validated average '+metric+' score: '+ str(new_metrics['cross_val_'+metric+'_avg'])\n",
      "    new_metrics['holdout']=clf.score(holdout_samples,holdout_labels)\n",
      "        \n",
      "    \n",
      "    \n",
      "    y_true=y_test\n",
      "    y_pred=[clf.predict(i)[0] for i in X_test]\n",
      "    new_metrics['prfs']=list(precision_recall_fscore_support(y_true,y_pred,average='micro')[:-1])\n",
      "    print 'test: precision,recall,f1:\\n'+str(new_metrics['prfs'])\n",
      "    \n",
      "    y_true_holdout=holdout_labels\n",
      "    y_pred_holdout=[clf.predict(i)[0] for i in holdout_samples]\n",
      "    new_metrics['prfs_holdout']=list(precision_recall_fscore_support(y_true_holdout,y_pred_holdout,average='micro')[:-1])\n",
      "    print 'holdout: precision,recall,f1:\\n'+str(new_metrics['prfs_holdout'])\n",
      "#     print y_true[0]\n",
      "#     return list(y_pred)\n",
      "    \n",
      "    print 'classification report:'\n",
      "    print classification_report(y_true, y_pred)\n",
      "    print \"\"\n",
      "\n",
      "    #confusion matrix\n",
      "    confusion_matrix(clf,X_test,y_test,kernel,classifierType='Test data')\n",
      "    \n",
      "    #save classifier\n",
      "    pickle.dump(clf,open(os.path.join('..','data','clf_archive',kernel+\"-\"+timestamp+'.p'),'wb'))\n",
      "    save_performance(new_metrics)\n",
      "    \n",
      "    return clf,new_metrics"
     ],
     "language": "python",
     "metadata": {},
     "outputs": [],
     "prompt_number": 425
    },
    {
     "cell_type": "code",
     "collapsed": false,
     "input": [
      "def save_performance(new_metrics):\n",
      "    #Save model performance to model performance.csv\n",
      "    with open('../data/performance.csv','a') as perf_csv:\n",
      "        csvwriter=csv.writer(perf_csv)\n",
      "        import time\n",
      "        csvwriter.writerow([time.time()\n",
      "                            ,'add training data'\n",
      "                            ,new_metrics['kernel']\n",
      "                            ,new_metrics['cross_val_accuracy_avg']\n",
      "                            ,new_metrics['cross_val_precision_avg']\n",
      "                            ,new_metrics['cross_val_f1_avg']]+new_metrics['prfs']+new_metrics['prfs_holdout']])"
     ],
     "language": "python",
     "metadata": {},
     "outputs": [],
     "prompt_number": 344
    },
    {
     "cell_type": "code",
     "collapsed": false,
     "input": [
      "def make_model(new_csv=''):\n",
      "    \"\"\"One step to add new training data to model and output results.\"\"\"\n",
      "    if new_csv!='':\n",
      "        #convert to DataFrame\n",
      "        print 'getting new training data'\n",
      "        df_x=read_csv(new_csv)\n",
      "        \n",
      "        #find and label peaks based on exerciseType\n",
      "        print 'labeling repetitions'\n",
      "        exerciseType=df_x.iloc[0].exerciseType\n",
      "        \n",
      "        times=get_peaks(df_x,mylookahead=5)\n",
      "    \n",
      "        rep_times=times[dom_axes[exerciseType]['axis']][dom_axes[exerciseType]['minmax']]\n",
      "        df_x=add_reps(df_x,rep_times)\n",
      "        #possibly show where the peaks were added - VIZ\n",
      "        \n",
      "        #add to labeled_data.csv and training_data.csv\n",
      "        print 'saving new, labeled data with entire training set'\n",
      "        save_new_data(df_x)\n",
      "    \n",
      "    #Teach classifier\n",
      "    print 'opening training and holdout sets'\n",
      "    df_training=read_csv(open('../data/training_data.csv','r'))\n",
      "    df_holdout=read_csv(open('../data/holdout.csv','r'))\n",
      "    print 'determining features'\n",
      "    all_reps, labels = make_labeled_data(df_training)\n",
      "    holdout_samples, holdout_labels=make_labeled_data(df_holdout)\n",
      "    print '\\ncross validation and testing'\n",
      "    X_train, X_test, y_train, y_test = cross_validation.train_test_split(all_reps,\n",
      "        labels, \n",
      "        random_state=0)\n",
      "    timestamp=time.ctime().replace(\":\",\"-\")\n",
      "    kernels=['linear', 'poly', 'rbf', 'sigmoid'] # the kernel 'precomputed' throws errors\n",
      "    for kern in kernels:\n",
      "        clf,new_metrics=test_accuracy(X_train\n",
      "                                      , y_train\n",
      "                                      ,X_test\n",
      "                                      ,y_test\n",
      "                                      ,holdout_samples\n",
      "                                      ,holdout_labels\n",
      "                                      ,kernel=kern\n",
      "                                      ,timestamp=timestamp,)\n",
      "    \n",
      "    \n",
      "    \n",
      "    #use all possible data to make best classifier\n",
      "    \n",
      "    df_all=read_csv(open('../data/labeled_data.csv','r'))\n",
      "    all_reps, labels = make_labeled_data(df_all)\n",
      "    clf_final = sklearn.svm.SVC(kernel='linear', C=1,probability=True)\n",
      "    clf_final.fit(all_reps, labels)\n",
      "    \n",
      "    #save new classifer model\n",
      "    pickle.dump(clf_final,open('../svc_model.p','wb'))\n",
      "    print 'saved model'\n",
      "    #Verification with testing data and hold out\n",
      "    \n",
      "\n",
      "    return clf, new_metrics"
     ],
     "language": "python",
     "metadata": {},
     "outputs": [],
     "prompt_number": 426
    },
    {
     "cell_type": "code",
     "collapsed": false,
     "input": [
      "csf,new_metrics=make_model('../data/new_training.csv')"
     ],
     "language": "python",
     "metadata": {},
     "outputs": [
      {
       "output_type": "stream",
       "stream": "stdout",
       "text": [
        "getting new training data\n",
        "labeling repetitions\n",
        "9 local min, 9 local max found on acc_x axis\n",
        "8 local min, 8 local max found on acc_y axis\n",
        "8 local min, 8 local max found on acc_z axis\n",
        "saving new, labeled data with entire training set\n",
        "saved with set_id=83"
       ]
      },
      {
       "output_type": "stream",
       "stream": "stdout",
       "text": [
        "\n",
        "opening training and holdout sets\n",
        "determining features\n",
        "\n",
        "cross validation and testing"
       ]
      },
      {
       "output_type": "stream",
       "stream": "stdout",
       "text": [
        "\n",
        "\n",
        "\n",
        "kernel: linear"
       ]
      },
      {
       "output_type": "stream",
       "stream": "stdout",
       "text": [
        "\n",
        "cross validated average accuracy score: 0.925517241379"
       ]
      },
      {
       "output_type": "stream",
       "stream": "stdout",
       "text": [
        "\n",
        "cross validated average f1 score: 0.92826488917"
       ]
      },
      {
       "output_type": "stream",
       "stream": "stdout",
       "text": [
        "\n",
        "cross validated average precision score: 0.94258347017"
       ]
      },
      {
       "output_type": "stream",
       "stream": "stdout",
       "text": [
        "\n",
        "test: precision,recall,f1:\n",
        "[0.97972972972972971, 0.97972972972972971, 0.97972972972972983]\n",
        "holdout: precision,recall,f1:\n",
        "[0.87826086956521743, 0.87826086956521743, 0.87826086956521754]\n",
        "classification report:\n",
        "             precision    recall  f1-score   support\n",
        "\n",
        "bicep curls       1.00      0.97      0.99        38\n",
        "   shoulder       1.00      0.97      0.98        63\n",
        "     tricep       0.94      1.00      0.97        47\n",
        "\n",
        "avg / total       0.98      0.98      0.98       148\n",
        "\n",
        "\n",
        "\n",
        "\n",
        "kernel: poly"
       ]
      },
      {
       "output_type": "stream",
       "stream": "stdout",
       "text": [
        "\n",
        "cross validated average accuracy score: 0.931954022989"
       ]
      },
      {
       "output_type": "stream",
       "stream": "stdout",
       "text": [
        "\n",
        "cross validated average f1 score: 0.932698650675"
       ]
      },
      {
       "output_type": "stream",
       "stream": "stdout",
       "text": [
        "\n",
        "cross validated average precision score: 0.939521072797"
       ]
      },
      {
       "output_type": "stream",
       "stream": "stdout",
       "text": [
        "\n",
        "test: precision,recall,f1:\n",
        "[0.97297297297297303, 0.97297297297297303, 0.97297297297297303]\n",
        "holdout: precision,recall,f1:\n",
        "[0.79130434782608694, 0.79130434782608694, 0.79130434782608705]\n",
        "classification report:\n",
        "             precision    recall  f1-score   support\n",
        "\n",
        "bicep curls       0.93      0.97      0.95        38\n",
        "   shoulder       1.00      0.97      0.98        63\n",
        "     tricep       0.98      0.98      0.98        47\n",
        "\n",
        "avg / total       0.97      0.97      0.97       148\n",
        "\n",
        "\n",
        "\n",
        "\n",
        "kernel: rbf"
       ]
      },
      {
       "output_type": "stream",
       "stream": "stdout",
       "text": [
        "\n",
        "cross validated average accuracy score: 0.425977011494\n",
        "cross validated average f1 score: 0.25483331424"
       ]
      },
      {
       "output_type": "stream",
       "stream": "stdout",
       "text": [
        "\n",
        "cross validated average precision score: 0.181936054961\n",
        "test: precision,recall,f1:\n",
        "[0.45945945945945948, 0.45945945945945948, 0.45945945945945948]"
       ]
      },
      {
       "output_type": "stream",
       "stream": "stdout",
       "text": [
        "\n",
        "holdout: precision,recall,f1:\n",
        "[0.53913043478260869, 0.53913043478260869, 0.53913043478260869]\n",
        "classification report:\n",
        "             precision    recall  f1-score   support\n",
        "\n",
        "bicep curls       0.00      0.00      0.00        38\n",
        "   shoulder       0.44      1.00      0.61        63\n",
        "     tricep       1.00      0.11      0.19        47\n",
        "\n",
        "avg / total       0.51      0.46      0.32       148\n",
        "\n",
        "\n",
        "\n",
        "\n",
        "kernel: sigmoid"
       ]
      },
      {
       "output_type": "stream",
       "stream": "stdout",
       "text": [
        "\n",
        "cross validated average accuracy score: 0.425977011494\n",
        "cross validated average f1 score: 0.25483331424"
       ]
      },
      {
       "output_type": "stream",
       "stream": "stdout",
       "text": [
        "\n",
        "cross validated average precision score: 0.181936054961\n",
        "test: precision,recall,f1:\n",
        "[0.42567567567567566, 0.42567567567567566, 0.42567567567567571]\n",
        "holdout: precision,recall,f1:\n",
        "[0.53913043478260869, 0.53913043478260869, 0.53913043478260869]"
       ]
      },
      {
       "output_type": "stream",
       "stream": "stdout",
       "text": [
        "\n",
        "classification report:\n",
        "             precision    recall  f1-score   support\n",
        "\n",
        "bicep curls       0.00      0.00      0.00        38\n",
        "   shoulder       0.43      1.00      0.60        63\n",
        "     tricep       0.00      0.00      0.00        47\n",
        "\n",
        "avg / total       0.18      0.43      0.25       148\n",
        "\n",
        "\n",
        "saved model"
       ]
      },
      {
       "output_type": "stream",
       "stream": "stdout",
       "text": [
        "\n"
       ]
      },
      {
       "html": [
        "\n",
        "<style>\n",
        "\n",
        "</style>\n",
        "\n",
        "<div id=\"fig3860745219399848139026400\"></div>\n",
        "<script>\n",
        "function mpld3_load_lib(url, callback){\n",
        "  var s = document.createElement('script');\n",
        "  s.src = url;\n",
        "  s.async = true;\n",
        "  s.onreadystatechange = s.onload = callback;\n",
        "  s.onerror = function(){console.warn(\"failed to load library \" + url);};\n",
        "  document.getElementsByTagName(\"head\")[0].appendChild(s);\n",
        "}\n",
        "\n",
        "function create_fig3860745219399848139026400(){\n",
        "  \n",
        "  mpld3.draw_figure(\"fig3860745219399848139026400\", {\"width\": 640.0, \"axes\": [{\"xlim\": [-0.5, 2.5], \"yscale\": \"linear\", \"axesbg\": \"#EAEAF2\", \"texts\": [{\"v_baseline\": \"auto\", \"h_anchor\": \"start\", \"color\": \"#FFFFFF\", \"text\": \"37\", \"coordinates\": \"data\", \"zorder\": 3, \"alpha\": 1, \"fontsize\": 20.0, \"position\": [-0.2, 0.2], \"rotation\": -0.0, \"id\": \"386074489319120\"}, {\"v_baseline\": \"auto\", \"h_anchor\": \"start\", \"color\": \"#FFFFFF\", \"text\": \"1\", \"coordinates\": \"data\", \"zorder\": 3, \"alpha\": 1, \"fontsize\": 20.0, \"position\": [1.8, 0.2], \"rotation\": -0.0, \"id\": \"386074620563344\"}, {\"v_baseline\": \"auto\", \"h_anchor\": \"start\", \"color\": \"#FFFFFF\", \"text\": \"61\", \"coordinates\": \"data\", \"zorder\": 3, \"alpha\": 1, \"fontsize\": 20.0, \"position\": [0.8, 1.2], \"rotation\": -0.0, \"id\": \"386074620562512\"}, {\"v_baseline\": \"auto\", \"h_anchor\": \"start\", \"color\": \"#FFFFFF\", \"text\": \"2\", \"coordinates\": \"data\", \"zorder\": 3, \"alpha\": 1, \"fontsize\": 20.0, \"position\": [1.8, 1.2], \"rotation\": -0.0, \"id\": \"386074620565136\"}, {\"v_baseline\": \"auto\", \"h_anchor\": \"start\", \"color\": \"#FFFFFF\", \"text\": \"47\", \"coordinates\": \"data\", \"zorder\": 3, \"alpha\": 1, \"fontsize\": 20.0, \"position\": [1.8, 2.2], \"rotation\": -0.0, \"id\": \"386074535835344\"}, {\"v_baseline\": \"auto\", \"h_anchor\": \"middle\", \"color\": \"#000000\", \"text\": \"linear - Test data\", \"coordinates\": \"axes\", \"zorder\": 3, \"alpha\": 1, \"fontsize\": 12.0, \"position\": [0.5, 1.0162919517758229], \"rotation\": -0.0, \"id\": \"386074563105872\"}], \"zoomable\": true, \"images\": [{\"coordinates\": \"data\", \"zorder\": 0, \"extent\": [-0.5, 2.5, 2.5, -0.5], \"alpha\": null, \"data\": \"iVBORw0KGgoAAAANSUhEUgAAAVYAAAFWCAYAAAAyr7WDAAAABHNCSVQICAgIfAhkiAAABNBJREFUeJzt1rENwlAUBMFn2qA2Utqw3AapCzUBJbDSF2imgotWt71mruHnPWdfPYHEffUAArfVAwD+jbACxIQVICasADFhBYgJK0BMWAFiwgoQE1aAmLACxIQVICasADFhBYgJK0BMWAFiwgoQE1aAmLACxIQVICasADFhBYgJK0BMWAFiwgoQE1aAmLACxIQVICasADFhBYgJK0BMWAFiwgoQE1aAmLACxIQVICasADFhBYgJK0BMWAFiwgoQE1aAmLACxIQVICasADFhBYgJK0BMWAFiwgoQE1aAmLACxIQVICasADFhBYgJK0BMWAFiwgoQE1aAmLACxIQVICasADFhBYgJK0BMWAFiwgoQE1aAmLACxIQVICasADFhBYgJK0BMWAFiwgoQE1aAmLACxIQVICasADFhBYgJK0BMWAFiwgoQE1aAmLACxIQVICasADFhBYgJK0BMWAFiwgoQE1aAmLACxIQVICasADFhBYgJK0BMWAFiwgoQE1aAmLACxIQVICasADFhBYgJK0BMWAFiwgoQE1aAmLACxIQVICasADFhBYgJK0BMWAFiwgoQE1aA2DazX6tH8L1zjtUTCDzmXD2BgMcKEBNWgJiwAsSEFSAmrAAxYQWICStATFgBYsIKEBNWgJiwAsSEFSAmrAAxYQWICStATFgBYsIKEBNWgJiwAsSEFSAmrAAxYQWICStATFgBYsIKEBNWgJiwAsSEFSAmrAAxYQWICStATFgBYsIKEBNWgJiwAsSEFSAmrAAxYQWICStATFgBYsIKEBNWgJiwAsSEFSAmrAAxYQWICStATFgBYsIKEBNWgJiwAsSEFSAmrAAxYQWICStATFgBYsIKEBNWgJiwAsSEFSAmrAAxYQWICStATFgBYsIKEBNWgJiwAsSEFSAmrAAxYQWICStATFgBYsIKEBNWgJiwAsSEFSAmrAAxYQWICStATFgBYsIKEBNWgJiwAsSEFSAmrAAxYQWICStATFgBYsIKEBNWgJiwAsSEFSAmrAAxYQWICStATFgBYsIKEBNWgJiwAsSEFSAmrAAxYQWICStATFgBYsIKEBNWgJiwAsSEFSAmrAAxYQWICStATFgBYsIKENtm9mv1COBjn2P1BAIeK0BMWAFiwgoQE1aAmLACxIQVICasADFhBYgJK0BMWAFiwgoQE1aAmLACxIQVICasADFhBYgJK0BMWAFiwgoQE1aAmLACxIQVICasADFhBYgJK0BMWAFiwgoQE1aAmLACxIQVICasADFhBYgJK0BMWAFiwgoQE1aAmLACxIQVICasADFhBYgJK0BMWAFiwgoQE1aAmLACxIQVICasADFhBYgJK0BMWAFiwgoQE1aAmLACxIQVICasADFhBYgJK0BMWAFiwgoQE1aAmLACxIQVICasADFhBYgJK0BMWAFiwgoQE1aAmLACxIQVICasADFhBYgJK0BMWAFiwgoQE1aAmLACxIQVICasADFhBYgJK0BMWAFiwgoQE1aAmLACxIQVICasADFhBYgJK0BMWAFiwgoQE1aAmLACxIQVICasADFhBYgJK0BMWAFiwgoQE1aAmLACxIQVICasADFhBYgJK0BMWAFiwgoQE1aAmLACxIQVICasADFhBYgJK0DsDZyuC2PjPDH2AAAAAElFTkSuQmCC\", \"id\": \"386074624100496\"}], \"xdomain\": [-0.5, 2.5], \"ylim\": [2.5, -0.5], \"paths\": [], \"sharey\": [], \"sharex\": [], \"axesbgalpha\": null, \"axes\": [{\"grid\": {\"color\": \"#FFFFFF\", \"alpha\": 1.0, \"dasharray\": \"10,0\", \"gridOn\": true}, \"position\": \"bottom\", \"nticks\": 3, \"tickvalues\": [0, 1, 2], \"tickformat\": null}, {\"grid\": {\"color\": \"#FFFFFF\", \"alpha\": 1.0, \"dasharray\": \"10,0\", \"gridOn\": true}, \"position\": \"left\", \"nticks\": 3, \"tickvalues\": [0, 1, 2], \"tickformat\": null}], \"lines\": [], \"markers\": [], \"id\": \"386074563118416\", \"ydomain\": [2.5, -0.5], \"collections\": [], \"xscale\": \"linear\", \"bbox\": [0.21218749999999997, 0.125, 0.53281250000000002, 0.77500000000000002]}, {\"xlim\": [0.0, 1.0], \"yscale\": \"linear\", \"axesbg\": \"#EAEAF2\", \"texts\": [], \"zoomable\": false, \"images\": [], \"xdomain\": [0.0, 1.0], \"ylim\": [0.0, 1.0], \"paths\": [], \"sharey\": [], \"sharex\": [], \"axesbgalpha\": null, \"axes\": [{\"grid\": {\"gridOn\": false}, \"position\": \"bottom\", \"nticks\": 0, \"tickvalues\": [], \"tickformat\": \"\"}, {\"grid\": {\"gridOn\": false}, \"position\": \"right\", \"nticks\": 11, \"tickvalues\": [0.0, 0.10000000000000001, 0.20000000000000001, 0.30000000000000004, 0.40000000000000002, 0.5, 0.60000000000000009, 0.70000000000000007, 0.80000000000000004, 0.90000000000000002, 1.0], \"tickformat\": null}], \"lines\": [], \"markers\": [], \"id\": \"386074535835792\", \"ydomain\": [0.0, 1.0], \"collections\": [{\"paths\": [[[[0.0, 0.0], [1.0, 0.0], [1.0, 0.00390625], [0.0, 0.00390625], [0.0, 0.0]], [\"M\", \"L\", \"L\", \"L\", \"L\"]], [[[0.0, 0.00390625], [1.0, 0.00390625], [1.0, 0.0078125], [0.0, 0.0078125], [0.0, 0.00390625]], [\"M\", \"L\", \"L\", \"L\", \"L\"]], [[[0.0, 0.0078125], [1.0, 0.0078125], [1.0, 0.01171875], [0.0, 0.01171875], [0.0, 0.0078125]], [\"M\", \"L\", \"L\", \"L\", \"L\"]], [[[0.0, 0.01171875], [1.0, 0.01171875], [1.0, 0.015625], [0.0, 0.015625], [0.0, 0.01171875]], [\"M\", \"L\", \"L\", \"L\", \"L\"]], [[[0.0, 0.015625], [1.0, 0.015625], [1.0, 0.01953125], [0.0, 0.01953125], [0.0, 0.015625]], [\"M\", \"L\", \"L\", \"L\", \"L\"]], [[[0.0, 0.01953125], [1.0, 0.01953125], [1.0, 0.0234375], [0.0, 0.0234375], [0.0, 0.01953125]], [\"M\", \"L\", \"L\", \"L\", \"L\"]], [[[0.0, 0.0234375], [1.0, 0.0234375], [1.0, 0.02734375], [0.0, 0.02734375], [0.0, 0.0234375]], [\"M\", \"L\", \"L\", \"L\", \"L\"]], [[[0.0, 0.02734375], [1.0, 0.02734375], [1.0, 0.03125], [0.0, 0.03125], [0.0, 0.02734375]], [\"M\", \"L\", \"L\", \"L\", \"L\"]], [[[0.0, 0.03125], [1.0, 0.03125], [1.0, 0.03515625], [0.0, 0.03515625], [0.0, 0.03125]], [\"M\", \"L\", \"L\", \"L\", \"L\"]], [[[0.0, 0.03515625], [1.0, 0.03515625], [1.0, 0.0390625], [0.0, 0.0390625], [0.0, 0.03515625]], [\"M\", \"L\", \"L\", \"L\", \"L\"]], [[[0.0, 0.0390625], [1.0, 0.0390625], [1.0, 0.04296875], [0.0, 0.04296875], [0.0, 0.0390625]], [\"M\", \"L\", \"L\", \"L\", \"L\"]], [[[0.0, 0.04296875], [1.0, 0.04296875], [1.0, 0.046875], [0.0, 0.046875], [0.0, 0.04296875]], [\"M\", \"L\", \"L\", \"L\", \"L\"]], [[[0.0, 0.046875], [1.0, 0.046875], [1.0, 0.05078125], [0.0, 0.05078125], [0.0, 0.046875]], [\"M\", \"L\", \"L\", \"L\", \"L\"]], [[[0.0, 0.05078125], [1.0, 0.05078125], [1.0, 0.0546875], [0.0, 0.0546875], [0.0, 0.05078125]], [\"M\", \"L\", \"L\", \"L\", \"L\"]], [[[0.0, 0.0546875], [1.0, 0.0546875], [1.0, 0.05859375], [0.0, 0.05859375], [0.0, 0.0546875]], [\"M\", \"L\", \"L\", \"L\", \"L\"]], [[[0.0, 0.05859375], [1.0, 0.05859375], [1.0, 0.0625], [0.0, 0.0625], [0.0, 0.05859375]], [\"M\", \"L\", \"L\", \"L\", \"L\"]], [[[0.0, 0.0625], [1.0, 0.0625], [1.0, 0.06640625], [0.0, 0.06640625], [0.0, 0.0625]], [\"M\", \"L\", \"L\", \"L\", \"L\"]], [[[0.0, 0.06640625], [1.0, 0.06640625], [1.0, 0.0703125], [0.0, 0.0703125], [0.0, 0.06640625]], [\"M\", \"L\", \"L\", \"L\", \"L\"]], [[[0.0, 0.0703125], [1.0, 0.0703125], [1.0, 0.07421875], [0.0, 0.07421875], [0.0, 0.0703125]], [\"M\", \"L\", \"L\", \"L\", \"L\"]], [[[0.0, 0.07421875], [1.0, 0.07421875], [1.0, 0.078125], [0.0, 0.078125], [0.0, 0.07421875]], [\"M\", \"L\", \"L\", \"L\", \"L\"]], [[[0.0, 0.078125], [1.0, 0.078125], [1.0, 0.08203125], [0.0, 0.08203125], [0.0, 0.078125]], [\"M\", \"L\", \"L\", \"L\", \"L\"]], [[[0.0, 0.08203125], [1.0, 0.08203125], [1.0, 0.0859375], [0.0, 0.0859375], [0.0, 0.08203125]], [\"M\", \"L\", \"L\", \"L\", \"L\"]], [[[0.0, 0.0859375], [1.0, 0.0859375], [1.0, 0.08984375], [0.0, 0.08984375], [0.0, 0.0859375]], [\"M\", \"L\", \"L\", \"L\", \"L\"]], [[[0.0, 0.08984375], [1.0, 0.08984375], [1.0, 0.09375], [0.0, 0.09375], [0.0, 0.08984375]], [\"M\", \"L\", \"L\", \"L\", \"L\"]], [[[0.0, 0.09375], [1.0, 0.09375], [1.0, 0.09765625], [0.0, 0.09765625], [0.0, 0.09375]], [\"M\", \"L\", \"L\", \"L\", \"L\"]], [[[0.0, 0.09765625], [1.0, 0.09765625], [1.0, 0.1015625], [0.0, 0.1015625], [0.0, 0.09765625]], [\"M\", \"L\", \"L\", \"L\", \"L\"]], [[[0.0, 0.1015625], [1.0, 0.1015625], [1.0, 0.10546875], [0.0, 0.10546875], [0.0, 0.1015625]], [\"M\", \"L\", \"L\", \"L\", \"L\"]], [[[0.0, 0.10546875], [1.0, 0.10546875], [1.0, 0.109375], [0.0, 0.109375], [0.0, 0.10546875]], [\"M\", \"L\", \"L\", \"L\", \"L\"]], [[[0.0, 0.109375], [1.0, 0.109375], [1.0, 0.11328125], [0.0, 0.11328125], [0.0, 0.109375]], [\"M\", \"L\", \"L\", \"L\", \"L\"]], [[[0.0, 0.11328125], [1.0, 0.11328125], [1.0, 0.1171875], [0.0, 0.1171875], [0.0, 0.11328125]], [\"M\", \"L\", \"L\", \"L\", \"L\"]], [[[0.0, 0.1171875], [1.0, 0.1171875], [1.0, 0.12109375], [0.0, 0.12109375], [0.0, 0.1171875]], [\"M\", \"L\", \"L\", \"L\", \"L\"]], [[[0.0, 0.12109375], [1.0, 0.12109375], [1.0, 0.125], [0.0, 0.125], [0.0, 0.12109375]], [\"M\", \"L\", \"L\", \"L\", \"L\"]], [[[0.0, 0.125], [1.0, 0.125], [1.0, 0.12890625], [0.0, 0.12890625], [0.0, 0.125]], [\"M\", \"L\", \"L\", \"L\", \"L\"]], [[[0.0, 0.12890625], [1.0, 0.12890625], [1.0, 0.1328125], [0.0, 0.1328125], [0.0, 0.12890625]], [\"M\", \"L\", \"L\", \"L\", \"L\"]], [[[0.0, 0.1328125], [1.0, 0.1328125], [1.0, 0.13671875], [0.0, 0.13671875], [0.0, 0.1328125]], [\"M\", \"L\", \"L\", \"L\", \"L\"]], [[[0.0, 0.13671875], [1.0, 0.13671875], [1.0, 0.140625], [0.0, 0.140625], [0.0, 0.13671875]], [\"M\", \"L\", \"L\", \"L\", \"L\"]], [[[0.0, 0.140625], [1.0, 0.140625], [1.0, 0.14453125], [0.0, 0.14453125], [0.0, 0.140625]], [\"M\", \"L\", \"L\", \"L\", \"L\"]], [[[0.0, 0.14453125], [1.0, 0.14453125], [1.0, 0.1484375], [0.0, 0.1484375], [0.0, 0.14453125]], [\"M\", \"L\", \"L\", \"L\", \"L\"]], [[[0.0, 0.1484375], [1.0, 0.1484375], [1.0, 0.15234375], [0.0, 0.15234375], [0.0, 0.1484375]], [\"M\", \"L\", \"L\", \"L\", \"L\"]], [[[0.0, 0.15234375], [1.0, 0.15234375], [1.0, 0.15625], [0.0, 0.15625], [0.0, 0.15234375]], [\"M\", \"L\", \"L\", \"L\", \"L\"]], [[[0.0, 0.15625], [1.0, 0.15625], [1.0, 0.16015625], [0.0, 0.16015625], [0.0, 0.15625]], [\"M\", \"L\", \"L\", \"L\", \"L\"]], [[[0.0, 0.16015625], [1.0, 0.16015625], [1.0, 0.1640625], [0.0, 0.1640625], [0.0, 0.16015625]], [\"M\", \"L\", \"L\", \"L\", \"L\"]], [[[0.0, 0.1640625], [1.0, 0.1640625], [1.0, 0.16796875], [0.0, 0.16796875], [0.0, 0.1640625]], [\"M\", \"L\", \"L\", \"L\", \"L\"]], [[[0.0, 0.16796875], [1.0, 0.16796875], [1.0, 0.171875], [0.0, 0.171875], [0.0, 0.16796875]], [\"M\", \"L\", \"L\", \"L\", \"L\"]], [[[0.0, 0.171875], [1.0, 0.171875], [1.0, 0.17578125], [0.0, 0.17578125], [0.0, 0.171875]], [\"M\", \"L\", \"L\", \"L\", \"L\"]], [[[0.0, 0.17578125], [1.0, 0.17578125], [1.0, 0.1796875], [0.0, 0.1796875], [0.0, 0.17578125]], [\"M\", \"L\", \"L\", \"L\", \"L\"]], [[[0.0, 0.1796875], [1.0, 0.1796875], [1.0, 0.18359375], [0.0, 0.18359375], [0.0, 0.1796875]], [\"M\", \"L\", \"L\", \"L\", \"L\"]], [[[0.0, 0.18359375], [1.0, 0.18359375], [1.0, 0.1875], [0.0, 0.1875], [0.0, 0.18359375]], [\"M\", \"L\", \"L\", \"L\", \"L\"]], [[[0.0, 0.1875], [1.0, 0.1875], [1.0, 0.19140625], [0.0, 0.19140625], [0.0, 0.1875]], [\"M\", \"L\", \"L\", \"L\", \"L\"]], [[[0.0, 0.19140625], [1.0, 0.19140625], [1.0, 0.1953125], [0.0, 0.1953125], [0.0, 0.19140625]], [\"M\", \"L\", \"L\", \"L\", \"L\"]], [[[0.0, 0.1953125], [1.0, 0.1953125], [1.0, 0.19921875], [0.0, 0.19921875], [0.0, 0.1953125]], [\"M\", \"L\", \"L\", \"L\", \"L\"]], [[[0.0, 0.19921875], [1.0, 0.19921875], [1.0, 0.203125], [0.0, 0.203125], [0.0, 0.19921875]], [\"M\", \"L\", \"L\", \"L\", \"L\"]], [[[0.0, 0.203125], [1.0, 0.203125], [1.0, 0.20703125], [0.0, 0.20703125], [0.0, 0.203125]], [\"M\", \"L\", \"L\", \"L\", \"L\"]], [[[0.0, 0.20703125], [1.0, 0.20703125], [1.0, 0.2109375], [0.0, 0.2109375], [0.0, 0.20703125]], [\"M\", \"L\", \"L\", \"L\", \"L\"]], [[[0.0, 0.2109375], [1.0, 0.2109375], [1.0, 0.21484375], [0.0, 0.21484375], [0.0, 0.2109375]], [\"M\", \"L\", \"L\", \"L\", \"L\"]], [[[0.0, 0.21484375], [1.0, 0.21484375], [1.0, 0.21875], [0.0, 0.21875], [0.0, 0.21484375]], [\"M\", \"L\", \"L\", \"L\", \"L\"]], [[[0.0, 0.21875], [1.0, 0.21875], [1.0, 0.22265625], [0.0, 0.22265625], [0.0, 0.21875]], [\"M\", \"L\", \"L\", \"L\", \"L\"]], [[[0.0, 0.22265625], [1.0, 0.22265625], [1.0, 0.2265625], [0.0, 0.2265625], [0.0, 0.22265625]], [\"M\", \"L\", \"L\", \"L\", \"L\"]], [[[0.0, 0.2265625], [1.0, 0.2265625], [1.0, 0.23046875], [0.0, 0.23046875], [0.0, 0.2265625]], [\"M\", \"L\", \"L\", \"L\", \"L\"]], [[[0.0, 0.23046875], [1.0, 0.23046875], [1.0, 0.234375], [0.0, 0.234375], [0.0, 0.23046875]], [\"M\", \"L\", \"L\", \"L\", \"L\"]], [[[0.0, 0.234375], [1.0, 0.234375], [1.0, 0.23828125], [0.0, 0.23828125], [0.0, 0.234375]], [\"M\", \"L\", \"L\", \"L\", \"L\"]], [[[0.0, 0.23828125], [1.0, 0.23828125], [1.0, 0.2421875], [0.0, 0.2421875], [0.0, 0.23828125]], [\"M\", \"L\", \"L\", \"L\", \"L\"]], [[[0.0, 0.2421875], [1.0, 0.2421875], [1.0, 0.24609375], [0.0, 0.24609375], [0.0, 0.2421875]], [\"M\", \"L\", \"L\", \"L\", \"L\"]], [[[0.0, 0.24609375], [1.0, 0.24609375], [1.0, 0.25], [0.0, 0.25], [0.0, 0.24609375]], [\"M\", \"L\", \"L\", \"L\", \"L\"]], [[[0.0, 0.25], [1.0, 0.25], [1.0, 0.25390625], [0.0, 0.25390625], [0.0, 0.25]], [\"M\", \"L\", \"L\", \"L\", \"L\"]], [[[0.0, 0.25390625], [1.0, 0.25390625], [1.0, 0.2578125], [0.0, 0.2578125], [0.0, 0.25390625]], [\"M\", \"L\", \"L\", \"L\", \"L\"]], [[[0.0, 0.2578125], [1.0, 0.2578125], [1.0, 0.26171875], [0.0, 0.26171875], [0.0, 0.2578125]], [\"M\", \"L\", \"L\", \"L\", \"L\"]], [[[0.0, 0.26171875], [1.0, 0.26171875], [1.0, 0.265625], [0.0, 0.265625], [0.0, 0.26171875]], [\"M\", \"L\", \"L\", \"L\", \"L\"]], [[[0.0, 0.265625], [1.0, 0.265625], [1.0, 0.26953125], [0.0, 0.26953125], [0.0, 0.265625]], [\"M\", \"L\", \"L\", \"L\", \"L\"]], [[[0.0, 0.26953125], [1.0, 0.26953125], [1.0, 0.2734375], [0.0, 0.2734375], [0.0, 0.26953125]], [\"M\", \"L\", \"L\", \"L\", \"L\"]], [[[0.0, 0.2734375], [1.0, 0.2734375], [1.0, 0.27734375], [0.0, 0.27734375], [0.0, 0.2734375]], [\"M\", \"L\", \"L\", \"L\", \"L\"]], [[[0.0, 0.27734375], [1.0, 0.27734375], [1.0, 0.28125], [0.0, 0.28125], [0.0, 0.27734375]], [\"M\", \"L\", \"L\", \"L\", \"L\"]], [[[0.0, 0.28125], [1.0, 0.28125], [1.0, 0.28515625], [0.0, 0.28515625], [0.0, 0.28125]], [\"M\", \"L\", \"L\", \"L\", \"L\"]], [[[0.0, 0.28515625], [1.0, 0.28515625], [1.0, 0.2890625], [0.0, 0.2890625], [0.0, 0.28515625]], [\"M\", \"L\", \"L\", \"L\", \"L\"]], [[[0.0, 0.2890625], [1.0, 0.2890625], [1.0, 0.29296875], [0.0, 0.29296875], [0.0, 0.2890625]], [\"M\", \"L\", \"L\", \"L\", \"L\"]], [[[0.0, 0.29296875], [1.0, 0.29296875], [1.0, 0.296875], [0.0, 0.296875], [0.0, 0.29296875]], [\"M\", \"L\", \"L\", \"L\", \"L\"]], [[[0.0, 0.296875], [1.0, 0.296875], [1.0, 0.30078125], [0.0, 0.30078125], [0.0, 0.296875]], [\"M\", \"L\", \"L\", \"L\", \"L\"]], [[[0.0, 0.30078125], [1.0, 0.30078125], [1.0, 0.3046875], [0.0, 0.3046875], [0.0, 0.30078125]], [\"M\", \"L\", \"L\", \"L\", \"L\"]], [[[0.0, 0.3046875], [1.0, 0.3046875], [1.0, 0.30859375], [0.0, 0.30859375], [0.0, 0.3046875]], [\"M\", \"L\", \"L\", \"L\", \"L\"]], [[[0.0, 0.30859375], [1.0, 0.30859375], [1.0, 0.3125], [0.0, 0.3125], [0.0, 0.30859375]], [\"M\", \"L\", \"L\", \"L\", \"L\"]], [[[0.0, 0.3125], [1.0, 0.3125], [1.0, 0.31640625], [0.0, 0.31640625], [0.0, 0.3125]], [\"M\", \"L\", \"L\", \"L\", \"L\"]], [[[0.0, 0.31640625], [1.0, 0.31640625], [1.0, 0.3203125], [0.0, 0.3203125], [0.0, 0.31640625]], [\"M\", \"L\", \"L\", \"L\", \"L\"]], [[[0.0, 0.3203125], [1.0, 0.3203125], [1.0, 0.32421875], [0.0, 0.32421875], [0.0, 0.3203125]], [\"M\", \"L\", \"L\", \"L\", \"L\"]], [[[0.0, 0.32421875], [1.0, 0.32421875], [1.0, 0.328125], [0.0, 0.328125], [0.0, 0.32421875]], [\"M\", \"L\", \"L\", \"L\", \"L\"]], [[[0.0, 0.328125], [1.0, 0.328125], [1.0, 0.33203125], [0.0, 0.33203125], [0.0, 0.328125]], [\"M\", \"L\", \"L\", \"L\", \"L\"]], [[[0.0, 0.33203125], [1.0, 0.33203125], [1.0, 0.3359375], [0.0, 0.3359375], [0.0, 0.33203125]], [\"M\", \"L\", \"L\", \"L\", \"L\"]], [[[0.0, 0.3359375], [1.0, 0.3359375], [1.0, 0.33984375], [0.0, 0.33984375], [0.0, 0.3359375]], [\"M\", \"L\", \"L\", \"L\", \"L\"]], [[[0.0, 0.33984375], [1.0, 0.33984375], [1.0, 0.34375], [0.0, 0.34375], [0.0, 0.33984375]], [\"M\", \"L\", \"L\", \"L\", \"L\"]], [[[0.0, 0.34375], [1.0, 0.34375], [1.0, 0.34765625], [0.0, 0.34765625], [0.0, 0.34375]], [\"M\", \"L\", \"L\", \"L\", \"L\"]], [[[0.0, 0.34765625], [1.0, 0.34765625], [1.0, 0.3515625], [0.0, 0.3515625], [0.0, 0.34765625]], [\"M\", \"L\", \"L\", \"L\", \"L\"]], [[[0.0, 0.3515625], [1.0, 0.3515625], [1.0, 0.35546875], [0.0, 0.35546875], [0.0, 0.3515625]], [\"M\", \"L\", \"L\", \"L\", \"L\"]], [[[0.0, 0.35546875], [1.0, 0.35546875], [1.0, 0.359375], [0.0, 0.359375], [0.0, 0.35546875]], [\"M\", \"L\", \"L\", \"L\", \"L\"]], [[[0.0, 0.359375], [1.0, 0.359375], [1.0, 0.36328125], [0.0, 0.36328125], [0.0, 0.359375]], [\"M\", \"L\", \"L\", \"L\", \"L\"]], [[[0.0, 0.36328125], [1.0, 0.36328125], [1.0, 0.3671875], [0.0, 0.3671875], [0.0, 0.36328125]], [\"M\", \"L\", \"L\", \"L\", \"L\"]], [[[0.0, 0.3671875], [1.0, 0.3671875], [1.0, 0.37109375], [0.0, 0.37109375], [0.0, 0.3671875]], [\"M\", \"L\", \"L\", \"L\", \"L\"]], [[[0.0, 0.37109375], [1.0, 0.37109375], [1.0, 0.375], [0.0, 0.375], [0.0, 0.37109375]], [\"M\", \"L\", \"L\", \"L\", \"L\"]], [[[0.0, 0.375], [1.0, 0.375], [1.0, 0.37890625], [0.0, 0.37890625], [0.0, 0.375]], [\"M\", \"L\", \"L\", \"L\", \"L\"]], [[[0.0, 0.37890625], [1.0, 0.37890625], [1.0, 0.3828125], [0.0, 0.3828125], [0.0, 0.37890625]], [\"M\", \"L\", \"L\", \"L\", \"L\"]], [[[0.0, 0.3828125], [1.0, 0.3828125], [1.0, 0.38671875], [0.0, 0.38671875], [0.0, 0.3828125]], [\"M\", \"L\", \"L\", \"L\", \"L\"]], [[[0.0, 0.38671875], [1.0, 0.38671875], [1.0, 0.390625], [0.0, 0.390625], [0.0, 0.38671875]], [\"M\", \"L\", \"L\", \"L\", \"L\"]], [[[0.0, 0.390625], [1.0, 0.390625], [1.0, 0.39453125], [0.0, 0.39453125], [0.0, 0.390625]], [\"M\", \"L\", \"L\", \"L\", \"L\"]], [[[0.0, 0.39453125], [1.0, 0.39453125], [1.0, 0.3984375], [0.0, 0.3984375], [0.0, 0.39453125]], [\"M\", \"L\", \"L\", \"L\", \"L\"]], [[[0.0, 0.3984375], [1.0, 0.3984375], [1.0, 0.40234375], [0.0, 0.40234375], [0.0, 0.3984375]], [\"M\", \"L\", \"L\", \"L\", \"L\"]], [[[0.0, 0.40234375], [1.0, 0.40234375], [1.0, 0.40625], [0.0, 0.40625], [0.0, 0.40234375]], [\"M\", \"L\", \"L\", \"L\", \"L\"]], [[[0.0, 0.40625], [1.0, 0.40625], [1.0, 0.41015625], [0.0, 0.41015625], [0.0, 0.40625]], [\"M\", \"L\", \"L\", \"L\", \"L\"]], [[[0.0, 0.41015625], [1.0, 0.41015625], [1.0, 0.4140625], [0.0, 0.4140625], [0.0, 0.41015625]], [\"M\", \"L\", \"L\", \"L\", \"L\"]], [[[0.0, 0.4140625], [1.0, 0.4140625], [1.0, 0.41796875], [0.0, 0.41796875], [0.0, 0.4140625]], [\"M\", \"L\", \"L\", \"L\", \"L\"]], [[[0.0, 0.41796875], [1.0, 0.41796875], [1.0, 0.421875], [0.0, 0.421875], [0.0, 0.41796875]], [\"M\", \"L\", \"L\", \"L\", \"L\"]], [[[0.0, 0.421875], [1.0, 0.421875], [1.0, 0.42578125], [0.0, 0.42578125], [0.0, 0.421875]], [\"M\", \"L\", \"L\", \"L\", \"L\"]], [[[0.0, 0.42578125], [1.0, 0.42578125], [1.0, 0.4296875], [0.0, 0.4296875], [0.0, 0.42578125]], [\"M\", \"L\", \"L\", \"L\", \"L\"]], [[[0.0, 0.4296875], [1.0, 0.4296875], [1.0, 0.43359375], [0.0, 0.43359375], [0.0, 0.4296875]], [\"M\", \"L\", \"L\", \"L\", \"L\"]], [[[0.0, 0.43359375], [1.0, 0.43359375], [1.0, 0.4375], [0.0, 0.4375], [0.0, 0.43359375]], [\"M\", \"L\", \"L\", \"L\", \"L\"]], [[[0.0, 0.4375], [1.0, 0.4375], [1.0, 0.44140625], [0.0, 0.44140625], [0.0, 0.4375]], [\"M\", \"L\", \"L\", \"L\", \"L\"]], [[[0.0, 0.44140625], [1.0, 0.44140625], [1.0, 0.4453125], [0.0, 0.4453125], [0.0, 0.44140625]], [\"M\", \"L\", \"L\", \"L\", \"L\"]], [[[0.0, 0.4453125], [1.0, 0.4453125], [1.0, 0.44921875], [0.0, 0.44921875], [0.0, 0.4453125]], [\"M\", \"L\", \"L\", \"L\", \"L\"]], [[[0.0, 0.44921875], [1.0, 0.44921875], [1.0, 0.453125], [0.0, 0.453125], [0.0, 0.44921875]], [\"M\", \"L\", \"L\", \"L\", \"L\"]], [[[0.0, 0.453125], [1.0, 0.453125], [1.0, 0.45703125], [0.0, 0.45703125], [0.0, 0.453125]], [\"M\", \"L\", \"L\", \"L\", \"L\"]], [[[0.0, 0.45703125], [1.0, 0.45703125], [1.0, 0.4609375], [0.0, 0.4609375], [0.0, 0.45703125]], [\"M\", \"L\", \"L\", \"L\", \"L\"]], [[[0.0, 0.4609375], [1.0, 0.4609375], [1.0, 0.46484375], [0.0, 0.46484375], [0.0, 0.4609375]], [\"M\", \"L\", \"L\", \"L\", \"L\"]], [[[0.0, 0.46484375], [1.0, 0.46484375], [1.0, 0.46875], [0.0, 0.46875], [0.0, 0.46484375]], [\"M\", \"L\", \"L\", \"L\", \"L\"]], [[[0.0, 0.46875], [1.0, 0.46875], [1.0, 0.47265625], [0.0, 0.47265625], [0.0, 0.46875]], [\"M\", \"L\", \"L\", \"L\", \"L\"]], [[[0.0, 0.47265625], [1.0, 0.47265625], [1.0, 0.4765625], [0.0, 0.4765625], [0.0, 0.47265625]], [\"M\", \"L\", \"L\", \"L\", \"L\"]], [[[0.0, 0.4765625], [1.0, 0.4765625], [1.0, 0.48046875], [0.0, 0.48046875], [0.0, 0.4765625]], [\"M\", \"L\", \"L\", \"L\", \"L\"]], [[[0.0, 0.48046875], [1.0, 0.48046875], [1.0, 0.484375], [0.0, 0.484375], [0.0, 0.48046875]], [\"M\", \"L\", \"L\", \"L\", \"L\"]], [[[0.0, 0.484375], [1.0, 0.484375], [1.0, 0.48828125], [0.0, 0.48828125], [0.0, 0.484375]], [\"M\", \"L\", \"L\", \"L\", \"L\"]], [[[0.0, 0.48828125], [1.0, 0.48828125], [1.0, 0.4921875], [0.0, 0.4921875], [0.0, 0.48828125]], [\"M\", \"L\", \"L\", \"L\", \"L\"]], [[[0.0, 0.4921875], [1.0, 0.4921875], [1.0, 0.49609375], [0.0, 0.49609375], [0.0, 0.4921875]], [\"M\", \"L\", \"L\", \"L\", \"L\"]], [[[0.0, 0.49609375], [1.0, 0.49609375], [1.0, 0.5], [0.0, 0.5], [0.0, 0.49609375]], [\"M\", \"L\", \"L\", \"L\", \"L\"]], [[[0.0, 0.5], [1.0, 0.5], [1.0, 0.50390625], [0.0, 0.50390625], [0.0, 0.5]], [\"M\", \"L\", \"L\", \"L\", \"L\"]], [[[0.0, 0.50390625], [1.0, 0.50390625], [1.0, 0.5078125], [0.0, 0.5078125], [0.0, 0.50390625]], [\"M\", \"L\", \"L\", \"L\", \"L\"]], [[[0.0, 0.5078125], [1.0, 0.5078125], [1.0, 0.51171875], [0.0, 0.51171875], [0.0, 0.5078125]], [\"M\", \"L\", \"L\", \"L\", \"L\"]], [[[0.0, 0.51171875], [1.0, 0.51171875], [1.0, 0.515625], [0.0, 0.515625], [0.0, 0.51171875]], [\"M\", \"L\", \"L\", \"L\", \"L\"]], [[[0.0, 0.515625], [1.0, 0.515625], [1.0, 0.51953125], [0.0, 0.51953125], [0.0, 0.515625]], [\"M\", \"L\", \"L\", \"L\", \"L\"]], [[[0.0, 0.51953125], [1.0, 0.51953125], [1.0, 0.5234375], [0.0, 0.5234375], [0.0, 0.51953125]], [\"M\", \"L\", \"L\", \"L\", \"L\"]], [[[0.0, 0.5234375], [1.0, 0.5234375], [1.0, 0.52734375], [0.0, 0.52734375], [0.0, 0.5234375]], [\"M\", \"L\", \"L\", \"L\", \"L\"]], [[[0.0, 0.52734375], [1.0, 0.52734375], [1.0, 0.53125], [0.0, 0.53125], [0.0, 0.52734375]], [\"M\", \"L\", \"L\", \"L\", \"L\"]], [[[0.0, 0.53125], [1.0, 0.53125], [1.0, 0.53515625], [0.0, 0.53515625], [0.0, 0.53125]], [\"M\", \"L\", \"L\", \"L\", \"L\"]], [[[0.0, 0.53515625], [1.0, 0.53515625], [1.0, 0.5390625], [0.0, 0.5390625], [0.0, 0.53515625]], [\"M\", \"L\", \"L\", \"L\", \"L\"]], [[[0.0, 0.5390625], [1.0, 0.5390625], [1.0, 0.54296875], [0.0, 0.54296875], [0.0, 0.5390625]], [\"M\", \"L\", \"L\", \"L\", \"L\"]], [[[0.0, 0.54296875], [1.0, 0.54296875], [1.0, 0.546875], [0.0, 0.546875], [0.0, 0.54296875]], [\"M\", \"L\", \"L\", \"L\", \"L\"]], [[[0.0, 0.546875], [1.0, 0.546875], [1.0, 0.55078125], [0.0, 0.55078125], [0.0, 0.546875]], [\"M\", \"L\", \"L\", \"L\", \"L\"]], [[[0.0, 0.55078125], [1.0, 0.55078125], [1.0, 0.5546875], [0.0, 0.5546875], [0.0, 0.55078125]], [\"M\", \"L\", \"L\", \"L\", \"L\"]], [[[0.0, 0.5546875], [1.0, 0.5546875], [1.0, 0.55859375], [0.0, 0.55859375], [0.0, 0.5546875]], [\"M\", \"L\", \"L\", \"L\", \"L\"]], [[[0.0, 0.55859375], [1.0, 0.55859375], [1.0, 0.5625], [0.0, 0.5625], [0.0, 0.55859375]], [\"M\", \"L\", \"L\", \"L\", \"L\"]], [[[0.0, 0.5625], [1.0, 0.5625], [1.0, 0.56640625], [0.0, 0.56640625], [0.0, 0.5625]], [\"M\", \"L\", \"L\", \"L\", \"L\"]], [[[0.0, 0.56640625], [1.0, 0.56640625], [1.0, 0.5703125], [0.0, 0.5703125], [0.0, 0.56640625]], [\"M\", \"L\", \"L\", \"L\", \"L\"]], [[[0.0, 0.5703125], [1.0, 0.5703125], [1.0, 0.57421875], [0.0, 0.57421875], [0.0, 0.5703125]], [\"M\", \"L\", \"L\", \"L\", \"L\"]], [[[0.0, 0.57421875], [1.0, 0.57421875], [1.0, 0.578125], [0.0, 0.578125], [0.0, 0.57421875]], [\"M\", \"L\", \"L\", \"L\", \"L\"]], [[[0.0, 0.578125], [1.0, 0.578125], [1.0, 0.58203125], [0.0, 0.58203125], [0.0, 0.578125]], [\"M\", \"L\", \"L\", \"L\", \"L\"]], [[[0.0, 0.58203125], [1.0, 0.58203125], [1.0, 0.5859375], [0.0, 0.5859375], [0.0, 0.58203125]], [\"M\", \"L\", \"L\", \"L\", \"L\"]], [[[0.0, 0.5859375], [1.0, 0.5859375], [1.0, 0.58984375], [0.0, 0.58984375], [0.0, 0.5859375]], [\"M\", \"L\", \"L\", \"L\", \"L\"]], [[[0.0, 0.58984375], [1.0, 0.58984375], [1.0, 0.59375], [0.0, 0.59375], [0.0, 0.58984375]], [\"M\", \"L\", \"L\", \"L\", \"L\"]], [[[0.0, 0.59375], [1.0, 0.59375], [1.0, 0.59765625], [0.0, 0.59765625], [0.0, 0.59375]], [\"M\", \"L\", \"L\", \"L\", \"L\"]], [[[0.0, 0.59765625], [1.0, 0.59765625], [1.0, 0.6015625], [0.0, 0.6015625], [0.0, 0.59765625]], [\"M\", \"L\", \"L\", \"L\", \"L\"]], [[[0.0, 0.6015625], [1.0, 0.6015625], [1.0, 0.60546875], [0.0, 0.60546875], [0.0, 0.6015625]], [\"M\", \"L\", \"L\", \"L\", \"L\"]], [[[0.0, 0.60546875], [1.0, 0.60546875], [1.0, 0.609375], [0.0, 0.609375], [0.0, 0.60546875]], [\"M\", \"L\", \"L\", \"L\", \"L\"]], [[[0.0, 0.609375], [1.0, 0.609375], [1.0, 0.61328125], [0.0, 0.61328125], [0.0, 0.609375]], [\"M\", \"L\", \"L\", \"L\", \"L\"]], [[[0.0, 0.61328125], [1.0, 0.61328125], [1.0, 0.6171875], [0.0, 0.6171875], [0.0, 0.61328125]], [\"M\", \"L\", \"L\", \"L\", \"L\"]], [[[0.0, 0.6171875], [1.0, 0.6171875], [1.0, 0.62109375], [0.0, 0.62109375], [0.0, 0.6171875]], [\"M\", \"L\", \"L\", \"L\", \"L\"]], [[[0.0, 0.62109375], [1.0, 0.62109375], [1.0, 0.625], [0.0, 0.625], [0.0, 0.62109375]], [\"M\", \"L\", \"L\", \"L\", \"L\"]], [[[0.0, 0.625], [1.0, 0.625], [1.0, 0.62890625], [0.0, 0.62890625], [0.0, 0.625]], [\"M\", \"L\", \"L\", \"L\", \"L\"]], [[[0.0, 0.62890625], [1.0, 0.62890625], [1.0, 0.6328125], [0.0, 0.6328125], [0.0, 0.62890625]], [\"M\", \"L\", \"L\", \"L\", \"L\"]], [[[0.0, 0.6328125], [1.0, 0.6328125], [1.0, 0.63671875], [0.0, 0.63671875], [0.0, 0.6328125]], [\"M\", \"L\", \"L\", \"L\", \"L\"]], [[[0.0, 0.63671875], [1.0, 0.63671875], [1.0, 0.640625], [0.0, 0.640625], [0.0, 0.63671875]], [\"M\", \"L\", \"L\", \"L\", \"L\"]], [[[0.0, 0.640625], [1.0, 0.640625], [1.0, 0.64453125], [0.0, 0.64453125], [0.0, 0.640625]], [\"M\", \"L\", \"L\", \"L\", \"L\"]], [[[0.0, 0.64453125], [1.0, 0.64453125], [1.0, 0.6484375], [0.0, 0.6484375], [0.0, 0.64453125]], [\"M\", \"L\", \"L\", \"L\", \"L\"]], [[[0.0, 0.6484375], [1.0, 0.6484375], [1.0, 0.65234375], [0.0, 0.65234375], [0.0, 0.6484375]], [\"M\", \"L\", \"L\", \"L\", \"L\"]], [[[0.0, 0.65234375], [1.0, 0.65234375], [1.0, 0.65625], [0.0, 0.65625], [0.0, 0.65234375]], [\"M\", \"L\", \"L\", \"L\", \"L\"]], [[[0.0, 0.65625], [1.0, 0.65625], [1.0, 0.66015625], [0.0, 0.66015625], [0.0, 0.65625]], [\"M\", \"L\", \"L\", \"L\", \"L\"]], [[[0.0, 0.66015625], [1.0, 0.66015625], [1.0, 0.6640625], [0.0, 0.6640625], [0.0, 0.66015625]], [\"M\", \"L\", \"L\", \"L\", \"L\"]], [[[0.0, 0.6640625], [1.0, 0.6640625], [1.0, 0.66796875], [0.0, 0.66796875], [0.0, 0.6640625]], [\"M\", \"L\", \"L\", \"L\", \"L\"]], [[[0.0, 0.66796875], [1.0, 0.66796875], [1.0, 0.671875], [0.0, 0.671875], [0.0, 0.66796875]], [\"M\", \"L\", \"L\", \"L\", \"L\"]], [[[0.0, 0.671875], [1.0, 0.671875], [1.0, 0.67578125], [0.0, 0.67578125], [0.0, 0.671875]], [\"M\", \"L\", \"L\", \"L\", \"L\"]], [[[0.0, 0.67578125], [1.0, 0.67578125], [1.0, 0.6796875], [0.0, 0.6796875], [0.0, 0.67578125]], [\"M\", \"L\", \"L\", \"L\", \"L\"]], [[[0.0, 0.6796875], [1.0, 0.6796875], [1.0, 0.68359375], [0.0, 0.68359375], [0.0, 0.6796875]], [\"M\", \"L\", \"L\", \"L\", \"L\"]], [[[0.0, 0.68359375], [1.0, 0.68359375], [1.0, 0.6875], [0.0, 0.6875], [0.0, 0.68359375]], [\"M\", \"L\", \"L\", \"L\", \"L\"]], [[[0.0, 0.6875], [1.0, 0.6875], [1.0, 0.69140625], [0.0, 0.69140625], [0.0, 0.6875]], [\"M\", \"L\", \"L\", \"L\", \"L\"]], [[[0.0, 0.69140625], [1.0, 0.69140625], [1.0, 0.6953125], [0.0, 0.6953125], [0.0, 0.69140625]], [\"M\", \"L\", \"L\", \"L\", \"L\"]], [[[0.0, 0.6953125], [1.0, 0.6953125], [1.0, 0.69921875], [0.0, 0.69921875], [0.0, 0.6953125]], [\"M\", \"L\", \"L\", \"L\", \"L\"]], [[[0.0, 0.69921875], [1.0, 0.69921875], [1.0, 0.703125], [0.0, 0.703125], [0.0, 0.69921875]], [\"M\", \"L\", \"L\", \"L\", \"L\"]], [[[0.0, 0.703125], [1.0, 0.703125], [1.0, 0.70703125], [0.0, 0.70703125], [0.0, 0.703125]], [\"M\", \"L\", \"L\", \"L\", \"L\"]], [[[0.0, 0.70703125], [1.0, 0.70703125], [1.0, 0.7109375], [0.0, 0.7109375], [0.0, 0.70703125]], [\"M\", \"L\", \"L\", \"L\", \"L\"]], [[[0.0, 0.7109375], [1.0, 0.7109375], [1.0, 0.71484375], [0.0, 0.71484375], [0.0, 0.7109375]], [\"M\", \"L\", \"L\", \"L\", \"L\"]], [[[0.0, 0.71484375], [1.0, 0.71484375], [1.0, 0.71875], [0.0, 0.71875], [0.0, 0.71484375]], [\"M\", \"L\", \"L\", \"L\", \"L\"]], [[[0.0, 0.71875], [1.0, 0.71875], [1.0, 0.72265625], [0.0, 0.72265625], [0.0, 0.71875]], [\"M\", \"L\", \"L\", \"L\", \"L\"]], [[[0.0, 0.72265625], [1.0, 0.72265625], [1.0, 0.7265625], [0.0, 0.7265625], [0.0, 0.72265625]], [\"M\", \"L\", \"L\", \"L\", \"L\"]], [[[0.0, 0.7265625], [1.0, 0.7265625], [1.0, 0.73046875], [0.0, 0.73046875], [0.0, 0.7265625]], [\"M\", \"L\", \"L\", \"L\", \"L\"]], [[[0.0, 0.73046875], [1.0, 0.73046875], [1.0, 0.734375], [0.0, 0.734375], [0.0, 0.73046875]], [\"M\", \"L\", \"L\", \"L\", \"L\"]], [[[0.0, 0.734375], [1.0, 0.734375], [1.0, 0.73828125], [0.0, 0.73828125], [0.0, 0.734375]], [\"M\", \"L\", \"L\", \"L\", \"L\"]], [[[0.0, 0.73828125], [1.0, 0.73828125], [1.0, 0.7421875], [0.0, 0.7421875], [0.0, 0.73828125]], [\"M\", \"L\", \"L\", \"L\", \"L\"]], [[[0.0, 0.7421875], [1.0, 0.7421875], [1.0, 0.74609375], [0.0, 0.74609375], [0.0, 0.7421875]], [\"M\", \"L\", \"L\", \"L\", \"L\"]], [[[0.0, 0.74609375], [1.0, 0.74609375], [1.0, 0.75], [0.0, 0.75], [0.0, 0.74609375]], [\"M\", \"L\", \"L\", \"L\", \"L\"]], [[[0.0, 0.75], [1.0, 0.75], [1.0, 0.75390625], [0.0, 0.75390625], [0.0, 0.75]], [\"M\", \"L\", \"L\", \"L\", \"L\"]], [[[0.0, 0.75390625], [1.0, 0.75390625], [1.0, 0.7578125], [0.0, 0.7578125], [0.0, 0.75390625]], [\"M\", \"L\", \"L\", \"L\", \"L\"]], [[[0.0, 0.7578125], [1.0, 0.7578125], [1.0, 0.76171875], [0.0, 0.76171875], [0.0, 0.7578125]], [\"M\", \"L\", \"L\", \"L\", \"L\"]], [[[0.0, 0.76171875], [1.0, 0.76171875], [1.0, 0.765625], [0.0, 0.765625], [0.0, 0.76171875]], [\"M\", \"L\", \"L\", \"L\", \"L\"]], [[[0.0, 0.765625], [1.0, 0.765625], [1.0, 0.76953125], [0.0, 0.76953125], [0.0, 0.765625]], [\"M\", \"L\", \"L\", \"L\", \"L\"]], [[[0.0, 0.76953125], [1.0, 0.76953125], [1.0, 0.7734375], [0.0, 0.7734375], [0.0, 0.76953125]], [\"M\", \"L\", \"L\", \"L\", \"L\"]], [[[0.0, 0.7734375], [1.0, 0.7734375], [1.0, 0.77734375], [0.0, 0.77734375], [0.0, 0.7734375]], [\"M\", \"L\", \"L\", \"L\", \"L\"]], [[[0.0, 0.77734375], [1.0, 0.77734375], [1.0, 0.78125], [0.0, 0.78125], [0.0, 0.77734375]], [\"M\", \"L\", \"L\", \"L\", \"L\"]], [[[0.0, 0.78125], [1.0, 0.78125], [1.0, 0.78515625], [0.0, 0.78515625], [0.0, 0.78125]], [\"M\", \"L\", \"L\", \"L\", \"L\"]], [[[0.0, 0.78515625], [1.0, 0.78515625], [1.0, 0.7890625], [0.0, 0.7890625], [0.0, 0.78515625]], [\"M\", \"L\", \"L\", \"L\", \"L\"]], [[[0.0, 0.7890625], [1.0, 0.7890625], [1.0, 0.79296875], [0.0, 0.79296875], [0.0, 0.7890625]], [\"M\", \"L\", \"L\", \"L\", \"L\"]], [[[0.0, 0.79296875], [1.0, 0.79296875], [1.0, 0.796875], [0.0, 0.796875], [0.0, 0.79296875]], [\"M\", \"L\", \"L\", \"L\", \"L\"]], [[[0.0, 0.796875], [1.0, 0.796875], [1.0, 0.80078125], [0.0, 0.80078125], [0.0, 0.796875]], [\"M\", \"L\", \"L\", \"L\", \"L\"]], [[[0.0, 0.80078125], [1.0, 0.80078125], [1.0, 0.8046875], [0.0, 0.8046875], [0.0, 0.80078125]], [\"M\", \"L\", \"L\", \"L\", \"L\"]], [[[0.0, 0.8046875], [1.0, 0.8046875], [1.0, 0.80859375], [0.0, 0.80859375], [0.0, 0.8046875]], [\"M\", \"L\", \"L\", \"L\", \"L\"]], [[[0.0, 0.80859375], [1.0, 0.80859375], [1.0, 0.8125], [0.0, 0.8125], [0.0, 0.80859375]], [\"M\", \"L\", \"L\", \"L\", \"L\"]], [[[0.0, 0.8125], [1.0, 0.8125], [1.0, 0.81640625], [0.0, 0.81640625], [0.0, 0.8125]], [\"M\", \"L\", \"L\", \"L\", \"L\"]], [[[0.0, 0.81640625], [1.0, 0.81640625], [1.0, 0.8203125], [0.0, 0.8203125], [0.0, 0.81640625]], [\"M\", \"L\", \"L\", \"L\", \"L\"]], [[[0.0, 0.8203125], [1.0, 0.8203125], [1.0, 0.82421875], [0.0, 0.82421875], [0.0, 0.8203125]], [\"M\", \"L\", \"L\", \"L\", \"L\"]], [[[0.0, 0.82421875], [1.0, 0.82421875], [1.0, 0.828125], [0.0, 0.828125], [0.0, 0.82421875]], [\"M\", \"L\", \"L\", \"L\", \"L\"]], [[[0.0, 0.828125], [1.0, 0.828125], [1.0, 0.83203125], [0.0, 0.83203125], [0.0, 0.828125]], [\"M\", \"L\", \"L\", \"L\", \"L\"]], [[[0.0, 0.83203125], [1.0, 0.83203125], [1.0, 0.8359375], [0.0, 0.8359375], [0.0, 0.83203125]], [\"M\", \"L\", \"L\", \"L\", \"L\"]], [[[0.0, 0.8359375], [1.0, 0.8359375], [1.0, 0.83984375], [0.0, 0.83984375], [0.0, 0.8359375]], [\"M\", \"L\", \"L\", \"L\", \"L\"]], [[[0.0, 0.83984375], [1.0, 0.83984375], [1.0, 0.84375], [0.0, 0.84375], [0.0, 0.83984375]], [\"M\", \"L\", \"L\", \"L\", \"L\"]], [[[0.0, 0.84375], [1.0, 0.84375], [1.0, 0.84765625], [0.0, 0.84765625], [0.0, 0.84375]], [\"M\", \"L\", \"L\", \"L\", \"L\"]], [[[0.0, 0.84765625], [1.0, 0.84765625], [1.0, 0.8515625], [0.0, 0.8515625], [0.0, 0.84765625]], [\"M\", \"L\", \"L\", \"L\", \"L\"]], [[[0.0, 0.8515625], [1.0, 0.8515625], [1.0, 0.85546875], [0.0, 0.85546875], [0.0, 0.8515625]], [\"M\", \"L\", \"L\", \"L\", \"L\"]], [[[0.0, 0.85546875], [1.0, 0.85546875], [1.0, 0.859375], [0.0, 0.859375], [0.0, 0.85546875]], [\"M\", \"L\", \"L\", \"L\", \"L\"]], [[[0.0, 0.859375], [1.0, 0.859375], [1.0, 0.86328125], [0.0, 0.86328125], [0.0, 0.859375]], [\"M\", \"L\", \"L\", \"L\", \"L\"]], [[[0.0, 0.86328125], [1.0, 0.86328125], [1.0, 0.8671875], [0.0, 0.8671875], [0.0, 0.86328125]], [\"M\", \"L\", \"L\", \"L\", \"L\"]], [[[0.0, 0.8671875], [1.0, 0.8671875], [1.0, 0.87109375], [0.0, 0.87109375], [0.0, 0.8671875]], [\"M\", \"L\", \"L\", \"L\", \"L\"]], [[[0.0, 0.87109375], [1.0, 0.87109375], [1.0, 0.875], [0.0, 0.875], [0.0, 0.87109375]], [\"M\", \"L\", \"L\", \"L\", \"L\"]], [[[0.0, 0.875], [1.0, 0.875], [1.0, 0.87890625], [0.0, 0.87890625], [0.0, 0.875]], [\"M\", \"L\", \"L\", \"L\", \"L\"]], [[[0.0, 0.87890625], [1.0, 0.87890625], [1.0, 0.8828125], [0.0, 0.8828125], [0.0, 0.87890625]], [\"M\", \"L\", \"L\", \"L\", \"L\"]], [[[0.0, 0.8828125], [1.0, 0.8828125], [1.0, 0.88671875], [0.0, 0.88671875], [0.0, 0.8828125]], [\"M\", \"L\", \"L\", \"L\", \"L\"]], [[[0.0, 0.88671875], [1.0, 0.88671875], [1.0, 0.890625], [0.0, 0.890625], [0.0, 0.88671875]], [\"M\", \"L\", \"L\", \"L\", \"L\"]], [[[0.0, 0.890625], [1.0, 0.890625], [1.0, 0.89453125], [0.0, 0.89453125], [0.0, 0.890625]], [\"M\", \"L\", \"L\", \"L\", \"L\"]], [[[0.0, 0.89453125], [1.0, 0.89453125], [1.0, 0.8984375], [0.0, 0.8984375], [0.0, 0.89453125]], [\"M\", \"L\", \"L\", \"L\", \"L\"]], [[[0.0, 0.8984375], [1.0, 0.8984375], [1.0, 0.90234375], [0.0, 0.90234375], [0.0, 0.8984375]], [\"M\", \"L\", \"L\", \"L\", \"L\"]], [[[0.0, 0.90234375], [1.0, 0.90234375], [1.0, 0.90625], [0.0, 0.90625], [0.0, 0.90234375]], [\"M\", \"L\", \"L\", \"L\", \"L\"]], [[[0.0, 0.90625], [1.0, 0.90625], [1.0, 0.91015625], [0.0, 0.91015625], [0.0, 0.90625]], [\"M\", \"L\", \"L\", \"L\", \"L\"]], [[[0.0, 0.91015625], [1.0, 0.91015625], [1.0, 0.9140625], [0.0, 0.9140625], [0.0, 0.91015625]], [\"M\", \"L\", \"L\", \"L\", \"L\"]], [[[0.0, 0.9140625], [1.0, 0.9140625], [1.0, 0.91796875], [0.0, 0.91796875], [0.0, 0.9140625]], [\"M\", \"L\", \"L\", \"L\", \"L\"]], [[[0.0, 0.91796875], [1.0, 0.91796875], [1.0, 0.921875], [0.0, 0.921875], [0.0, 0.91796875]], [\"M\", \"L\", \"L\", \"L\", \"L\"]], [[[0.0, 0.921875], [1.0, 0.921875], [1.0, 0.92578125], [0.0, 0.92578125], [0.0, 0.921875]], [\"M\", \"L\", \"L\", \"L\", \"L\"]], [[[0.0, 0.92578125], [1.0, 0.92578125], [1.0, 0.9296875], [0.0, 0.9296875], [0.0, 0.92578125]], [\"M\", \"L\", \"L\", \"L\", \"L\"]], [[[0.0, 0.9296875], [1.0, 0.9296875], [1.0, 0.93359375], [0.0, 0.93359375], [0.0, 0.9296875]], [\"M\", \"L\", \"L\", \"L\", \"L\"]], [[[0.0, 0.93359375], [1.0, 0.93359375], [1.0, 0.9375], [0.0, 0.9375], [0.0, 0.93359375]], [\"M\", \"L\", \"L\", \"L\", \"L\"]], [[[0.0, 0.9375], [1.0, 0.9375], [1.0, 0.94140625], [0.0, 0.94140625], [0.0, 0.9375]], [\"M\", \"L\", \"L\", \"L\", \"L\"]], [[[0.0, 0.94140625], [1.0, 0.94140625], [1.0, 0.9453125], [0.0, 0.9453125], [0.0, 0.94140625]], [\"M\", \"L\", \"L\", \"L\", \"L\"]], [[[0.0, 0.9453125], [1.0, 0.9453125], [1.0, 0.94921875], [0.0, 0.94921875], [0.0, 0.9453125]], [\"M\", \"L\", \"L\", \"L\", \"L\"]], [[[0.0, 0.94921875], [1.0, 0.94921875], [1.0, 0.953125], [0.0, 0.953125], [0.0, 0.94921875]], [\"M\", \"L\", \"L\", \"L\", \"L\"]], [[[0.0, 0.953125], [1.0, 0.953125], [1.0, 0.95703125], [0.0, 0.95703125], [0.0, 0.953125]], [\"M\", \"L\", \"L\", \"L\", \"L\"]], [[[0.0, 0.95703125], [1.0, 0.95703125], [1.0, 0.9609375], [0.0, 0.9609375], [0.0, 0.95703125]], [\"M\", \"L\", \"L\", \"L\", \"L\"]], [[[0.0, 0.9609375], [1.0, 0.9609375], [1.0, 0.96484375], [0.0, 0.96484375], [0.0, 0.9609375]], [\"M\", \"L\", \"L\", \"L\", \"L\"]], [[[0.0, 0.96484375], [1.0, 0.96484375], [1.0, 0.96875], [0.0, 0.96875], [0.0, 0.96484375]], [\"M\", \"L\", \"L\", \"L\", \"L\"]], [[[0.0, 0.96875], [1.0, 0.96875], [1.0, 0.97265625], [0.0, 0.97265625], [0.0, 0.96875]], [\"M\", \"L\", \"L\", \"L\", \"L\"]], [[[0.0, 0.97265625], [1.0, 0.97265625], [1.0, 0.9765625], [0.0, 0.9765625], [0.0, 0.97265625]], [\"M\", \"L\", \"L\", \"L\", \"L\"]], [[[0.0, 0.9765625], [1.0, 0.9765625], [1.0, 0.98046875], [0.0, 0.98046875], [0.0, 0.9765625]], [\"M\", \"L\", \"L\", \"L\", \"L\"]], [[[0.0, 0.98046875], [1.0, 0.98046875], [1.0, 0.984375], [0.0, 0.984375], [0.0, 0.98046875]], [\"M\", \"L\", \"L\", \"L\", \"L\"]], [[[0.0, 0.984375], [1.0, 0.984375], [1.0, 0.98828125], [0.0, 0.98828125], [0.0, 0.984375]], [\"M\", \"L\", \"L\", \"L\", \"L\"]], [[[0.0, 0.98828125], [1.0, 0.98828125], [1.0, 0.9921875], [0.0, 0.9921875], [0.0, 0.98828125]], [\"M\", \"L\", \"L\", \"L\", \"L\"]], [[[0.0, 0.9921875], [1.0, 0.9921875], [1.0, 0.99609375], [0.0, 0.99609375], [0.0, 0.9921875]], [\"M\", \"L\", \"L\", \"L\", \"L\"]], [[[0.0, 0.99609375], [1.0, 0.99609375], [1.0, 1.0], [0.0, 1.0], [0.0, 0.99609375]], [\"M\", \"L\", \"L\", \"L\", \"L\"]]], \"edgecolors\": [], \"edgewidths\": [0.3], \"offsets\": \"data01\", \"yindex\": 1, \"id\": \"386074484728400\", \"pathtransforms\": [], \"pathcoordinates\": \"data\", \"offsetcoordinates\": \"display\", \"zorder\": 1, \"xindex\": 0, \"alphas\": [null], \"facecolors\": [\"#00007F\", \"#000084\", \"#000088\", \"#00008D\", \"#000091\", \"#000096\", \"#00009A\", \"#00009F\", \"#0000A3\", \"#0000A8\", \"#0000AC\", \"#0000B1\", \"#0000B6\", \"#0000BA\", \"#0000BF\", \"#0000C3\", \"#0000C8\", \"#0000CC\", \"#0000D1\", \"#0000D5\", \"#0000DA\", \"#0000DE\", \"#0000E3\", \"#0000E8\", \"#0000EC\", \"#0000F1\", \"#0000F5\", \"#0000FA\", \"#0000FE\", \"#0000FF\", \"#0000FF\", \"#0000FF\", \"#0000FF\", \"#0004FF\", \"#0008FF\", \"#000CFF\", \"#0010FF\", \"#0014FF\", \"#0018FF\", \"#001CFF\", \"#0020FF\", \"#0024FF\", \"#0028FF\", \"#002CFF\", \"#0030FF\", \"#0034FF\", \"#0038FF\", \"#003CFF\", \"#0040FF\", \"#0044FF\", \"#0048FF\", \"#004CFF\", \"#0050FF\", \"#0054FF\", \"#0058FF\", \"#005CFF\", \"#0060FF\", \"#0064FF\", \"#0068FF\", \"#006CFF\", \"#0070FF\", \"#0074FF\", \"#0078FF\", \"#007CFF\", \"#0080FF\", \"#0084FF\", \"#0088FF\", \"#008CFF\", \"#0090FF\", \"#0094FF\", \"#0098FF\", \"#009CFF\", \"#00A0FF\", \"#00A4FF\", \"#00A8FF\", \"#00ACFF\", \"#00B0FF\", \"#00B4FF\", \"#00B8FF\", \"#00BCFF\", \"#00C0FF\", \"#00C4FF\", \"#00C8FF\", \"#00CCFF\", \"#00D0FF\", \"#00D4FF\", \"#00D8FF\", \"#00DCFE\", \"#00E0FA\", \"#00E4F7\", \"#02E8F4\", \"#05ECF1\", \"#08F0ED\", \"#0CF4EA\", \"#0FF8E7\", \"#12FCE4\", \"#15FFE1\", \"#18FFDD\", \"#1CFFDA\", \"#1FFFD7\", \"#22FFD4\", \"#25FFD0\", \"#29FFCD\", \"#2CFFCA\", \"#2FFFC7\", \"#32FFC3\", \"#36FFC0\", \"#39FFBD\", \"#3CFFBA\", \"#3FFFB7\", \"#42FFB3\", \"#46FFB0\", \"#49FFAD\", \"#4CFFAA\", \"#4FFFA6\", \"#53FFA3\", \"#56FFA0\", \"#59FF9D\", \"#5CFF9A\", \"#5FFF96\", \"#63FF93\", \"#66FF90\", \"#69FF8D\", \"#6CFF89\", \"#70FF86\", \"#73FF83\", \"#76FF80\", \"#79FF7D\", \"#7CFF79\", \"#80FF76\", \"#83FF73\", \"#86FF70\", \"#89FF6C\", \"#8DFF69\", \"#90FF66\", \"#93FF63\", \"#96FF5F\", \"#9AFF5C\", \"#9DFF59\", \"#A0FF56\", \"#A3FF53\", \"#A6FF4F\", \"#AAFF4C\", \"#ADFF49\", \"#B0FF46\", \"#B3FF42\", \"#B7FF3F\", \"#BAFF3C\", \"#BDFF39\", \"#C0FF36\", \"#C3FF32\", \"#C7FF2F\", \"#CAFF2C\", \"#CDFF29\", \"#D0FF25\", \"#D4FF22\", \"#D7FF1F\", \"#DAFF1C\", \"#DDFF18\", \"#E0FF15\", \"#E4FF12\", \"#E7FF0F\", \"#EAFF0C\", \"#EDFF08\", \"#F1FC05\", \"#F4F802\", \"#F7F400\", \"#FAF000\", \"#FEED00\", \"#FFE900\", \"#FFE500\", \"#FFE200\", \"#FFDE00\", \"#FFDA00\", \"#FFD700\", \"#FFD300\", \"#FFCF00\", \"#FFCB00\", \"#FFC800\", \"#FFC400\", \"#FFC000\", \"#FFBD00\", \"#FFB900\", \"#FFB500\", \"#FFB100\", \"#FFAE00\", \"#FFAA00\", \"#FFA600\", \"#FFA300\", \"#FF9F00\", \"#FF9B00\", \"#FF9800\", \"#FF9400\", \"#FF9000\", \"#FF8C00\", \"#FF8900\", \"#FF8500\", \"#FF8100\", \"#FF7E00\", \"#FF7A00\", \"#FF7600\", \"#FF7300\", \"#FF6F00\", \"#FF6B00\", \"#FF6700\", \"#FF6400\", \"#FF6000\", \"#FF5C00\", \"#FF5900\", \"#FF5500\", \"#FF5100\", \"#FF4D00\", \"#FF4A00\", \"#FF4600\", \"#FF4200\", \"#FF3F00\", \"#FF3B00\", \"#FF3700\", \"#FF3400\", \"#FF3000\", \"#FF2C00\", \"#FF2800\", \"#FF2500\", \"#FF2100\", \"#FF1D00\", \"#FF1A00\", \"#FF1600\", \"#FE1200\", \"#FA0F00\", \"#F50B00\", \"#F10700\", \"#EC0300\", \"#E80000\", \"#E30000\", \"#DE0000\", \"#DA0000\", \"#D50000\", \"#D10000\", \"#CC0000\", \"#C80000\", \"#C30000\", \"#BF0000\", \"#BA0000\", \"#B60000\", \"#B10000\", \"#AC0000\", \"#A80000\", \"#A30000\", \"#9F0000\", \"#9A0000\", \"#960000\", \"#910000\", \"#8D0000\", \"#880000\", \"#840000\", \"#7F0000\"]}], \"xscale\": \"linear\", \"bbox\": [0.78374999999999995, 0.12499999999999989, 0.026640624999999973, 0.77500000000000013]}], \"data\": {\"data01\": [[0.0, 0.0]]}, \"id\": \"386074521939984\", \"toolbar\": [\"reset\", \"move\"], \"height\": 440.0});\n",
        "}\n",
        "\n",
        "if(typeof(mpld3) !== \"undefined\"){\n",
        "   // already loaded: just create the figure\n",
        "   create_fig3860745219399848139026400();\n",
        "}else if(typeof define === \"function\" && define.amd){\n",
        "   // require.js is available: use it to load d3/mpld3\n",
        "   require.config({paths: {d3: \"http://d3js.org/d3.v3.min\"}});\n",
        "   require([\"d3\"], function(d3){\n",
        "      window.d3 = d3;\n",
        "      mpld3_load_lib(\"http://mpld3.github.io/js/mpld3.v0.1.js\", create_fig3860745219399848139026400);\n",
        "    });\n",
        "}else{\n",
        "    // require.js not available: dynamically load d3 & mpld3\n",
        "    mpld3_load_lib(\"http://d3js.org/d3.v3.min.js\", function(){\n",
        "        mpld3_load_lib(\"http://mpld3.github.io/js/mpld3.v0.1.js\", create_fig3860745219399848139026400);})\n",
        "}\n",
        "</script>"
       ],
       "metadata": {},
       "output_type": "display_data",
       "png": "[encoded data removed]",
       "text": [
        "<matplotlib.figure.Figure at 0x10d875410>"
       ]
      },
      {
       "html": [
        "\n",
        "<style>\n",
        "\n",
        "</style>\n",
        "\n",
        "<div id=\"fig3860746206766883290307588\"></div>\n",
        "<script>\n",
        "function mpld3_load_lib(url, callback){\n",
        "  var s = document.createElement('script');\n",
        "  s.src = url;\n",
        "  s.async = true;\n",
        "  s.onreadystatechange = s.onload = callback;\n",
        "  s.onerror = function(){console.warn(\"failed to load library \" + url);};\n",
        "  document.getElementsByTagName(\"head\")[0].appendChild(s);\n",
        "}\n",
        "\n",
        "function create_fig3860746206766883290307588(){\n",
        "  \n",
        "  mpld3.draw_figure(\"fig3860746206766883290307588\", {\"width\": 640.0, \"axes\": [{\"xlim\": [-0.5, 2.5], \"yscale\": \"linear\", \"axesbg\": \"#EAEAF2\", \"texts\": [{\"v_baseline\": \"auto\", \"h_anchor\": \"start\", \"color\": \"#FFFFFF\", \"text\": \"37\", \"coordinates\": \"data\", \"zorder\": 3, \"alpha\": 1, \"fontsize\": 20.0, \"position\": [-0.2, 0.2], \"rotation\": -0.0, \"id\": \"386074613588112\"}, {\"v_baseline\": \"auto\", \"h_anchor\": \"start\", \"color\": \"#FFFFFF\", \"text\": \"1\", \"coordinates\": \"data\", \"zorder\": 3, \"alpha\": 1, \"fontsize\": 20.0, \"position\": [1.8, 0.2], \"rotation\": -0.0, \"id\": \"386074613602000\"}, {\"v_baseline\": \"auto\", \"h_anchor\": \"start\", \"color\": \"#FFFFFF\", \"text\": \"2\", \"coordinates\": \"data\", \"zorder\": 3, \"alpha\": 1, \"fontsize\": 20.0, \"position\": [-0.2, 1.2], \"rotation\": -0.0, \"id\": \"386074613602768\"}, {\"v_baseline\": \"auto\", \"h_anchor\": \"start\", \"color\": \"#FFFFFF\", \"text\": \"61\", \"coordinates\": \"data\", \"zorder\": 3, \"alpha\": 1, \"fontsize\": 20.0, \"position\": [0.8, 1.2], \"rotation\": -0.0, \"id\": \"386074613600080\"}, {\"v_baseline\": \"auto\", \"h_anchor\": \"start\", \"color\": \"#FFFFFF\", \"text\": \"1\", \"coordinates\": \"data\", \"zorder\": 3, \"alpha\": 1, \"fontsize\": 20.0, \"position\": [-0.2, 2.2], \"rotation\": -0.0, \"id\": \"386074613590608\"}, {\"v_baseline\": \"auto\", \"h_anchor\": \"start\", \"color\": \"#FFFFFF\", \"text\": \"46\", \"coordinates\": \"data\", \"zorder\": 3, \"alpha\": 1, \"fontsize\": 20.0, \"position\": [1.8, 2.2], \"rotation\": -0.0, \"id\": \"386074613671056\"}, {\"v_baseline\": \"auto\", \"h_anchor\": \"middle\", \"color\": \"#000000\", \"text\": \"poly - Test data\", \"coordinates\": \"axes\", \"zorder\": 3, \"alpha\": 1, \"fontsize\": 12.0, \"position\": [0.5, 1.0162919517758229], \"rotation\": -0.0, \"id\": \"386074535777872\"}], \"zoomable\": true, \"images\": [{\"coordinates\": \"data\", \"zorder\": 0, \"extent\": [-0.5, 2.5, 2.5, -0.5], \"alpha\": null, \"data\": \"iVBORw0KGgoAAAANSUhEUgAAAVYAAAFWCAYAAAAyr7WDAAAABHNCSVQICAgIfAhkiAAABNlJREFUeJzt1sFJAwEURdE/tmFt9uFCGAIurCANpDqrmBSRCx/lnAre6vKO75lr+PO+5tyeQOJ9ewCBt+0BAP+NsALEhBUgJqwAMWEFiAkrQExYAWLCChATVoCYsALEhBUgJqwAMWEFiAkrQExYAWLCChATVoCYsALEhBUgJqwAMWEFiAkrQExYAWLCChATVoCYsALEhBUgJqwAMWEFiAkrQExYAWLCChATVoCYsALEhBUgJqwAMWEFiAkrQExYAWLCChATVoCYsALEhBUgJqwAMWEFiAkrQExYAWLCChATVoCYsALEhBUgJqwAMWEFiAkrQExYAWLCChATVoCYsALEhBUgJqwAMWEFiAkrQExYAWLCChATVoCYsALEhBUgJqwAMWEFiAkrQExYAWLCChATVoCYsALEhBUgJqwAMWEFiAkrQExYAWLCChATVoCYsALEhBUgJqwAMWEFiAkrQExYAWLCChATVoCYsALEhBUgJqwAMWEFiAkrQExYAWLCChATVoCYsALEhBUgJqwAMWEFiAkrQExYAWLCChATVoCYsALEhBUgJqwAMWEFiAkrQExYAWLCChATVoDYMfO4tkfwup/52J5A4HPO7QkEPFaAmLACxIQVICasADFhBYgJK0BMWAFiwgoQE1aAmLACxIQVICasADFhBYgJK0BMWAFiwgoQE1aAmLACxIQVICasADFhBYgJK0BMWAFiwgoQE1aAmLACxIQVICasADFhBYgJK0BMWAFiwgoQE1aAmLACxIQVICasADFhBYgJK0BMWAFiwgoQE1aAmLACxIQVICasADFhBYgJK0BMWAFiwgoQE1aAmLACxIQVICasADFhBYgJK0BMWAFiwgoQE1aAmLACxIQVICasADFhBYgJK0BMWAFiwgoQE1aAmLACxIQVICasADFhBYgJK0BMWAFiwgoQE1aAmLACxIQVICasADFhBYgJK0BMWAFiwgoQE1aAmLACxIQVICasADFhBYgJK0BMWAFiwgoQE1aAmLACxIQVICasADFhBYgJK0BMWAFiwgoQE1aAmLACxIQVICasADFhBYgJK0BMWAFiwgoQE1aAmLACxIQVICasADFhBYgJK0BMWAFiwgoQE1aA2DFzv7ZHUPjdHkDgnNv2BAIeK0BMWAFiwgoQE1aAmLACxIQVICasADFhBYgJK0BMWAFiwgoQE1aAmLACxIQVICasADFhBYgJK0BMWAFiwgoQE1aAmLACxIQVICasADFhBYgJK0BMWAFiwgoQE1aAmLACxIQVICasADFhBYgJK0BMWAFiwgoQE1aAmLACxIQVICasADFhBYgJK0BMWAFiwgoQE1aAmLACxIQVICasADFhBYgJK0BMWAFiwgoQE1aAmLACxIQVICasADFhBYgJK0BMWAFiwgoQE1aAmLACxIQVICasADFhBYgJK0BMWAFiwgoQE1aAmLACxIQVICasADFhBYgJK0BMWAFiwgoQE1aAmLACxIQVICasADFhBYgJK0BMWAFiwgoQE1aAmLACxIQVICasADFhBYgJK0BMWAFiwgoQE1aAmLACxIQVICasADFhBYgJK0BMWAFiwgoQE1aAmLACxIQVICasADFhBYgJK0BMWAFiwgoQE1aAmLACxIQVICasADFhBYgJK0DsCao1DD9ZWfv4AAAAAElFTkSuQmCC\", \"id\": \"386074489244944\"}], \"xdomain\": [-0.5, 2.5], \"ylim\": [2.5, -0.5], \"paths\": [], \"sharey\": [], \"sharex\": [], \"axesbgalpha\": null, \"axes\": [{\"grid\": {\"color\": \"#FFFFFF\", \"alpha\": 1.0, \"dasharray\": \"10,0\", \"gridOn\": true}, \"position\": \"bottom\", \"nticks\": 3, \"tickvalues\": [0, 1, 2], \"tickformat\": null}, {\"grid\": {\"color\": \"#FFFFFF\", \"alpha\": 1.0, \"dasharray\": \"10,0\", \"gridOn\": true}, \"position\": \"left\", \"nticks\": 3, \"tickvalues\": [0, 1, 2], \"tickformat\": null}], \"lines\": [], \"markers\": [], \"id\": \"386074489369616\", \"ydomain\": [2.5, -0.5], \"collections\": [], \"xscale\": \"linear\", \"bbox\": [0.21218749999999997, 0.125, 0.53281250000000002, 0.77500000000000002]}, {\"xlim\": [0.0, 1.0], \"yscale\": \"linear\", \"axesbg\": \"#EAEAF2\", \"texts\": [], \"zoomable\": false, \"images\": [], \"xdomain\": [0.0, 1.0], \"ylim\": [0.0, 1.0], \"paths\": [], \"sharey\": [], \"sharex\": [], \"axesbgalpha\": null, \"axes\": [{\"grid\": {\"gridOn\": false}, \"position\": \"bottom\", \"nticks\": 0, \"tickvalues\": [], \"tickformat\": \"\"}, {\"grid\": {\"gridOn\": false}, \"position\": \"right\", \"nticks\": 10, \"tickvalues\": [0.0, 0.10217391304347827, 0.20434782608695654, 0.30652173913043484, 0.40869565217391307, 0.51086956521739135, 0.61304347826086969, 0.71521739130434792, 0.81739130434782614, 0.91956521739130437], \"tickformat\": null}], \"lines\": [], \"markers\": [], \"id\": \"386074629942736\", \"ydomain\": [0.0, 1.0], \"collections\": [{\"paths\": [[[[0.0, 0.0], [1.0, 0.0], [1.0, 0.00390625], [0.0, 0.00390625], [0.0, 0.0]], [\"M\", \"L\", \"L\", \"L\", \"L\"]], [[[0.0, 0.00390625], [1.0, 0.00390625], [1.0, 0.0078125], [0.0, 0.0078125], [0.0, 0.00390625]], [\"M\", \"L\", \"L\", \"L\", \"L\"]], [[[0.0, 0.0078125], [1.0, 0.0078125], [1.0, 0.01171875], [0.0, 0.01171875], [0.0, 0.0078125]], [\"M\", \"L\", \"L\", \"L\", \"L\"]], [[[0.0, 0.01171875], [1.0, 0.01171875], [1.0, 0.015625], [0.0, 0.015625], [0.0, 0.01171875]], [\"M\", \"L\", \"L\", \"L\", \"L\"]], [[[0.0, 0.015625], [1.0, 0.015625], [1.0, 0.01953125], [0.0, 0.01953125], [0.0, 0.015625]], [\"M\", \"L\", \"L\", \"L\", \"L\"]], [[[0.0, 0.01953125], [1.0, 0.01953125], [1.0, 0.0234375], [0.0, 0.0234375], [0.0, 0.01953125]], [\"M\", \"L\", \"L\", \"L\", \"L\"]], [[[0.0, 0.0234375], [1.0, 0.0234375], [1.0, 0.02734375], [0.0, 0.02734375], [0.0, 0.0234375]], [\"M\", \"L\", \"L\", \"L\", \"L\"]], [[[0.0, 0.02734375], [1.0, 0.02734375], [1.0, 0.03125], [0.0, 0.03125], [0.0, 0.02734375]], [\"M\", \"L\", \"L\", \"L\", \"L\"]], [[[0.0, 0.03125], [1.0, 0.03125], [1.0, 0.03515625], [0.0, 0.03515625], [0.0, 0.03125]], [\"M\", \"L\", \"L\", \"L\", \"L\"]], [[[0.0, 0.03515625], [1.0, 0.03515625], [1.0, 0.0390625], [0.0, 0.0390625], [0.0, 0.03515625]], [\"M\", \"L\", \"L\", \"L\", \"L\"]], [[[0.0, 0.0390625], [1.0, 0.0390625], [1.0, 0.04296875], [0.0, 0.04296875], [0.0, 0.0390625]], [\"M\", \"L\", \"L\", \"L\", \"L\"]], [[[0.0, 0.04296875], [1.0, 0.04296875], [1.0, 0.046875], [0.0, 0.046875], [0.0, 0.04296875]], [\"M\", \"L\", \"L\", \"L\", \"L\"]], [[[0.0, 0.046875], [1.0, 0.046875], [1.0, 0.05078125], [0.0, 0.05078125], [0.0, 0.046875]], [\"M\", \"L\", \"L\", \"L\", \"L\"]], [[[0.0, 0.05078125], [1.0, 0.05078125], [1.0, 0.0546875], [0.0, 0.0546875], [0.0, 0.05078125]], [\"M\", \"L\", \"L\", \"L\", \"L\"]], [[[0.0, 0.0546875], [1.0, 0.0546875], [1.0, 0.05859375], [0.0, 0.05859375], [0.0, 0.0546875]], [\"M\", \"L\", \"L\", \"L\", \"L\"]], [[[0.0, 0.05859375], [1.0, 0.05859375], [1.0, 0.0625], [0.0, 0.0625], [0.0, 0.05859375]], [\"M\", \"L\", \"L\", \"L\", \"L\"]], [[[0.0, 0.0625], [1.0, 0.0625], [1.0, 0.06640625], [0.0, 0.06640625], [0.0, 0.0625]], [\"M\", \"L\", \"L\", \"L\", \"L\"]], [[[0.0, 0.06640625], [1.0, 0.06640625], [1.0, 0.0703125], [0.0, 0.0703125], [0.0, 0.06640625]], [\"M\", \"L\", \"L\", \"L\", \"L\"]], [[[0.0, 0.0703125], [1.0, 0.0703125], [1.0, 0.07421875], [0.0, 0.07421875], [0.0, 0.0703125]], [\"M\", \"L\", \"L\", \"L\", \"L\"]], [[[0.0, 0.07421875], [1.0, 0.07421875], [1.0, 0.078125], [0.0, 0.078125], [0.0, 0.07421875]], [\"M\", \"L\", \"L\", \"L\", \"L\"]], [[[0.0, 0.078125], [1.0, 0.078125], [1.0, 0.08203125], [0.0, 0.08203125], [0.0, 0.078125]], [\"M\", \"L\", \"L\", \"L\", \"L\"]], [[[0.0, 0.08203125], [1.0, 0.08203125], [1.0, 0.0859375], [0.0, 0.0859375], [0.0, 0.08203125]], [\"M\", \"L\", \"L\", \"L\", \"L\"]], [[[0.0, 0.0859375], [1.0, 0.0859375], [1.0, 0.08984375], [0.0, 0.08984375], [0.0, 0.0859375]], [\"M\", \"L\", \"L\", \"L\", \"L\"]], [[[0.0, 0.08984375], [1.0, 0.08984375], [1.0, 0.09375], [0.0, 0.09375], [0.0, 0.08984375]], [\"M\", \"L\", \"L\", \"L\", \"L\"]], [[[0.0, 0.09375], [1.0, 0.09375], [1.0, 0.09765625], [0.0, 0.09765625], [0.0, 0.09375]], [\"M\", \"L\", \"L\", \"L\", \"L\"]], [[[0.0, 0.09765625], [1.0, 0.09765625], [1.0, 0.1015625], [0.0, 0.1015625], [0.0, 0.09765625]], [\"M\", \"L\", \"L\", \"L\", \"L\"]], [[[0.0, 0.1015625], [1.0, 0.1015625], [1.0, 0.10546875], [0.0, 0.10546875], [0.0, 0.1015625]], [\"M\", \"L\", \"L\", \"L\", \"L\"]], [[[0.0, 0.10546875], [1.0, 0.10546875], [1.0, 0.109375], [0.0, 0.109375], [0.0, 0.10546875]], [\"M\", \"L\", \"L\", \"L\", \"L\"]], [[[0.0, 0.109375], [1.0, 0.109375], [1.0, 0.11328125], [0.0, 0.11328125], [0.0, 0.109375]], [\"M\", \"L\", \"L\", \"L\", \"L\"]], [[[0.0, 0.11328125], [1.0, 0.11328125], [1.0, 0.1171875], [0.0, 0.1171875], [0.0, 0.11328125]], [\"M\", \"L\", \"L\", \"L\", \"L\"]], [[[0.0, 0.1171875], [1.0, 0.1171875], [1.0, 0.12109375], [0.0, 0.12109375], [0.0, 0.1171875]], [\"M\", \"L\", \"L\", \"L\", \"L\"]], [[[0.0, 0.12109375], [1.0, 0.12109375], [1.0, 0.125], [0.0, 0.125], [0.0, 0.12109375]], [\"M\", \"L\", \"L\", \"L\", \"L\"]], [[[0.0, 0.125], [1.0, 0.125], [1.0, 0.12890625], [0.0, 0.12890625], [0.0, 0.125]], [\"M\", \"L\", \"L\", \"L\", \"L\"]], [[[0.0, 0.12890625], [1.0, 0.12890625], [1.0, 0.1328125], [0.0, 0.1328125], [0.0, 0.12890625]], [\"M\", \"L\", \"L\", \"L\", \"L\"]], [[[0.0, 0.1328125], [1.0, 0.1328125], [1.0, 0.13671875], [0.0, 0.13671875], [0.0, 0.1328125]], [\"M\", \"L\", \"L\", \"L\", \"L\"]], [[[0.0, 0.13671875], [1.0, 0.13671875], [1.0, 0.140625], [0.0, 0.140625], [0.0, 0.13671875]], [\"M\", \"L\", \"L\", \"L\", \"L\"]], [[[0.0, 0.140625], [1.0, 0.140625], [1.0, 0.14453125], [0.0, 0.14453125], [0.0, 0.140625]], [\"M\", \"L\", \"L\", \"L\", \"L\"]], [[[0.0, 0.14453125], [1.0, 0.14453125], [1.0, 0.1484375], [0.0, 0.1484375], [0.0, 0.14453125]], [\"M\", \"L\", \"L\", \"L\", \"L\"]], [[[0.0, 0.1484375], [1.0, 0.1484375], [1.0, 0.15234375], [0.0, 0.15234375], [0.0, 0.1484375]], [\"M\", \"L\", \"L\", \"L\", \"L\"]], [[[0.0, 0.15234375], [1.0, 0.15234375], [1.0, 0.15625], [0.0, 0.15625], [0.0, 0.15234375]], [\"M\", \"L\", \"L\", \"L\", \"L\"]], [[[0.0, 0.15625], [1.0, 0.15625], [1.0, 0.16015625], [0.0, 0.16015625], [0.0, 0.15625]], [\"M\", \"L\", \"L\", \"L\", \"L\"]], [[[0.0, 0.16015625], [1.0, 0.16015625], [1.0, 0.1640625], [0.0, 0.1640625], [0.0, 0.16015625]], [\"M\", \"L\", \"L\", \"L\", \"L\"]], [[[0.0, 0.1640625], [1.0, 0.1640625], [1.0, 0.16796875], [0.0, 0.16796875], [0.0, 0.1640625]], [\"M\", \"L\", \"L\", \"L\", \"L\"]], [[[0.0, 0.16796875], [1.0, 0.16796875], [1.0, 0.171875], [0.0, 0.171875], [0.0, 0.16796875]], [\"M\", \"L\", \"L\", \"L\", \"L\"]], [[[0.0, 0.171875], [1.0, 0.171875], [1.0, 0.17578125], [0.0, 0.17578125], [0.0, 0.171875]], [\"M\", \"L\", \"L\", \"L\", \"L\"]], [[[0.0, 0.17578125], [1.0, 0.17578125], [1.0, 0.1796875], [0.0, 0.1796875], [0.0, 0.17578125]], [\"M\", \"L\", \"L\", \"L\", \"L\"]], [[[0.0, 0.1796875], [1.0, 0.1796875], [1.0, 0.18359375], [0.0, 0.18359375], [0.0, 0.1796875]], [\"M\", \"L\", \"L\", \"L\", \"L\"]], [[[0.0, 0.18359375], [1.0, 0.18359375], [1.0, 0.1875], [0.0, 0.1875], [0.0, 0.18359375]], [\"M\", \"L\", \"L\", \"L\", \"L\"]], [[[0.0, 0.1875], [1.0, 0.1875], [1.0, 0.19140625], [0.0, 0.19140625], [0.0, 0.1875]], [\"M\", \"L\", \"L\", \"L\", \"L\"]], [[[0.0, 0.19140625], [1.0, 0.19140625], [1.0, 0.1953125], [0.0, 0.1953125], [0.0, 0.19140625]], [\"M\", \"L\", \"L\", \"L\", \"L\"]], [[[0.0, 0.1953125], [1.0, 0.1953125], [1.0, 0.19921875], [0.0, 0.19921875], [0.0, 0.1953125]], [\"M\", \"L\", \"L\", \"L\", \"L\"]], [[[0.0, 0.19921875], [1.0, 0.19921875], [1.0, 0.203125], [0.0, 0.203125], [0.0, 0.19921875]], [\"M\", \"L\", \"L\", \"L\", \"L\"]], [[[0.0, 0.203125], [1.0, 0.203125], [1.0, 0.20703125], [0.0, 0.20703125], [0.0, 0.203125]], [\"M\", \"L\", \"L\", \"L\", \"L\"]], [[[0.0, 0.20703125], [1.0, 0.20703125], [1.0, 0.2109375], [0.0, 0.2109375], [0.0, 0.20703125]], [\"M\", \"L\", \"L\", \"L\", \"L\"]], [[[0.0, 0.2109375], [1.0, 0.2109375], [1.0, 0.21484375], [0.0, 0.21484375], [0.0, 0.2109375]], [\"M\", \"L\", \"L\", \"L\", \"L\"]], [[[0.0, 0.21484375], [1.0, 0.21484375], [1.0, 0.21875], [0.0, 0.21875], [0.0, 0.21484375]], [\"M\", \"L\", \"L\", \"L\", \"L\"]], [[[0.0, 0.21875], [1.0, 0.21875], [1.0, 0.22265625], [0.0, 0.22265625], [0.0, 0.21875]], [\"M\", \"L\", \"L\", \"L\", \"L\"]], [[[0.0, 0.22265625], [1.0, 0.22265625], [1.0, 0.2265625], [0.0, 0.2265625], [0.0, 0.22265625]], [\"M\", \"L\", \"L\", \"L\", \"L\"]], [[[0.0, 0.2265625], [1.0, 0.2265625], [1.0, 0.23046875], [0.0, 0.23046875], [0.0, 0.2265625]], [\"M\", \"L\", \"L\", \"L\", \"L\"]], [[[0.0, 0.23046875], [1.0, 0.23046875], [1.0, 0.234375], [0.0, 0.234375], [0.0, 0.23046875]], [\"M\", \"L\", \"L\", \"L\", \"L\"]], [[[0.0, 0.234375], [1.0, 0.234375], [1.0, 0.23828125], [0.0, 0.23828125], [0.0, 0.234375]], [\"M\", \"L\", \"L\", \"L\", \"L\"]], [[[0.0, 0.23828125], [1.0, 0.23828125], [1.0, 0.2421875], [0.0, 0.2421875], [0.0, 0.23828125]], [\"M\", \"L\", \"L\", \"L\", \"L\"]], [[[0.0, 0.2421875], [1.0, 0.2421875], [1.0, 0.24609375], [0.0, 0.24609375], [0.0, 0.2421875]], [\"M\", \"L\", \"L\", \"L\", \"L\"]], [[[0.0, 0.24609375], [1.0, 0.24609375], [1.0, 0.25], [0.0, 0.25], [0.0, 0.24609375]], [\"M\", \"L\", \"L\", \"L\", \"L\"]], [[[0.0, 0.25], [1.0, 0.25], [1.0, 0.25390625], [0.0, 0.25390625], [0.0, 0.25]], [\"M\", \"L\", \"L\", \"L\", \"L\"]], [[[0.0, 0.25390625], [1.0, 0.25390625], [1.0, 0.2578125], [0.0, 0.2578125], [0.0, 0.25390625]], [\"M\", \"L\", \"L\", \"L\", \"L\"]], [[[0.0, 0.2578125], [1.0, 0.2578125], [1.0, 0.26171875], [0.0, 0.26171875], [0.0, 0.2578125]], [\"M\", \"L\", \"L\", \"L\", \"L\"]], [[[0.0, 0.26171875], [1.0, 0.26171875], [1.0, 0.265625], [0.0, 0.265625], [0.0, 0.26171875]], [\"M\", \"L\", \"L\", \"L\", \"L\"]], [[[0.0, 0.265625], [1.0, 0.265625], [1.0, 0.26953125], [0.0, 0.26953125], [0.0, 0.265625]], [\"M\", \"L\", \"L\", \"L\", \"L\"]], [[[0.0, 0.26953125], [1.0, 0.26953125], [1.0, 0.2734375], [0.0, 0.2734375], [0.0, 0.26953125]], [\"M\", \"L\", \"L\", \"L\", \"L\"]], [[[0.0, 0.2734375], [1.0, 0.2734375], [1.0, 0.27734375], [0.0, 0.27734375], [0.0, 0.2734375]], [\"M\", \"L\", \"L\", \"L\", \"L\"]], [[[0.0, 0.27734375], [1.0, 0.27734375], [1.0, 0.28125], [0.0, 0.28125], [0.0, 0.27734375]], [\"M\", \"L\", \"L\", \"L\", \"L\"]], [[[0.0, 0.28125], [1.0, 0.28125], [1.0, 0.28515625], [0.0, 0.28515625], [0.0, 0.28125]], [\"M\", \"L\", \"L\", \"L\", \"L\"]], [[[0.0, 0.28515625], [1.0, 0.28515625], [1.0, 0.2890625], [0.0, 0.2890625], [0.0, 0.28515625]], [\"M\", \"L\", \"L\", \"L\", \"L\"]], [[[0.0, 0.2890625], [1.0, 0.2890625], [1.0, 0.29296875], [0.0, 0.29296875], [0.0, 0.2890625]], [\"M\", \"L\", \"L\", \"L\", \"L\"]], [[[0.0, 0.29296875], [1.0, 0.29296875], [1.0, 0.296875], [0.0, 0.296875], [0.0, 0.29296875]], [\"M\", \"L\", \"L\", \"L\", \"L\"]], [[[0.0, 0.296875], [1.0, 0.296875], [1.0, 0.30078125], [0.0, 0.30078125], [0.0, 0.296875]], [\"M\", \"L\", \"L\", \"L\", \"L\"]], [[[0.0, 0.30078125], [1.0, 0.30078125], [1.0, 0.3046875], [0.0, 0.3046875], [0.0, 0.30078125]], [\"M\", \"L\", \"L\", \"L\", \"L\"]], [[[0.0, 0.3046875], [1.0, 0.3046875], [1.0, 0.30859375], [0.0, 0.30859375], [0.0, 0.3046875]], [\"M\", \"L\", \"L\", \"L\", \"L\"]], [[[0.0, 0.30859375], [1.0, 0.30859375], [1.0, 0.3125], [0.0, 0.3125], [0.0, 0.30859375]], [\"M\", \"L\", \"L\", \"L\", \"L\"]], [[[0.0, 0.3125], [1.0, 0.3125], [1.0, 0.31640625], [0.0, 0.31640625], [0.0, 0.3125]], [\"M\", \"L\", \"L\", \"L\", \"L\"]], [[[0.0, 0.31640625], [1.0, 0.31640625], [1.0, 0.3203125], [0.0, 0.3203125], [0.0, 0.31640625]], [\"M\", \"L\", \"L\", \"L\", \"L\"]], [[[0.0, 0.3203125], [1.0, 0.3203125], [1.0, 0.32421875], [0.0, 0.32421875], [0.0, 0.3203125]], [\"M\", \"L\", \"L\", \"L\", \"L\"]], [[[0.0, 0.32421875], [1.0, 0.32421875], [1.0, 0.328125], [0.0, 0.328125], [0.0, 0.32421875]], [\"M\", \"L\", \"L\", \"L\", \"L\"]], [[[0.0, 0.328125], [1.0, 0.328125], [1.0, 0.33203125], [0.0, 0.33203125], [0.0, 0.328125]], [\"M\", \"L\", \"L\", \"L\", \"L\"]], [[[0.0, 0.33203125], [1.0, 0.33203125], [1.0, 0.3359375], [0.0, 0.3359375], [0.0, 0.33203125]], [\"M\", \"L\", \"L\", \"L\", \"L\"]], [[[0.0, 0.3359375], [1.0, 0.3359375], [1.0, 0.33984375], [0.0, 0.33984375], [0.0, 0.3359375]], [\"M\", \"L\", \"L\", \"L\", \"L\"]], [[[0.0, 0.33984375], [1.0, 0.33984375], [1.0, 0.34375], [0.0, 0.34375], [0.0, 0.33984375]], [\"M\", \"L\", \"L\", \"L\", \"L\"]], [[[0.0, 0.34375], [1.0, 0.34375], [1.0, 0.34765625], [0.0, 0.34765625], [0.0, 0.34375]], [\"M\", \"L\", \"L\", \"L\", \"L\"]], [[[0.0, 0.34765625], [1.0, 0.34765625], [1.0, 0.3515625], [0.0, 0.3515625], [0.0, 0.34765625]], [\"M\", \"L\", \"L\", \"L\", \"L\"]], [[[0.0, 0.3515625], [1.0, 0.3515625], [1.0, 0.35546875], [0.0, 0.35546875], [0.0, 0.3515625]], [\"M\", \"L\", \"L\", \"L\", \"L\"]], [[[0.0, 0.35546875], [1.0, 0.35546875], [1.0, 0.359375], [0.0, 0.359375], [0.0, 0.35546875]], [\"M\", \"L\", \"L\", \"L\", \"L\"]], [[[0.0, 0.359375], [1.0, 0.359375], [1.0, 0.36328125], [0.0, 0.36328125], [0.0, 0.359375]], [\"M\", \"L\", \"L\", \"L\", \"L\"]], [[[0.0, 0.36328125], [1.0, 0.36328125], [1.0, 0.3671875], [0.0, 0.3671875], [0.0, 0.36328125]], [\"M\", \"L\", \"L\", \"L\", \"L\"]], [[[0.0, 0.3671875], [1.0, 0.3671875], [1.0, 0.37109375], [0.0, 0.37109375], [0.0, 0.3671875]], [\"M\", \"L\", \"L\", \"L\", \"L\"]], [[[0.0, 0.37109375], [1.0, 0.37109375], [1.0, 0.375], [0.0, 0.375], [0.0, 0.37109375]], [\"M\", \"L\", \"L\", \"L\", \"L\"]], [[[0.0, 0.375], [1.0, 0.375], [1.0, 0.37890625], [0.0, 0.37890625], [0.0, 0.375]], [\"M\", \"L\", \"L\", \"L\", \"L\"]], [[[0.0, 0.37890625], [1.0, 0.37890625], [1.0, 0.3828125], [0.0, 0.3828125], [0.0, 0.37890625]], [\"M\", \"L\", \"L\", \"L\", \"L\"]], [[[0.0, 0.3828125], [1.0, 0.3828125], [1.0, 0.38671875], [0.0, 0.38671875], [0.0, 0.3828125]], [\"M\", \"L\", \"L\", \"L\", \"L\"]], [[[0.0, 0.38671875], [1.0, 0.38671875], [1.0, 0.390625], [0.0, 0.390625], [0.0, 0.38671875]], [\"M\", \"L\", \"L\", \"L\", \"L\"]], [[[0.0, 0.390625], [1.0, 0.390625], [1.0, 0.39453125], [0.0, 0.39453125], [0.0, 0.390625]], [\"M\", \"L\", \"L\", \"L\", \"L\"]], [[[0.0, 0.39453125], [1.0, 0.39453125], [1.0, 0.3984375], [0.0, 0.3984375], [0.0, 0.39453125]], [\"M\", \"L\", \"L\", \"L\", \"L\"]], [[[0.0, 0.3984375], [1.0, 0.3984375], [1.0, 0.40234375], [0.0, 0.40234375], [0.0, 0.3984375]], [\"M\", \"L\", \"L\", \"L\", \"L\"]], [[[0.0, 0.40234375], [1.0, 0.40234375], [1.0, 0.40625], [0.0, 0.40625], [0.0, 0.40234375]], [\"M\", \"L\", \"L\", \"L\", \"L\"]], [[[0.0, 0.40625], [1.0, 0.40625], [1.0, 0.41015625], [0.0, 0.41015625], [0.0, 0.40625]], [\"M\", \"L\", \"L\", \"L\", \"L\"]], [[[0.0, 0.41015625], [1.0, 0.41015625], [1.0, 0.4140625], [0.0, 0.4140625], [0.0, 0.41015625]], [\"M\", \"L\", \"L\", \"L\", \"L\"]], [[[0.0, 0.4140625], [1.0, 0.4140625], [1.0, 0.41796875], [0.0, 0.41796875], [0.0, 0.4140625]], [\"M\", \"L\", \"L\", \"L\", \"L\"]], [[[0.0, 0.41796875], [1.0, 0.41796875], [1.0, 0.421875], [0.0, 0.421875], [0.0, 0.41796875]], [\"M\", \"L\", \"L\", \"L\", \"L\"]], [[[0.0, 0.421875], [1.0, 0.421875], [1.0, 0.42578125], [0.0, 0.42578125], [0.0, 0.421875]], [\"M\", \"L\", \"L\", \"L\", \"L\"]], [[[0.0, 0.42578125], [1.0, 0.42578125], [1.0, 0.4296875], [0.0, 0.4296875], [0.0, 0.42578125]], [\"M\", \"L\", \"L\", \"L\", \"L\"]], [[[0.0, 0.4296875], [1.0, 0.4296875], [1.0, 0.43359375], [0.0, 0.43359375], [0.0, 0.4296875]], [\"M\", \"L\", \"L\", \"L\", \"L\"]], [[[0.0, 0.43359375], [1.0, 0.43359375], [1.0, 0.4375], [0.0, 0.4375], [0.0, 0.43359375]], [\"M\", \"L\", \"L\", \"L\", \"L\"]], [[[0.0, 0.4375], [1.0, 0.4375], [1.0, 0.44140625], [0.0, 0.44140625], [0.0, 0.4375]], [\"M\", \"L\", \"L\", \"L\", \"L\"]], [[[0.0, 0.44140625], [1.0, 0.44140625], [1.0, 0.4453125], [0.0, 0.4453125], [0.0, 0.44140625]], [\"M\", \"L\", \"L\", \"L\", \"L\"]], [[[0.0, 0.4453125], [1.0, 0.4453125], [1.0, 0.44921875], [0.0, 0.44921875], [0.0, 0.4453125]], [\"M\", \"L\", \"L\", \"L\", \"L\"]], [[[0.0, 0.44921875], [1.0, 0.44921875], [1.0, 0.453125], [0.0, 0.453125], [0.0, 0.44921875]], [\"M\", \"L\", \"L\", \"L\", \"L\"]], [[[0.0, 0.453125], [1.0, 0.453125], [1.0, 0.45703125], [0.0, 0.45703125], [0.0, 0.453125]], [\"M\", \"L\", \"L\", \"L\", \"L\"]], [[[0.0, 0.45703125], [1.0, 0.45703125], [1.0, 0.4609375], [0.0, 0.4609375], [0.0, 0.45703125]], [\"M\", \"L\", \"L\", \"L\", \"L\"]], [[[0.0, 0.4609375], [1.0, 0.4609375], [1.0, 0.46484375], [0.0, 0.46484375], [0.0, 0.4609375]], [\"M\", \"L\", \"L\", \"L\", \"L\"]], [[[0.0, 0.46484375], [1.0, 0.46484375], [1.0, 0.46875], [0.0, 0.46875], [0.0, 0.46484375]], [\"M\", \"L\", \"L\", \"L\", \"L\"]], [[[0.0, 0.46875], [1.0, 0.46875], [1.0, 0.47265625], [0.0, 0.47265625], [0.0, 0.46875]], [\"M\", \"L\", \"L\", \"L\", \"L\"]], [[[0.0, 0.47265625], [1.0, 0.47265625], [1.0, 0.4765625], [0.0, 0.4765625], [0.0, 0.47265625]], [\"M\", \"L\", \"L\", \"L\", \"L\"]], [[[0.0, 0.4765625], [1.0, 0.4765625], [1.0, 0.48046875], [0.0, 0.48046875], [0.0, 0.4765625]], [\"M\", \"L\", \"L\", \"L\", \"L\"]], [[[0.0, 0.48046875], [1.0, 0.48046875], [1.0, 0.484375], [0.0, 0.484375], [0.0, 0.48046875]], [\"M\", \"L\", \"L\", \"L\", \"L\"]], [[[0.0, 0.484375], [1.0, 0.484375], [1.0, 0.48828125], [0.0, 0.48828125], [0.0, 0.484375]], [\"M\", \"L\", \"L\", \"L\", \"L\"]], [[[0.0, 0.48828125], [1.0, 0.48828125], [1.0, 0.4921875], [0.0, 0.4921875], [0.0, 0.48828125]], [\"M\", \"L\", \"L\", \"L\", \"L\"]], [[[0.0, 0.4921875], [1.0, 0.4921875], [1.0, 0.49609375], [0.0, 0.49609375], [0.0, 0.4921875]], [\"M\", \"L\", \"L\", \"L\", \"L\"]], [[[0.0, 0.49609375], [1.0, 0.49609375], [1.0, 0.5], [0.0, 0.5], [0.0, 0.49609375]], [\"M\", \"L\", \"L\", \"L\", \"L\"]], [[[0.0, 0.5], [1.0, 0.5], [1.0, 0.50390625], [0.0, 0.50390625], [0.0, 0.5]], [\"M\", \"L\", \"L\", \"L\", \"L\"]], [[[0.0, 0.50390625], [1.0, 0.50390625], [1.0, 0.5078125], [0.0, 0.5078125], [0.0, 0.50390625]], [\"M\", \"L\", \"L\", \"L\", \"L\"]], [[[0.0, 0.5078125], [1.0, 0.5078125], [1.0, 0.51171875], [0.0, 0.51171875], [0.0, 0.5078125]], [\"M\", \"L\", \"L\", \"L\", \"L\"]], [[[0.0, 0.51171875], [1.0, 0.51171875], [1.0, 0.515625], [0.0, 0.515625], [0.0, 0.51171875]], [\"M\", \"L\", \"L\", \"L\", \"L\"]], [[[0.0, 0.515625], [1.0, 0.515625], [1.0, 0.51953125], [0.0, 0.51953125], [0.0, 0.515625]], [\"M\", \"L\", \"L\", \"L\", \"L\"]], [[[0.0, 0.51953125], [1.0, 0.51953125], [1.0, 0.5234375], [0.0, 0.5234375], [0.0, 0.51953125]], [\"M\", \"L\", \"L\", \"L\", \"L\"]], [[[0.0, 0.5234375], [1.0, 0.5234375], [1.0, 0.52734375], [0.0, 0.52734375], [0.0, 0.5234375]], [\"M\", \"L\", \"L\", \"L\", \"L\"]], [[[0.0, 0.52734375], [1.0, 0.52734375], [1.0, 0.53125], [0.0, 0.53125], [0.0, 0.52734375]], [\"M\", \"L\", \"L\", \"L\", \"L\"]], [[[0.0, 0.53125], [1.0, 0.53125], [1.0, 0.53515625], [0.0, 0.53515625], [0.0, 0.53125]], [\"M\", \"L\", \"L\", \"L\", \"L\"]], [[[0.0, 0.53515625], [1.0, 0.53515625], [1.0, 0.5390625], [0.0, 0.5390625], [0.0, 0.53515625]], [\"M\", \"L\", \"L\", \"L\", \"L\"]], [[[0.0, 0.5390625], [1.0, 0.5390625], [1.0, 0.54296875], [0.0, 0.54296875], [0.0, 0.5390625]], [\"M\", \"L\", \"L\", \"L\", \"L\"]], [[[0.0, 0.54296875], [1.0, 0.54296875], [1.0, 0.546875], [0.0, 0.546875], [0.0, 0.54296875]], [\"M\", \"L\", \"L\", \"L\", \"L\"]], [[[0.0, 0.546875], [1.0, 0.546875], [1.0, 0.55078125], [0.0, 0.55078125], [0.0, 0.546875]], [\"M\", \"L\", \"L\", \"L\", \"L\"]], [[[0.0, 0.55078125], [1.0, 0.55078125], [1.0, 0.5546875], [0.0, 0.5546875], [0.0, 0.55078125]], [\"M\", \"L\", \"L\", \"L\", \"L\"]], [[[0.0, 0.5546875], [1.0, 0.5546875], [1.0, 0.55859375], [0.0, 0.55859375], [0.0, 0.5546875]], [\"M\", \"L\", \"L\", \"L\", \"L\"]], [[[0.0, 0.55859375], [1.0, 0.55859375], [1.0, 0.5625], [0.0, 0.5625], [0.0, 0.55859375]], [\"M\", \"L\", \"L\", \"L\", \"L\"]], [[[0.0, 0.5625], [1.0, 0.5625], [1.0, 0.56640625], [0.0, 0.56640625], [0.0, 0.5625]], [\"M\", \"L\", \"L\", \"L\", \"L\"]], [[[0.0, 0.56640625], [1.0, 0.56640625], [1.0, 0.5703125], [0.0, 0.5703125], [0.0, 0.56640625]], [\"M\", \"L\", \"L\", \"L\", \"L\"]], [[[0.0, 0.5703125], [1.0, 0.5703125], [1.0, 0.57421875], [0.0, 0.57421875], [0.0, 0.5703125]], [\"M\", \"L\", \"L\", \"L\", \"L\"]], [[[0.0, 0.57421875], [1.0, 0.57421875], [1.0, 0.578125], [0.0, 0.578125], [0.0, 0.57421875]], [\"M\", \"L\", \"L\", \"L\", \"L\"]], [[[0.0, 0.578125], [1.0, 0.578125], [1.0, 0.58203125], [0.0, 0.58203125], [0.0, 0.578125]], [\"M\", \"L\", \"L\", \"L\", \"L\"]], [[[0.0, 0.58203125], [1.0, 0.58203125], [1.0, 0.5859375], [0.0, 0.5859375], [0.0, 0.58203125]], [\"M\", \"L\", \"L\", \"L\", \"L\"]], [[[0.0, 0.5859375], [1.0, 0.5859375], [1.0, 0.58984375], [0.0, 0.58984375], [0.0, 0.5859375]], [\"M\", \"L\", \"L\", \"L\", \"L\"]], [[[0.0, 0.58984375], [1.0, 0.58984375], [1.0, 0.59375], [0.0, 0.59375], [0.0, 0.58984375]], [\"M\", \"L\", \"L\", \"L\", \"L\"]], [[[0.0, 0.59375], [1.0, 0.59375], [1.0, 0.59765625], [0.0, 0.59765625], [0.0, 0.59375]], [\"M\", \"L\", \"L\", \"L\", \"L\"]], [[[0.0, 0.59765625], [1.0, 0.59765625], [1.0, 0.6015625], [0.0, 0.6015625], [0.0, 0.59765625]], [\"M\", \"L\", \"L\", \"L\", \"L\"]], [[[0.0, 0.6015625], [1.0, 0.6015625], [1.0, 0.60546875], [0.0, 0.60546875], [0.0, 0.6015625]], [\"M\", \"L\", \"L\", \"L\", \"L\"]], [[[0.0, 0.60546875], [1.0, 0.60546875], [1.0, 0.609375], [0.0, 0.609375], [0.0, 0.60546875]], [\"M\", \"L\", \"L\", \"L\", \"L\"]], [[[0.0, 0.609375], [1.0, 0.609375], [1.0, 0.61328125], [0.0, 0.61328125], [0.0, 0.609375]], [\"M\", \"L\", \"L\", \"L\", \"L\"]], [[[0.0, 0.61328125], [1.0, 0.61328125], [1.0, 0.6171875], [0.0, 0.6171875], [0.0, 0.61328125]], [\"M\", \"L\", \"L\", \"L\", \"L\"]], [[[0.0, 0.6171875], [1.0, 0.6171875], [1.0, 0.62109375], [0.0, 0.62109375], [0.0, 0.6171875]], [\"M\", \"L\", \"L\", \"L\", \"L\"]], [[[0.0, 0.62109375], [1.0, 0.62109375], [1.0, 0.625], [0.0, 0.625], [0.0, 0.62109375]], [\"M\", \"L\", \"L\", \"L\", \"L\"]], [[[0.0, 0.625], [1.0, 0.625], [1.0, 0.62890625], [0.0, 0.62890625], [0.0, 0.625]], [\"M\", \"L\", \"L\", \"L\", \"L\"]], [[[0.0, 0.62890625], [1.0, 0.62890625], [1.0, 0.6328125], [0.0, 0.6328125], [0.0, 0.62890625]], [\"M\", \"L\", \"L\", \"L\", \"L\"]], [[[0.0, 0.6328125], [1.0, 0.6328125], [1.0, 0.63671875], [0.0, 0.63671875], [0.0, 0.6328125]], [\"M\", \"L\", \"L\", \"L\", \"L\"]], [[[0.0, 0.63671875], [1.0, 0.63671875], [1.0, 0.640625], [0.0, 0.640625], [0.0, 0.63671875]], [\"M\", \"L\", \"L\", \"L\", \"L\"]], [[[0.0, 0.640625], [1.0, 0.640625], [1.0, 0.64453125], [0.0, 0.64453125], [0.0, 0.640625]], [\"M\", \"L\", \"L\", \"L\", \"L\"]], [[[0.0, 0.64453125], [1.0, 0.64453125], [1.0, 0.6484375], [0.0, 0.6484375], [0.0, 0.64453125]], [\"M\", \"L\", \"L\", \"L\", \"L\"]], [[[0.0, 0.6484375], [1.0, 0.6484375], [1.0, 0.65234375], [0.0, 0.65234375], [0.0, 0.6484375]], [\"M\", \"L\", \"L\", \"L\", \"L\"]], [[[0.0, 0.65234375], [1.0, 0.65234375], [1.0, 0.65625], [0.0, 0.65625], [0.0, 0.65234375]], [\"M\", \"L\", \"L\", \"L\", \"L\"]], [[[0.0, 0.65625], [1.0, 0.65625], [1.0, 0.66015625], [0.0, 0.66015625], [0.0, 0.65625]], [\"M\", \"L\", \"L\", \"L\", \"L\"]], [[[0.0, 0.66015625], [1.0, 0.66015625], [1.0, 0.6640625], [0.0, 0.6640625], [0.0, 0.66015625]], [\"M\", \"L\", \"L\", \"L\", \"L\"]], [[[0.0, 0.6640625], [1.0, 0.6640625], [1.0, 0.66796875], [0.0, 0.66796875], [0.0, 0.6640625]], [\"M\", \"L\", \"L\", \"L\", \"L\"]], [[[0.0, 0.66796875], [1.0, 0.66796875], [1.0, 0.671875], [0.0, 0.671875], [0.0, 0.66796875]], [\"M\", \"L\", \"L\", \"L\", \"L\"]], [[[0.0, 0.671875], [1.0, 0.671875], [1.0, 0.67578125], [0.0, 0.67578125], [0.0, 0.671875]], [\"M\", \"L\", \"L\", \"L\", \"L\"]], [[[0.0, 0.67578125], [1.0, 0.67578125], [1.0, 0.6796875], [0.0, 0.6796875], [0.0, 0.67578125]], [\"M\", \"L\", \"L\", \"L\", \"L\"]], [[[0.0, 0.6796875], [1.0, 0.6796875], [1.0, 0.68359375], [0.0, 0.68359375], [0.0, 0.6796875]], [\"M\", \"L\", \"L\", \"L\", \"L\"]], [[[0.0, 0.68359375], [1.0, 0.68359375], [1.0, 0.6875], [0.0, 0.6875], [0.0, 0.68359375]], [\"M\", \"L\", \"L\", \"L\", \"L\"]], [[[0.0, 0.6875], [1.0, 0.6875], [1.0, 0.69140625], [0.0, 0.69140625], [0.0, 0.6875]], [\"M\", \"L\", \"L\", \"L\", \"L\"]], [[[0.0, 0.69140625], [1.0, 0.69140625], [1.0, 0.6953125], [0.0, 0.6953125], [0.0, 0.69140625]], [\"M\", \"L\", \"L\", \"L\", \"L\"]], [[[0.0, 0.6953125], [1.0, 0.6953125], [1.0, 0.69921875], [0.0, 0.69921875], [0.0, 0.6953125]], [\"M\", \"L\", \"L\", \"L\", \"L\"]], [[[0.0, 0.69921875], [1.0, 0.69921875], [1.0, 0.703125], [0.0, 0.703125], [0.0, 0.69921875]], [\"M\", \"L\", \"L\", \"L\", \"L\"]], [[[0.0, 0.703125], [1.0, 0.703125], [1.0, 0.70703125], [0.0, 0.70703125], [0.0, 0.703125]], [\"M\", \"L\", \"L\", \"L\", \"L\"]], [[[0.0, 0.70703125], [1.0, 0.70703125], [1.0, 0.7109375], [0.0, 0.7109375], [0.0, 0.70703125]], [\"M\", \"L\", \"L\", \"L\", \"L\"]], [[[0.0, 0.7109375], [1.0, 0.7109375], [1.0, 0.71484375], [0.0, 0.71484375], [0.0, 0.7109375]], [\"M\", \"L\", \"L\", \"L\", \"L\"]], [[[0.0, 0.71484375], [1.0, 0.71484375], [1.0, 0.71875], [0.0, 0.71875], [0.0, 0.71484375]], [\"M\", \"L\", \"L\", \"L\", \"L\"]], [[[0.0, 0.71875], [1.0, 0.71875], [1.0, 0.72265625], [0.0, 0.72265625], [0.0, 0.71875]], [\"M\", \"L\", \"L\", \"L\", \"L\"]], [[[0.0, 0.72265625], [1.0, 0.72265625], [1.0, 0.7265625], [0.0, 0.7265625], [0.0, 0.72265625]], [\"M\", \"L\", \"L\", \"L\", \"L\"]], [[[0.0, 0.7265625], [1.0, 0.7265625], [1.0, 0.73046875], [0.0, 0.73046875], [0.0, 0.7265625]], [\"M\", \"L\", \"L\", \"L\", \"L\"]], [[[0.0, 0.73046875], [1.0, 0.73046875], [1.0, 0.734375], [0.0, 0.734375], [0.0, 0.73046875]], [\"M\", \"L\", \"L\", \"L\", \"L\"]], [[[0.0, 0.734375], [1.0, 0.734375], [1.0, 0.73828125], [0.0, 0.73828125], [0.0, 0.734375]], [\"M\", \"L\", \"L\", \"L\", \"L\"]], [[[0.0, 0.73828125], [1.0, 0.73828125], [1.0, 0.7421875], [0.0, 0.7421875], [0.0, 0.73828125]], [\"M\", \"L\", \"L\", \"L\", \"L\"]], [[[0.0, 0.7421875], [1.0, 0.7421875], [1.0, 0.74609375], [0.0, 0.74609375], [0.0, 0.7421875]], [\"M\", \"L\", \"L\", \"L\", \"L\"]], [[[0.0, 0.74609375], [1.0, 0.74609375], [1.0, 0.75], [0.0, 0.75], [0.0, 0.74609375]], [\"M\", \"L\", \"L\", \"L\", \"L\"]], [[[0.0, 0.75], [1.0, 0.75], [1.0, 0.75390625], [0.0, 0.75390625], [0.0, 0.75]], [\"M\", \"L\", \"L\", \"L\", \"L\"]], [[[0.0, 0.75390625], [1.0, 0.75390625], [1.0, 0.7578125], [0.0, 0.7578125], [0.0, 0.75390625]], [\"M\", \"L\", \"L\", \"L\", \"L\"]], [[[0.0, 0.7578125], [1.0, 0.7578125], [1.0, 0.76171875], [0.0, 0.76171875], [0.0, 0.7578125]], [\"M\", \"L\", \"L\", \"L\", \"L\"]], [[[0.0, 0.76171875], [1.0, 0.76171875], [1.0, 0.765625], [0.0, 0.765625], [0.0, 0.76171875]], [\"M\", \"L\", \"L\", \"L\", \"L\"]], [[[0.0, 0.765625], [1.0, 0.765625], [1.0, 0.76953125], [0.0, 0.76953125], [0.0, 0.765625]], [\"M\", \"L\", \"L\", \"L\", \"L\"]], [[[0.0, 0.76953125], [1.0, 0.76953125], [1.0, 0.7734375], [0.0, 0.7734375], [0.0, 0.76953125]], [\"M\", \"L\", \"L\", \"L\", \"L\"]], [[[0.0, 0.7734375], [1.0, 0.7734375], [1.0, 0.77734375], [0.0, 0.77734375], [0.0, 0.7734375]], [\"M\", \"L\", \"L\", \"L\", \"L\"]], [[[0.0, 0.77734375], [1.0, 0.77734375], [1.0, 0.78125], [0.0, 0.78125], [0.0, 0.77734375]], [\"M\", \"L\", \"L\", \"L\", \"L\"]], [[[0.0, 0.78125], [1.0, 0.78125], [1.0, 0.78515625], [0.0, 0.78515625], [0.0, 0.78125]], [\"M\", \"L\", \"L\", \"L\", \"L\"]], [[[0.0, 0.78515625], [1.0, 0.78515625], [1.0, 0.7890625], [0.0, 0.7890625], [0.0, 0.78515625]], [\"M\", \"L\", \"L\", \"L\", \"L\"]], [[[0.0, 0.7890625], [1.0, 0.7890625], [1.0, 0.79296875], [0.0, 0.79296875], [0.0, 0.7890625]], [\"M\", \"L\", \"L\", \"L\", \"L\"]], [[[0.0, 0.79296875], [1.0, 0.79296875], [1.0, 0.796875], [0.0, 0.796875], [0.0, 0.79296875]], [\"M\", \"L\", \"L\", \"L\", \"L\"]], [[[0.0, 0.796875], [1.0, 0.796875], [1.0, 0.80078125], [0.0, 0.80078125], [0.0, 0.796875]], [\"M\", \"L\", \"L\", \"L\", \"L\"]], [[[0.0, 0.80078125], [1.0, 0.80078125], [1.0, 0.8046875], [0.0, 0.8046875], [0.0, 0.80078125]], [\"M\", \"L\", \"L\", \"L\", \"L\"]], [[[0.0, 0.8046875], [1.0, 0.8046875], [1.0, 0.80859375], [0.0, 0.80859375], [0.0, 0.8046875]], [\"M\", \"L\", \"L\", \"L\", \"L\"]], [[[0.0, 0.80859375], [1.0, 0.80859375], [1.0, 0.8125], [0.0, 0.8125], [0.0, 0.80859375]], [\"M\", \"L\", \"L\", \"L\", \"L\"]], [[[0.0, 0.8125], [1.0, 0.8125], [1.0, 0.81640625], [0.0, 0.81640625], [0.0, 0.8125]], [\"M\", \"L\", \"L\", \"L\", \"L\"]], [[[0.0, 0.81640625], [1.0, 0.81640625], [1.0, 0.8203125], [0.0, 0.8203125], [0.0, 0.81640625]], [\"M\", \"L\", \"L\", \"L\", \"L\"]], [[[0.0, 0.8203125], [1.0, 0.8203125], [1.0, 0.82421875], [0.0, 0.82421875], [0.0, 0.8203125]], [\"M\", \"L\", \"L\", \"L\", \"L\"]], [[[0.0, 0.82421875], [1.0, 0.82421875], [1.0, 0.828125], [0.0, 0.828125], [0.0, 0.82421875]], [\"M\", \"L\", \"L\", \"L\", \"L\"]], [[[0.0, 0.828125], [1.0, 0.828125], [1.0, 0.83203125], [0.0, 0.83203125], [0.0, 0.828125]], [\"M\", \"L\", \"L\", \"L\", \"L\"]], [[[0.0, 0.83203125], [1.0, 0.83203125], [1.0, 0.8359375], [0.0, 0.8359375], [0.0, 0.83203125]], [\"M\", \"L\", \"L\", \"L\", \"L\"]], [[[0.0, 0.8359375], [1.0, 0.8359375], [1.0, 0.83984375], [0.0, 0.83984375], [0.0, 0.8359375]], [\"M\", \"L\", \"L\", \"L\", \"L\"]], [[[0.0, 0.83984375], [1.0, 0.83984375], [1.0, 0.84375], [0.0, 0.84375], [0.0, 0.83984375]], [\"M\", \"L\", \"L\", \"L\", \"L\"]], [[[0.0, 0.84375], [1.0, 0.84375], [1.0, 0.84765625], [0.0, 0.84765625], [0.0, 0.84375]], [\"M\", \"L\", \"L\", \"L\", \"L\"]], [[[0.0, 0.84765625], [1.0, 0.84765625], [1.0, 0.8515625], [0.0, 0.8515625], [0.0, 0.84765625]], [\"M\", \"L\", \"L\", \"L\", \"L\"]], [[[0.0, 0.8515625], [1.0, 0.8515625], [1.0, 0.85546875], [0.0, 0.85546875], [0.0, 0.8515625]], [\"M\", \"L\", \"L\", \"L\", \"L\"]], [[[0.0, 0.85546875], [1.0, 0.85546875], [1.0, 0.859375], [0.0, 0.859375], [0.0, 0.85546875]], [\"M\", \"L\", \"L\", \"L\", \"L\"]], [[[0.0, 0.859375], [1.0, 0.859375], [1.0, 0.86328125], [0.0, 0.86328125], [0.0, 0.859375]], [\"M\", \"L\", \"L\", \"L\", \"L\"]], [[[0.0, 0.86328125], [1.0, 0.86328125], [1.0, 0.8671875], [0.0, 0.8671875], [0.0, 0.86328125]], [\"M\", \"L\", \"L\", \"L\", \"L\"]], [[[0.0, 0.8671875], [1.0, 0.8671875], [1.0, 0.87109375], [0.0, 0.87109375], [0.0, 0.8671875]], [\"M\", \"L\", \"L\", \"L\", \"L\"]], [[[0.0, 0.87109375], [1.0, 0.87109375], [1.0, 0.875], [0.0, 0.875], [0.0, 0.87109375]], [\"M\", \"L\", \"L\", \"L\", \"L\"]], [[[0.0, 0.875], [1.0, 0.875], [1.0, 0.87890625], [0.0, 0.87890625], [0.0, 0.875]], [\"M\", \"L\", \"L\", \"L\", \"L\"]], [[[0.0, 0.87890625], [1.0, 0.87890625], [1.0, 0.8828125], [0.0, 0.8828125], [0.0, 0.87890625]], [\"M\", \"L\", \"L\", \"L\", \"L\"]], [[[0.0, 0.8828125], [1.0, 0.8828125], [1.0, 0.88671875], [0.0, 0.88671875], [0.0, 0.8828125]], [\"M\", \"L\", \"L\", \"L\", \"L\"]], [[[0.0, 0.88671875], [1.0, 0.88671875], [1.0, 0.890625], [0.0, 0.890625], [0.0, 0.88671875]], [\"M\", \"L\", \"L\", \"L\", \"L\"]], [[[0.0, 0.890625], [1.0, 0.890625], [1.0, 0.89453125], [0.0, 0.89453125], [0.0, 0.890625]], [\"M\", \"L\", \"L\", \"L\", \"L\"]], [[[0.0, 0.89453125], [1.0, 0.89453125], [1.0, 0.8984375], [0.0, 0.8984375], [0.0, 0.89453125]], [\"M\", \"L\", \"L\", \"L\", \"L\"]], [[[0.0, 0.8984375], [1.0, 0.8984375], [1.0, 0.90234375], [0.0, 0.90234375], [0.0, 0.8984375]], [\"M\", \"L\", \"L\", \"L\", \"L\"]], [[[0.0, 0.90234375], [1.0, 0.90234375], [1.0, 0.90625], [0.0, 0.90625], [0.0, 0.90234375]], [\"M\", \"L\", \"L\", \"L\", \"L\"]], [[[0.0, 0.90625], [1.0, 0.90625], [1.0, 0.91015625], [0.0, 0.91015625], [0.0, 0.90625]], [\"M\", \"L\", \"L\", \"L\", \"L\"]], [[[0.0, 0.91015625], [1.0, 0.91015625], [1.0, 0.9140625], [0.0, 0.9140625], [0.0, 0.91015625]], [\"M\", \"L\", \"L\", \"L\", \"L\"]], [[[0.0, 0.9140625], [1.0, 0.9140625], [1.0, 0.91796875], [0.0, 0.91796875], [0.0, 0.9140625]], [\"M\", \"L\", \"L\", \"L\", \"L\"]], [[[0.0, 0.91796875], [1.0, 0.91796875], [1.0, 0.921875], [0.0, 0.921875], [0.0, 0.91796875]], [\"M\", \"L\", \"L\", \"L\", \"L\"]], [[[0.0, 0.921875], [1.0, 0.921875], [1.0, 0.92578125], [0.0, 0.92578125], [0.0, 0.921875]], [\"M\", \"L\", \"L\", \"L\", \"L\"]], [[[0.0, 0.92578125], [1.0, 0.92578125], [1.0, 0.9296875], [0.0, 0.9296875], [0.0, 0.92578125]], [\"M\", \"L\", \"L\", \"L\", \"L\"]], [[[0.0, 0.9296875], [1.0, 0.9296875], [1.0, 0.93359375], [0.0, 0.93359375], [0.0, 0.9296875]], [\"M\", \"L\", \"L\", \"L\", \"L\"]], [[[0.0, 0.93359375], [1.0, 0.93359375], [1.0, 0.9375], [0.0, 0.9375], [0.0, 0.93359375]], [\"M\", \"L\", \"L\", \"L\", \"L\"]], [[[0.0, 0.9375], [1.0, 0.9375], [1.0, 0.94140625], [0.0, 0.94140625], [0.0, 0.9375]], [\"M\", \"L\", \"L\", \"L\", \"L\"]], [[[0.0, 0.94140625], [1.0, 0.94140625], [1.0, 0.9453125], [0.0, 0.9453125], [0.0, 0.94140625]], [\"M\", \"L\", \"L\", \"L\", \"L\"]], [[[0.0, 0.9453125], [1.0, 0.9453125], [1.0, 0.94921875], [0.0, 0.94921875], [0.0, 0.9453125]], [\"M\", \"L\", \"L\", \"L\", \"L\"]], [[[0.0, 0.94921875], [1.0, 0.94921875], [1.0, 0.953125], [0.0, 0.953125], [0.0, 0.94921875]], [\"M\", \"L\", \"L\", \"L\", \"L\"]], [[[0.0, 0.953125], [1.0, 0.953125], [1.0, 0.95703125], [0.0, 0.95703125], [0.0, 0.953125]], [\"M\", \"L\", \"L\", \"L\", \"L\"]], [[[0.0, 0.95703125], [1.0, 0.95703125], [1.0, 0.9609375], [0.0, 0.9609375], [0.0, 0.95703125]], [\"M\", \"L\", \"L\", \"L\", \"L\"]], [[[0.0, 0.9609375], [1.0, 0.9609375], [1.0, 0.96484375], [0.0, 0.96484375], [0.0, 0.9609375]], [\"M\", \"L\", \"L\", \"L\", \"L\"]], [[[0.0, 0.96484375], [1.0, 0.96484375], [1.0, 0.96875], [0.0, 0.96875], [0.0, 0.96484375]], [\"M\", \"L\", \"L\", \"L\", \"L\"]], [[[0.0, 0.96875], [1.0, 0.96875], [1.0, 0.97265625], [0.0, 0.97265625], [0.0, 0.96875]], [\"M\", \"L\", \"L\", \"L\", \"L\"]], [[[0.0, 0.97265625], [1.0, 0.97265625], [1.0, 0.9765625], [0.0, 0.9765625], [0.0, 0.97265625]], [\"M\", \"L\", \"L\", \"L\", \"L\"]], [[[0.0, 0.9765625], [1.0, 0.9765625], [1.0, 0.98046875], [0.0, 0.98046875], [0.0, 0.9765625]], [\"M\", \"L\", \"L\", \"L\", \"L\"]], [[[0.0, 0.98046875], [1.0, 0.98046875], [1.0, 0.984375], [0.0, 0.984375], [0.0, 0.98046875]], [\"M\", \"L\", \"L\", \"L\", \"L\"]], [[[0.0, 0.984375], [1.0, 0.984375], [1.0, 0.98828125], [0.0, 0.98828125], [0.0, 0.984375]], [\"M\", \"L\", \"L\", \"L\", \"L\"]], [[[0.0, 0.98828125], [1.0, 0.98828125], [1.0, 0.9921875], [0.0, 0.9921875], [0.0, 0.98828125]], [\"M\", \"L\", \"L\", \"L\", \"L\"]], [[[0.0, 0.9921875], [1.0, 0.9921875], [1.0, 0.99609375], [0.0, 0.99609375], [0.0, 0.9921875]], [\"M\", \"L\", \"L\", \"L\", \"L\"]], [[[0.0, 0.99609375], [1.0, 0.99609375], [1.0, 1.0], [0.0, 1.0], [0.0, 0.99609375]], [\"M\", \"L\", \"L\", \"L\", \"L\"]]], \"edgecolors\": [], \"edgewidths\": [0.3], \"offsets\": \"data01\", \"yindex\": 1, \"id\": \"386074544692688\", \"pathtransforms\": [], \"pathcoordinates\": \"data\", \"offsetcoordinates\": \"display\", \"zorder\": 1, \"xindex\": 0, \"alphas\": [null], \"facecolors\": [\"#00007F\", \"#000084\", \"#000088\", \"#00008D\", \"#000091\", \"#000096\", \"#00009A\", \"#00009F\", \"#0000A3\", \"#0000A8\", \"#0000AC\", \"#0000B1\", \"#0000B6\", \"#0000BA\", \"#0000BF\", \"#0000C3\", \"#0000C8\", \"#0000CC\", \"#0000D1\", \"#0000D5\", \"#0000DA\", \"#0000DE\", \"#0000E3\", \"#0000E8\", \"#0000EC\", \"#0000F1\", \"#0000F5\", \"#0000FA\", \"#0000FE\", \"#0000FF\", \"#0000FF\", \"#0000FF\", \"#0000FF\", \"#0004FF\", \"#0008FF\", \"#000CFF\", \"#0010FF\", \"#0014FF\", \"#0018FF\", \"#001CFF\", \"#0020FF\", \"#0024FF\", \"#0028FF\", \"#002CFF\", \"#0030FF\", \"#0034FF\", \"#0038FF\", \"#003CFF\", \"#0040FF\", \"#0044FF\", \"#0048FF\", \"#004CFF\", \"#0050FF\", \"#0054FF\", \"#0058FF\", \"#005CFF\", \"#0060FF\", \"#0064FF\", \"#0068FF\", \"#006CFF\", \"#0070FF\", \"#0074FF\", \"#0078FF\", \"#007CFF\", \"#0080FF\", \"#0084FF\", \"#0088FF\", \"#008CFF\", \"#0090FF\", \"#0094FF\", \"#0098FF\", \"#009CFF\", \"#00A0FF\", \"#00A4FF\", \"#00A8FF\", \"#00ACFF\", \"#00B0FF\", \"#00B4FF\", \"#00B8FF\", \"#00BCFF\", \"#00C0FF\", \"#00C4FF\", \"#00C8FF\", \"#00CCFF\", \"#00D0FF\", \"#00D4FF\", \"#00D8FF\", \"#00DCFE\", \"#00E0FA\", \"#00E4F7\", \"#02E8F4\", \"#05ECF1\", \"#08F0ED\", \"#0CF4EA\", \"#0FF8E7\", \"#12FCE4\", \"#15FFE1\", \"#18FFDD\", \"#1CFFDA\", \"#1FFFD7\", \"#22FFD4\", \"#25FFD0\", \"#29FFCD\", \"#2CFFCA\", \"#2FFFC7\", \"#32FFC3\", \"#36FFC0\", \"#39FFBD\", \"#3CFFBA\", \"#3FFFB7\", \"#42FFB3\", \"#46FFB0\", \"#49FFAD\", \"#4CFFAA\", \"#4FFFA6\", \"#53FFA3\", \"#56FFA0\", \"#59FF9D\", \"#5CFF9A\", \"#5FFF96\", \"#63FF93\", \"#66FF90\", \"#69FF8D\", \"#6CFF89\", \"#70FF86\", \"#73FF83\", \"#76FF80\", \"#79FF7D\", \"#7CFF79\", \"#80FF76\", \"#83FF73\", \"#86FF70\", \"#89FF6C\", \"#8DFF69\", \"#90FF66\", \"#93FF63\", \"#96FF5F\", \"#9AFF5C\", \"#9DFF59\", \"#A0FF56\", \"#A3FF53\", \"#A6FF4F\", \"#AAFF4C\", \"#ADFF49\", \"#B0FF46\", \"#B3FF42\", \"#B7FF3F\", \"#BAFF3C\", \"#BDFF39\", \"#C0FF36\", \"#C3FF32\", \"#C7FF2F\", \"#CAFF2C\", \"#CDFF29\", \"#D0FF25\", \"#D4FF22\", \"#D7FF1F\", \"#DAFF1C\", \"#DDFF18\", \"#E0FF15\", \"#E4FF12\", \"#E7FF0F\", \"#EAFF0C\", \"#EDFF08\", \"#F1FC05\", \"#F4F802\", \"#F7F400\", \"#FAF000\", \"#FEED00\", \"#FFE900\", \"#FFE500\", \"#FFE200\", \"#FFDE00\", \"#FFDA00\", \"#FFD700\", \"#FFD300\", \"#FFCF00\", \"#FFCB00\", \"#FFC800\", \"#FFC400\", \"#FFC000\", \"#FFBD00\", \"#FFB900\", \"#FFB500\", \"#FFB100\", \"#FFAE00\", \"#FFAA00\", \"#FFA600\", \"#FFA300\", \"#FF9F00\", \"#FF9B00\", \"#FF9800\", \"#FF9400\", \"#FF9000\", \"#FF8C00\", \"#FF8900\", \"#FF8500\", \"#FF8100\", \"#FF7E00\", \"#FF7A00\", \"#FF7600\", \"#FF7300\", \"#FF6F00\", \"#FF6B00\", \"#FF6700\", \"#FF6400\", \"#FF6000\", \"#FF5C00\", \"#FF5900\", \"#FF5500\", \"#FF5100\", \"#FF4D00\", \"#FF4A00\", \"#FF4600\", \"#FF4200\", \"#FF3F00\", \"#FF3B00\", \"#FF3700\", \"#FF3400\", \"#FF3000\", \"#FF2C00\", \"#FF2800\", \"#FF2500\", \"#FF2100\", \"#FF1D00\", \"#FF1A00\", \"#FF1600\", \"#FE1200\", \"#FA0F00\", \"#F50B00\", \"#F10700\", \"#EC0300\", \"#E80000\", \"#E30000\", \"#DE0000\", \"#DA0000\", \"#D50000\", \"#D10000\", \"#CC0000\", \"#C80000\", \"#C30000\", \"#BF0000\", \"#BA0000\", \"#B60000\", \"#B10000\", \"#AC0000\", \"#A80000\", \"#A30000\", \"#9F0000\", \"#9A0000\", \"#960000\", \"#910000\", \"#8D0000\", \"#880000\", \"#840000\", \"#7F0000\"]}], \"xscale\": \"linear\", \"bbox\": [0.78374999999999995, 0.12499999999999989, 0.026640624999999973, 0.77500000000000013]}], \"data\": {\"data01\": [[0.0, 0.0]]}, \"id\": \"386074620676688\", \"toolbar\": [\"reset\", \"move\"], \"height\": 440.0});\n",
        "}\n",
        "\n",
        "if(typeof(mpld3) !== \"undefined\"){\n",
        "   // already loaded: just create the figure\n",
        "   create_fig3860746206766883290307588();\n",
        "}else if(typeof define === \"function\" && define.amd){\n",
        "   // require.js is available: use it to load d3/mpld3\n",
        "   require.config({paths: {d3: \"http://d3js.org/d3.v3.min\"}});\n",
        "   require([\"d3\"], function(d3){\n",
        "      window.d3 = d3;\n",
        "      mpld3_load_lib(\"http://mpld3.github.io/js/mpld3.v0.1.js\", create_fig3860746206766883290307588);\n",
        "    });\n",
        "}else{\n",
        "    // require.js not available: dynamically load d3 & mpld3\n",
        "    mpld3_load_lib(\"http://d3js.org/d3.v3.min.js\", function(){\n",
        "        mpld3_load_lib(\"http://mpld3.github.io/js/mpld3.v0.1.js\", create_fig3860746206766883290307588);})\n",
        "}\n",
        "</script>"
       ],
       "metadata": {},
       "output_type": "display_data",
       "png": "[encoded data removed]",
       "text": [
        "<matplotlib.figure.Figure at 0x11369ee50>"
       ]
      },
      {
       "html": [
        "\n",
        "<style>\n",
        "\n",
        "</style>\n",
        "\n",
        "<div id=\"fig3860745219423529859229617\"></div>\n",
        "<script>\n",
        "function mpld3_load_lib(url, callback){\n",
        "  var s = document.createElement('script');\n",
        "  s.src = url;\n",
        "  s.async = true;\n",
        "  s.onreadystatechange = s.onload = callback;\n",
        "  s.onerror = function(){console.warn(\"failed to load library \" + url);};\n",
        "  document.getElementsByTagName(\"head\")[0].appendChild(s);\n",
        "}\n",
        "\n",
        "function create_fig3860745219423529859229617(){\n",
        "  \n",
        "  mpld3.draw_figure(\"fig3860745219423529859229617\", {\"width\": 640.0, \"axes\": [{\"xlim\": [-0.5, 2.5], \"yscale\": \"linear\", \"axesbg\": \"#EAEAF2\", \"texts\": [{\"v_baseline\": \"auto\", \"h_anchor\": \"start\", \"color\": \"#FFFFFF\", \"text\": \"38\", \"coordinates\": \"data\", \"zorder\": 3, \"alpha\": 1, \"fontsize\": 20.0, \"position\": [0.8, 0.2], \"rotation\": -0.0, \"id\": \"386074563006160\"}, {\"v_baseline\": \"auto\", \"h_anchor\": \"start\", \"color\": \"#FFFFFF\", \"text\": \"63\", \"coordinates\": \"data\", \"zorder\": 3, \"alpha\": 1, \"fontsize\": 20.0, \"position\": [0.8, 1.2], \"rotation\": -0.0, \"id\": \"386074563007248\"}, {\"v_baseline\": \"auto\", \"h_anchor\": \"start\", \"color\": \"#FFFFFF\", \"text\": \"42\", \"coordinates\": \"data\", \"zorder\": 3, \"alpha\": 1, \"fontsize\": 20.0, \"position\": [0.8, 2.2], \"rotation\": -0.0, \"id\": \"386074563008336\"}, {\"v_baseline\": \"auto\", \"h_anchor\": \"start\", \"color\": \"#FFFFFF\", \"text\": \"5\", \"coordinates\": \"data\", \"zorder\": 3, \"alpha\": 1, \"fontsize\": 20.0, \"position\": [1.8, 2.2], \"rotation\": -0.0, \"id\": \"386074563009424\"}, {\"v_baseline\": \"auto\", \"h_anchor\": \"middle\", \"color\": \"#000000\", \"text\": \"rbf - Test data\", \"coordinates\": \"axes\", \"zorder\": 3, \"alpha\": 1, \"fontsize\": 12.0, \"position\": [0.5, 1.0162919517758229], \"rotation\": -0.0, \"id\": \"386074522026384\"}], \"zoomable\": true, \"images\": [{\"coordinates\": \"data\", \"zorder\": 0, \"extent\": [-0.5, 2.5, 2.5, -0.5], \"alpha\": null, \"data\": \"iVBORw0KGgoAAAANSUhEUgAAAVYAAAFWCAYAAAAyr7WDAAAABHNCSVQICAgIfAhkiAAABMRJREFUeJzt1rENwkAURMFvAlJKPrlkUiemCJ50As1UsNHTHjPrHn7emnP3BALnrN0TCDx2DwD4N8IKEBNWgJiwAsSEFSAmrAAxYQWICStATFgBYsIKEBNWgJiwAsSEFSAmrAAxYQWICStATFgBYsIKEBNWgJiwAsSEFSAmrAAxYQWICStATFgBYsIKEBNWgJiwAsSEFSAmrAAxYQWICStATFgBYsIKEBNWgJiwAsSEFSAmrAAxYQWICStATFgBYsIKEBNWgJiwAsSEFSAmrAAxYQWICStATFgBYsIKEBNWgJiwAsSEFSAmrAAxYQWICStATFgBYsIKEBNWgJiwAsSEFSAmrAAxYQWICStATFgBYsIKEBNWgJiwAsSEFSAmrAAxYQWICStATFgBYsIKEBNWgJiwAsSEFSAmrAAxYQWICStATFgBYsIKEBNWgJiwAsSEFSAmrAAxYQWICStATFgBYsIKEBNWgJiwAsSEFSAmrAAxYQWICStATFgBYsIKEBNWgJiwAsSEFSAmrAAxYQWICStATFgBYsIKEBNWgJiwAsSEFSAmrAAxYQWICStATFgBYsIKEBNWgJiwAsSEFSAmrAAxYQWICStATFgBYsIKEBNWgJiwAsSEFSAmrAAxYQWICStATFgBYsIKEBNWgJiwAsSEFSAmrAAxYQWICStATFgBYsIKEBNWgJiwAsSEFSAmrAAxYQWICStATFgBYsIKEBNWgJiwAsSEFSAmrAAxYQWICStATFgBYsIKEBNWgJiwAsSEFSAmrAAxYQWICStATFgBYsIKEBNWgJiwAsSEFSAmrAAxYQWICStATFgBYsIKEBNWgJiwAsSEFSAmrAAxYQWICStATFgBYsIKEBNWgJiwAsSEFSAmrAAxYQWICStATFgBYsIKEBNWgJiwAsSEFSAmrAAxYQWICStATFgBYsIKEBNWgJiwAsSEFSAmrAAxYQWICStATFgBYsIKEBNWgJiwAsSEFSAmrAAxYQWICStATFgBYsIKEBNWgJiwAsSEFSAmrAAxYQWICStATFgBYsIKEBNWgJiwAsSEFSAmrAAxYQWICStATFgBYsIKEBNWgNgxs+7dI/je9Tp3TyDwfF+7JxDwWAFiwgoQE1aAmLACxIQVICasADFhBYgJK0BMWAFiwgoQE1aAmLACxIQVICasADFhBYgJK0BMWAFiwgoQE1aAmLACxIQVICasADFhBYgJK0BMWAFiwgoQE1aAmLACxIQVICasADFhBYgJK0BMWAFiwgoQE1aAmLACxIQVICasADFhBYgJK0BMWAFiwgoQE1aAmLACxIQVICasADFhBYgJK0BMWAFiwgoQE1aAmLACxIQVICasADFhBYgJK0BMWAFiwgoQE1aAmLACxIQVICasADFhBYgJK0BMWAFiwgoQE1aAmLACxIQVICasADFhBYgJK0BMWAFiwgoQE1aAmLACxIQVICasADFhBYgJK0BMWAFiwgoQE1aAmLACxIQVICasADFhBYgJK0BMWAFiwgoQE1aAmLACxIQVICasADFhBYgJK0BMWAFiwgoQE1aAmLACxIQVICasADFhBYgJK0BMWAFiwgoQE1aAmLACxIQVICasADFhBYgJK0BMWAFiHwgdCyIX0QNxAAAAAElFTkSuQmCC\", \"id\": \"386074624123600\"}], \"xdomain\": [-0.5, 2.5], \"ylim\": [2.5, -0.5], \"paths\": [], \"sharey\": [], \"sharex\": [], \"axesbgalpha\": null, \"axes\": [{\"grid\": {\"color\": \"#FFFFFF\", \"alpha\": 1.0, \"dasharray\": \"10,0\", \"gridOn\": true}, \"position\": \"bottom\", \"nticks\": 3, \"tickvalues\": [0, 1, 2], \"tickformat\": null}, {\"grid\": {\"color\": \"#FFFFFF\", \"alpha\": 1.0, \"dasharray\": \"10,0\", \"gridOn\": true}, \"position\": \"left\", \"nticks\": 3, \"tickvalues\": [0, 1, 2], \"tickformat\": null}], \"lines\": [], \"markers\": [], \"id\": \"386074624057936\", \"ydomain\": [2.5, -0.5], \"collections\": [], \"xscale\": \"linear\", \"bbox\": [0.21218749999999997, 0.125, 0.53281250000000002, 0.77500000000000002]}, {\"xlim\": [0.0, 1.0], \"yscale\": \"linear\", \"axesbg\": \"#EAEAF2\", \"texts\": [], \"zoomable\": false, \"images\": [], \"xdomain\": [0.0, 1.0], \"ylim\": [0.0, 1.0], \"paths\": [], \"sharey\": [], \"sharex\": [], \"axesbgalpha\": null, \"axes\": [{\"grid\": {\"gridOn\": false}, \"position\": \"bottom\", \"nticks\": 0, \"tickvalues\": [], \"tickformat\": \"\"}, {\"grid\": {\"gridOn\": false}, \"position\": \"right\", \"nticks\": 11, \"tickvalues\": [0.0, 0.10000000000000001, 0.20000000000000001, 0.30000000000000004, 0.40000000000000002, 0.5, 0.60000000000000009, 0.70000000000000007, 0.80000000000000004, 0.90000000000000002, 1.0], \"tickformat\": null}], \"lines\": [], \"markers\": [], \"id\": \"386074563138000\", \"ydomain\": [0.0, 1.0], \"collections\": [{\"paths\": [[[[0.0, 0.0], [1.0, 0.0], [1.0, 0.00390625], [0.0, 0.00390625], [0.0, 0.0]], [\"M\", \"L\", \"L\", \"L\", \"L\"]], [[[0.0, 0.00390625], [1.0, 0.00390625], [1.0, 0.0078125], [0.0, 0.0078125], [0.0, 0.00390625]], [\"M\", \"L\", \"L\", \"L\", \"L\"]], [[[0.0, 0.0078125], [1.0, 0.0078125], [1.0, 0.01171875], [0.0, 0.01171875], [0.0, 0.0078125]], [\"M\", \"L\", \"L\", \"L\", \"L\"]], [[[0.0, 0.01171875], [1.0, 0.01171875], [1.0, 0.015625], [0.0, 0.015625], [0.0, 0.01171875]], [\"M\", \"L\", \"L\", \"L\", \"L\"]], [[[0.0, 0.015625], [1.0, 0.015625], [1.0, 0.01953125], [0.0, 0.01953125], [0.0, 0.015625]], [\"M\", \"L\", \"L\", \"L\", \"L\"]], [[[0.0, 0.01953125], [1.0, 0.01953125], [1.0, 0.0234375], [0.0, 0.0234375], [0.0, 0.01953125]], [\"M\", \"L\", \"L\", \"L\", \"L\"]], [[[0.0, 0.0234375], [1.0, 0.0234375], [1.0, 0.02734375], [0.0, 0.02734375], [0.0, 0.0234375]], [\"M\", \"L\", \"L\", \"L\", \"L\"]], [[[0.0, 0.02734375], [1.0, 0.02734375], [1.0, 0.03125], [0.0, 0.03125], [0.0, 0.02734375]], [\"M\", \"L\", \"L\", \"L\", \"L\"]], [[[0.0, 0.03125], [1.0, 0.03125], [1.0, 0.03515625], [0.0, 0.03515625], [0.0, 0.03125]], [\"M\", \"L\", \"L\", \"L\", \"L\"]], [[[0.0, 0.03515625], [1.0, 0.03515625], [1.0, 0.0390625], [0.0, 0.0390625], [0.0, 0.03515625]], [\"M\", \"L\", \"L\", \"L\", \"L\"]], [[[0.0, 0.0390625], [1.0, 0.0390625], [1.0, 0.04296875], [0.0, 0.04296875], [0.0, 0.0390625]], [\"M\", \"L\", \"L\", \"L\", \"L\"]], [[[0.0, 0.04296875], [1.0, 0.04296875], [1.0, 0.046875], [0.0, 0.046875], [0.0, 0.04296875]], [\"M\", \"L\", \"L\", \"L\", \"L\"]], [[[0.0, 0.046875], [1.0, 0.046875], [1.0, 0.05078125], [0.0, 0.05078125], [0.0, 0.046875]], [\"M\", \"L\", \"L\", \"L\", \"L\"]], [[[0.0, 0.05078125], [1.0, 0.05078125], [1.0, 0.0546875], [0.0, 0.0546875], [0.0, 0.05078125]], [\"M\", \"L\", \"L\", \"L\", \"L\"]], [[[0.0, 0.0546875], [1.0, 0.0546875], [1.0, 0.05859375], [0.0, 0.05859375], [0.0, 0.0546875]], [\"M\", \"L\", \"L\", \"L\", \"L\"]], [[[0.0, 0.05859375], [1.0, 0.05859375], [1.0, 0.0625], [0.0, 0.0625], [0.0, 0.05859375]], [\"M\", \"L\", \"L\", \"L\", \"L\"]], [[[0.0, 0.0625], [1.0, 0.0625], [1.0, 0.06640625], [0.0, 0.06640625], [0.0, 0.0625]], [\"M\", \"L\", \"L\", \"L\", \"L\"]], [[[0.0, 0.06640625], [1.0, 0.06640625], [1.0, 0.0703125], [0.0, 0.0703125], [0.0, 0.06640625]], [\"M\", \"L\", \"L\", \"L\", \"L\"]], [[[0.0, 0.0703125], [1.0, 0.0703125], [1.0, 0.07421875], [0.0, 0.07421875], [0.0, 0.0703125]], [\"M\", \"L\", \"L\", \"L\", \"L\"]], [[[0.0, 0.07421875], [1.0, 0.07421875], [1.0, 0.078125], [0.0, 0.078125], [0.0, 0.07421875]], [\"M\", \"L\", \"L\", \"L\", \"L\"]], [[[0.0, 0.078125], [1.0, 0.078125], [1.0, 0.08203125], [0.0, 0.08203125], [0.0, 0.078125]], [\"M\", \"L\", \"L\", \"L\", \"L\"]], [[[0.0, 0.08203125], [1.0, 0.08203125], [1.0, 0.0859375], [0.0, 0.0859375], [0.0, 0.08203125]], [\"M\", \"L\", \"L\", \"L\", \"L\"]], [[[0.0, 0.0859375], [1.0, 0.0859375], [1.0, 0.08984375], [0.0, 0.08984375], [0.0, 0.0859375]], [\"M\", \"L\", \"L\", \"L\", \"L\"]], [[[0.0, 0.08984375], [1.0, 0.08984375], [1.0, 0.09375], [0.0, 0.09375], [0.0, 0.08984375]], [\"M\", \"L\", \"L\", \"L\", \"L\"]], [[[0.0, 0.09375], [1.0, 0.09375], [1.0, 0.09765625], [0.0, 0.09765625], [0.0, 0.09375]], [\"M\", \"L\", \"L\", \"L\", \"L\"]], [[[0.0, 0.09765625], [1.0, 0.09765625], [1.0, 0.1015625], [0.0, 0.1015625], [0.0, 0.09765625]], [\"M\", \"L\", \"L\", \"L\", \"L\"]], [[[0.0, 0.1015625], [1.0, 0.1015625], [1.0, 0.10546875], [0.0, 0.10546875], [0.0, 0.1015625]], [\"M\", \"L\", \"L\", \"L\", \"L\"]], [[[0.0, 0.10546875], [1.0, 0.10546875], [1.0, 0.109375], [0.0, 0.109375], [0.0, 0.10546875]], [\"M\", \"L\", \"L\", \"L\", \"L\"]], [[[0.0, 0.109375], [1.0, 0.109375], [1.0, 0.11328125], [0.0, 0.11328125], [0.0, 0.109375]], [\"M\", \"L\", \"L\", \"L\", \"L\"]], [[[0.0, 0.11328125], [1.0, 0.11328125], [1.0, 0.1171875], [0.0, 0.1171875], [0.0, 0.11328125]], [\"M\", \"L\", \"L\", \"L\", \"L\"]], [[[0.0, 0.1171875], [1.0, 0.1171875], [1.0, 0.12109375], [0.0, 0.12109375], [0.0, 0.1171875]], [\"M\", \"L\", \"L\", \"L\", \"L\"]], [[[0.0, 0.12109375], [1.0, 0.12109375], [1.0, 0.125], [0.0, 0.125], [0.0, 0.12109375]], [\"M\", \"L\", \"L\", \"L\", \"L\"]], [[[0.0, 0.125], [1.0, 0.125], [1.0, 0.12890625], [0.0, 0.12890625], [0.0, 0.125]], [\"M\", \"L\", \"L\", \"L\", \"L\"]], [[[0.0, 0.12890625], [1.0, 0.12890625], [1.0, 0.1328125], [0.0, 0.1328125], [0.0, 0.12890625]], [\"M\", \"L\", \"L\", \"L\", \"L\"]], [[[0.0, 0.1328125], [1.0, 0.1328125], [1.0, 0.13671875], [0.0, 0.13671875], [0.0, 0.1328125]], [\"M\", \"L\", \"L\", \"L\", \"L\"]], [[[0.0, 0.13671875], [1.0, 0.13671875], [1.0, 0.140625], [0.0, 0.140625], [0.0, 0.13671875]], [\"M\", \"L\", \"L\", \"L\", \"L\"]], [[[0.0, 0.140625], [1.0, 0.140625], [1.0, 0.14453125], [0.0, 0.14453125], [0.0, 0.140625]], [\"M\", \"L\", \"L\", \"L\", \"L\"]], [[[0.0, 0.14453125], [1.0, 0.14453125], [1.0, 0.1484375], [0.0, 0.1484375], [0.0, 0.14453125]], [\"M\", \"L\", \"L\", \"L\", \"L\"]], [[[0.0, 0.1484375], [1.0, 0.1484375], [1.0, 0.15234375], [0.0, 0.15234375], [0.0, 0.1484375]], [\"M\", \"L\", \"L\", \"L\", \"L\"]], [[[0.0, 0.15234375], [1.0, 0.15234375], [1.0, 0.15625], [0.0, 0.15625], [0.0, 0.15234375]], [\"M\", \"L\", \"L\", \"L\", \"L\"]], [[[0.0, 0.15625], [1.0, 0.15625], [1.0, 0.16015625], [0.0, 0.16015625], [0.0, 0.15625]], [\"M\", \"L\", \"L\", \"L\", \"L\"]], [[[0.0, 0.16015625], [1.0, 0.16015625], [1.0, 0.1640625], [0.0, 0.1640625], [0.0, 0.16015625]], [\"M\", \"L\", \"L\", \"L\", \"L\"]], [[[0.0, 0.1640625], [1.0, 0.1640625], [1.0, 0.16796875], [0.0, 0.16796875], [0.0, 0.1640625]], [\"M\", \"L\", \"L\", \"L\", \"L\"]], [[[0.0, 0.16796875], [1.0, 0.16796875], [1.0, 0.171875], [0.0, 0.171875], [0.0, 0.16796875]], [\"M\", \"L\", \"L\", \"L\", \"L\"]], [[[0.0, 0.171875], [1.0, 0.171875], [1.0, 0.17578125], [0.0, 0.17578125], [0.0, 0.171875]], [\"M\", \"L\", \"L\", \"L\", \"L\"]], [[[0.0, 0.17578125], [1.0, 0.17578125], [1.0, 0.1796875], [0.0, 0.1796875], [0.0, 0.17578125]], [\"M\", \"L\", \"L\", \"L\", \"L\"]], [[[0.0, 0.1796875], [1.0, 0.1796875], [1.0, 0.18359375], [0.0, 0.18359375], [0.0, 0.1796875]], [\"M\", \"L\", \"L\", \"L\", \"L\"]], [[[0.0, 0.18359375], [1.0, 0.18359375], [1.0, 0.1875], [0.0, 0.1875], [0.0, 0.18359375]], [\"M\", \"L\", \"L\", \"L\", \"L\"]], [[[0.0, 0.1875], [1.0, 0.1875], [1.0, 0.19140625], [0.0, 0.19140625], [0.0, 0.1875]], [\"M\", \"L\", \"L\", \"L\", \"L\"]], [[[0.0, 0.19140625], [1.0, 0.19140625], [1.0, 0.1953125], [0.0, 0.1953125], [0.0, 0.19140625]], [\"M\", \"L\", \"L\", \"L\", \"L\"]], [[[0.0, 0.1953125], [1.0, 0.1953125], [1.0, 0.19921875], [0.0, 0.19921875], [0.0, 0.1953125]], [\"M\", \"L\", \"L\", \"L\", \"L\"]], [[[0.0, 0.19921875], [1.0, 0.19921875], [1.0, 0.203125], [0.0, 0.203125], [0.0, 0.19921875]], [\"M\", \"L\", \"L\", \"L\", \"L\"]], [[[0.0, 0.203125], [1.0, 0.203125], [1.0, 0.20703125], [0.0, 0.20703125], [0.0, 0.203125]], [\"M\", \"L\", \"L\", \"L\", \"L\"]], [[[0.0, 0.20703125], [1.0, 0.20703125], [1.0, 0.2109375], [0.0, 0.2109375], [0.0, 0.20703125]], [\"M\", \"L\", \"L\", \"L\", \"L\"]], [[[0.0, 0.2109375], [1.0, 0.2109375], [1.0, 0.21484375], [0.0, 0.21484375], [0.0, 0.2109375]], [\"M\", \"L\", \"L\", \"L\", \"L\"]], [[[0.0, 0.21484375], [1.0, 0.21484375], [1.0, 0.21875], [0.0, 0.21875], [0.0, 0.21484375]], [\"M\", \"L\", \"L\", \"L\", \"L\"]], [[[0.0, 0.21875], [1.0, 0.21875], [1.0, 0.22265625], [0.0, 0.22265625], [0.0, 0.21875]], [\"M\", \"L\", \"L\", \"L\", \"L\"]], [[[0.0, 0.22265625], [1.0, 0.22265625], [1.0, 0.2265625], [0.0, 0.2265625], [0.0, 0.22265625]], [\"M\", \"L\", \"L\", \"L\", \"L\"]], [[[0.0, 0.2265625], [1.0, 0.2265625], [1.0, 0.23046875], [0.0, 0.23046875], [0.0, 0.2265625]], [\"M\", \"L\", \"L\", \"L\", \"L\"]], [[[0.0, 0.23046875], [1.0, 0.23046875], [1.0, 0.234375], [0.0, 0.234375], [0.0, 0.23046875]], [\"M\", \"L\", \"L\", \"L\", \"L\"]], [[[0.0, 0.234375], [1.0, 0.234375], [1.0, 0.23828125], [0.0, 0.23828125], [0.0, 0.234375]], [\"M\", \"L\", \"L\", \"L\", \"L\"]], [[[0.0, 0.23828125], [1.0, 0.23828125], [1.0, 0.2421875], [0.0, 0.2421875], [0.0, 0.23828125]], [\"M\", \"L\", \"L\", \"L\", \"L\"]], [[[0.0, 0.2421875], [1.0, 0.2421875], [1.0, 0.24609375], [0.0, 0.24609375], [0.0, 0.2421875]], [\"M\", \"L\", \"L\", \"L\", \"L\"]], [[[0.0, 0.24609375], [1.0, 0.24609375], [1.0, 0.25], [0.0, 0.25], [0.0, 0.24609375]], [\"M\", \"L\", \"L\", \"L\", \"L\"]], [[[0.0, 0.25], [1.0, 0.25], [1.0, 0.25390625], [0.0, 0.25390625], [0.0, 0.25]], [\"M\", \"L\", \"L\", \"L\", \"L\"]], [[[0.0, 0.25390625], [1.0, 0.25390625], [1.0, 0.2578125], [0.0, 0.2578125], [0.0, 0.25390625]], [\"M\", \"L\", \"L\", \"L\", \"L\"]], [[[0.0, 0.2578125], [1.0, 0.2578125], [1.0, 0.26171875], [0.0, 0.26171875], [0.0, 0.2578125]], [\"M\", \"L\", \"L\", \"L\", \"L\"]], [[[0.0, 0.26171875], [1.0, 0.26171875], [1.0, 0.265625], [0.0, 0.265625], [0.0, 0.26171875]], [\"M\", \"L\", \"L\", \"L\", \"L\"]], [[[0.0, 0.265625], [1.0, 0.265625], [1.0, 0.26953125], [0.0, 0.26953125], [0.0, 0.265625]], [\"M\", \"L\", \"L\", \"L\", \"L\"]], [[[0.0, 0.26953125], [1.0, 0.26953125], [1.0, 0.2734375], [0.0, 0.2734375], [0.0, 0.26953125]], [\"M\", \"L\", \"L\", \"L\", \"L\"]], [[[0.0, 0.2734375], [1.0, 0.2734375], [1.0, 0.27734375], [0.0, 0.27734375], [0.0, 0.2734375]], [\"M\", \"L\", \"L\", \"L\", \"L\"]], [[[0.0, 0.27734375], [1.0, 0.27734375], [1.0, 0.28125], [0.0, 0.28125], [0.0, 0.27734375]], [\"M\", \"L\", \"L\", \"L\", \"L\"]], [[[0.0, 0.28125], [1.0, 0.28125], [1.0, 0.28515625], [0.0, 0.28515625], [0.0, 0.28125]], [\"M\", \"L\", \"L\", \"L\", \"L\"]], [[[0.0, 0.28515625], [1.0, 0.28515625], [1.0, 0.2890625], [0.0, 0.2890625], [0.0, 0.28515625]], [\"M\", \"L\", \"L\", \"L\", \"L\"]], [[[0.0, 0.2890625], [1.0, 0.2890625], [1.0, 0.29296875], [0.0, 0.29296875], [0.0, 0.2890625]], [\"M\", \"L\", \"L\", \"L\", \"L\"]], [[[0.0, 0.29296875], [1.0, 0.29296875], [1.0, 0.296875], [0.0, 0.296875], [0.0, 0.29296875]], [\"M\", \"L\", \"L\", \"L\", \"L\"]], [[[0.0, 0.296875], [1.0, 0.296875], [1.0, 0.30078125], [0.0, 0.30078125], [0.0, 0.296875]], [\"M\", \"L\", \"L\", \"L\", \"L\"]], [[[0.0, 0.30078125], [1.0, 0.30078125], [1.0, 0.3046875], [0.0, 0.3046875], [0.0, 0.30078125]], [\"M\", \"L\", \"L\", \"L\", \"L\"]], [[[0.0, 0.3046875], [1.0, 0.3046875], [1.0, 0.30859375], [0.0, 0.30859375], [0.0, 0.3046875]], [\"M\", \"L\", \"L\", \"L\", \"L\"]], [[[0.0, 0.30859375], [1.0, 0.30859375], [1.0, 0.3125], [0.0, 0.3125], [0.0, 0.30859375]], [\"M\", \"L\", \"L\", \"L\", \"L\"]], [[[0.0, 0.3125], [1.0, 0.3125], [1.0, 0.31640625], [0.0, 0.31640625], [0.0, 0.3125]], [\"M\", \"L\", \"L\", \"L\", \"L\"]], [[[0.0, 0.31640625], [1.0, 0.31640625], [1.0, 0.3203125], [0.0, 0.3203125], [0.0, 0.31640625]], [\"M\", \"L\", \"L\", \"L\", \"L\"]], [[[0.0, 0.3203125], [1.0, 0.3203125], [1.0, 0.32421875], [0.0, 0.32421875], [0.0, 0.3203125]], [\"M\", \"L\", \"L\", \"L\", \"L\"]], [[[0.0, 0.32421875], [1.0, 0.32421875], [1.0, 0.328125], [0.0, 0.328125], [0.0, 0.32421875]], [\"M\", \"L\", \"L\", \"L\", \"L\"]], [[[0.0, 0.328125], [1.0, 0.328125], [1.0, 0.33203125], [0.0, 0.33203125], [0.0, 0.328125]], [\"M\", \"L\", \"L\", \"L\", \"L\"]], [[[0.0, 0.33203125], [1.0, 0.33203125], [1.0, 0.3359375], [0.0, 0.3359375], [0.0, 0.33203125]], [\"M\", \"L\", \"L\", \"L\", \"L\"]], [[[0.0, 0.3359375], [1.0, 0.3359375], [1.0, 0.33984375], [0.0, 0.33984375], [0.0, 0.3359375]], [\"M\", \"L\", \"L\", \"L\", \"L\"]], [[[0.0, 0.33984375], [1.0, 0.33984375], [1.0, 0.34375], [0.0, 0.34375], [0.0, 0.33984375]], [\"M\", \"L\", \"L\", \"L\", \"L\"]], [[[0.0, 0.34375], [1.0, 0.34375], [1.0, 0.34765625], [0.0, 0.34765625], [0.0, 0.34375]], [\"M\", \"L\", \"L\", \"L\", \"L\"]], [[[0.0, 0.34765625], [1.0, 0.34765625], [1.0, 0.3515625], [0.0, 0.3515625], [0.0, 0.34765625]], [\"M\", \"L\", \"L\", \"L\", \"L\"]], [[[0.0, 0.3515625], [1.0, 0.3515625], [1.0, 0.35546875], [0.0, 0.35546875], [0.0, 0.3515625]], [\"M\", \"L\", \"L\", \"L\", \"L\"]], [[[0.0, 0.35546875], [1.0, 0.35546875], [1.0, 0.359375], [0.0, 0.359375], [0.0, 0.35546875]], [\"M\", \"L\", \"L\", \"L\", \"L\"]], [[[0.0, 0.359375], [1.0, 0.359375], [1.0, 0.36328125], [0.0, 0.36328125], [0.0, 0.359375]], [\"M\", \"L\", \"L\", \"L\", \"L\"]], [[[0.0, 0.36328125], [1.0, 0.36328125], [1.0, 0.3671875], [0.0, 0.3671875], [0.0, 0.36328125]], [\"M\", \"L\", \"L\", \"L\", \"L\"]], [[[0.0, 0.3671875], [1.0, 0.3671875], [1.0, 0.37109375], [0.0, 0.37109375], [0.0, 0.3671875]], [\"M\", \"L\", \"L\", \"L\", \"L\"]], [[[0.0, 0.37109375], [1.0, 0.37109375], [1.0, 0.375], [0.0, 0.375], [0.0, 0.37109375]], [\"M\", \"L\", \"L\", \"L\", \"L\"]], [[[0.0, 0.375], [1.0, 0.375], [1.0, 0.37890625], [0.0, 0.37890625], [0.0, 0.375]], [\"M\", \"L\", \"L\", \"L\", \"L\"]], [[[0.0, 0.37890625], [1.0, 0.37890625], [1.0, 0.3828125], [0.0, 0.3828125], [0.0, 0.37890625]], [\"M\", \"L\", \"L\", \"L\", \"L\"]], [[[0.0, 0.3828125], [1.0, 0.3828125], [1.0, 0.38671875], [0.0, 0.38671875], [0.0, 0.3828125]], [\"M\", \"L\", \"L\", \"L\", \"L\"]], [[[0.0, 0.38671875], [1.0, 0.38671875], [1.0, 0.390625], [0.0, 0.390625], [0.0, 0.38671875]], [\"M\", \"L\", \"L\", \"L\", \"L\"]], [[[0.0, 0.390625], [1.0, 0.390625], [1.0, 0.39453125], [0.0, 0.39453125], [0.0, 0.390625]], [\"M\", \"L\", \"L\", \"L\", \"L\"]], [[[0.0, 0.39453125], [1.0, 0.39453125], [1.0, 0.3984375], [0.0, 0.3984375], [0.0, 0.39453125]], [\"M\", \"L\", \"L\", \"L\", \"L\"]], [[[0.0, 0.3984375], [1.0, 0.3984375], [1.0, 0.40234375], [0.0, 0.40234375], [0.0, 0.3984375]], [\"M\", \"L\", \"L\", \"L\", \"L\"]], [[[0.0, 0.40234375], [1.0, 0.40234375], [1.0, 0.40625], [0.0, 0.40625], [0.0, 0.40234375]], [\"M\", \"L\", \"L\", \"L\", \"L\"]], [[[0.0, 0.40625], [1.0, 0.40625], [1.0, 0.41015625], [0.0, 0.41015625], [0.0, 0.40625]], [\"M\", \"L\", \"L\", \"L\", \"L\"]], [[[0.0, 0.41015625], [1.0, 0.41015625], [1.0, 0.4140625], [0.0, 0.4140625], [0.0, 0.41015625]], [\"M\", \"L\", \"L\", \"L\", \"L\"]], [[[0.0, 0.4140625], [1.0, 0.4140625], [1.0, 0.41796875], [0.0, 0.41796875], [0.0, 0.4140625]], [\"M\", \"L\", \"L\", \"L\", \"L\"]], [[[0.0, 0.41796875], [1.0, 0.41796875], [1.0, 0.421875], [0.0, 0.421875], [0.0, 0.41796875]], [\"M\", \"L\", \"L\", \"L\", \"L\"]], [[[0.0, 0.421875], [1.0, 0.421875], [1.0, 0.42578125], [0.0, 0.42578125], [0.0, 0.421875]], [\"M\", \"L\", \"L\", \"L\", \"L\"]], [[[0.0, 0.42578125], [1.0, 0.42578125], [1.0, 0.4296875], [0.0, 0.4296875], [0.0, 0.42578125]], [\"M\", \"L\", \"L\", \"L\", \"L\"]], [[[0.0, 0.4296875], [1.0, 0.4296875], [1.0, 0.43359375], [0.0, 0.43359375], [0.0, 0.4296875]], [\"M\", \"L\", \"L\", \"L\", \"L\"]], [[[0.0, 0.43359375], [1.0, 0.43359375], [1.0, 0.4375], [0.0, 0.4375], [0.0, 0.43359375]], [\"M\", \"L\", \"L\", \"L\", \"L\"]], [[[0.0, 0.4375], [1.0, 0.4375], [1.0, 0.44140625], [0.0, 0.44140625], [0.0, 0.4375]], [\"M\", \"L\", \"L\", \"L\", \"L\"]], [[[0.0, 0.44140625], [1.0, 0.44140625], [1.0, 0.4453125], [0.0, 0.4453125], [0.0, 0.44140625]], [\"M\", \"L\", \"L\", \"L\", \"L\"]], [[[0.0, 0.4453125], [1.0, 0.4453125], [1.0, 0.44921875], [0.0, 0.44921875], [0.0, 0.4453125]], [\"M\", \"L\", \"L\", \"L\", \"L\"]], [[[0.0, 0.44921875], [1.0, 0.44921875], [1.0, 0.453125], [0.0, 0.453125], [0.0, 0.44921875]], [\"M\", \"L\", \"L\", \"L\", \"L\"]], [[[0.0, 0.453125], [1.0, 0.453125], [1.0, 0.45703125], [0.0, 0.45703125], [0.0, 0.453125]], [\"M\", \"L\", \"L\", \"L\", \"L\"]], [[[0.0, 0.45703125], [1.0, 0.45703125], [1.0, 0.4609375], [0.0, 0.4609375], [0.0, 0.45703125]], [\"M\", \"L\", \"L\", \"L\", \"L\"]], [[[0.0, 0.4609375], [1.0, 0.4609375], [1.0, 0.46484375], [0.0, 0.46484375], [0.0, 0.4609375]], [\"M\", \"L\", \"L\", \"L\", \"L\"]], [[[0.0, 0.46484375], [1.0, 0.46484375], [1.0, 0.46875], [0.0, 0.46875], [0.0, 0.46484375]], [\"M\", \"L\", \"L\", \"L\", \"L\"]], [[[0.0, 0.46875], [1.0, 0.46875], [1.0, 0.47265625], [0.0, 0.47265625], [0.0, 0.46875]], [\"M\", \"L\", \"L\", \"L\", \"L\"]], [[[0.0, 0.47265625], [1.0, 0.47265625], [1.0, 0.4765625], [0.0, 0.4765625], [0.0, 0.47265625]], [\"M\", \"L\", \"L\", \"L\", \"L\"]], [[[0.0, 0.4765625], [1.0, 0.4765625], [1.0, 0.48046875], [0.0, 0.48046875], [0.0, 0.4765625]], [\"M\", \"L\", \"L\", \"L\", \"L\"]], [[[0.0, 0.48046875], [1.0, 0.48046875], [1.0, 0.484375], [0.0, 0.484375], [0.0, 0.48046875]], [\"M\", \"L\", \"L\", \"L\", \"L\"]], [[[0.0, 0.484375], [1.0, 0.484375], [1.0, 0.48828125], [0.0, 0.48828125], [0.0, 0.484375]], [\"M\", \"L\", \"L\", \"L\", \"L\"]], [[[0.0, 0.48828125], [1.0, 0.48828125], [1.0, 0.4921875], [0.0, 0.4921875], [0.0, 0.48828125]], [\"M\", \"L\", \"L\", \"L\", \"L\"]], [[[0.0, 0.4921875], [1.0, 0.4921875], [1.0, 0.49609375], [0.0, 0.49609375], [0.0, 0.4921875]], [\"M\", \"L\", \"L\", \"L\", \"L\"]], [[[0.0, 0.49609375], [1.0, 0.49609375], [1.0, 0.5], [0.0, 0.5], [0.0, 0.49609375]], [\"M\", \"L\", \"L\", \"L\", \"L\"]], [[[0.0, 0.5], [1.0, 0.5], [1.0, 0.50390625], [0.0, 0.50390625], [0.0, 0.5]], [\"M\", \"L\", \"L\", \"L\", \"L\"]], [[[0.0, 0.50390625], [1.0, 0.50390625], [1.0, 0.5078125], [0.0, 0.5078125], [0.0, 0.50390625]], [\"M\", \"L\", \"L\", \"L\", \"L\"]], [[[0.0, 0.5078125], [1.0, 0.5078125], [1.0, 0.51171875], [0.0, 0.51171875], [0.0, 0.5078125]], [\"M\", \"L\", \"L\", \"L\", \"L\"]], [[[0.0, 0.51171875], [1.0, 0.51171875], [1.0, 0.515625], [0.0, 0.515625], [0.0, 0.51171875]], [\"M\", \"L\", \"L\", \"L\", \"L\"]], [[[0.0, 0.515625], [1.0, 0.515625], [1.0, 0.51953125], [0.0, 0.51953125], [0.0, 0.515625]], [\"M\", \"L\", \"L\", \"L\", \"L\"]], [[[0.0, 0.51953125], [1.0, 0.51953125], [1.0, 0.5234375], [0.0, 0.5234375], [0.0, 0.51953125]], [\"M\", \"L\", \"L\", \"L\", \"L\"]], [[[0.0, 0.5234375], [1.0, 0.5234375], [1.0, 0.52734375], [0.0, 0.52734375], [0.0, 0.5234375]], [\"M\", \"L\", \"L\", \"L\", \"L\"]], [[[0.0, 0.52734375], [1.0, 0.52734375], [1.0, 0.53125], [0.0, 0.53125], [0.0, 0.52734375]], [\"M\", \"L\", \"L\", \"L\", \"L\"]], [[[0.0, 0.53125], [1.0, 0.53125], [1.0, 0.53515625], [0.0, 0.53515625], [0.0, 0.53125]], [\"M\", \"L\", \"L\", \"L\", \"L\"]], [[[0.0, 0.53515625], [1.0, 0.53515625], [1.0, 0.5390625], [0.0, 0.5390625], [0.0, 0.53515625]], [\"M\", \"L\", \"L\", \"L\", \"L\"]], [[[0.0, 0.5390625], [1.0, 0.5390625], [1.0, 0.54296875], [0.0, 0.54296875], [0.0, 0.5390625]], [\"M\", \"L\", \"L\", \"L\", \"L\"]], [[[0.0, 0.54296875], [1.0, 0.54296875], [1.0, 0.546875], [0.0, 0.546875], [0.0, 0.54296875]], [\"M\", \"L\", \"L\", \"L\", \"L\"]], [[[0.0, 0.546875], [1.0, 0.546875], [1.0, 0.55078125], [0.0, 0.55078125], [0.0, 0.546875]], [\"M\", \"L\", \"L\", \"L\", \"L\"]], [[[0.0, 0.55078125], [1.0, 0.55078125], [1.0, 0.5546875], [0.0, 0.5546875], [0.0, 0.55078125]], [\"M\", \"L\", \"L\", \"L\", \"L\"]], [[[0.0, 0.5546875], [1.0, 0.5546875], [1.0, 0.55859375], [0.0, 0.55859375], [0.0, 0.5546875]], [\"M\", \"L\", \"L\", \"L\", \"L\"]], [[[0.0, 0.55859375], [1.0, 0.55859375], [1.0, 0.5625], [0.0, 0.5625], [0.0, 0.55859375]], [\"M\", \"L\", \"L\", \"L\", \"L\"]], [[[0.0, 0.5625], [1.0, 0.5625], [1.0, 0.56640625], [0.0, 0.56640625], [0.0, 0.5625]], [\"M\", \"L\", \"L\", \"L\", \"L\"]], [[[0.0, 0.56640625], [1.0, 0.56640625], [1.0, 0.5703125], [0.0, 0.5703125], [0.0, 0.56640625]], [\"M\", \"L\", \"L\", \"L\", \"L\"]], [[[0.0, 0.5703125], [1.0, 0.5703125], [1.0, 0.57421875], [0.0, 0.57421875], [0.0, 0.5703125]], [\"M\", \"L\", \"L\", \"L\", \"L\"]], [[[0.0, 0.57421875], [1.0, 0.57421875], [1.0, 0.578125], [0.0, 0.578125], [0.0, 0.57421875]], [\"M\", \"L\", \"L\", \"L\", \"L\"]], [[[0.0, 0.578125], [1.0, 0.578125], [1.0, 0.58203125], [0.0, 0.58203125], [0.0, 0.578125]], [\"M\", \"L\", \"L\", \"L\", \"L\"]], [[[0.0, 0.58203125], [1.0, 0.58203125], [1.0, 0.5859375], [0.0, 0.5859375], [0.0, 0.58203125]], [\"M\", \"L\", \"L\", \"L\", \"L\"]], [[[0.0, 0.5859375], [1.0, 0.5859375], [1.0, 0.58984375], [0.0, 0.58984375], [0.0, 0.5859375]], [\"M\", \"L\", \"L\", \"L\", \"L\"]], [[[0.0, 0.58984375], [1.0, 0.58984375], [1.0, 0.59375], [0.0, 0.59375], [0.0, 0.58984375]], [\"M\", \"L\", \"L\", \"L\", \"L\"]], [[[0.0, 0.59375], [1.0, 0.59375], [1.0, 0.59765625], [0.0, 0.59765625], [0.0, 0.59375]], [\"M\", \"L\", \"L\", \"L\", \"L\"]], [[[0.0, 0.59765625], [1.0, 0.59765625], [1.0, 0.6015625], [0.0, 0.6015625], [0.0, 0.59765625]], [\"M\", \"L\", \"L\", \"L\", \"L\"]], [[[0.0, 0.6015625], [1.0, 0.6015625], [1.0, 0.60546875], [0.0, 0.60546875], [0.0, 0.6015625]], [\"M\", \"L\", \"L\", \"L\", \"L\"]], [[[0.0, 0.60546875], [1.0, 0.60546875], [1.0, 0.609375], [0.0, 0.609375], [0.0, 0.60546875]], [\"M\", \"L\", \"L\", \"L\", \"L\"]], [[[0.0, 0.609375], [1.0, 0.609375], [1.0, 0.61328125], [0.0, 0.61328125], [0.0, 0.609375]], [\"M\", \"L\", \"L\", \"L\", \"L\"]], [[[0.0, 0.61328125], [1.0, 0.61328125], [1.0, 0.6171875], [0.0, 0.6171875], [0.0, 0.61328125]], [\"M\", \"L\", \"L\", \"L\", \"L\"]], [[[0.0, 0.6171875], [1.0, 0.6171875], [1.0, 0.62109375], [0.0, 0.62109375], [0.0, 0.6171875]], [\"M\", \"L\", \"L\", \"L\", \"L\"]], [[[0.0, 0.62109375], [1.0, 0.62109375], [1.0, 0.625], [0.0, 0.625], [0.0, 0.62109375]], [\"M\", \"L\", \"L\", \"L\", \"L\"]], [[[0.0, 0.625], [1.0, 0.625], [1.0, 0.62890625], [0.0, 0.62890625], [0.0, 0.625]], [\"M\", \"L\", \"L\", \"L\", \"L\"]], [[[0.0, 0.62890625], [1.0, 0.62890625], [1.0, 0.6328125], [0.0, 0.6328125], [0.0, 0.62890625]], [\"M\", \"L\", \"L\", \"L\", \"L\"]], [[[0.0, 0.6328125], [1.0, 0.6328125], [1.0, 0.63671875], [0.0, 0.63671875], [0.0, 0.6328125]], [\"M\", \"L\", \"L\", \"L\", \"L\"]], [[[0.0, 0.63671875], [1.0, 0.63671875], [1.0, 0.640625], [0.0, 0.640625], [0.0, 0.63671875]], [\"M\", \"L\", \"L\", \"L\", \"L\"]], [[[0.0, 0.640625], [1.0, 0.640625], [1.0, 0.64453125], [0.0, 0.64453125], [0.0, 0.640625]], [\"M\", \"L\", \"L\", \"L\", \"L\"]], [[[0.0, 0.64453125], [1.0, 0.64453125], [1.0, 0.6484375], [0.0, 0.6484375], [0.0, 0.64453125]], [\"M\", \"L\", \"L\", \"L\", \"L\"]], [[[0.0, 0.6484375], [1.0, 0.6484375], [1.0, 0.65234375], [0.0, 0.65234375], [0.0, 0.6484375]], [\"M\", \"L\", \"L\", \"L\", \"L\"]], [[[0.0, 0.65234375], [1.0, 0.65234375], [1.0, 0.65625], [0.0, 0.65625], [0.0, 0.65234375]], [\"M\", \"L\", \"L\", \"L\", \"L\"]], [[[0.0, 0.65625], [1.0, 0.65625], [1.0, 0.66015625], [0.0, 0.66015625], [0.0, 0.65625]], [\"M\", \"L\", \"L\", \"L\", \"L\"]], [[[0.0, 0.66015625], [1.0, 0.66015625], [1.0, 0.6640625], [0.0, 0.6640625], [0.0, 0.66015625]], [\"M\", \"L\", \"L\", \"L\", \"L\"]], [[[0.0, 0.6640625], [1.0, 0.6640625], [1.0, 0.66796875], [0.0, 0.66796875], [0.0, 0.6640625]], [\"M\", \"L\", \"L\", \"L\", \"L\"]], [[[0.0, 0.66796875], [1.0, 0.66796875], [1.0, 0.671875], [0.0, 0.671875], [0.0, 0.66796875]], [\"M\", \"L\", \"L\", \"L\", \"L\"]], [[[0.0, 0.671875], [1.0, 0.671875], [1.0, 0.67578125], [0.0, 0.67578125], [0.0, 0.671875]], [\"M\", \"L\", \"L\", \"L\", \"L\"]], [[[0.0, 0.67578125], [1.0, 0.67578125], [1.0, 0.6796875], [0.0, 0.6796875], [0.0, 0.67578125]], [\"M\", \"L\", \"L\", \"L\", \"L\"]], [[[0.0, 0.6796875], [1.0, 0.6796875], [1.0, 0.68359375], [0.0, 0.68359375], [0.0, 0.6796875]], [\"M\", \"L\", \"L\", \"L\", \"L\"]], [[[0.0, 0.68359375], [1.0, 0.68359375], [1.0, 0.6875], [0.0, 0.6875], [0.0, 0.68359375]], [\"M\", \"L\", \"L\", \"L\", \"L\"]], [[[0.0, 0.6875], [1.0, 0.6875], [1.0, 0.69140625], [0.0, 0.69140625], [0.0, 0.6875]], [\"M\", \"L\", \"L\", \"L\", \"L\"]], [[[0.0, 0.69140625], [1.0, 0.69140625], [1.0, 0.6953125], [0.0, 0.6953125], [0.0, 0.69140625]], [\"M\", \"L\", \"L\", \"L\", \"L\"]], [[[0.0, 0.6953125], [1.0, 0.6953125], [1.0, 0.69921875], [0.0, 0.69921875], [0.0, 0.6953125]], [\"M\", \"L\", \"L\", \"L\", \"L\"]], [[[0.0, 0.69921875], [1.0, 0.69921875], [1.0, 0.703125], [0.0, 0.703125], [0.0, 0.69921875]], [\"M\", \"L\", \"L\", \"L\", \"L\"]], [[[0.0, 0.703125], [1.0, 0.703125], [1.0, 0.70703125], [0.0, 0.70703125], [0.0, 0.703125]], [\"M\", \"L\", \"L\", \"L\", \"L\"]], [[[0.0, 0.70703125], [1.0, 0.70703125], [1.0, 0.7109375], [0.0, 0.7109375], [0.0, 0.70703125]], [\"M\", \"L\", \"L\", \"L\", \"L\"]], [[[0.0, 0.7109375], [1.0, 0.7109375], [1.0, 0.71484375], [0.0, 0.71484375], [0.0, 0.7109375]], [\"M\", \"L\", \"L\", \"L\", \"L\"]], [[[0.0, 0.71484375], [1.0, 0.71484375], [1.0, 0.71875], [0.0, 0.71875], [0.0, 0.71484375]], [\"M\", \"L\", \"L\", \"L\", \"L\"]], [[[0.0, 0.71875], [1.0, 0.71875], [1.0, 0.72265625], [0.0, 0.72265625], [0.0, 0.71875]], [\"M\", \"L\", \"L\", \"L\", \"L\"]], [[[0.0, 0.72265625], [1.0, 0.72265625], [1.0, 0.7265625], [0.0, 0.7265625], [0.0, 0.72265625]], [\"M\", \"L\", \"L\", \"L\", \"L\"]], [[[0.0, 0.7265625], [1.0, 0.7265625], [1.0, 0.73046875], [0.0, 0.73046875], [0.0, 0.7265625]], [\"M\", \"L\", \"L\", \"L\", \"L\"]], [[[0.0, 0.73046875], [1.0, 0.73046875], [1.0, 0.734375], [0.0, 0.734375], [0.0, 0.73046875]], [\"M\", \"L\", \"L\", \"L\", \"L\"]], [[[0.0, 0.734375], [1.0, 0.734375], [1.0, 0.73828125], [0.0, 0.73828125], [0.0, 0.734375]], [\"M\", \"L\", \"L\", \"L\", \"L\"]], [[[0.0, 0.73828125], [1.0, 0.73828125], [1.0, 0.7421875], [0.0, 0.7421875], [0.0, 0.73828125]], [\"M\", \"L\", \"L\", \"L\", \"L\"]], [[[0.0, 0.7421875], [1.0, 0.7421875], [1.0, 0.74609375], [0.0, 0.74609375], [0.0, 0.7421875]], [\"M\", \"L\", \"L\", \"L\", \"L\"]], [[[0.0, 0.74609375], [1.0, 0.74609375], [1.0, 0.75], [0.0, 0.75], [0.0, 0.74609375]], [\"M\", \"L\", \"L\", \"L\", \"L\"]], [[[0.0, 0.75], [1.0, 0.75], [1.0, 0.75390625], [0.0, 0.75390625], [0.0, 0.75]], [\"M\", \"L\", \"L\", \"L\", \"L\"]], [[[0.0, 0.75390625], [1.0, 0.75390625], [1.0, 0.7578125], [0.0, 0.7578125], [0.0, 0.75390625]], [\"M\", \"L\", \"L\", \"L\", \"L\"]], [[[0.0, 0.7578125], [1.0, 0.7578125], [1.0, 0.76171875], [0.0, 0.76171875], [0.0, 0.7578125]], [\"M\", \"L\", \"L\", \"L\", \"L\"]], [[[0.0, 0.76171875], [1.0, 0.76171875], [1.0, 0.765625], [0.0, 0.765625], [0.0, 0.76171875]], [\"M\", \"L\", \"L\", \"L\", \"L\"]], [[[0.0, 0.765625], [1.0, 0.765625], [1.0, 0.76953125], [0.0, 0.76953125], [0.0, 0.765625]], [\"M\", \"L\", \"L\", \"L\", \"L\"]], [[[0.0, 0.76953125], [1.0, 0.76953125], [1.0, 0.7734375], [0.0, 0.7734375], [0.0, 0.76953125]], [\"M\", \"L\", \"L\", \"L\", \"L\"]], [[[0.0, 0.7734375], [1.0, 0.7734375], [1.0, 0.77734375], [0.0, 0.77734375], [0.0, 0.7734375]], [\"M\", \"L\", \"L\", \"L\", \"L\"]], [[[0.0, 0.77734375], [1.0, 0.77734375], [1.0, 0.78125], [0.0, 0.78125], [0.0, 0.77734375]], [\"M\", \"L\", \"L\", \"L\", \"L\"]], [[[0.0, 0.78125], [1.0, 0.78125], [1.0, 0.78515625], [0.0, 0.78515625], [0.0, 0.78125]], [\"M\", \"L\", \"L\", \"L\", \"L\"]], [[[0.0, 0.78515625], [1.0, 0.78515625], [1.0, 0.7890625], [0.0, 0.7890625], [0.0, 0.78515625]], [\"M\", \"L\", \"L\", \"L\", \"L\"]], [[[0.0, 0.7890625], [1.0, 0.7890625], [1.0, 0.79296875], [0.0, 0.79296875], [0.0, 0.7890625]], [\"M\", \"L\", \"L\", \"L\", \"L\"]], [[[0.0, 0.79296875], [1.0, 0.79296875], [1.0, 0.796875], [0.0, 0.796875], [0.0, 0.79296875]], [\"M\", \"L\", \"L\", \"L\", \"L\"]], [[[0.0, 0.796875], [1.0, 0.796875], [1.0, 0.80078125], [0.0, 0.80078125], [0.0, 0.796875]], [\"M\", \"L\", \"L\", \"L\", \"L\"]], [[[0.0, 0.80078125], [1.0, 0.80078125], [1.0, 0.8046875], [0.0, 0.8046875], [0.0, 0.80078125]], [\"M\", \"L\", \"L\", \"L\", \"L\"]], [[[0.0, 0.8046875], [1.0, 0.8046875], [1.0, 0.80859375], [0.0, 0.80859375], [0.0, 0.8046875]], [\"M\", \"L\", \"L\", \"L\", \"L\"]], [[[0.0, 0.80859375], [1.0, 0.80859375], [1.0, 0.8125], [0.0, 0.8125], [0.0, 0.80859375]], [\"M\", \"L\", \"L\", \"L\", \"L\"]], [[[0.0, 0.8125], [1.0, 0.8125], [1.0, 0.81640625], [0.0, 0.81640625], [0.0, 0.8125]], [\"M\", \"L\", \"L\", \"L\", \"L\"]], [[[0.0, 0.81640625], [1.0, 0.81640625], [1.0, 0.8203125], [0.0, 0.8203125], [0.0, 0.81640625]], [\"M\", \"L\", \"L\", \"L\", \"L\"]], [[[0.0, 0.8203125], [1.0, 0.8203125], [1.0, 0.82421875], [0.0, 0.82421875], [0.0, 0.8203125]], [\"M\", \"L\", \"L\", \"L\", \"L\"]], [[[0.0, 0.82421875], [1.0, 0.82421875], [1.0, 0.828125], [0.0, 0.828125], [0.0, 0.82421875]], [\"M\", \"L\", \"L\", \"L\", \"L\"]], [[[0.0, 0.828125], [1.0, 0.828125], [1.0, 0.83203125], [0.0, 0.83203125], [0.0, 0.828125]], [\"M\", \"L\", \"L\", \"L\", \"L\"]], [[[0.0, 0.83203125], [1.0, 0.83203125], [1.0, 0.8359375], [0.0, 0.8359375], [0.0, 0.83203125]], [\"M\", \"L\", \"L\", \"L\", \"L\"]], [[[0.0, 0.8359375], [1.0, 0.8359375], [1.0, 0.83984375], [0.0, 0.83984375], [0.0, 0.8359375]], [\"M\", \"L\", \"L\", \"L\", \"L\"]], [[[0.0, 0.83984375], [1.0, 0.83984375], [1.0, 0.84375], [0.0, 0.84375], [0.0, 0.83984375]], [\"M\", \"L\", \"L\", \"L\", \"L\"]], [[[0.0, 0.84375], [1.0, 0.84375], [1.0, 0.84765625], [0.0, 0.84765625], [0.0, 0.84375]], [\"M\", \"L\", \"L\", \"L\", \"L\"]], [[[0.0, 0.84765625], [1.0, 0.84765625], [1.0, 0.8515625], [0.0, 0.8515625], [0.0, 0.84765625]], [\"M\", \"L\", \"L\", \"L\", \"L\"]], [[[0.0, 0.8515625], [1.0, 0.8515625], [1.0, 0.85546875], [0.0, 0.85546875], [0.0, 0.8515625]], [\"M\", \"L\", \"L\", \"L\", \"L\"]], [[[0.0, 0.85546875], [1.0, 0.85546875], [1.0, 0.859375], [0.0, 0.859375], [0.0, 0.85546875]], [\"M\", \"L\", \"L\", \"L\", \"L\"]], [[[0.0, 0.859375], [1.0, 0.859375], [1.0, 0.86328125], [0.0, 0.86328125], [0.0, 0.859375]], [\"M\", \"L\", \"L\", \"L\", \"L\"]], [[[0.0, 0.86328125], [1.0, 0.86328125], [1.0, 0.8671875], [0.0, 0.8671875], [0.0, 0.86328125]], [\"M\", \"L\", \"L\", \"L\", \"L\"]], [[[0.0, 0.8671875], [1.0, 0.8671875], [1.0, 0.87109375], [0.0, 0.87109375], [0.0, 0.8671875]], [\"M\", \"L\", \"L\", \"L\", \"L\"]], [[[0.0, 0.87109375], [1.0, 0.87109375], [1.0, 0.875], [0.0, 0.875], [0.0, 0.87109375]], [\"M\", \"L\", \"L\", \"L\", \"L\"]], [[[0.0, 0.875], [1.0, 0.875], [1.0, 0.87890625], [0.0, 0.87890625], [0.0, 0.875]], [\"M\", \"L\", \"L\", \"L\", \"L\"]], [[[0.0, 0.87890625], [1.0, 0.87890625], [1.0, 0.8828125], [0.0, 0.8828125], [0.0, 0.87890625]], [\"M\", \"L\", \"L\", \"L\", \"L\"]], [[[0.0, 0.8828125], [1.0, 0.8828125], [1.0, 0.88671875], [0.0, 0.88671875], [0.0, 0.8828125]], [\"M\", \"L\", \"L\", \"L\", \"L\"]], [[[0.0, 0.88671875], [1.0, 0.88671875], [1.0, 0.890625], [0.0, 0.890625], [0.0, 0.88671875]], [\"M\", \"L\", \"L\", \"L\", \"L\"]], [[[0.0, 0.890625], [1.0, 0.890625], [1.0, 0.89453125], [0.0, 0.89453125], [0.0, 0.890625]], [\"M\", \"L\", \"L\", \"L\", \"L\"]], [[[0.0, 0.89453125], [1.0, 0.89453125], [1.0, 0.8984375], [0.0, 0.8984375], [0.0, 0.89453125]], [\"M\", \"L\", \"L\", \"L\", \"L\"]], [[[0.0, 0.8984375], [1.0, 0.8984375], [1.0, 0.90234375], [0.0, 0.90234375], [0.0, 0.8984375]], [\"M\", \"L\", \"L\", \"L\", \"L\"]], [[[0.0, 0.90234375], [1.0, 0.90234375], [1.0, 0.90625], [0.0, 0.90625], [0.0, 0.90234375]], [\"M\", \"L\", \"L\", \"L\", \"L\"]], [[[0.0, 0.90625], [1.0, 0.90625], [1.0, 0.91015625], [0.0, 0.91015625], [0.0, 0.90625]], [\"M\", \"L\", \"L\", \"L\", \"L\"]], [[[0.0, 0.91015625], [1.0, 0.91015625], [1.0, 0.9140625], [0.0, 0.9140625], [0.0, 0.91015625]], [\"M\", \"L\", \"L\", \"L\", \"L\"]], [[[0.0, 0.9140625], [1.0, 0.9140625], [1.0, 0.91796875], [0.0, 0.91796875], [0.0, 0.9140625]], [\"M\", \"L\", \"L\", \"L\", \"L\"]], [[[0.0, 0.91796875], [1.0, 0.91796875], [1.0, 0.921875], [0.0, 0.921875], [0.0, 0.91796875]], [\"M\", \"L\", \"L\", \"L\", \"L\"]], [[[0.0, 0.921875], [1.0, 0.921875], [1.0, 0.92578125], [0.0, 0.92578125], [0.0, 0.921875]], [\"M\", \"L\", \"L\", \"L\", \"L\"]], [[[0.0, 0.92578125], [1.0, 0.92578125], [1.0, 0.9296875], [0.0, 0.9296875], [0.0, 0.92578125]], [\"M\", \"L\", \"L\", \"L\", \"L\"]], [[[0.0, 0.9296875], [1.0, 0.9296875], [1.0, 0.93359375], [0.0, 0.93359375], [0.0, 0.9296875]], [\"M\", \"L\", \"L\", \"L\", \"L\"]], [[[0.0, 0.93359375], [1.0, 0.93359375], [1.0, 0.9375], [0.0, 0.9375], [0.0, 0.93359375]], [\"M\", \"L\", \"L\", \"L\", \"L\"]], [[[0.0, 0.9375], [1.0, 0.9375], [1.0, 0.94140625], [0.0, 0.94140625], [0.0, 0.9375]], [\"M\", \"L\", \"L\", \"L\", \"L\"]], [[[0.0, 0.94140625], [1.0, 0.94140625], [1.0, 0.9453125], [0.0, 0.9453125], [0.0, 0.94140625]], [\"M\", \"L\", \"L\", \"L\", \"L\"]], [[[0.0, 0.9453125], [1.0, 0.9453125], [1.0, 0.94921875], [0.0, 0.94921875], [0.0, 0.9453125]], [\"M\", \"L\", \"L\", \"L\", \"L\"]], [[[0.0, 0.94921875], [1.0, 0.94921875], [1.0, 0.953125], [0.0, 0.953125], [0.0, 0.94921875]], [\"M\", \"L\", \"L\", \"L\", \"L\"]], [[[0.0, 0.953125], [1.0, 0.953125], [1.0, 0.95703125], [0.0, 0.95703125], [0.0, 0.953125]], [\"M\", \"L\", \"L\", \"L\", \"L\"]], [[[0.0, 0.95703125], [1.0, 0.95703125], [1.0, 0.9609375], [0.0, 0.9609375], [0.0, 0.95703125]], [\"M\", \"L\", \"L\", \"L\", \"L\"]], [[[0.0, 0.9609375], [1.0, 0.9609375], [1.0, 0.96484375], [0.0, 0.96484375], [0.0, 0.9609375]], [\"M\", \"L\", \"L\", \"L\", \"L\"]], [[[0.0, 0.96484375], [1.0, 0.96484375], [1.0, 0.96875], [0.0, 0.96875], [0.0, 0.96484375]], [\"M\", \"L\", \"L\", \"L\", \"L\"]], [[[0.0, 0.96875], [1.0, 0.96875], [1.0, 0.97265625], [0.0, 0.97265625], [0.0, 0.96875]], [\"M\", \"L\", \"L\", \"L\", \"L\"]], [[[0.0, 0.97265625], [1.0, 0.97265625], [1.0, 0.9765625], [0.0, 0.9765625], [0.0, 0.97265625]], [\"M\", \"L\", \"L\", \"L\", \"L\"]], [[[0.0, 0.9765625], [1.0, 0.9765625], [1.0, 0.98046875], [0.0, 0.98046875], [0.0, 0.9765625]], [\"M\", \"L\", \"L\", \"L\", \"L\"]], [[[0.0, 0.98046875], [1.0, 0.98046875], [1.0, 0.984375], [0.0, 0.984375], [0.0, 0.98046875]], [\"M\", \"L\", \"L\", \"L\", \"L\"]], [[[0.0, 0.984375], [1.0, 0.984375], [1.0, 0.98828125], [0.0, 0.98828125], [0.0, 0.984375]], [\"M\", \"L\", \"L\", \"L\", \"L\"]], [[[0.0, 0.98828125], [1.0, 0.98828125], [1.0, 0.9921875], [0.0, 0.9921875], [0.0, 0.98828125]], [\"M\", \"L\", \"L\", \"L\", \"L\"]], [[[0.0, 0.9921875], [1.0, 0.9921875], [1.0, 0.99609375], [0.0, 0.99609375], [0.0, 0.9921875]], [\"M\", \"L\", \"L\", \"L\", \"L\"]], [[[0.0, 0.99609375], [1.0, 0.99609375], [1.0, 1.0], [0.0, 1.0], [0.0, 0.99609375]], [\"M\", \"L\", \"L\", \"L\", \"L\"]]], \"edgecolors\": [], \"edgewidths\": [0.3], \"offsets\": \"data01\", \"yindex\": 1, \"id\": \"386074521986320\", \"pathtransforms\": [], \"pathcoordinates\": \"data\", \"offsetcoordinates\": \"display\", \"zorder\": 1, \"xindex\": 0, \"alphas\": [null], \"facecolors\": [\"#00007F\", \"#000084\", \"#000088\", \"#00008D\", \"#000091\", \"#000096\", \"#00009A\", \"#00009F\", \"#0000A3\", \"#0000A8\", \"#0000AC\", \"#0000B1\", \"#0000B6\", \"#0000BA\", \"#0000BF\", \"#0000C3\", \"#0000C8\", \"#0000CC\", \"#0000D1\", \"#0000D5\", \"#0000DA\", \"#0000DE\", \"#0000E3\", \"#0000E8\", \"#0000EC\", \"#0000F1\", \"#0000F5\", \"#0000FA\", \"#0000FE\", \"#0000FF\", \"#0000FF\", \"#0000FF\", \"#0000FF\", \"#0004FF\", \"#0008FF\", \"#000CFF\", \"#0010FF\", \"#0014FF\", \"#0018FF\", \"#001CFF\", \"#0020FF\", \"#0024FF\", \"#0028FF\", \"#002CFF\", \"#0030FF\", \"#0034FF\", \"#0038FF\", \"#003CFF\", \"#0040FF\", \"#0044FF\", \"#0048FF\", \"#004CFF\", \"#0050FF\", \"#0054FF\", \"#0058FF\", \"#005CFF\", \"#0060FF\", \"#0064FF\", \"#0068FF\", \"#006CFF\", \"#0070FF\", \"#0074FF\", \"#0078FF\", \"#007CFF\", \"#0080FF\", \"#0084FF\", \"#0088FF\", \"#008CFF\", \"#0090FF\", \"#0094FF\", \"#0098FF\", \"#009CFF\", \"#00A0FF\", \"#00A4FF\", \"#00A8FF\", \"#00ACFF\", \"#00B0FF\", \"#00B4FF\", \"#00B8FF\", \"#00BCFF\", \"#00C0FF\", \"#00C4FF\", \"#00C8FF\", \"#00CCFF\", \"#00D0FF\", \"#00D4FF\", \"#00D8FF\", \"#00DCFE\", \"#00E0FA\", \"#00E4F7\", \"#02E8F4\", \"#05ECF1\", \"#08F0ED\", \"#0CF4EA\", \"#0FF8E7\", \"#12FCE4\", \"#15FFE1\", \"#18FFDD\", \"#1CFFDA\", \"#1FFFD7\", \"#22FFD4\", \"#25FFD0\", \"#29FFCD\", \"#2CFFCA\", \"#2FFFC7\", \"#32FFC3\", \"#36FFC0\", \"#39FFBD\", \"#3CFFBA\", \"#3FFFB7\", \"#42FFB3\", \"#46FFB0\", \"#49FFAD\", \"#4CFFAA\", \"#4FFFA6\", \"#53FFA3\", \"#56FFA0\", \"#59FF9D\", \"#5CFF9A\", \"#5FFF96\", \"#63FF93\", \"#66FF90\", \"#69FF8D\", \"#6CFF89\", \"#70FF86\", \"#73FF83\", \"#76FF80\", \"#79FF7D\", \"#7CFF79\", \"#80FF76\", \"#83FF73\", \"#86FF70\", \"#89FF6C\", \"#8DFF69\", \"#90FF66\", \"#93FF63\", \"#96FF5F\", \"#9AFF5C\", \"#9DFF59\", \"#A0FF56\", \"#A3FF53\", \"#A6FF4F\", \"#AAFF4C\", \"#ADFF49\", \"#B0FF46\", \"#B3FF42\", \"#B7FF3F\", \"#BAFF3C\", \"#BDFF39\", \"#C0FF36\", \"#C3FF32\", \"#C7FF2F\", \"#CAFF2C\", \"#CDFF29\", \"#D0FF25\", \"#D4FF22\", \"#D7FF1F\", \"#DAFF1C\", \"#DDFF18\", \"#E0FF15\", \"#E4FF12\", \"#E7FF0F\", \"#EAFF0C\", \"#EDFF08\", \"#F1FC05\", \"#F4F802\", \"#F7F400\", \"#FAF000\", \"#FEED00\", \"#FFE900\", \"#FFE500\", \"#FFE200\", \"#FFDE00\", \"#FFDA00\", \"#FFD700\", \"#FFD300\", \"#FFCF00\", \"#FFCB00\", \"#FFC800\", \"#FFC400\", \"#FFC000\", \"#FFBD00\", \"#FFB900\", \"#FFB500\", \"#FFB100\", \"#FFAE00\", \"#FFAA00\", \"#FFA600\", \"#FFA300\", \"#FF9F00\", \"#FF9B00\", \"#FF9800\", \"#FF9400\", \"#FF9000\", \"#FF8C00\", \"#FF8900\", \"#FF8500\", \"#FF8100\", \"#FF7E00\", \"#FF7A00\", \"#FF7600\", \"#FF7300\", \"#FF6F00\", \"#FF6B00\", \"#FF6700\", \"#FF6400\", \"#FF6000\", \"#FF5C00\", \"#FF5900\", \"#FF5500\", \"#FF5100\", \"#FF4D00\", \"#FF4A00\", \"#FF4600\", \"#FF4200\", \"#FF3F00\", \"#FF3B00\", \"#FF3700\", \"#FF3400\", \"#FF3000\", \"#FF2C00\", \"#FF2800\", \"#FF2500\", \"#FF2100\", \"#FF1D00\", \"#FF1A00\", \"#FF1600\", \"#FE1200\", \"#FA0F00\", \"#F50B00\", \"#F10700\", \"#EC0300\", \"#E80000\", \"#E30000\", \"#DE0000\", \"#DA0000\", \"#D50000\", \"#D10000\", \"#CC0000\", \"#C80000\", \"#C30000\", \"#BF0000\", \"#BA0000\", \"#B60000\", \"#B10000\", \"#AC0000\", \"#A80000\", \"#A30000\", \"#9F0000\", \"#9A0000\", \"#960000\", \"#910000\", \"#8D0000\", \"#880000\", \"#840000\", \"#7F0000\"]}], \"xscale\": \"linear\", \"bbox\": [0.78374999999999995, 0.12499999999999989, 0.026640624999999973, 0.77500000000000013]}], \"data\": {\"data01\": [[0.0, 0.0]]}, \"id\": \"386074521942352\", \"toolbar\": [\"reset\", \"move\"], \"height\": 440.0});\n",
        "}\n",
        "\n",
        "if(typeof(mpld3) !== \"undefined\"){\n",
        "   // already loaded: just create the figure\n",
        "   create_fig3860745219423529859229617();\n",
        "}else if(typeof define === \"function\" && define.amd){\n",
        "   // require.js is available: use it to load d3/mpld3\n",
        "   require.config({paths: {d3: \"http://d3js.org/d3.v3.min\"}});\n",
        "   require([\"d3\"], function(d3){\n",
        "      window.d3 = d3;\n",
        "      mpld3_load_lib(\"http://mpld3.github.io/js/mpld3.v0.1.js\", create_fig3860745219423529859229617);\n",
        "    });\n",
        "}else{\n",
        "    // require.js not available: dynamically load d3 & mpld3\n",
        "    mpld3_load_lib(\"http://d3js.org/d3.v3.min.js\", function(){\n",
        "        mpld3_load_lib(\"http://mpld3.github.io/js/mpld3.v0.1.js\", create_fig3860745219423529859229617);})\n",
        "}\n",
        "</script>"
       ],
       "metadata": {},
       "output_type": "display_data",
       "png": "[encoded data removed]",
       "text": [
        "<matplotlib.figure.Figure at 0x10d875d50>"
       ]
      },
      {
       "html": [
        "\n",
        "<style>\n",
        "\n",
        "</style>\n",
        "\n",
        "<div id=\"fig3860746206741928795620089\"></div>\n",
        "<script>\n",
        "function mpld3_load_lib(url, callback){\n",
        "  var s = document.createElement('script');\n",
        "  s.src = url;\n",
        "  s.async = true;\n",
        "  s.onreadystatechange = s.onload = callback;\n",
        "  s.onerror = function(){console.warn(\"failed to load library \" + url);};\n",
        "  document.getElementsByTagName(\"head\")[0].appendChild(s);\n",
        "}\n",
        "\n",
        "function create_fig3860746206741928795620089(){\n",
        "  \n",
        "  mpld3.draw_figure(\"fig3860746206741928795620089\", {\"width\": 640.0, \"axes\": [{\"xlim\": [-0.5, 2.5], \"yscale\": \"linear\", \"axesbg\": \"#EAEAF2\", \"texts\": [{\"v_baseline\": \"auto\", \"h_anchor\": \"start\", \"color\": \"#FFFFFF\", \"text\": \"38\", \"coordinates\": \"data\", \"zorder\": 3, \"alpha\": 1, \"fontsize\": 20.0, \"position\": [0.8, 0.2], \"rotation\": -0.0, \"id\": \"386074489306320\"}, {\"v_baseline\": \"auto\", \"h_anchor\": \"start\", \"color\": \"#FFFFFF\", \"text\": \"63\", \"coordinates\": \"data\", \"zorder\": 3, \"alpha\": 1, \"fontsize\": 20.0, \"position\": [0.8, 1.2], \"rotation\": -0.0, \"id\": \"386074489307408\"}, {\"v_baseline\": \"auto\", \"h_anchor\": \"start\", \"color\": \"#FFFFFF\", \"text\": \"47\", \"coordinates\": \"data\", \"zorder\": 3, \"alpha\": 1, \"fontsize\": 20.0, \"position\": [0.8, 2.2], \"rotation\": -0.0, \"id\": \"386074489308496\"}, {\"v_baseline\": \"auto\", \"h_anchor\": \"middle\", \"color\": \"#000000\", \"text\": \"sigmoid - Test data\", \"coordinates\": \"axes\", \"zorder\": 3, \"alpha\": 1, \"fontsize\": 12.0, \"position\": [0.5, 1.0162919517758229], \"rotation\": -0.0, \"id\": \"386074484657616\"}], \"zoomable\": true, \"images\": [{\"coordinates\": \"data\", \"zorder\": 0, \"extent\": [-0.5, 2.5, 2.5, -0.5], \"alpha\": null, \"data\": \"iVBORw0KGgoAAAANSUhEUgAAAVYAAAFWCAYAAAAyr7WDAAAABHNCSVQICAgIfAhkiAAABK1JREFUeJzt1NEJgDAUwMCni5dOrksEinI3Qb5yzaxn+Lw1+3QCgT3rdAKB+3QAwN8YK0DMWAFixgoQM1aAmLECxIwVIGasADFjBYgZK0DMWAFixgoQM1aAmLECxIwVIGasADFjBYgZK0DMWAFixgoQM1aAmLECxIwVIGasADFjBYgZK0DMWAFixgoQM1aAmLECxIwVIGasADFjBYgZK0DMWAFixgoQM1aAmLECxIwVIGasADFjBYgZK0DMWAFixgoQM1aAmLECxIwVIGasADFjBYgZK0DMWAFixgoQM1aAmLECxIwVIGasADFjBYgZK0DMWAFixgoQM1aAmLECxIwVIGasADFjBYgZK0DMWAFixgoQM1aAmLECxIwVIGasADFjBYgZK0DMWAFixgoQM1aAmLECxIwVIGasADFjBYgZK0DMWAFixgoQM1aAmLECxIwVIGasADFjBYgZK0DMWAFixgoQM1aAmLECxIwVIGasADFjBYgZK0DMWAFixgoQM1aAmLECxIwVIGasADFjBYgZK0DMWAFixgoQM1aAmLECxIwVIGasADFjBYgZK0DMWAFixgoQM1aAmLECxIwVIGasADFjBYgZK0DMWAFixgoQM1aAmLECxIwVIGasADFjBYgZK0DMWAFixgoQM1aAmLECxIwVIGasADFjBYgZK0DMWAFixgoQM1aAmLECxIwVIGasADFjBYgZK0DMWAFixgoQM1aAmLECxIwVIGasADFjBYgZK0DMWAFixgoQM1aAmLECxIwVIGasADFjBYgZK0DMWAFixgoQM1aAmLECxIwVIGasADFjBYgZK0DMWAFixgoQM1aAmLECxIwVIGasADFjBYgZK0DMWAFixgoQM1aAmLECxIwVIGasADFjBYgZK0DMWAFixgoQM1aAmLECxIwVIGasADFjBYgZK0DMWAFixgoQM1aAmLECxIwVIGasADFjBYgZK0DMWAFixgoQM1aAmLECxIwVIGasADFjBYgZK0DMWAFixgoQM1aAmLECxIwVIGasADFjBYgZK0DMWAFixgoQM1aAmLECxIwVIGasADFjBYgZK0DMWAFixgoQM1aAmLECxIwVIGasADFjBYgZK0DMWAFixgoQM1aAmLECxIwVIGasADFjBYgZK0DMWAFixgoQM1aAmLECxIwVIGasADFjBYgZK0DMWAFixgoQM1aAmLECxIwVIGasADFjBYgZK0DMWAFixgoQM1aAmLECxIwVIGasADFjBYgZK0DMWAFixgoQM1aAmLECxIwVIGasADFjBYgZK0DMWAFixgoQM1aAmLECxIwVIGasADFjBYgZK0DMWAFixgoQM1aAmLECxIwVIGasADFjBYgZK0DMWAFixgoQM1aAmLECxIwVIGasADFjBYgZK0DMWAFixgoQM1aAmLECxIwVIGasADFjBYgZK0DMWAFixgoQM1aAmLECxIwVIGasADFjBYgZK0DMWAFixgoQM1aAmLECxIwVIGasADFjBYgZK0DMWAFixgoQM1aAmLECxIwVIGasADFjBYgZK0DMWAFixgoQM1aAmLECxIwVIGasADFjBYgZK0DMWAFixgoQM1aA2AvvdAYq7xgZIQAAAABJRU5ErkJggg==\", \"id\": \"386074484767632\"}], \"xdomain\": [-0.5, 2.5], \"ylim\": [2.5, -0.5], \"paths\": [], \"sharey\": [], \"sharex\": [], \"axesbgalpha\": null, \"axes\": [{\"grid\": {\"color\": \"#FFFFFF\", \"alpha\": 1.0, \"dasharray\": \"10,0\", \"gridOn\": true}, \"position\": \"bottom\", \"nticks\": 3, \"tickvalues\": [0, 1, 2], \"tickformat\": null}, {\"grid\": {\"color\": \"#FFFFFF\", \"alpha\": 1.0, \"dasharray\": \"10,0\", \"gridOn\": true}, \"position\": \"left\", \"nticks\": 3, \"tickvalues\": [0, 1, 2], \"tickformat\": null}], \"lines\": [], \"markers\": [], \"id\": \"386074484764816\", \"ydomain\": [2.5, -0.5], \"collections\": [], \"xscale\": \"linear\", \"bbox\": [0.21218749999999997, 0.125, 0.53281250000000002, 0.77500000000000002]}, {\"xlim\": [0.0, 1.0], \"yscale\": \"linear\", \"axesbg\": \"#EAEAF2\", \"texts\": [], \"zoomable\": false, \"images\": [], \"xdomain\": [0.0, 1.0], \"ylim\": [0.0, 1.0], \"paths\": [], \"sharey\": [], \"sharex\": [], \"axesbgalpha\": null, \"axes\": [{\"grid\": {\"gridOn\": false}, \"position\": \"bottom\", \"nticks\": 0, \"tickvalues\": [], \"tickformat\": \"\"}, {\"grid\": {\"gridOn\": false}, \"position\": \"right\", \"nticks\": 11, \"tickvalues\": [0.0, 0.10000000000000001, 0.20000000000000001, 0.30000000000000004, 0.40000000000000002, 0.5, 0.60000000000000009, 0.70000000000000007, 0.80000000000000004, 0.90000000000000002, 1.0], \"tickformat\": null}], \"lines\": [], \"markers\": [], \"id\": \"386074489310032\", \"ydomain\": [0.0, 1.0], \"collections\": [{\"paths\": [[[[0.0, 0.0], [1.0, 0.0], [1.0, 0.00390625], [0.0, 0.00390625], [0.0, 0.0]], [\"M\", \"L\", \"L\", \"L\", \"L\"]], [[[0.0, 0.00390625], [1.0, 0.00390625], [1.0, 0.0078125], [0.0, 0.0078125], [0.0, 0.00390625]], [\"M\", \"L\", \"L\", \"L\", \"L\"]], [[[0.0, 0.0078125], [1.0, 0.0078125], [1.0, 0.01171875], [0.0, 0.01171875], [0.0, 0.0078125]], [\"M\", \"L\", \"L\", \"L\", \"L\"]], [[[0.0, 0.01171875], [1.0, 0.01171875], [1.0, 0.015625], [0.0, 0.015625], [0.0, 0.01171875]], [\"M\", \"L\", \"L\", \"L\", \"L\"]], [[[0.0, 0.015625], [1.0, 0.015625], [1.0, 0.01953125], [0.0, 0.01953125], [0.0, 0.015625]], [\"M\", \"L\", \"L\", \"L\", \"L\"]], [[[0.0, 0.01953125], [1.0, 0.01953125], [1.0, 0.0234375], [0.0, 0.0234375], [0.0, 0.01953125]], [\"M\", \"L\", \"L\", \"L\", \"L\"]], [[[0.0, 0.0234375], [1.0, 0.0234375], [1.0, 0.02734375], [0.0, 0.02734375], [0.0, 0.0234375]], [\"M\", \"L\", \"L\", \"L\", \"L\"]], [[[0.0, 0.02734375], [1.0, 0.02734375], [1.0, 0.03125], [0.0, 0.03125], [0.0, 0.02734375]], [\"M\", \"L\", \"L\", \"L\", \"L\"]], [[[0.0, 0.03125], [1.0, 0.03125], [1.0, 0.03515625], [0.0, 0.03515625], [0.0, 0.03125]], [\"M\", \"L\", \"L\", \"L\", \"L\"]], [[[0.0, 0.03515625], [1.0, 0.03515625], [1.0, 0.0390625], [0.0, 0.0390625], [0.0, 0.03515625]], [\"M\", \"L\", \"L\", \"L\", \"L\"]], [[[0.0, 0.0390625], [1.0, 0.0390625], [1.0, 0.04296875], [0.0, 0.04296875], [0.0, 0.0390625]], [\"M\", \"L\", \"L\", \"L\", \"L\"]], [[[0.0, 0.04296875], [1.0, 0.04296875], [1.0, 0.046875], [0.0, 0.046875], [0.0, 0.04296875]], [\"M\", \"L\", \"L\", \"L\", \"L\"]], [[[0.0, 0.046875], [1.0, 0.046875], [1.0, 0.05078125], [0.0, 0.05078125], [0.0, 0.046875]], [\"M\", \"L\", \"L\", \"L\", \"L\"]], [[[0.0, 0.05078125], [1.0, 0.05078125], [1.0, 0.0546875], [0.0, 0.0546875], [0.0, 0.05078125]], [\"M\", \"L\", \"L\", \"L\", \"L\"]], [[[0.0, 0.0546875], [1.0, 0.0546875], [1.0, 0.05859375], [0.0, 0.05859375], [0.0, 0.0546875]], [\"M\", \"L\", \"L\", \"L\", \"L\"]], [[[0.0, 0.05859375], [1.0, 0.05859375], [1.0, 0.0625], [0.0, 0.0625], [0.0, 0.05859375]], [\"M\", \"L\", \"L\", \"L\", \"L\"]], [[[0.0, 0.0625], [1.0, 0.0625], [1.0, 0.06640625], [0.0, 0.06640625], [0.0, 0.0625]], [\"M\", \"L\", \"L\", \"L\", \"L\"]], [[[0.0, 0.06640625], [1.0, 0.06640625], [1.0, 0.0703125], [0.0, 0.0703125], [0.0, 0.06640625]], [\"M\", \"L\", \"L\", \"L\", \"L\"]], [[[0.0, 0.0703125], [1.0, 0.0703125], [1.0, 0.07421875], [0.0, 0.07421875], [0.0, 0.0703125]], [\"M\", \"L\", \"L\", \"L\", \"L\"]], [[[0.0, 0.07421875], [1.0, 0.07421875], [1.0, 0.078125], [0.0, 0.078125], [0.0, 0.07421875]], [\"M\", \"L\", \"L\", \"L\", \"L\"]], [[[0.0, 0.078125], [1.0, 0.078125], [1.0, 0.08203125], [0.0, 0.08203125], [0.0, 0.078125]], [\"M\", \"L\", \"L\", \"L\", \"L\"]], [[[0.0, 0.08203125], [1.0, 0.08203125], [1.0, 0.0859375], [0.0, 0.0859375], [0.0, 0.08203125]], [\"M\", \"L\", \"L\", \"L\", \"L\"]], [[[0.0, 0.0859375], [1.0, 0.0859375], [1.0, 0.08984375], [0.0, 0.08984375], [0.0, 0.0859375]], [\"M\", \"L\", \"L\", \"L\", \"L\"]], [[[0.0, 0.08984375], [1.0, 0.08984375], [1.0, 0.09375], [0.0, 0.09375], [0.0, 0.08984375]], [\"M\", \"L\", \"L\", \"L\", \"L\"]], [[[0.0, 0.09375], [1.0, 0.09375], [1.0, 0.09765625], [0.0, 0.09765625], [0.0, 0.09375]], [\"M\", \"L\", \"L\", \"L\", \"L\"]], [[[0.0, 0.09765625], [1.0, 0.09765625], [1.0, 0.1015625], [0.0, 0.1015625], [0.0, 0.09765625]], [\"M\", \"L\", \"L\", \"L\", \"L\"]], [[[0.0, 0.1015625], [1.0, 0.1015625], [1.0, 0.10546875], [0.0, 0.10546875], [0.0, 0.1015625]], [\"M\", \"L\", \"L\", \"L\", \"L\"]], [[[0.0, 0.10546875], [1.0, 0.10546875], [1.0, 0.109375], [0.0, 0.109375], [0.0, 0.10546875]], [\"M\", \"L\", \"L\", \"L\", \"L\"]], [[[0.0, 0.109375], [1.0, 0.109375], [1.0, 0.11328125], [0.0, 0.11328125], [0.0, 0.109375]], [\"M\", \"L\", \"L\", \"L\", \"L\"]], [[[0.0, 0.11328125], [1.0, 0.11328125], [1.0, 0.1171875], [0.0, 0.1171875], [0.0, 0.11328125]], [\"M\", \"L\", \"L\", \"L\", \"L\"]], [[[0.0, 0.1171875], [1.0, 0.1171875], [1.0, 0.12109375], [0.0, 0.12109375], [0.0, 0.1171875]], [\"M\", \"L\", \"L\", \"L\", \"L\"]], [[[0.0, 0.12109375], [1.0, 0.12109375], [1.0, 0.125], [0.0, 0.125], [0.0, 0.12109375]], [\"M\", \"L\", \"L\", \"L\", \"L\"]], [[[0.0, 0.125], [1.0, 0.125], [1.0, 0.12890625], [0.0, 0.12890625], [0.0, 0.125]], [\"M\", \"L\", \"L\", \"L\", \"L\"]], [[[0.0, 0.12890625], [1.0, 0.12890625], [1.0, 0.1328125], [0.0, 0.1328125], [0.0, 0.12890625]], [\"M\", \"L\", \"L\", \"L\", \"L\"]], [[[0.0, 0.1328125], [1.0, 0.1328125], [1.0, 0.13671875], [0.0, 0.13671875], [0.0, 0.1328125]], [\"M\", \"L\", \"L\", \"L\", \"L\"]], [[[0.0, 0.13671875], [1.0, 0.13671875], [1.0, 0.140625], [0.0, 0.140625], [0.0, 0.13671875]], [\"M\", \"L\", \"L\", \"L\", \"L\"]], [[[0.0, 0.140625], [1.0, 0.140625], [1.0, 0.14453125], [0.0, 0.14453125], [0.0, 0.140625]], [\"M\", \"L\", \"L\", \"L\", \"L\"]], [[[0.0, 0.14453125], [1.0, 0.14453125], [1.0, 0.1484375], [0.0, 0.1484375], [0.0, 0.14453125]], [\"M\", \"L\", \"L\", \"L\", \"L\"]], [[[0.0, 0.1484375], [1.0, 0.1484375], [1.0, 0.15234375], [0.0, 0.15234375], [0.0, 0.1484375]], [\"M\", \"L\", \"L\", \"L\", \"L\"]], [[[0.0, 0.15234375], [1.0, 0.15234375], [1.0, 0.15625], [0.0, 0.15625], [0.0, 0.15234375]], [\"M\", \"L\", \"L\", \"L\", \"L\"]], [[[0.0, 0.15625], [1.0, 0.15625], [1.0, 0.16015625], [0.0, 0.16015625], [0.0, 0.15625]], [\"M\", \"L\", \"L\", \"L\", \"L\"]], [[[0.0, 0.16015625], [1.0, 0.16015625], [1.0, 0.1640625], [0.0, 0.1640625], [0.0, 0.16015625]], [\"M\", \"L\", \"L\", \"L\", \"L\"]], [[[0.0, 0.1640625], [1.0, 0.1640625], [1.0, 0.16796875], [0.0, 0.16796875], [0.0, 0.1640625]], [\"M\", \"L\", \"L\", \"L\", \"L\"]], [[[0.0, 0.16796875], [1.0, 0.16796875], [1.0, 0.171875], [0.0, 0.171875], [0.0, 0.16796875]], [\"M\", \"L\", \"L\", \"L\", \"L\"]], [[[0.0, 0.171875], [1.0, 0.171875], [1.0, 0.17578125], [0.0, 0.17578125], [0.0, 0.171875]], [\"M\", \"L\", \"L\", \"L\", \"L\"]], [[[0.0, 0.17578125], [1.0, 0.17578125], [1.0, 0.1796875], [0.0, 0.1796875], [0.0, 0.17578125]], [\"M\", \"L\", \"L\", \"L\", \"L\"]], [[[0.0, 0.1796875], [1.0, 0.1796875], [1.0, 0.18359375], [0.0, 0.18359375], [0.0, 0.1796875]], [\"M\", \"L\", \"L\", \"L\", \"L\"]], [[[0.0, 0.18359375], [1.0, 0.18359375], [1.0, 0.1875], [0.0, 0.1875], [0.0, 0.18359375]], [\"M\", \"L\", \"L\", \"L\", \"L\"]], [[[0.0, 0.1875], [1.0, 0.1875], [1.0, 0.19140625], [0.0, 0.19140625], [0.0, 0.1875]], [\"M\", \"L\", \"L\", \"L\", \"L\"]], [[[0.0, 0.19140625], [1.0, 0.19140625], [1.0, 0.1953125], [0.0, 0.1953125], [0.0, 0.19140625]], [\"M\", \"L\", \"L\", \"L\", \"L\"]], [[[0.0, 0.1953125], [1.0, 0.1953125], [1.0, 0.19921875], [0.0, 0.19921875], [0.0, 0.1953125]], [\"M\", \"L\", \"L\", \"L\", \"L\"]], [[[0.0, 0.19921875], [1.0, 0.19921875], [1.0, 0.203125], [0.0, 0.203125], [0.0, 0.19921875]], [\"M\", \"L\", \"L\", \"L\", \"L\"]], [[[0.0, 0.203125], [1.0, 0.203125], [1.0, 0.20703125], [0.0, 0.20703125], [0.0, 0.203125]], [\"M\", \"L\", \"L\", \"L\", \"L\"]], [[[0.0, 0.20703125], [1.0, 0.20703125], [1.0, 0.2109375], [0.0, 0.2109375], [0.0, 0.20703125]], [\"M\", \"L\", \"L\", \"L\", \"L\"]], [[[0.0, 0.2109375], [1.0, 0.2109375], [1.0, 0.21484375], [0.0, 0.21484375], [0.0, 0.2109375]], [\"M\", \"L\", \"L\", \"L\", \"L\"]], [[[0.0, 0.21484375], [1.0, 0.21484375], [1.0, 0.21875], [0.0, 0.21875], [0.0, 0.21484375]], [\"M\", \"L\", \"L\", \"L\", \"L\"]], [[[0.0, 0.21875], [1.0, 0.21875], [1.0, 0.22265625], [0.0, 0.22265625], [0.0, 0.21875]], [\"M\", \"L\", \"L\", \"L\", \"L\"]], [[[0.0, 0.22265625], [1.0, 0.22265625], [1.0, 0.2265625], [0.0, 0.2265625], [0.0, 0.22265625]], [\"M\", \"L\", \"L\", \"L\", \"L\"]], [[[0.0, 0.2265625], [1.0, 0.2265625], [1.0, 0.23046875], [0.0, 0.23046875], [0.0, 0.2265625]], [\"M\", \"L\", \"L\", \"L\", \"L\"]], [[[0.0, 0.23046875], [1.0, 0.23046875], [1.0, 0.234375], [0.0, 0.234375], [0.0, 0.23046875]], [\"M\", \"L\", \"L\", \"L\", \"L\"]], [[[0.0, 0.234375], [1.0, 0.234375], [1.0, 0.23828125], [0.0, 0.23828125], [0.0, 0.234375]], [\"M\", \"L\", \"L\", \"L\", \"L\"]], [[[0.0, 0.23828125], [1.0, 0.23828125], [1.0, 0.2421875], [0.0, 0.2421875], [0.0, 0.23828125]], [\"M\", \"L\", \"L\", \"L\", \"L\"]], [[[0.0, 0.2421875], [1.0, 0.2421875], [1.0, 0.24609375], [0.0, 0.24609375], [0.0, 0.2421875]], [\"M\", \"L\", \"L\", \"L\", \"L\"]], [[[0.0, 0.24609375], [1.0, 0.24609375], [1.0, 0.25], [0.0, 0.25], [0.0, 0.24609375]], [\"M\", \"L\", \"L\", \"L\", \"L\"]], [[[0.0, 0.25], [1.0, 0.25], [1.0, 0.25390625], [0.0, 0.25390625], [0.0, 0.25]], [\"M\", \"L\", \"L\", \"L\", \"L\"]], [[[0.0, 0.25390625], [1.0, 0.25390625], [1.0, 0.2578125], [0.0, 0.2578125], [0.0, 0.25390625]], [\"M\", \"L\", \"L\", \"L\", \"L\"]], [[[0.0, 0.2578125], [1.0, 0.2578125], [1.0, 0.26171875], [0.0, 0.26171875], [0.0, 0.2578125]], [\"M\", \"L\", \"L\", \"L\", \"L\"]], [[[0.0, 0.26171875], [1.0, 0.26171875], [1.0, 0.265625], [0.0, 0.265625], [0.0, 0.26171875]], [\"M\", \"L\", \"L\", \"L\", \"L\"]], [[[0.0, 0.265625], [1.0, 0.265625], [1.0, 0.26953125], [0.0, 0.26953125], [0.0, 0.265625]], [\"M\", \"L\", \"L\", \"L\", \"L\"]], [[[0.0, 0.26953125], [1.0, 0.26953125], [1.0, 0.2734375], [0.0, 0.2734375], [0.0, 0.26953125]], [\"M\", \"L\", \"L\", \"L\", \"L\"]], [[[0.0, 0.2734375], [1.0, 0.2734375], [1.0, 0.27734375], [0.0, 0.27734375], [0.0, 0.2734375]], [\"M\", \"L\", \"L\", \"L\", \"L\"]], [[[0.0, 0.27734375], [1.0, 0.27734375], [1.0, 0.28125], [0.0, 0.28125], [0.0, 0.27734375]], [\"M\", \"L\", \"L\", \"L\", \"L\"]], [[[0.0, 0.28125], [1.0, 0.28125], [1.0, 0.28515625], [0.0, 0.28515625], [0.0, 0.28125]], [\"M\", \"L\", \"L\", \"L\", \"L\"]], [[[0.0, 0.28515625], [1.0, 0.28515625], [1.0, 0.2890625], [0.0, 0.2890625], [0.0, 0.28515625]], [\"M\", \"L\", \"L\", \"L\", \"L\"]], [[[0.0, 0.2890625], [1.0, 0.2890625], [1.0, 0.29296875], [0.0, 0.29296875], [0.0, 0.2890625]], [\"M\", \"L\", \"L\", \"L\", \"L\"]], [[[0.0, 0.29296875], [1.0, 0.29296875], [1.0, 0.296875], [0.0, 0.296875], [0.0, 0.29296875]], [\"M\", \"L\", \"L\", \"L\", \"L\"]], [[[0.0, 0.296875], [1.0, 0.296875], [1.0, 0.30078125], [0.0, 0.30078125], [0.0, 0.296875]], [\"M\", \"L\", \"L\", \"L\", \"L\"]], [[[0.0, 0.30078125], [1.0, 0.30078125], [1.0, 0.3046875], [0.0, 0.3046875], [0.0, 0.30078125]], [\"M\", \"L\", \"L\", \"L\", \"L\"]], [[[0.0, 0.3046875], [1.0, 0.3046875], [1.0, 0.30859375], [0.0, 0.30859375], [0.0, 0.3046875]], [\"M\", \"L\", \"L\", \"L\", \"L\"]], [[[0.0, 0.30859375], [1.0, 0.30859375], [1.0, 0.3125], [0.0, 0.3125], [0.0, 0.30859375]], [\"M\", \"L\", \"L\", \"L\", \"L\"]], [[[0.0, 0.3125], [1.0, 0.3125], [1.0, 0.31640625], [0.0, 0.31640625], [0.0, 0.3125]], [\"M\", \"L\", \"L\", \"L\", \"L\"]], [[[0.0, 0.31640625], [1.0, 0.31640625], [1.0, 0.3203125], [0.0, 0.3203125], [0.0, 0.31640625]], [\"M\", \"L\", \"L\", \"L\", \"L\"]], [[[0.0, 0.3203125], [1.0, 0.3203125], [1.0, 0.32421875], [0.0, 0.32421875], [0.0, 0.3203125]], [\"M\", \"L\", \"L\", \"L\", \"L\"]], [[[0.0, 0.32421875], [1.0, 0.32421875], [1.0, 0.328125], [0.0, 0.328125], [0.0, 0.32421875]], [\"M\", \"L\", \"L\", \"L\", \"L\"]], [[[0.0, 0.328125], [1.0, 0.328125], [1.0, 0.33203125], [0.0, 0.33203125], [0.0, 0.328125]], [\"M\", \"L\", \"L\", \"L\", \"L\"]], [[[0.0, 0.33203125], [1.0, 0.33203125], [1.0, 0.3359375], [0.0, 0.3359375], [0.0, 0.33203125]], [\"M\", \"L\", \"L\", \"L\", \"L\"]], [[[0.0, 0.3359375], [1.0, 0.3359375], [1.0, 0.33984375], [0.0, 0.33984375], [0.0, 0.3359375]], [\"M\", \"L\", \"L\", \"L\", \"L\"]], [[[0.0, 0.33984375], [1.0, 0.33984375], [1.0, 0.34375], [0.0, 0.34375], [0.0, 0.33984375]], [\"M\", \"L\", \"L\", \"L\", \"L\"]], [[[0.0, 0.34375], [1.0, 0.34375], [1.0, 0.34765625], [0.0, 0.34765625], [0.0, 0.34375]], [\"M\", \"L\", \"L\", \"L\", \"L\"]], [[[0.0, 0.34765625], [1.0, 0.34765625], [1.0, 0.3515625], [0.0, 0.3515625], [0.0, 0.34765625]], [\"M\", \"L\", \"L\", \"L\", \"L\"]], [[[0.0, 0.3515625], [1.0, 0.3515625], [1.0, 0.35546875], [0.0, 0.35546875], [0.0, 0.3515625]], [\"M\", \"L\", \"L\", \"L\", \"L\"]], [[[0.0, 0.35546875], [1.0, 0.35546875], [1.0, 0.359375], [0.0, 0.359375], [0.0, 0.35546875]], [\"M\", \"L\", \"L\", \"L\", \"L\"]], [[[0.0, 0.359375], [1.0, 0.359375], [1.0, 0.36328125], [0.0, 0.36328125], [0.0, 0.359375]], [\"M\", \"L\", \"L\", \"L\", \"L\"]], [[[0.0, 0.36328125], [1.0, 0.36328125], [1.0, 0.3671875], [0.0, 0.3671875], [0.0, 0.36328125]], [\"M\", \"L\", \"L\", \"L\", \"L\"]], [[[0.0, 0.3671875], [1.0, 0.3671875], [1.0, 0.37109375], [0.0, 0.37109375], [0.0, 0.3671875]], [\"M\", \"L\", \"L\", \"L\", \"L\"]], [[[0.0, 0.37109375], [1.0, 0.37109375], [1.0, 0.375], [0.0, 0.375], [0.0, 0.37109375]], [\"M\", \"L\", \"L\", \"L\", \"L\"]], [[[0.0, 0.375], [1.0, 0.375], [1.0, 0.37890625], [0.0, 0.37890625], [0.0, 0.375]], [\"M\", \"L\", \"L\", \"L\", \"L\"]], [[[0.0, 0.37890625], [1.0, 0.37890625], [1.0, 0.3828125], [0.0, 0.3828125], [0.0, 0.37890625]], [\"M\", \"L\", \"L\", \"L\", \"L\"]], [[[0.0, 0.3828125], [1.0, 0.3828125], [1.0, 0.38671875], [0.0, 0.38671875], [0.0, 0.3828125]], [\"M\", \"L\", \"L\", \"L\", \"L\"]], [[[0.0, 0.38671875], [1.0, 0.38671875], [1.0, 0.390625], [0.0, 0.390625], [0.0, 0.38671875]], [\"M\", \"L\", \"L\", \"L\", \"L\"]], [[[0.0, 0.390625], [1.0, 0.390625], [1.0, 0.39453125], [0.0, 0.39453125], [0.0, 0.390625]], [\"M\", \"L\", \"L\", \"L\", \"L\"]], [[[0.0, 0.39453125], [1.0, 0.39453125], [1.0, 0.3984375], [0.0, 0.3984375], [0.0, 0.39453125]], [\"M\", \"L\", \"L\", \"L\", \"L\"]], [[[0.0, 0.3984375], [1.0, 0.3984375], [1.0, 0.40234375], [0.0, 0.40234375], [0.0, 0.3984375]], [\"M\", \"L\", \"L\", \"L\", \"L\"]], [[[0.0, 0.40234375], [1.0, 0.40234375], [1.0, 0.40625], [0.0, 0.40625], [0.0, 0.40234375]], [\"M\", \"L\", \"L\", \"L\", \"L\"]], [[[0.0, 0.40625], [1.0, 0.40625], [1.0, 0.41015625], [0.0, 0.41015625], [0.0, 0.40625]], [\"M\", \"L\", \"L\", \"L\", \"L\"]], [[[0.0, 0.41015625], [1.0, 0.41015625], [1.0, 0.4140625], [0.0, 0.4140625], [0.0, 0.41015625]], [\"M\", \"L\", \"L\", \"L\", \"L\"]], [[[0.0, 0.4140625], [1.0, 0.4140625], [1.0, 0.41796875], [0.0, 0.41796875], [0.0, 0.4140625]], [\"M\", \"L\", \"L\", \"L\", \"L\"]], [[[0.0, 0.41796875], [1.0, 0.41796875], [1.0, 0.421875], [0.0, 0.421875], [0.0, 0.41796875]], [\"M\", \"L\", \"L\", \"L\", \"L\"]], [[[0.0, 0.421875], [1.0, 0.421875], [1.0, 0.42578125], [0.0, 0.42578125], [0.0, 0.421875]], [\"M\", \"L\", \"L\", \"L\", \"L\"]], [[[0.0, 0.42578125], [1.0, 0.42578125], [1.0, 0.4296875], [0.0, 0.4296875], [0.0, 0.42578125]], [\"M\", \"L\", \"L\", \"L\", \"L\"]], [[[0.0, 0.4296875], [1.0, 0.4296875], [1.0, 0.43359375], [0.0, 0.43359375], [0.0, 0.4296875]], [\"M\", \"L\", \"L\", \"L\", \"L\"]], [[[0.0, 0.43359375], [1.0, 0.43359375], [1.0, 0.4375], [0.0, 0.4375], [0.0, 0.43359375]], [\"M\", \"L\", \"L\", \"L\", \"L\"]], [[[0.0, 0.4375], [1.0, 0.4375], [1.0, 0.44140625], [0.0, 0.44140625], [0.0, 0.4375]], [\"M\", \"L\", \"L\", \"L\", \"L\"]], [[[0.0, 0.44140625], [1.0, 0.44140625], [1.0, 0.4453125], [0.0, 0.4453125], [0.0, 0.44140625]], [\"M\", \"L\", \"L\", \"L\", \"L\"]], [[[0.0, 0.4453125], [1.0, 0.4453125], [1.0, 0.44921875], [0.0, 0.44921875], [0.0, 0.4453125]], [\"M\", \"L\", \"L\", \"L\", \"L\"]], [[[0.0, 0.44921875], [1.0, 0.44921875], [1.0, 0.453125], [0.0, 0.453125], [0.0, 0.44921875]], [\"M\", \"L\", \"L\", \"L\", \"L\"]], [[[0.0, 0.453125], [1.0, 0.453125], [1.0, 0.45703125], [0.0, 0.45703125], [0.0, 0.453125]], [\"M\", \"L\", \"L\", \"L\", \"L\"]], [[[0.0, 0.45703125], [1.0, 0.45703125], [1.0, 0.4609375], [0.0, 0.4609375], [0.0, 0.45703125]], [\"M\", \"L\", \"L\", \"L\", \"L\"]], [[[0.0, 0.4609375], [1.0, 0.4609375], [1.0, 0.46484375], [0.0, 0.46484375], [0.0, 0.4609375]], [\"M\", \"L\", \"L\", \"L\", \"L\"]], [[[0.0, 0.46484375], [1.0, 0.46484375], [1.0, 0.46875], [0.0, 0.46875], [0.0, 0.46484375]], [\"M\", \"L\", \"L\", \"L\", \"L\"]], [[[0.0, 0.46875], [1.0, 0.46875], [1.0, 0.47265625], [0.0, 0.47265625], [0.0, 0.46875]], [\"M\", \"L\", \"L\", \"L\", \"L\"]], [[[0.0, 0.47265625], [1.0, 0.47265625], [1.0, 0.4765625], [0.0, 0.4765625], [0.0, 0.47265625]], [\"M\", \"L\", \"L\", \"L\", \"L\"]], [[[0.0, 0.4765625], [1.0, 0.4765625], [1.0, 0.48046875], [0.0, 0.48046875], [0.0, 0.4765625]], [\"M\", \"L\", \"L\", \"L\", \"L\"]], [[[0.0, 0.48046875], [1.0, 0.48046875], [1.0, 0.484375], [0.0, 0.484375], [0.0, 0.48046875]], [\"M\", \"L\", \"L\", \"L\", \"L\"]], [[[0.0, 0.484375], [1.0, 0.484375], [1.0, 0.48828125], [0.0, 0.48828125], [0.0, 0.484375]], [\"M\", \"L\", \"L\", \"L\", \"L\"]], [[[0.0, 0.48828125], [1.0, 0.48828125], [1.0, 0.4921875], [0.0, 0.4921875], [0.0, 0.48828125]], [\"M\", \"L\", \"L\", \"L\", \"L\"]], [[[0.0, 0.4921875], [1.0, 0.4921875], [1.0, 0.49609375], [0.0, 0.49609375], [0.0, 0.4921875]], [\"M\", \"L\", \"L\", \"L\", \"L\"]], [[[0.0, 0.49609375], [1.0, 0.49609375], [1.0, 0.5], [0.0, 0.5], [0.0, 0.49609375]], [\"M\", \"L\", \"L\", \"L\", \"L\"]], [[[0.0, 0.5], [1.0, 0.5], [1.0, 0.50390625], [0.0, 0.50390625], [0.0, 0.5]], [\"M\", \"L\", \"L\", \"L\", \"L\"]], [[[0.0, 0.50390625], [1.0, 0.50390625], [1.0, 0.5078125], [0.0, 0.5078125], [0.0, 0.50390625]], [\"M\", \"L\", \"L\", \"L\", \"L\"]], [[[0.0, 0.5078125], [1.0, 0.5078125], [1.0, 0.51171875], [0.0, 0.51171875], [0.0, 0.5078125]], [\"M\", \"L\", \"L\", \"L\", \"L\"]], [[[0.0, 0.51171875], [1.0, 0.51171875], [1.0, 0.515625], [0.0, 0.515625], [0.0, 0.51171875]], [\"M\", \"L\", \"L\", \"L\", \"L\"]], [[[0.0, 0.515625], [1.0, 0.515625], [1.0, 0.51953125], [0.0, 0.51953125], [0.0, 0.515625]], [\"M\", \"L\", \"L\", \"L\", \"L\"]], [[[0.0, 0.51953125], [1.0, 0.51953125], [1.0, 0.5234375], [0.0, 0.5234375], [0.0, 0.51953125]], [\"M\", \"L\", \"L\", \"L\", \"L\"]], [[[0.0, 0.5234375], [1.0, 0.5234375], [1.0, 0.52734375], [0.0, 0.52734375], [0.0, 0.5234375]], [\"M\", \"L\", \"L\", \"L\", \"L\"]], [[[0.0, 0.52734375], [1.0, 0.52734375], [1.0, 0.53125], [0.0, 0.53125], [0.0, 0.52734375]], [\"M\", \"L\", \"L\", \"L\", \"L\"]], [[[0.0, 0.53125], [1.0, 0.53125], [1.0, 0.53515625], [0.0, 0.53515625], [0.0, 0.53125]], [\"M\", \"L\", \"L\", \"L\", \"L\"]], [[[0.0, 0.53515625], [1.0, 0.53515625], [1.0, 0.5390625], [0.0, 0.5390625], [0.0, 0.53515625]], [\"M\", \"L\", \"L\", \"L\", \"L\"]], [[[0.0, 0.5390625], [1.0, 0.5390625], [1.0, 0.54296875], [0.0, 0.54296875], [0.0, 0.5390625]], [\"M\", \"L\", \"L\", \"L\", \"L\"]], [[[0.0, 0.54296875], [1.0, 0.54296875], [1.0, 0.546875], [0.0, 0.546875], [0.0, 0.54296875]], [\"M\", \"L\", \"L\", \"L\", \"L\"]], [[[0.0, 0.546875], [1.0, 0.546875], [1.0, 0.55078125], [0.0, 0.55078125], [0.0, 0.546875]], [\"M\", \"L\", \"L\", \"L\", \"L\"]], [[[0.0, 0.55078125], [1.0, 0.55078125], [1.0, 0.5546875], [0.0, 0.5546875], [0.0, 0.55078125]], [\"M\", \"L\", \"L\", \"L\", \"L\"]], [[[0.0, 0.5546875], [1.0, 0.5546875], [1.0, 0.55859375], [0.0, 0.55859375], [0.0, 0.5546875]], [\"M\", \"L\", \"L\", \"L\", \"L\"]], [[[0.0, 0.55859375], [1.0, 0.55859375], [1.0, 0.5625], [0.0, 0.5625], [0.0, 0.55859375]], [\"M\", \"L\", \"L\", \"L\", \"L\"]], [[[0.0, 0.5625], [1.0, 0.5625], [1.0, 0.56640625], [0.0, 0.56640625], [0.0, 0.5625]], [\"M\", \"L\", \"L\", \"L\", \"L\"]], [[[0.0, 0.56640625], [1.0, 0.56640625], [1.0, 0.5703125], [0.0, 0.5703125], [0.0, 0.56640625]], [\"M\", \"L\", \"L\", \"L\", \"L\"]], [[[0.0, 0.5703125], [1.0, 0.5703125], [1.0, 0.57421875], [0.0, 0.57421875], [0.0, 0.5703125]], [\"M\", \"L\", \"L\", \"L\", \"L\"]], [[[0.0, 0.57421875], [1.0, 0.57421875], [1.0, 0.578125], [0.0, 0.578125], [0.0, 0.57421875]], [\"M\", \"L\", \"L\", \"L\", \"L\"]], [[[0.0, 0.578125], [1.0, 0.578125], [1.0, 0.58203125], [0.0, 0.58203125], [0.0, 0.578125]], [\"M\", \"L\", \"L\", \"L\", \"L\"]], [[[0.0, 0.58203125], [1.0, 0.58203125], [1.0, 0.5859375], [0.0, 0.5859375], [0.0, 0.58203125]], [\"M\", \"L\", \"L\", \"L\", \"L\"]], [[[0.0, 0.5859375], [1.0, 0.5859375], [1.0, 0.58984375], [0.0, 0.58984375], [0.0, 0.5859375]], [\"M\", \"L\", \"L\", \"L\", \"L\"]], [[[0.0, 0.58984375], [1.0, 0.58984375], [1.0, 0.59375], [0.0, 0.59375], [0.0, 0.58984375]], [\"M\", \"L\", \"L\", \"L\", \"L\"]], [[[0.0, 0.59375], [1.0, 0.59375], [1.0, 0.59765625], [0.0, 0.59765625], [0.0, 0.59375]], [\"M\", \"L\", \"L\", \"L\", \"L\"]], [[[0.0, 0.59765625], [1.0, 0.59765625], [1.0, 0.6015625], [0.0, 0.6015625], [0.0, 0.59765625]], [\"M\", \"L\", \"L\", \"L\", \"L\"]], [[[0.0, 0.6015625], [1.0, 0.6015625], [1.0, 0.60546875], [0.0, 0.60546875], [0.0, 0.6015625]], [\"M\", \"L\", \"L\", \"L\", \"L\"]], [[[0.0, 0.60546875], [1.0, 0.60546875], [1.0, 0.609375], [0.0, 0.609375], [0.0, 0.60546875]], [\"M\", \"L\", \"L\", \"L\", \"L\"]], [[[0.0, 0.609375], [1.0, 0.609375], [1.0, 0.61328125], [0.0, 0.61328125], [0.0, 0.609375]], [\"M\", \"L\", \"L\", \"L\", \"L\"]], [[[0.0, 0.61328125], [1.0, 0.61328125], [1.0, 0.6171875], [0.0, 0.6171875], [0.0, 0.61328125]], [\"M\", \"L\", \"L\", \"L\", \"L\"]], [[[0.0, 0.6171875], [1.0, 0.6171875], [1.0, 0.62109375], [0.0, 0.62109375], [0.0, 0.6171875]], [\"M\", \"L\", \"L\", \"L\", \"L\"]], [[[0.0, 0.62109375], [1.0, 0.62109375], [1.0, 0.625], [0.0, 0.625], [0.0, 0.62109375]], [\"M\", \"L\", \"L\", \"L\", \"L\"]], [[[0.0, 0.625], [1.0, 0.625], [1.0, 0.62890625], [0.0, 0.62890625], [0.0, 0.625]], [\"M\", \"L\", \"L\", \"L\", \"L\"]], [[[0.0, 0.62890625], [1.0, 0.62890625], [1.0, 0.6328125], [0.0, 0.6328125], [0.0, 0.62890625]], [\"M\", \"L\", \"L\", \"L\", \"L\"]], [[[0.0, 0.6328125], [1.0, 0.6328125], [1.0, 0.63671875], [0.0, 0.63671875], [0.0, 0.6328125]], [\"M\", \"L\", \"L\", \"L\", \"L\"]], [[[0.0, 0.63671875], [1.0, 0.63671875], [1.0, 0.640625], [0.0, 0.640625], [0.0, 0.63671875]], [\"M\", \"L\", \"L\", \"L\", \"L\"]], [[[0.0, 0.640625], [1.0, 0.640625], [1.0, 0.64453125], [0.0, 0.64453125], [0.0, 0.640625]], [\"M\", \"L\", \"L\", \"L\", \"L\"]], [[[0.0, 0.64453125], [1.0, 0.64453125], [1.0, 0.6484375], [0.0, 0.6484375], [0.0, 0.64453125]], [\"M\", \"L\", \"L\", \"L\", \"L\"]], [[[0.0, 0.6484375], [1.0, 0.6484375], [1.0, 0.65234375], [0.0, 0.65234375], [0.0, 0.6484375]], [\"M\", \"L\", \"L\", \"L\", \"L\"]], [[[0.0, 0.65234375], [1.0, 0.65234375], [1.0, 0.65625], [0.0, 0.65625], [0.0, 0.65234375]], [\"M\", \"L\", \"L\", \"L\", \"L\"]], [[[0.0, 0.65625], [1.0, 0.65625], [1.0, 0.66015625], [0.0, 0.66015625], [0.0, 0.65625]], [\"M\", \"L\", \"L\", \"L\", \"L\"]], [[[0.0, 0.66015625], [1.0, 0.66015625], [1.0, 0.6640625], [0.0, 0.6640625], [0.0, 0.66015625]], [\"M\", \"L\", \"L\", \"L\", \"L\"]], [[[0.0, 0.6640625], [1.0, 0.6640625], [1.0, 0.66796875], [0.0, 0.66796875], [0.0, 0.6640625]], [\"M\", \"L\", \"L\", \"L\", \"L\"]], [[[0.0, 0.66796875], [1.0, 0.66796875], [1.0, 0.671875], [0.0, 0.671875], [0.0, 0.66796875]], [\"M\", \"L\", \"L\", \"L\", \"L\"]], [[[0.0, 0.671875], [1.0, 0.671875], [1.0, 0.67578125], [0.0, 0.67578125], [0.0, 0.671875]], [\"M\", \"L\", \"L\", \"L\", \"L\"]], [[[0.0, 0.67578125], [1.0, 0.67578125], [1.0, 0.6796875], [0.0, 0.6796875], [0.0, 0.67578125]], [\"M\", \"L\", \"L\", \"L\", \"L\"]], [[[0.0, 0.6796875], [1.0, 0.6796875], [1.0, 0.68359375], [0.0, 0.68359375], [0.0, 0.6796875]], [\"M\", \"L\", \"L\", \"L\", \"L\"]], [[[0.0, 0.68359375], [1.0, 0.68359375], [1.0, 0.6875], [0.0, 0.6875], [0.0, 0.68359375]], [\"M\", \"L\", \"L\", \"L\", \"L\"]], [[[0.0, 0.6875], [1.0, 0.6875], [1.0, 0.69140625], [0.0, 0.69140625], [0.0, 0.6875]], [\"M\", \"L\", \"L\", \"L\", \"L\"]], [[[0.0, 0.69140625], [1.0, 0.69140625], [1.0, 0.6953125], [0.0, 0.6953125], [0.0, 0.69140625]], [\"M\", \"L\", \"L\", \"L\", \"L\"]], [[[0.0, 0.6953125], [1.0, 0.6953125], [1.0, 0.69921875], [0.0, 0.69921875], [0.0, 0.6953125]], [\"M\", \"L\", \"L\", \"L\", \"L\"]], [[[0.0, 0.69921875], [1.0, 0.69921875], [1.0, 0.703125], [0.0, 0.703125], [0.0, 0.69921875]], [\"M\", \"L\", \"L\", \"L\", \"L\"]], [[[0.0, 0.703125], [1.0, 0.703125], [1.0, 0.70703125], [0.0, 0.70703125], [0.0, 0.703125]], [\"M\", \"L\", \"L\", \"L\", \"L\"]], [[[0.0, 0.70703125], [1.0, 0.70703125], [1.0, 0.7109375], [0.0, 0.7109375], [0.0, 0.70703125]], [\"M\", \"L\", \"L\", \"L\", \"L\"]], [[[0.0, 0.7109375], [1.0, 0.7109375], [1.0, 0.71484375], [0.0, 0.71484375], [0.0, 0.7109375]], [\"M\", \"L\", \"L\", \"L\", \"L\"]], [[[0.0, 0.71484375], [1.0, 0.71484375], [1.0, 0.71875], [0.0, 0.71875], [0.0, 0.71484375]], [\"M\", \"L\", \"L\", \"L\", \"L\"]], [[[0.0, 0.71875], [1.0, 0.71875], [1.0, 0.72265625], [0.0, 0.72265625], [0.0, 0.71875]], [\"M\", \"L\", \"L\", \"L\", \"L\"]], [[[0.0, 0.72265625], [1.0, 0.72265625], [1.0, 0.7265625], [0.0, 0.7265625], [0.0, 0.72265625]], [\"M\", \"L\", \"L\", \"L\", \"L\"]], [[[0.0, 0.7265625], [1.0, 0.7265625], [1.0, 0.73046875], [0.0, 0.73046875], [0.0, 0.7265625]], [\"M\", \"L\", \"L\", \"L\", \"L\"]], [[[0.0, 0.73046875], [1.0, 0.73046875], [1.0, 0.734375], [0.0, 0.734375], [0.0, 0.73046875]], [\"M\", \"L\", \"L\", \"L\", \"L\"]], [[[0.0, 0.734375], [1.0, 0.734375], [1.0, 0.73828125], [0.0, 0.73828125], [0.0, 0.734375]], [\"M\", \"L\", \"L\", \"L\", \"L\"]], [[[0.0, 0.73828125], [1.0, 0.73828125], [1.0, 0.7421875], [0.0, 0.7421875], [0.0, 0.73828125]], [\"M\", \"L\", \"L\", \"L\", \"L\"]], [[[0.0, 0.7421875], [1.0, 0.7421875], [1.0, 0.74609375], [0.0, 0.74609375], [0.0, 0.7421875]], [\"M\", \"L\", \"L\", \"L\", \"L\"]], [[[0.0, 0.74609375], [1.0, 0.74609375], [1.0, 0.75], [0.0, 0.75], [0.0, 0.74609375]], [\"M\", \"L\", \"L\", \"L\", \"L\"]], [[[0.0, 0.75], [1.0, 0.75], [1.0, 0.75390625], [0.0, 0.75390625], [0.0, 0.75]], [\"M\", \"L\", \"L\", \"L\", \"L\"]], [[[0.0, 0.75390625], [1.0, 0.75390625], [1.0, 0.7578125], [0.0, 0.7578125], [0.0, 0.75390625]], [\"M\", \"L\", \"L\", \"L\", \"L\"]], [[[0.0, 0.7578125], [1.0, 0.7578125], [1.0, 0.76171875], [0.0, 0.76171875], [0.0, 0.7578125]], [\"M\", \"L\", \"L\", \"L\", \"L\"]], [[[0.0, 0.76171875], [1.0, 0.76171875], [1.0, 0.765625], [0.0, 0.765625], [0.0, 0.76171875]], [\"M\", \"L\", \"L\", \"L\", \"L\"]], [[[0.0, 0.765625], [1.0, 0.765625], [1.0, 0.76953125], [0.0, 0.76953125], [0.0, 0.765625]], [\"M\", \"L\", \"L\", \"L\", \"L\"]], [[[0.0, 0.76953125], [1.0, 0.76953125], [1.0, 0.7734375], [0.0, 0.7734375], [0.0, 0.76953125]], [\"M\", \"L\", \"L\", \"L\", \"L\"]], [[[0.0, 0.7734375], [1.0, 0.7734375], [1.0, 0.77734375], [0.0, 0.77734375], [0.0, 0.7734375]], [\"M\", \"L\", \"L\", \"L\", \"L\"]], [[[0.0, 0.77734375], [1.0, 0.77734375], [1.0, 0.78125], [0.0, 0.78125], [0.0, 0.77734375]], [\"M\", \"L\", \"L\", \"L\", \"L\"]], [[[0.0, 0.78125], [1.0, 0.78125], [1.0, 0.78515625], [0.0, 0.78515625], [0.0, 0.78125]], [\"M\", \"L\", \"L\", \"L\", \"L\"]], [[[0.0, 0.78515625], [1.0, 0.78515625], [1.0, 0.7890625], [0.0, 0.7890625], [0.0, 0.78515625]], [\"M\", \"L\", \"L\", \"L\", \"L\"]], [[[0.0, 0.7890625], [1.0, 0.7890625], [1.0, 0.79296875], [0.0, 0.79296875], [0.0, 0.7890625]], [\"M\", \"L\", \"L\", \"L\", \"L\"]], [[[0.0, 0.79296875], [1.0, 0.79296875], [1.0, 0.796875], [0.0, 0.796875], [0.0, 0.79296875]], [\"M\", \"L\", \"L\", \"L\", \"L\"]], [[[0.0, 0.796875], [1.0, 0.796875], [1.0, 0.80078125], [0.0, 0.80078125], [0.0, 0.796875]], [\"M\", \"L\", \"L\", \"L\", \"L\"]], [[[0.0, 0.80078125], [1.0, 0.80078125], [1.0, 0.8046875], [0.0, 0.8046875], [0.0, 0.80078125]], [\"M\", \"L\", \"L\", \"L\", \"L\"]], [[[0.0, 0.8046875], [1.0, 0.8046875], [1.0, 0.80859375], [0.0, 0.80859375], [0.0, 0.8046875]], [\"M\", \"L\", \"L\", \"L\", \"L\"]], [[[0.0, 0.80859375], [1.0, 0.80859375], [1.0, 0.8125], [0.0, 0.8125], [0.0, 0.80859375]], [\"M\", \"L\", \"L\", \"L\", \"L\"]], [[[0.0, 0.8125], [1.0, 0.8125], [1.0, 0.81640625], [0.0, 0.81640625], [0.0, 0.8125]], [\"M\", \"L\", \"L\", \"L\", \"L\"]], [[[0.0, 0.81640625], [1.0, 0.81640625], [1.0, 0.8203125], [0.0, 0.8203125], [0.0, 0.81640625]], [\"M\", \"L\", \"L\", \"L\", \"L\"]], [[[0.0, 0.8203125], [1.0, 0.8203125], [1.0, 0.82421875], [0.0, 0.82421875], [0.0, 0.8203125]], [\"M\", \"L\", \"L\", \"L\", \"L\"]], [[[0.0, 0.82421875], [1.0, 0.82421875], [1.0, 0.828125], [0.0, 0.828125], [0.0, 0.82421875]], [\"M\", \"L\", \"L\", \"L\", \"L\"]], [[[0.0, 0.828125], [1.0, 0.828125], [1.0, 0.83203125], [0.0, 0.83203125], [0.0, 0.828125]], [\"M\", \"L\", \"L\", \"L\", \"L\"]], [[[0.0, 0.83203125], [1.0, 0.83203125], [1.0, 0.8359375], [0.0, 0.8359375], [0.0, 0.83203125]], [\"M\", \"L\", \"L\", \"L\", \"L\"]], [[[0.0, 0.8359375], [1.0, 0.8359375], [1.0, 0.83984375], [0.0, 0.83984375], [0.0, 0.8359375]], [\"M\", \"L\", \"L\", \"L\", \"L\"]], [[[0.0, 0.83984375], [1.0, 0.83984375], [1.0, 0.84375], [0.0, 0.84375], [0.0, 0.83984375]], [\"M\", \"L\", \"L\", \"L\", \"L\"]], [[[0.0, 0.84375], [1.0, 0.84375], [1.0, 0.84765625], [0.0, 0.84765625], [0.0, 0.84375]], [\"M\", \"L\", \"L\", \"L\", \"L\"]], [[[0.0, 0.84765625], [1.0, 0.84765625], [1.0, 0.8515625], [0.0, 0.8515625], [0.0, 0.84765625]], [\"M\", \"L\", \"L\", \"L\", \"L\"]], [[[0.0, 0.8515625], [1.0, 0.8515625], [1.0, 0.85546875], [0.0, 0.85546875], [0.0, 0.8515625]], [\"M\", \"L\", \"L\", \"L\", \"L\"]], [[[0.0, 0.85546875], [1.0, 0.85546875], [1.0, 0.859375], [0.0, 0.859375], [0.0, 0.85546875]], [\"M\", \"L\", \"L\", \"L\", \"L\"]], [[[0.0, 0.859375], [1.0, 0.859375], [1.0, 0.86328125], [0.0, 0.86328125], [0.0, 0.859375]], [\"M\", \"L\", \"L\", \"L\", \"L\"]], [[[0.0, 0.86328125], [1.0, 0.86328125], [1.0, 0.8671875], [0.0, 0.8671875], [0.0, 0.86328125]], [\"M\", \"L\", \"L\", \"L\", \"L\"]], [[[0.0, 0.8671875], [1.0, 0.8671875], [1.0, 0.87109375], [0.0, 0.87109375], [0.0, 0.8671875]], [\"M\", \"L\", \"L\", \"L\", \"L\"]], [[[0.0, 0.87109375], [1.0, 0.87109375], [1.0, 0.875], [0.0, 0.875], [0.0, 0.87109375]], [\"M\", \"L\", \"L\", \"L\", \"L\"]], [[[0.0, 0.875], [1.0, 0.875], [1.0, 0.87890625], [0.0, 0.87890625], [0.0, 0.875]], [\"M\", \"L\", \"L\", \"L\", \"L\"]], [[[0.0, 0.87890625], [1.0, 0.87890625], [1.0, 0.8828125], [0.0, 0.8828125], [0.0, 0.87890625]], [\"M\", \"L\", \"L\", \"L\", \"L\"]], [[[0.0, 0.8828125], [1.0, 0.8828125], [1.0, 0.88671875], [0.0, 0.88671875], [0.0, 0.8828125]], [\"M\", \"L\", \"L\", \"L\", \"L\"]], [[[0.0, 0.88671875], [1.0, 0.88671875], [1.0, 0.890625], [0.0, 0.890625], [0.0, 0.88671875]], [\"M\", \"L\", \"L\", \"L\", \"L\"]], [[[0.0, 0.890625], [1.0, 0.890625], [1.0, 0.89453125], [0.0, 0.89453125], [0.0, 0.890625]], [\"M\", \"L\", \"L\", \"L\", \"L\"]], [[[0.0, 0.89453125], [1.0, 0.89453125], [1.0, 0.8984375], [0.0, 0.8984375], [0.0, 0.89453125]], [\"M\", \"L\", \"L\", \"L\", \"L\"]], [[[0.0, 0.8984375], [1.0, 0.8984375], [1.0, 0.90234375], [0.0, 0.90234375], [0.0, 0.8984375]], [\"M\", \"L\", \"L\", \"L\", \"L\"]], [[[0.0, 0.90234375], [1.0, 0.90234375], [1.0, 0.90625], [0.0, 0.90625], [0.0, 0.90234375]], [\"M\", \"L\", \"L\", \"L\", \"L\"]], [[[0.0, 0.90625], [1.0, 0.90625], [1.0, 0.91015625], [0.0, 0.91015625], [0.0, 0.90625]], [\"M\", \"L\", \"L\", \"L\", \"L\"]], [[[0.0, 0.91015625], [1.0, 0.91015625], [1.0, 0.9140625], [0.0, 0.9140625], [0.0, 0.91015625]], [\"M\", \"L\", \"L\", \"L\", \"L\"]], [[[0.0, 0.9140625], [1.0, 0.9140625], [1.0, 0.91796875], [0.0, 0.91796875], [0.0, 0.9140625]], [\"M\", \"L\", \"L\", \"L\", \"L\"]], [[[0.0, 0.91796875], [1.0, 0.91796875], [1.0, 0.921875], [0.0, 0.921875], [0.0, 0.91796875]], [\"M\", \"L\", \"L\", \"L\", \"L\"]], [[[0.0, 0.921875], [1.0, 0.921875], [1.0, 0.92578125], [0.0, 0.92578125], [0.0, 0.921875]], [\"M\", \"L\", \"L\", \"L\", \"L\"]], [[[0.0, 0.92578125], [1.0, 0.92578125], [1.0, 0.9296875], [0.0, 0.9296875], [0.0, 0.92578125]], [\"M\", \"L\", \"L\", \"L\", \"L\"]], [[[0.0, 0.9296875], [1.0, 0.9296875], [1.0, 0.93359375], [0.0, 0.93359375], [0.0, 0.9296875]], [\"M\", \"L\", \"L\", \"L\", \"L\"]], [[[0.0, 0.93359375], [1.0, 0.93359375], [1.0, 0.9375], [0.0, 0.9375], [0.0, 0.93359375]], [\"M\", \"L\", \"L\", \"L\", \"L\"]], [[[0.0, 0.9375], [1.0, 0.9375], [1.0, 0.94140625], [0.0, 0.94140625], [0.0, 0.9375]], [\"M\", \"L\", \"L\", \"L\", \"L\"]], [[[0.0, 0.94140625], [1.0, 0.94140625], [1.0, 0.9453125], [0.0, 0.9453125], [0.0, 0.94140625]], [\"M\", \"L\", \"L\", \"L\", \"L\"]], [[[0.0, 0.9453125], [1.0, 0.9453125], [1.0, 0.94921875], [0.0, 0.94921875], [0.0, 0.9453125]], [\"M\", \"L\", \"L\", \"L\", \"L\"]], [[[0.0, 0.94921875], [1.0, 0.94921875], [1.0, 0.953125], [0.0, 0.953125], [0.0, 0.94921875]], [\"M\", \"L\", \"L\", \"L\", \"L\"]], [[[0.0, 0.953125], [1.0, 0.953125], [1.0, 0.95703125], [0.0, 0.95703125], [0.0, 0.953125]], [\"M\", \"L\", \"L\", \"L\", \"L\"]], [[[0.0, 0.95703125], [1.0, 0.95703125], [1.0, 0.9609375], [0.0, 0.9609375], [0.0, 0.95703125]], [\"M\", \"L\", \"L\", \"L\", \"L\"]], [[[0.0, 0.9609375], [1.0, 0.9609375], [1.0, 0.96484375], [0.0, 0.96484375], [0.0, 0.9609375]], [\"M\", \"L\", \"L\", \"L\", \"L\"]], [[[0.0, 0.96484375], [1.0, 0.96484375], [1.0, 0.96875], [0.0, 0.96875], [0.0, 0.96484375]], [\"M\", \"L\", \"L\", \"L\", \"L\"]], [[[0.0, 0.96875], [1.0, 0.96875], [1.0, 0.97265625], [0.0, 0.97265625], [0.0, 0.96875]], [\"M\", \"L\", \"L\", \"L\", \"L\"]], [[[0.0, 0.97265625], [1.0, 0.97265625], [1.0, 0.9765625], [0.0, 0.9765625], [0.0, 0.97265625]], [\"M\", \"L\", \"L\", \"L\", \"L\"]], [[[0.0, 0.9765625], [1.0, 0.9765625], [1.0, 0.98046875], [0.0, 0.98046875], [0.0, 0.9765625]], [\"M\", \"L\", \"L\", \"L\", \"L\"]], [[[0.0, 0.98046875], [1.0, 0.98046875], [1.0, 0.984375], [0.0, 0.984375], [0.0, 0.98046875]], [\"M\", \"L\", \"L\", \"L\", \"L\"]], [[[0.0, 0.984375], [1.0, 0.984375], [1.0, 0.98828125], [0.0, 0.98828125], [0.0, 0.984375]], [\"M\", \"L\", \"L\", \"L\", \"L\"]], [[[0.0, 0.98828125], [1.0, 0.98828125], [1.0, 0.9921875], [0.0, 0.9921875], [0.0, 0.98828125]], [\"M\", \"L\", \"L\", \"L\", \"L\"]], [[[0.0, 0.9921875], [1.0, 0.9921875], [1.0, 0.99609375], [0.0, 0.99609375], [0.0, 0.9921875]], [\"M\", \"L\", \"L\", \"L\", \"L\"]], [[[0.0, 0.99609375], [1.0, 0.99609375], [1.0, 1.0], [0.0, 1.0], [0.0, 0.99609375]], [\"M\", \"L\", \"L\", \"L\", \"L\"]]], \"edgecolors\": [], \"edgewidths\": [0.3], \"offsets\": \"data01\", \"yindex\": 1, \"id\": \"386074489305680\", \"pathtransforms\": [], \"pathcoordinates\": \"data\", \"offsetcoordinates\": \"display\", \"zorder\": 1, \"xindex\": 0, \"alphas\": [null], \"facecolors\": [\"#00007F\", \"#000084\", \"#000088\", \"#00008D\", \"#000091\", \"#000096\", \"#00009A\", \"#00009F\", \"#0000A3\", \"#0000A8\", \"#0000AC\", \"#0000B1\", \"#0000B6\", \"#0000BA\", \"#0000BF\", \"#0000C3\", \"#0000C8\", \"#0000CC\", \"#0000D1\", \"#0000D5\", \"#0000DA\", \"#0000DE\", \"#0000E3\", \"#0000E8\", \"#0000EC\", \"#0000F1\", \"#0000F5\", \"#0000FA\", \"#0000FE\", \"#0000FF\", \"#0000FF\", \"#0000FF\", \"#0000FF\", \"#0004FF\", \"#0008FF\", \"#000CFF\", \"#0010FF\", \"#0014FF\", \"#0018FF\", \"#001CFF\", \"#0020FF\", \"#0024FF\", \"#0028FF\", \"#002CFF\", \"#0030FF\", \"#0034FF\", \"#0038FF\", \"#003CFF\", \"#0040FF\", \"#0044FF\", \"#0048FF\", \"#004CFF\", \"#0050FF\", \"#0054FF\", \"#0058FF\", \"#005CFF\", \"#0060FF\", \"#0064FF\", \"#0068FF\", \"#006CFF\", \"#0070FF\", \"#0074FF\", \"#0078FF\", \"#007CFF\", \"#0080FF\", \"#0084FF\", \"#0088FF\", \"#008CFF\", \"#0090FF\", \"#0094FF\", \"#0098FF\", \"#009CFF\", \"#00A0FF\", \"#00A4FF\", \"#00A8FF\", \"#00ACFF\", \"#00B0FF\", \"#00B4FF\", \"#00B8FF\", \"#00BCFF\", \"#00C0FF\", \"#00C4FF\", \"#00C8FF\", \"#00CCFF\", \"#00D0FF\", \"#00D4FF\", \"#00D8FF\", \"#00DCFE\", \"#00E0FA\", \"#00E4F7\", \"#02E8F4\", \"#05ECF1\", \"#08F0ED\", \"#0CF4EA\", \"#0FF8E7\", \"#12FCE4\", \"#15FFE1\", \"#18FFDD\", \"#1CFFDA\", \"#1FFFD7\", \"#22FFD4\", \"#25FFD0\", \"#29FFCD\", \"#2CFFCA\", \"#2FFFC7\", \"#32FFC3\", \"#36FFC0\", \"#39FFBD\", \"#3CFFBA\", \"#3FFFB7\", \"#42FFB3\", \"#46FFB0\", \"#49FFAD\", \"#4CFFAA\", \"#4FFFA6\", \"#53FFA3\", \"#56FFA0\", \"#59FF9D\", \"#5CFF9A\", \"#5FFF96\", \"#63FF93\", \"#66FF90\", \"#69FF8D\", \"#6CFF89\", \"#70FF86\", \"#73FF83\", \"#76FF80\", \"#79FF7D\", \"#7CFF79\", \"#80FF76\", \"#83FF73\", \"#86FF70\", \"#89FF6C\", \"#8DFF69\", \"#90FF66\", \"#93FF63\", \"#96FF5F\", \"#9AFF5C\", \"#9DFF59\", \"#A0FF56\", \"#A3FF53\", \"#A6FF4F\", \"#AAFF4C\", \"#ADFF49\", \"#B0FF46\", \"#B3FF42\", \"#B7FF3F\", \"#BAFF3C\", \"#BDFF39\", \"#C0FF36\", \"#C3FF32\", \"#C7FF2F\", \"#CAFF2C\", \"#CDFF29\", \"#D0FF25\", \"#D4FF22\", \"#D7FF1F\", \"#DAFF1C\", \"#DDFF18\", \"#E0FF15\", \"#E4FF12\", \"#E7FF0F\", \"#EAFF0C\", \"#EDFF08\", \"#F1FC05\", \"#F4F802\", \"#F7F400\", \"#FAF000\", \"#FEED00\", \"#FFE900\", \"#FFE500\", \"#FFE200\", \"#FFDE00\", \"#FFDA00\", \"#FFD700\", \"#FFD300\", \"#FFCF00\", \"#FFCB00\", \"#FFC800\", \"#FFC400\", \"#FFC000\", \"#FFBD00\", \"#FFB900\", \"#FFB500\", \"#FFB100\", \"#FFAE00\", \"#FFAA00\", \"#FFA600\", \"#FFA300\", \"#FF9F00\", \"#FF9B00\", \"#FF9800\", \"#FF9400\", \"#FF9000\", \"#FF8C00\", \"#FF8900\", \"#FF8500\", \"#FF8100\", \"#FF7E00\", \"#FF7A00\", \"#FF7600\", \"#FF7300\", \"#FF6F00\", \"#FF6B00\", \"#FF6700\", \"#FF6400\", \"#FF6000\", \"#FF5C00\", \"#FF5900\", \"#FF5500\", \"#FF5100\", \"#FF4D00\", \"#FF4A00\", \"#FF4600\", \"#FF4200\", \"#FF3F00\", \"#FF3B00\", \"#FF3700\", \"#FF3400\", \"#FF3000\", \"#FF2C00\", \"#FF2800\", \"#FF2500\", \"#FF2100\", \"#FF1D00\", \"#FF1A00\", \"#FF1600\", \"#FE1200\", \"#FA0F00\", \"#F50B00\", \"#F10700\", \"#EC0300\", \"#E80000\", \"#E30000\", \"#DE0000\", \"#DA0000\", \"#D50000\", \"#D10000\", \"#CC0000\", \"#C80000\", \"#C30000\", \"#BF0000\", \"#BA0000\", \"#B60000\", \"#B10000\", \"#AC0000\", \"#A80000\", \"#A30000\", \"#9F0000\", \"#9A0000\", \"#960000\", \"#910000\", \"#8D0000\", \"#880000\", \"#840000\", \"#7F0000\"]}], \"xscale\": \"linear\", \"bbox\": [0.78374999999999995, 0.12499999999999989, 0.026640624999999973, 0.77500000000000013]}], \"data\": {\"data01\": [[0.0, 0.0]]}, \"id\": \"386074620674192\", \"toolbar\": [\"reset\", \"move\"], \"height\": 440.0});\n",
        "}\n",
        "\n",
        "if(typeof(mpld3) !== \"undefined\"){\n",
        "   // already loaded: just create the figure\n",
        "   create_fig3860746206741928795620089();\n",
        "}else if(typeof define === \"function\" && define.amd){\n",
        "   // require.js is available: use it to load d3/mpld3\n",
        "   require.config({paths: {d3: \"http://d3js.org/d3.v3.min\"}});\n",
        "   require([\"d3\"], function(d3){\n",
        "      window.d3 = d3;\n",
        "      mpld3_load_lib(\"http://mpld3.github.io/js/mpld3.v0.1.js\", create_fig3860746206741928795620089);\n",
        "    });\n",
        "}else{\n",
        "    // require.js not available: dynamically load d3 & mpld3\n",
        "    mpld3_load_lib(\"http://d3js.org/d3.v3.min.js\", function(){\n",
        "        mpld3_load_lib(\"http://mpld3.github.io/js/mpld3.v0.1.js\", create_fig3860746206741928795620089);})\n",
        "}\n",
        "</script>"
       ],
       "metadata": {},
       "output_type": "display_data",
       "png": "[encoded data removed]",
       "text": [
        "<matplotlib.figure.Figure at 0x11369e490>"
       ]
      }
     ],
     "prompt_number": 429
    },
    {
     "cell_type": "markdown",
     "metadata": {},
     "source": [
      "***notes on selected features***\n",
      "\n",
      "* Average values vary even between the same type of exercise - so it was removed as a feature"
     ]
    },
    {
     "cell_type": "code",
     "collapsed": false,
     "input": [
      "#get features and labels\n",
      "all_reps, labels = make_labeled_data(df_training)"
     ],
     "language": "python",
     "metadata": {},
     "outputs": [],
     "prompt_number": 293
    },
    {
     "cell_type": "code",
     "collapsed": false,
     "input": [
      "holdout_samples, holdout_labels=make_labeled_data(df_holdout)"
     ],
     "language": "python",
     "metadata": {},
     "outputs": [],
     "prompt_number": 294
    },
    {
     "cell_type": "code",
     "collapsed": false,
     "input": [
      "X_train, X_test, y_train, y_test = cross_validation.train_test_split(all_reps,\n",
      "    labels, \n",
      "    random_state=0)"
     ],
     "language": "python",
     "metadata": {},
     "outputs": [],
     "prompt_number": 295
    },
    {
     "cell_type": "code",
     "collapsed": false,
     "input": [
      "clf,new_metrics=test_accuracy(X_train, y_train,X_test,y_test,holdout_samples,holdout_labels,kernel='linear')"
     ],
     "language": "python",
     "metadata": {},
     "outputs": [
      {
       "output_type": "stream",
       "stream": "stdout",
       "text": [
        "\n",
        "\n",
        "kernel: linear\n",
        "cross validated average accuracy score: 0.898148148148"
       ]
      },
      {
       "output_type": "stream",
       "stream": "stdout",
       "text": [
        "\n",
        "\n",
        "cross validated average f1 score: 0.897592106332"
       ]
      },
      {
       "output_type": "stream",
       "stream": "stdout",
       "text": [
        "\n",
        "\n",
        "cross validated average precision score: 0.907141306665"
       ]
      },
      {
       "output_type": "stream",
       "stream": "stdout",
       "text": [
        "\n",
        "\n",
        "test: precision,recall,f1:\n",
        "[0.98550724637681164, 0.98550724637681164, 0.98550724637681164]\n",
        "holdout: precision,recall,f1:\n",
        "[1.0, 1.0, 1.0]\n",
        "classification report:\n",
        "             precision    recall  f1-score   support\n",
        "\n",
        "bicep curls       1.00      0.97      0.99        39\n",
        "   shoulder       0.97      1.00      0.98        58\n",
        "     tricep       1.00      0.98      0.99        41\n",
        "\n",
        "avg / total       0.99      0.99      0.99       138\n",
        "\n",
        "\n"
       ]
      }
     ],
     "prompt_number": 342
    },
    {
     "cell_type": "code",
     "collapsed": false,
     "input": [
      "new_metrics"
     ],
     "language": "python",
     "metadata": {},
     "outputs": [
      {
       "metadata": {},
       "output_type": "pyout",
       "prompt_number": 336,
       "text": [
        "{'cross_val_accuracy': [0.8928571428571429,\n",
        "  0.9285714285714286,\n",
        "  0.9285714285714286,\n",
        "  0.88888888888888884,\n",
        "  0.85185185185185186],\n",
        " 'cross_val_accuracy_avg': 0.89814814814814814,\n",
        " 'cross_val_f1': [0.89000000000000001,\n",
        "  0.92929292929292928,\n",
        "  0.92708333333333326,\n",
        "  0.88954248366013078,\n",
        "  0.85204178537511854],\n",
        " 'cross_val_f1_avg': 0.89759210633230246,\n",
        " 'cross_val_precision': [0.89050235478806905,\n",
        "  0.94285714285714284,\n",
        "  0.93956043956043955,\n",
        "  0.90123456790123457,\n",
        "  0.86155202821869492],\n",
        " 'cross_val_precision_avg': 0.90714130666511628,\n",
        " 'holdout': 1.0,\n",
        " 'kernel': 'linear',\n",
        " 'prfs': [0.98550724637681164, 0.98550724637681164, 0.98550724637681164],\n",
        " 'prfs_holdout': [1.0, 1.0, 1.0]}"
       ]
      }
     ],
     "prompt_number": 336
    },
    {
     "cell_type": "markdown",
     "metadata": {},
     "source": [
      "Best kernel is **Linear** but **poly** is almost as good"
     ]
    },
    {
     "cell_type": "code",
     "collapsed": false,
     "input": [
      "clf_final = sklearn.svm.SVC(kernel='linear', C=1,probability=True)\n",
      "clf_final.fit(X_train, y_train)"
     ],
     "language": "python",
     "metadata": {},
     "outputs": [
      {
       "metadata": {},
       "output_type": "pyout",
       "prompt_number": 175,
       "text": [
        "SVC(C=1, cache_size=200, class_weight=None, coef0=0.0, degree=3, gamma=0.0,\n",
        "  kernel='linear', max_iter=-1, probability=True, random_state=None,\n",
        "  shrinking=True, tol=0.001, verbose=False)"
       ]
      }
     ],
     "prompt_number": 175
    },
    {
     "cell_type": "markdown",
     "metadata": {},
     "source": [
      "### Test any random rep"
     ]
    },
    {
     "cell_type": "code",
     "collapsed": false,
     "input": [
      "random_rep=random.randint(1,len(all_reps))\n",
      "print 'repitition #'+str(random_rep)\n",
      "print \"classifier's guess: \"+clf_final.predict(all_reps[random_rep])[0]\n",
      "print \"actual label:       \"+labels[random_rep]\n",
      "# What probability\n",
      "print \"%prob 'tricep', %prob 'shoulder', %prob 'bicep curls'\"\n",
      "print clf_final.predict_proba(all_reps[random_rep])[0]"
     ],
     "language": "python",
     "metadata": {},
     "outputs": [
      {
       "output_type": "stream",
       "stream": "stdout",
       "text": [
        "repitition #230\n",
        "classifier's guess: shoulder\n",
        "actual label:       shoulder\n",
        "%prob 'tricep', %prob 'shoulder', %prob 'bicep curls'\n",
        "[  5.88610465e-07   9.99821096e-01   1.78315825e-04]\n"
       ]
      }
     ],
     "prompt_number": 44
    },
    {
     "cell_type": "code",
     "collapsed": false,
     "input": [
      "all_reps[random_rep]"
     ],
     "language": "python",
     "metadata": {},
     "outputs": [
      {
       "metadata": {},
       "output_type": "pyout",
       "prompt_number": 33,
       "text": [
        "[-0.53,\n",
        " 0.15,\n",
        " 0.47,\n",
        " 0.17,\n",
        " 0.55,\n",
        " 1.54,\n",
        " -0.24,\n",
        " 0.17,\n",
        " 0.44,\n",
        " -125.5,\n",
        " 5664.76,\n",
        " 17515.0,\n",
        " -288.81,\n",
        " 7329.64,\n",
        " 23406.0,\n",
        " -361.56,\n",
        " 15447.15,\n",
        " 44707.0,\n",
        " 394.33,\n",
        " 159.77,\n",
        " 481.16,\n",
        " 101.72,\n",
        " 266.52,\n",
        " 724.04,\n",
        " 256.91,\n",
        " 64.74,\n",
        " 188.6]"
       ]
      }
     ],
     "prompt_number": 33
    },
    {
     "cell_type": "markdown",
     "metadata": {},
     "source": [
      "How much time does it take to predict? Must be less than 100ms"
     ]
    },
    {
     "cell_type": "code",
     "collapsed": false,
     "input": [
      "%timeit(clf_final.predict(all_reps[sample_ind])[0])"
     ],
     "language": "python",
     "metadata": {},
     "outputs": [
      {
       "output_type": "stream",
       "stream": "stdout",
       "text": [
        "10000 loops, best of 3: 70.9 \u00b5s per loop\n"
       ]
      }
     ],
     "prompt_number": 109
    },
    {
     "cell_type": "markdown",
     "metadata": {},
     "source": [
      "70.9 microseconds is less than 1 ms so it's good  :)"
     ]
    },
    {
     "cell_type": "markdown",
     "metadata": {},
     "source": [
      "### Load all data into classifier for use with new data"
     ]
    },
    {
     "cell_type": "code",
     "collapsed": false,
     "input": [
      "import pickle\n",
      "pickle.dump(clf_final,open('../svc_model.p','wb'))"
     ],
     "language": "python",
     "metadata": {},
     "outputs": [],
     "prompt_number": 45
    },
    {
     "cell_type": "code",
     "collapsed": false,
     "input": [
      "model=pickle.load(open('../svc_model.p'))"
     ],
     "language": "python",
     "metadata": {},
     "outputs": [],
     "prompt_number": 35
    },
    {
     "cell_type": "code",
     "collapsed": false,
     "input": [
      "len(model.support_vectors_)"
     ],
     "language": "python",
     "metadata": {},
     "outputs": [
      {
       "metadata": {},
       "output_type": "pyout",
       "prompt_number": 38,
       "text": [
        "25"
       ]
      }
     ],
     "prompt_number": 38
    },
    {
     "cell_type": "code",
     "collapsed": false,
     "input": [],
     "language": "python",
     "metadata": {},
     "outputs": []
    }
   ],
   "metadata": {}
  }
 ]
}