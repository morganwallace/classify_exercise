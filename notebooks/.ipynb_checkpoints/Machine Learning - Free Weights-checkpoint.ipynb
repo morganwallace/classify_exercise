{
 "metadata": {
  "name": ""
 },
 "nbformat": 3,
 "nbformat_minor": 0,
 "worksheets": [
  {
   "cells": [
    {
     "cell_type": "markdown",
     "metadata": {},
     "source": [
      "# Machine Learning for Free Weight Exercises\n",
      "*By Morgan Wallace* | morgan.m.wallace@gmail.com\n",
      "\n",
      "##### Table of Contents\n",
      "1. Import libraries and dataset\n",
      "2. Data cleaning\n",
      "3. Function declaration\n",
      "4. Visualization, Exploration, and Observation\n"
     ]
    },
    {
     "cell_type": "markdown",
     "metadata": {},
     "source": [
      "----\n",
      "### Import Libraries and Fetch Pickled Data"
     ]
    },
    {
     "cell_type": "code",
     "collapsed": false,
     "input": [
      "from __future__ import division\n",
      "\n",
      "# import hercubit\n",
      "# import saved_data\n",
      "\n",
      "import pickle\n",
      "import sklearn\n",
      "from sklearn import datasets, svm\n",
      "import pandas as pd\n",
      "from pandas import read_csv\n",
      "import numpy as np\n",
      "import matplotlib.pyplot as plt\n",
      "import pylab as pl\n",
      "\n",
      "#put plots in ipython notebook, inline.\n",
      "%matplotlib inline"
     ],
     "language": "python",
     "metadata": {},
     "outputs": [],
     "prompt_number": 41
    },
    {
     "cell_type": "code",
     "collapsed": false,
     "input": [
      "try:\n",
      "    import mpld3\n",
      "    from mpld3 import enable_notebook\n",
      "    from mpld3 import plugins\n",
      "    enable_notebook()\n",
      "except Exception as e:\n",
      "    print \"Attempt to import and enable mpld3 failed\", e"
     ],
     "language": "python",
     "metadata": {},
     "outputs": [],
     "prompt_number": 42
    },
    {
     "cell_type": "code",
     "collapsed": false,
     "input": [
      "# what would seaborn do?\n",
      "try:\n",
      "    import seaborn as sns\n",
      "except Exception as e:\n",
      "    print \"Attempt to import and enable seaborn failed\", e"
     ],
     "language": "python",
     "metadata": {},
     "outputs": [],
     "prompt_number": 43
    },
    {
     "cell_type": "code",
     "collapsed": false,
     "input": [
      "dataset=pickle.load(open('../all_samples.p','rb'))\n",
      "dataset_new=pickle.load(open('../all_samples_new.p','rb'))\n",
      "print dataset_new[-1]\n",
      "dataset+=dataset_new\n",
      "# dataset=open('all_samples.csv','rb')\n",
      "# print dataset[1]"
     ],
     "language": "python",
     "metadata": {},
     "outputs": [
      {
       "ename": "IOError",
       "evalue": "[Errno 2] No such file or directory: '../all_samples.p'",
       "output_type": "pyerr",
       "traceback": [
        "\u001b[0;31m---------------------------------------------------------------------------\u001b[0m\n\u001b[0;31mIOError\u001b[0m                                   Traceback (most recent call last)",
        "\u001b[0;32m<ipython-input-44-ad22272a00ae>\u001b[0m in \u001b[0;36m<module>\u001b[0;34m()\u001b[0m\n\u001b[0;32m----> 1\u001b[0;31m \u001b[0mdataset\u001b[0m\u001b[0;34m=\u001b[0m\u001b[0mpickle\u001b[0m\u001b[0;34m.\u001b[0m\u001b[0mload\u001b[0m\u001b[0;34m(\u001b[0m\u001b[0mopen\u001b[0m\u001b[0;34m(\u001b[0m\u001b[0;34m'../all_samples.p'\u001b[0m\u001b[0;34m,\u001b[0m\u001b[0;34m'rb'\u001b[0m\u001b[0;34m)\u001b[0m\u001b[0;34m)\u001b[0m\u001b[0;34m\u001b[0m\u001b[0m\n\u001b[0m\u001b[1;32m      2\u001b[0m \u001b[0mdataset_new\u001b[0m\u001b[0;34m=\u001b[0m\u001b[0mpickle\u001b[0m\u001b[0;34m.\u001b[0m\u001b[0mload\u001b[0m\u001b[0;34m(\u001b[0m\u001b[0mopen\u001b[0m\u001b[0;34m(\u001b[0m\u001b[0;34m'../all_samples_new.p'\u001b[0m\u001b[0;34m,\u001b[0m\u001b[0;34m'rb'\u001b[0m\u001b[0;34m)\u001b[0m\u001b[0;34m)\u001b[0m\u001b[0;34m\u001b[0m\u001b[0m\n\u001b[1;32m      3\u001b[0m \u001b[0;32mprint\u001b[0m \u001b[0mdataset_new\u001b[0m\u001b[0;34m[\u001b[0m\u001b[0;34m-\u001b[0m\u001b[0;36m1\u001b[0m\u001b[0;34m]\u001b[0m\u001b[0;34m\u001b[0m\u001b[0m\n\u001b[1;32m      4\u001b[0m \u001b[0mdataset\u001b[0m\u001b[0;34m+=\u001b[0m\u001b[0mdataset_new\u001b[0m\u001b[0;34m\u001b[0m\u001b[0m\n\u001b[1;32m      5\u001b[0m \u001b[0;31m# dataset=open('all_samples.csv','rb')\u001b[0m\u001b[0;34m\u001b[0m\u001b[0;34m\u001b[0m\u001b[0m\n",
        "\u001b[0;31mIOError\u001b[0m: [Errno 2] No such file or directory: '../all_samples.p'"
       ]
      }
     ],
     "prompt_number": 44
    },
    {
     "cell_type": "code",
     "collapsed": false,
     "input": [
      "for row in dataset:\n",
      "    if row[1]=='bicep curl':\n",
      "        dataset[dataset.index(row)][1]='bicep curls'"
     ],
     "language": "python",
     "metadata": {},
     "outputs": []
    },
    {
     "cell_type": "markdown",
     "metadata": {},
     "source": [
      "### Data cleaning/organizing using Pandas\n",
      "\n",
      "* Set column labels in data frame\n",
      "* Eliminate erroneous data "
     ]
    },
    {
     "cell_type": "code",
     "collapsed": false,
     "input": [
      "df=pd.DataFrame(dataset)\n",
      "df.columns=['User','exerciseType','rep_count','t (sec)','acc_x','acc_y','acc_z','gyro_x','gyro_y','gyro_z','magnet_x','magnet_y','magnet_z']\n",
      "\n",
      "#get rid of first data point because it has erroneous data\n",
      "df=df[df['t (sec)'] >0.01]\n",
      "\n",
      "#round the time values to make them easier to find\n",
      "df['t (sec)']=df['t (sec)'].apply(lambda x: round(x,3))\n"
     ],
     "language": "python",
     "metadata": {},
     "outputs": []
    },
    {
     "cell_type": "code",
     "collapsed": false,
     "input": [
      "# give each set an id for iteration through sets\n",
      "set_id=0\n",
      "last_time=0\n",
      "def check_time(time):\n",
      "    global set_id, last_time\n",
      "    if time<last_time:\n",
      "        set_id+=1\n",
      "    last_time=time\n",
      "    return set_id\n",
      "df['set_id'] = df['t (sec)'].apply(check_time)"
     ],
     "language": "python",
     "metadata": {},
     "outputs": []
    },
    {
     "cell_type": "code",
     "collapsed": false,
     "input": [
      "# clear all the magnetometer error numbers (Really high numbers e.g. greater than 2000)\n",
      "last_mag=0\n",
      "def fix_mag(sample):\n",
      "    global last_mag\n",
      "    if abs(sample)>2000: #Magnetometer readings should be less than 2000 typically\n",
      "        sample=last_mag\n",
      "    else: last_mag=sample\n",
      "    return sample\n",
      "\n",
      "magnetometer_column=df.columns[10:13]\n",
      "print magnetometer_column\n",
      "for col in magnetometer_column:\n",
      "    df[col] = df[col].apply(fix_mag)"
     ],
     "language": "python",
     "metadata": {},
     "outputs": []
    },
    {
     "cell_type": "code",
     "collapsed": false,
     "input": [
      "# This is how the data looks\n",
      "df.head()"
     ],
     "language": "python",
     "metadata": {},
     "outputs": []
    },
    {
     "cell_type": "code",
     "collapsed": false,
     "input": [
      "df.describe()"
     ],
     "language": "python",
     "metadata": {},
     "outputs": []
    },
    {
     "cell_type": "markdown",
     "metadata": {},
     "source": [
      "###Define functions:\n",
      "* peak detection\n",
      "* plotting"
     ]
    },
    {
     "cell_type": "code",
     "collapsed": false,
     "input": [
      "# Attribution: https://gist.github.com/schlady/1576079\n",
      "\n",
      "def peakdetect(y_axis, x_axis = None, lookahead = 500, delta = 0):\n",
      "    \"\"\"\n",
      "    Converted from/based on a MATLAB script at http://billauer.co.il/peakdet.html\n",
      "    \n",
      "    Algorithm for detecting local maximas and minmias in a signal.\n",
      "    Discovers peaks by searching for values which are surrounded by lower\n",
      "    or larger values for maximas and minimas respectively\n",
      "    \n",
      "    keyword arguments:\n",
      "    y_axis -- A list containg the signal over which to find peaks\n",
      "    x_axis -- A x-axis whose values correspond to the 'y_axis' list and is used\n",
      "        in the return to specify the postion of the peaks. If omitted the index\n",
      "        of the y_axis is used. (default: None)\n",
      "    lookahead -- (optional) distance to look ahead from a peak candidate to\n",
      "        determine if it is the actual peak (default: 500) \n",
      "        '(sample / period) / f' where '4 >= f >= 1.25' might be a good value\n",
      "    delta -- (optional) this specifies a minimum difference between a peak and\n",
      "        the following points, before a peak may be considered a peak. Useful\n",
      "        to hinder the algorithm from picking up false peaks towards to end of\n",
      "        the signal. To work well delta should be set to 'delta >= RMSnoise * 5'.\n",
      "        (default: 0)\n",
      "            Delta function causes a 20% decrease in speed, when omitted\n",
      "            Correctly used it can double the speed of the algorithm\n",
      "    \n",
      "    return -- two lists [maxtab, mintab] containing the positive and negative\n",
      "        peaks respectively. Each cell of the lists contains a tupple of:\n",
      "        (position, peak_value) \n",
      "        to get the average peak value do 'np.mean(maxtab, 0)[1]' on the results\n",
      "    \"\"\"\n",
      "    maxtab = []\n",
      "    mintab = []\n",
      "    dump = []   #Used to pop the first hit which always if false\n",
      "       \n",
      "    length = len(y_axis)\n",
      "    if x_axis is None:\n",
      "        x_axis = range(length)\n",
      "    \n",
      "    #perform some checks\n",
      "    if length != len(x_axis):\n",
      "        raise ValueError, \"Input vectors y_axis and x_axis must have same length\"\n",
      "    if lookahead < 1:\n",
      "        raise ValueError, \"Lookahead must be above '1' in value\"\n",
      "    if not (np.isscalar(delta) and delta >= 0):\n",
      "        raise ValueError, \"delta must be a positive number\"\n",
      "    \n",
      "    #needs to be a numpy array\n",
      "    y_axis = np.asarray(y_axis)\n",
      "    \n",
      "    #maxima and minima candidates are temporarily stored in\n",
      "    #mx and mn respectively\n",
      "    mn, mx = np.Inf, -np.Inf\n",
      "    \n",
      "    #Only detect peak if there is 'lookahead' amount of points after it\n",
      "    for index, (x, y) in enumerate(zip(x_axis[:-lookahead], y_axis[:-lookahead])):\n",
      "        if y > mx:\n",
      "            mx = y\n",
      "            mxpos = x\n",
      "        if y < mn:\n",
      "            mn = y\n",
      "            mnpos = x\n",
      "        \n",
      "        ####look for max####\n",
      "        if y < mx-delta and mx != np.Inf:\n",
      "            #Maxima peak candidate found\n",
      "            #look ahead in signal to ensure that this is a peak and not jitter\n",
      "            if y_axis[index:index+lookahead].max() < mx:\n",
      "                maxtab.append((mxpos, mx))\n",
      "                dump.append(True)\n",
      "                #set algorithm to only find minima now\n",
      "                mx = np.Inf\n",
      "                mn = np.Inf\n",
      "        ## Morgan's addition\n",
      "        y    \n",
      "            \n",
      "        \n",
      "        ####look for min####\n",
      "        if y > mn+delta and mn != -np.Inf:\n",
      "            #Minima peak candidate found \n",
      "            #look ahead in signal to ensure that this is a peak and not jitter\n",
      "            if y_axis[index:index+lookahead].min() > mn:\n",
      "                mintab.append((mnpos, mn))\n",
      "                dump.append(False)\n",
      "                #set algorithm to only find maxima now\n",
      "                mn = -np.Inf\n",
      "                mx = -np.Inf\n",
      "    \n",
      "    \n",
      "    #Remove the false hit on the first value of the y_axis\n",
      "    try:\n",
      "        if dump[0]:\n",
      "            maxtab.pop(0)\n",
      "            #print \"pop max\"\n",
      "        else:\n",
      "            mintab.pop(0)\n",
      "            #print \"pop min\"\n",
      "        del dump\n",
      "    except IndexError:\n",
      "        #no peaks were found, should the function return empty lists?\n",
      "        pass\n",
      "    \n",
      "    return maxtab, mintab\n",
      " "
     ],
     "language": "python",
     "metadata": {},
     "outputs": []
    },
    {
     "cell_type": "code",
     "collapsed": false,
     "input": [
      "def remap(peaks):\n",
      "    \"\"\"Reformat coordinates of peaks to properly feed into pyplot\"\"\"\n",
      "    tabs=[]\n",
      "    for tab in peaks: #mintab and maxtab\n",
      "        tab=([i[1] for i in tab],[i[0] for i in tab])\n",
      "        tabs.append(tab)\n",
      "    return tabs"
     ],
     "language": "python",
     "metadata": {},
     "outputs": []
    },
    {
     "cell_type": "code",
     "collapsed": false,
     "input": [
      "### INCOMPLETE\n",
      "def get_ranges(peaks):\n",
      "    \"\"\"Range if there is a min to max or max to min\"\"\"\n",
      "    ranges={}\n",
      "    both_min_max={}\n",
      "#     print peaks\n",
      "    for tab in peaks:\n",
      "#         print 'tabs'\n",
      "#         print tab\n",
      "        peak=tab[0]\n",
      "        for i in range(len(peak)):\n",
      "#             print peak\n",
      "            if ranges.get(i)==None:\n",
      "                ranges[i]=[peak[i],'just one']\n",
      "                \n",
      "            else:\n",
      "                ranges[i][0]=abs(ranges[i]-peak[i])\n",
      "                ranges[i][1]='both_min_max'\n",
      "            return [r[0] for r in ranges.values() if r[1]==\"both_min_max\"]"
     ],
     "language": "python",
     "metadata": {},
     "outputs": []
    },
    {
     "cell_type": "code",
     "collapsed": false,
     "input": [
      "deltas={'acc':.15,'gyro':2500,'magnet':15}"
     ],
     "language": "python",
     "metadata": {},
     "outputs": []
    },
    {
     "cell_type": "code",
     "collapsed": false,
     "input": [
      "def plot_peaks(df_x,fig,ax, axes,mylookahead=10, delta=\"\"):\n",
      "    global deltas\n",
      "    peak_dict={}\n",
      "    ranges={}\n",
      "    times={}\n",
      "    for axis in axes:\n",
      "        peaks=peakdetect(df_x[axis],df_x['t (sec)'], lookahead=mylookahead,delta=delta)\n",
      "        peaks=remap(peaks)\n",
      "#         r=get_ranges(peaks)\n",
      "#         print r\n",
      "#         ranges[axis]=sum(r)/len(r)\n",
      "#         print ranges[axis]\n",
      "        maxes=ax.plot(peaks[0][1],peaks[0][0], \"o\") # Plot dots for local maxima\n",
      "        mins=ax.plot(peaks[1][1],peaks[1][0], \"o\") # Plot dots for local minima\n",
      "        print \"%d local min, %d local max found on %s axis\" % (len(peaks[1][0]),len(peaks[0][0]),axis)\n",
      "        times[axis] = [i[1] for i in peaks]\n",
      "        #non-functioning tooltip code\n",
      "#         labels = ['point {0}'.format(i + 1) for i in range(len(maxes+mins))]\n",
      "#         tooltip = plugins.PointLabelTooltip(maxes+mins, labels=labels)\n",
      "#         plugins.connect(fig, tooltip)\n",
      "    return fig, ax, times"
     ],
     "language": "python",
     "metadata": {},
     "outputs": []
    },
    {
     "cell_type": "code",
     "collapsed": false,
     "input": [
      "def plot_sensor(sensor=\"acc\", peaks=True,lookahead=10,user=\"Morgan\",exercise='bicep curls',delta=None,set_id=None):\n",
      "    #setup a slice of the data frame\n",
      "    global df, deltas\n",
      "\n",
      "    #pick which set to visualize\n",
      "    if set_id!=None:\n",
      "        df_x=df[df.set_id==set_id]\n",
      "    else:\n",
      "        df_x=df[df.exerciseType==exercise]        \n",
      "        df_x=df_x[df_x.User==user]\n",
      "        df_x=df_x[df_x.set_id== int(df_x.set_id.head(1))]\n",
      "    \n",
      "    #Make plots\n",
      "    fig, ax = plt.subplots()\n",
      "    if sensor==\"acc\": axes=list(df_x.columns[4:7])\n",
      "    if sensor==\"gyro\": axes=list(df_x.columns[7:10])\n",
      "    if sensor==\"magnet\": axes=list(df_x.columns[10:13])\n",
      "        \n",
      "    for axis in axes:\n",
      "        ax.plot(df_x['t (sec)'], df_x[axis], label=axis[-1])\n",
      "    \n",
      "    if peaks==True:\n",
      "        if delta==None:\n",
      "            delta=deltas[sensor]\n",
      "        times=plot_peaks(df_x,fig, ax, axes,mylookahead=lookahead, delta=delta)[2]\n",
      "    ax.legend()\n",
      "    ax.set_title(\"10 reps of \"+str(df_x.exerciseType.iloc[0])+\": sensor=\"+sensor+\", user=\"+str(df_x.User.iloc[0])+\", set_id=\"+str(df_x.set_id.iloc[0]))\n",
      "    return times"
     ],
     "language": "python",
     "metadata": {},
     "outputs": [],
     "prompt_number": 35
    },
    {
     "cell_type": "code",
     "collapsed": false,
     "input": [
      "# ## DELETE THIS - PROBABLY\n",
      "\n",
      "# reps={}\n",
      "# def add_rep_count(set_id,col='acc_y',max_or_min='max',mylookahead=10):\n",
      "#     global reps\n",
      "#     reps[set_id]=0\n",
      "#     #prepare a slice of the dataframe for peak detection\n",
      "#     df_x=df[df.set_id==set_id]\n",
      "    \n",
      "#     #find peaks\n",
      "#     peaks=peakdetect(df_x[col],df_x['t (sec)'], lookahead=mylookahead)\n",
      "#     if max_or_min==\"max\": i =0\n",
      "#     elif max_or_min==\"min\": i =1\n",
      "#     times=[peak[0] for peak in peaks[i]]\n",
      "    \n",
      "#     #set values\n",
      "#     for time in times:\n",
      "#         reps[set_id]+=1\n",
      "#         rep_index=df_x[df_x['t (sec)']==time].index[0]\n",
      "#         df.rep_count[rep_index]=reps[set_id]\n",
      "# #     print df[df.set_id==set_id]"
     ],
     "language": "python",
     "metadata": {},
     "outputs": [],
     "prompt_number": 36
    },
    {
     "cell_type": "code",
     "collapsed": false,
     "input": [
      "def manual_add_rep(i):\n",
      "    global reps\n",
      "    reps[set_id]+=1\n",
      "    df.rep_count[i]=reps[set_id]"
     ],
     "language": "python",
     "metadata": {},
     "outputs": [],
     "prompt_number": 37
    },
    {
     "cell_type": "markdown",
     "metadata": {},
     "source": [
      "### Label the repititions\n",
      "\n",
      "1. Make function to take list of peak times and add reps to dataframe for that row\n",
      "2. Manually go through each set, confirm that those are the correct times\n",
      "3. Copy peak times into function call from #1 and manually add anything peaks not found\n",
      "4. Confirm they were added properly"
     ]
    },
    {
     "cell_type": "code",
     "collapsed": false,
     "input": [
      "def add_reps(set_id,mylist):\n",
      "    global df\n",
      "    count=0\n",
      "#     df_x=df[df.set_id==set_id]\n",
      "    for t in mylist:\n",
      "        count+=1\n",
      "        t=round(t,3)\n",
      "        indx = df[(df['t (sec)']>t-.05) & (df['t (sec)']<t+.05) &(df.set_id==set_id)].index.tolist()[0]\n",
      "        df.loc[indx,'rep_count']=count"
     ],
     "language": "python",
     "metadata": {},
     "outputs": [],
     "prompt_number": 38
    },
    {
     "cell_type": "code",
     "collapsed": false,
     "input": [
      "setid=11\n",
      "times=plot_sensor(set_id=setid,lookahead=5)\n",
      "rep_times=times['acc_y'][1]\n",
      "print rep_times\n",
      "# df[df.set_id==setid]"
     ],
     "language": "python",
     "metadata": {},
     "outputs": [
      {
       "ename": "NameError",
       "evalue": "global name 'df' is not defined",
       "output_type": "pyerr",
       "traceback": [
        "\u001b[0;31m---------------------------------------------------------------------------\u001b[0m\n\u001b[0;31mNameError\u001b[0m                                 Traceback (most recent call last)",
        "\u001b[0;32m<ipython-input-39-34c25bfb5e54>\u001b[0m in \u001b[0;36m<module>\u001b[0;34m()\u001b[0m\n\u001b[1;32m      1\u001b[0m \u001b[0msetid\u001b[0m\u001b[0;34m=\u001b[0m\u001b[0;36m11\u001b[0m\u001b[0;34m\u001b[0m\u001b[0m\n\u001b[0;32m----> 2\u001b[0;31m \u001b[0mtimes\u001b[0m\u001b[0;34m=\u001b[0m\u001b[0mplot_sensor\u001b[0m\u001b[0;34m(\u001b[0m\u001b[0mset_id\u001b[0m\u001b[0;34m=\u001b[0m\u001b[0msetid\u001b[0m\u001b[0;34m,\u001b[0m\u001b[0mlookahead\u001b[0m\u001b[0;34m=\u001b[0m\u001b[0;36m5\u001b[0m\u001b[0;34m)\u001b[0m\u001b[0;34m\u001b[0m\u001b[0m\n\u001b[0m\u001b[1;32m      3\u001b[0m \u001b[0mrep_times\u001b[0m\u001b[0;34m=\u001b[0m\u001b[0mtimes\u001b[0m\u001b[0;34m[\u001b[0m\u001b[0;34m'acc_y'\u001b[0m\u001b[0;34m]\u001b[0m\u001b[0;34m[\u001b[0m\u001b[0;36m1\u001b[0m\u001b[0;34m]\u001b[0m\u001b[0;34m\u001b[0m\u001b[0m\n\u001b[1;32m      4\u001b[0m \u001b[0;32mprint\u001b[0m \u001b[0mrep_times\u001b[0m\u001b[0;34m\u001b[0m\u001b[0m\n\u001b[1;32m      5\u001b[0m \u001b[0;31m# df[df.set_id==setid]\u001b[0m\u001b[0;34m\u001b[0m\u001b[0;34m\u001b[0m\u001b[0m\n",
        "\u001b[0;32m<ipython-input-35-1f1dfdd690fe>\u001b[0m in \u001b[0;36mplot_sensor\u001b[0;34m(sensor, peaks, lookahead, user, exercise, delta, set_id)\u001b[0m\n\u001b[1;32m      5\u001b[0m     \u001b[0;31m#pick which set to visualize\u001b[0m\u001b[0;34m\u001b[0m\u001b[0;34m\u001b[0m\u001b[0m\n\u001b[1;32m      6\u001b[0m     \u001b[0;32mif\u001b[0m \u001b[0mset_id\u001b[0m\u001b[0;34m!=\u001b[0m\u001b[0mNone\u001b[0m\u001b[0;34m:\u001b[0m\u001b[0;34m\u001b[0m\u001b[0m\n\u001b[0;32m----> 7\u001b[0;31m         \u001b[0mdf_x\u001b[0m\u001b[0;34m=\u001b[0m\u001b[0mdf\u001b[0m\u001b[0;34m[\u001b[0m\u001b[0mdf\u001b[0m\u001b[0;34m.\u001b[0m\u001b[0mset_id\u001b[0m\u001b[0;34m==\u001b[0m\u001b[0mset_id\u001b[0m\u001b[0;34m]\u001b[0m\u001b[0;34m\u001b[0m\u001b[0m\n\u001b[0m\u001b[1;32m      8\u001b[0m     \u001b[0;32melse\u001b[0m\u001b[0;34m:\u001b[0m\u001b[0;34m\u001b[0m\u001b[0m\n\u001b[1;32m      9\u001b[0m         \u001b[0mdf_x\u001b[0m\u001b[0;34m=\u001b[0m\u001b[0mdf\u001b[0m\u001b[0;34m[\u001b[0m\u001b[0mdf\u001b[0m\u001b[0;34m.\u001b[0m\u001b[0mexerciseType\u001b[0m\u001b[0;34m==\u001b[0m\u001b[0mexercise\u001b[0m\u001b[0;34m]\u001b[0m\u001b[0;34m\u001b[0m\u001b[0m\n",
        "\u001b[0;31mNameError\u001b[0m: global name 'df' is not defined"
       ]
      }
     ],
     "prompt_number": 39
    },
    {
     "cell_type": "code",
     "collapsed": false,
     "input": [
      "# Copy in peaks from print output above and add any manual \n",
      "# add_reps(setid,rep_times)"
     ],
     "language": "python",
     "metadata": {},
     "outputs": [],
     "prompt_number": 10
    },
    {
     "cell_type": "code",
     "collapsed": false,
     "input": [
      "# Confirm\n",
      "# df[(df.rep_count!=0) & (df.set_id==setid)]"
     ],
     "language": "python",
     "metadata": {},
     "outputs": [],
     "prompt_number": 11
    },
    {
     "cell_type": "code",
     "collapsed": false,
     "input": [
      "#This line of code will clear the repititions for any given set\n",
      "# df.rep_count=df.rep_count.apply(lambda x: 0)"
     ],
     "language": "python",
     "metadata": {},
     "outputs": [],
     "prompt_number": 12
    },
    {
     "cell_type": "code",
     "collapsed": false,
     "input": [
      "# df_new=df[df.set_id>39]\n",
      "# df_new.describe()"
     ],
     "language": "python",
     "metadata": {},
     "outputs": [],
     "prompt_number": 13
    },
    {
     "cell_type": "code",
     "collapsed": false,
     "input": [
      "# df[df.exerciseType=='bicep curl'].exerciseType=df[df.exerciseType=='bicep curl'].exerciseType.apply(lambda x: 'bicep curls')\n"
     ],
     "language": "python",
     "metadata": {},
     "outputs": [],
     "prompt_number": 14
    },
    {
     "cell_type": "markdown",
     "metadata": {},
     "source": [
      "ouput new labeled data"
     ]
    },
    {
     "cell_type": "code",
     "collapsed": false,
     "input": [
      "# df_new.to_csv('labeled_data2.csv')"
     ],
     "language": "python",
     "metadata": {},
     "outputs": [],
     "prompt_number": 15
    },
    {
     "cell_type": "markdown",
     "metadata": {},
     "source": [
      "---\n",
      "## Visualizations and Data Exploration\n",
      "\n",
      "* *Note: all sets should have exactly 10 reps*\n",
      "* *Note: '``lookahead``' is measure of desensitivity to noise: the higher it is the fewer local max and min will be detected*"
     ]
    },
    {
     "cell_type": "markdown",
     "metadata": {},
     "source": [
      "#### Bicep Curls"
     ]
    },
    {
     "cell_type": "code",
     "collapsed": false,
     "input": [
      "observations=[]"
     ],
     "language": "python",
     "metadata": {},
     "outputs": [],
     "prompt_number": 16
    },
    {
     "cell_type": "code",
     "collapsed": false,
     "input": [
      "#accel\n",
      "plot_sensor(sensor=\"acc\",lookahead=5,exercise='bicep curls')"
     ],
     "language": "python",
     "metadata": {},
     "outputs": [
      {
       "ename": "NameError",
       "evalue": "name 'plot_sensor' is not defined",
       "output_type": "pyerr",
       "traceback": [
        "\u001b[0;31m---------------------------------------------------------------------------\u001b[0m\n\u001b[0;31mNameError\u001b[0m                                 Traceback (most recent call last)",
        "\u001b[0;32m<ipython-input-17-1e575a56903b>\u001b[0m in \u001b[0;36m<module>\u001b[0;34m()\u001b[0m\n\u001b[1;32m      1\u001b[0m \u001b[0;31m#accel\u001b[0m\u001b[0;34m\u001b[0m\u001b[0;34m\u001b[0m\u001b[0m\n\u001b[0;32m----> 2\u001b[0;31m \u001b[0mplot_sensor\u001b[0m\u001b[0;34m(\u001b[0m\u001b[0msensor\u001b[0m\u001b[0;34m=\u001b[0m\u001b[0;34m\"acc\"\u001b[0m\u001b[0;34m,\u001b[0m\u001b[0mlookahead\u001b[0m\u001b[0;34m=\u001b[0m\u001b[0;36m5\u001b[0m\u001b[0;34m,\u001b[0m\u001b[0mexercise\u001b[0m\u001b[0;34m=\u001b[0m\u001b[0;34m'bicep curls'\u001b[0m\u001b[0;34m)\u001b[0m\u001b[0;34m\u001b[0m\u001b[0m\n\u001b[0m",
        "\u001b[0;31mNameError\u001b[0m: name 'plot_sensor' is not defined"
       ]
      }
     ],
     "prompt_number": 17
    },
    {
     "cell_type": "code",
     "collapsed": false,
     "input": [
      "observations.append([\"x axis on bicep curls has almost 2x as many peaks as other axes\"])"
     ],
     "language": "python",
     "metadata": {},
     "outputs": [],
     "prompt_number": 18
    },
    {
     "cell_type": "code",
     "collapsed": false,
     "input": [
      "# add_rep_count(set_id=1,max_or_min='min')"
     ],
     "language": "python",
     "metadata": {},
     "outputs": [],
     "prompt_number": 19
    },
    {
     "cell_type": "code",
     "collapsed": false,
     "input": [
      "#gyro\n",
      "plot_sensor(exercise='bicep curls',sensor=\"gyro\", lookahead=7)"
     ],
     "language": "python",
     "metadata": {},
     "outputs": [
      {
       "ename": "NameError",
       "evalue": "name 'plot_sensor' is not defined",
       "output_type": "pyerr",
       "traceback": [
        "\u001b[0;31m---------------------------------------------------------------------------\u001b[0m\n\u001b[0;31mNameError\u001b[0m                                 Traceback (most recent call last)",
        "\u001b[0;32m<ipython-input-20-ca535210e747>\u001b[0m in \u001b[0;36m<module>\u001b[0;34m()\u001b[0m\n\u001b[1;32m      1\u001b[0m \u001b[0;31m#gyro\u001b[0m\u001b[0;34m\u001b[0m\u001b[0;34m\u001b[0m\u001b[0m\n\u001b[0;32m----> 2\u001b[0;31m \u001b[0mplot_sensor\u001b[0m\u001b[0;34m(\u001b[0m\u001b[0mexercise\u001b[0m\u001b[0;34m=\u001b[0m\u001b[0;34m'bicep curls'\u001b[0m\u001b[0;34m,\u001b[0m\u001b[0msensor\u001b[0m\u001b[0;34m=\u001b[0m\u001b[0;34m\"gyro\"\u001b[0m\u001b[0;34m,\u001b[0m \u001b[0mlookahead\u001b[0m\u001b[0;34m=\u001b[0m\u001b[0;36m7\u001b[0m\u001b[0;34m)\u001b[0m\u001b[0;34m\u001b[0m\u001b[0m\n\u001b[0m",
        "\u001b[0;31mNameError\u001b[0m: name 'plot_sensor' is not defined"
       ]
      }
     ],
     "prompt_number": 20
    },
    {
     "cell_type": "code",
     "collapsed": false,
     "input": [
      "#magnetometer\n",
      "plot_sensor(exercise='bicep curls',sensor=\"magnet\", lookahead=11)"
     ],
     "language": "python",
     "metadata": {},
     "outputs": [
      {
       "ename": "NameError",
       "evalue": "name 'plot_sensor' is not defined",
       "output_type": "pyerr",
       "traceback": [
        "\u001b[0;31m---------------------------------------------------------------------------\u001b[0m\n\u001b[0;31mNameError\u001b[0m                                 Traceback (most recent call last)",
        "\u001b[0;32m<ipython-input-21-3bf5322c605a>\u001b[0m in \u001b[0;36m<module>\u001b[0;34m()\u001b[0m\n\u001b[1;32m      1\u001b[0m \u001b[0;31m#magnetometer\u001b[0m\u001b[0;34m\u001b[0m\u001b[0;34m\u001b[0m\u001b[0m\n\u001b[0;32m----> 2\u001b[0;31m \u001b[0mplot_sensor\u001b[0m\u001b[0;34m(\u001b[0m\u001b[0mexercise\u001b[0m\u001b[0;34m=\u001b[0m\u001b[0;34m'bicep curls'\u001b[0m\u001b[0;34m,\u001b[0m\u001b[0msensor\u001b[0m\u001b[0;34m=\u001b[0m\u001b[0;34m\"magnet\"\u001b[0m\u001b[0;34m,\u001b[0m \u001b[0mlookahead\u001b[0m\u001b[0;34m=\u001b[0m\u001b[0;36m11\u001b[0m\u001b[0;34m)\u001b[0m\u001b[0;34m\u001b[0m\u001b[0m\n\u001b[0m",
        "\u001b[0;31mNameError\u001b[0m: name 'plot_sensor' is not defined"
       ]
      }
     ],
     "prompt_number": 21
    },
    {
     "cell_type": "markdown",
     "metadata": {},
     "source": [
      "#### Conclusions for Biceps\n",
      "* It looks like the **y axis** is most accurate for bicep curl reps\n",
      "* The **accelerometer is fastest** by accurately showing 10 reps with ``lookahead=8``"
     ]
    },
    {
     "cell_type": "markdown",
     "metadata": {},
     "source": [
      "#### Tricep Curls"
     ]
    },
    {
     "cell_type": "code",
     "collapsed": false,
     "input": [
      "#accelerometer\n",
      "plot_sensor(sensor=\"acc\",lookahead=9,exercise='tricep',user='Lazar')"
     ],
     "language": "python",
     "metadata": {},
     "outputs": [
      {
       "ename": "NameError",
       "evalue": "name 'plot_sensor' is not defined",
       "output_type": "pyerr",
       "traceback": [
        "\u001b[0;31m---------------------------------------------------------------------------\u001b[0m\n\u001b[0;31mNameError\u001b[0m                                 Traceback (most recent call last)",
        "\u001b[0;32m<ipython-input-22-b8ae52e65da4>\u001b[0m in \u001b[0;36m<module>\u001b[0;34m()\u001b[0m\n\u001b[1;32m      1\u001b[0m \u001b[0;31m#accelerometer\u001b[0m\u001b[0;34m\u001b[0m\u001b[0;34m\u001b[0m\u001b[0m\n\u001b[0;32m----> 2\u001b[0;31m \u001b[0mplot_sensor\u001b[0m\u001b[0;34m(\u001b[0m\u001b[0msensor\u001b[0m\u001b[0;34m=\u001b[0m\u001b[0;34m\"acc\"\u001b[0m\u001b[0;34m,\u001b[0m\u001b[0mlookahead\u001b[0m\u001b[0;34m=\u001b[0m\u001b[0;36m9\u001b[0m\u001b[0;34m,\u001b[0m\u001b[0mexercise\u001b[0m\u001b[0;34m=\u001b[0m\u001b[0;34m'tricep'\u001b[0m\u001b[0;34m,\u001b[0m\u001b[0muser\u001b[0m\u001b[0;34m=\u001b[0m\u001b[0;34m'Lazar'\u001b[0m\u001b[0;34m)\u001b[0m\u001b[0;34m\u001b[0m\u001b[0m\n\u001b[0m",
        "\u001b[0;31mNameError\u001b[0m: name 'plot_sensor' is not defined"
       ]
      }
     ],
     "prompt_number": 22
    },
    {
     "cell_type": "code",
     "collapsed": false,
     "input": [
      "#accelerometer\n",
      "plot_sensor(sensor=\"acc\",lookahead=9,exercise='tricep',user='Morgan')"
     ],
     "language": "python",
     "metadata": {},
     "outputs": [
      {
       "ename": "NameError",
       "evalue": "name 'plot_sensor' is not defined",
       "output_type": "pyerr",
       "traceback": [
        "\u001b[0;31m---------------------------------------------------------------------------\u001b[0m\n\u001b[0;31mNameError\u001b[0m                                 Traceback (most recent call last)",
        "\u001b[0;32m<ipython-input-23-1b11e3fd0474>\u001b[0m in \u001b[0;36m<module>\u001b[0;34m()\u001b[0m\n\u001b[1;32m      1\u001b[0m \u001b[0;31m#accelerometer\u001b[0m\u001b[0;34m\u001b[0m\u001b[0;34m\u001b[0m\u001b[0m\n\u001b[0;32m----> 2\u001b[0;31m \u001b[0mplot_sensor\u001b[0m\u001b[0;34m(\u001b[0m\u001b[0msensor\u001b[0m\u001b[0;34m=\u001b[0m\u001b[0;34m\"acc\"\u001b[0m\u001b[0;34m,\u001b[0m\u001b[0mlookahead\u001b[0m\u001b[0;34m=\u001b[0m\u001b[0;36m9\u001b[0m\u001b[0;34m,\u001b[0m\u001b[0mexercise\u001b[0m\u001b[0;34m=\u001b[0m\u001b[0;34m'tricep'\u001b[0m\u001b[0;34m,\u001b[0m\u001b[0muser\u001b[0m\u001b[0;34m=\u001b[0m\u001b[0;34m'Morgan'\u001b[0m\u001b[0;34m)\u001b[0m\u001b[0;34m\u001b[0m\u001b[0m\n\u001b[0m",
        "\u001b[0;31mNameError\u001b[0m: name 'plot_sensor' is not defined"
       ]
      }
     ],
     "prompt_number": 23
    },
    {
     "cell_type": "code",
     "collapsed": false,
     "input": [
      "observations.append('Tricep+acc:  double hump in the y axis')"
     ],
     "language": "python",
     "metadata": {},
     "outputs": [],
     "prompt_number": 24
    },
    {
     "cell_type": "code",
     "collapsed": false,
     "input": [
      "plot_sensor(sensor=\"acc\",lookahead=9,exercise='tricep',user='Lazar')"
     ],
     "language": "python",
     "metadata": {},
     "outputs": [
      {
       "ename": "NameError",
       "evalue": "name 'plot_sensor' is not defined",
       "output_type": "pyerr",
       "traceback": [
        "\u001b[0;31m---------------------------------------------------------------------------\u001b[0m\n\u001b[0;31mNameError\u001b[0m                                 Traceback (most recent call last)",
        "\u001b[0;32m<ipython-input-25-467411c7643a>\u001b[0m in \u001b[0;36m<module>\u001b[0;34m()\u001b[0m\n\u001b[0;32m----> 1\u001b[0;31m \u001b[0mplot_sensor\u001b[0m\u001b[0;34m(\u001b[0m\u001b[0msensor\u001b[0m\u001b[0;34m=\u001b[0m\u001b[0;34m\"acc\"\u001b[0m\u001b[0;34m,\u001b[0m\u001b[0mlookahead\u001b[0m\u001b[0;34m=\u001b[0m\u001b[0;36m9\u001b[0m\u001b[0;34m,\u001b[0m\u001b[0mexercise\u001b[0m\u001b[0;34m=\u001b[0m\u001b[0;34m'tricep'\u001b[0m\u001b[0;34m,\u001b[0m\u001b[0muser\u001b[0m\u001b[0;34m=\u001b[0m\u001b[0;34m'Lazar'\u001b[0m\u001b[0;34m)\u001b[0m\u001b[0;34m\u001b[0m\u001b[0m\n\u001b[0m",
        "\u001b[0;31mNameError\u001b[0m: name 'plot_sensor' is not defined"
       ]
      }
     ],
     "prompt_number": 25
    },
    {
     "cell_type": "code",
     "collapsed": false,
     "input": [
      "observations.append('y axis acceleromater for tricep curls is very shakey relative to the other axis')"
     ],
     "language": "python",
     "metadata": {},
     "outputs": [],
     "prompt_number": 26
    },
    {
     "cell_type": "code",
     "collapsed": false,
     "input": [
      "#gyro\n",
      "plot_sensor(exercise='tricep',sensor=\"gyro\", lookahead=12)"
     ],
     "language": "python",
     "metadata": {},
     "outputs": [
      {
       "ename": "NameError",
       "evalue": "name 'plot_sensor' is not defined",
       "output_type": "pyerr",
       "traceback": [
        "\u001b[0;31m---------------------------------------------------------------------------\u001b[0m\n\u001b[0;31mNameError\u001b[0m                                 Traceback (most recent call last)",
        "\u001b[0;32m<ipython-input-27-21ad1b35a765>\u001b[0m in \u001b[0;36m<module>\u001b[0;34m()\u001b[0m\n\u001b[1;32m      1\u001b[0m \u001b[0;31m#gyro\u001b[0m\u001b[0;34m\u001b[0m\u001b[0;34m\u001b[0m\u001b[0m\n\u001b[0;32m----> 2\u001b[0;31m \u001b[0mplot_sensor\u001b[0m\u001b[0;34m(\u001b[0m\u001b[0mexercise\u001b[0m\u001b[0;34m=\u001b[0m\u001b[0;34m'tricep'\u001b[0m\u001b[0;34m,\u001b[0m\u001b[0msensor\u001b[0m\u001b[0;34m=\u001b[0m\u001b[0;34m\"gyro\"\u001b[0m\u001b[0;34m,\u001b[0m \u001b[0mlookahead\u001b[0m\u001b[0;34m=\u001b[0m\u001b[0;36m12\u001b[0m\u001b[0;34m)\u001b[0m\u001b[0;34m\u001b[0m\u001b[0m\n\u001b[0m",
        "\u001b[0;31mNameError\u001b[0m: name 'plot_sensor' is not defined"
       ]
      }
     ],
     "prompt_number": 27
    },
    {
     "cell_type": "code",
     "collapsed": false,
     "input": [
      "#gyro - same as above but Lazar not Morgan\n",
      "plot_sensor(exercise='tricep',sensor=\"gyro\", lookahead=12,user=\"Lazar\")"
     ],
     "language": "python",
     "metadata": {},
     "outputs": [
      {
       "ename": "NameError",
       "evalue": "name 'plot_sensor' is not defined",
       "output_type": "pyerr",
       "traceback": [
        "\u001b[0;31m---------------------------------------------------------------------------\u001b[0m\n\u001b[0;31mNameError\u001b[0m                                 Traceback (most recent call last)",
        "\u001b[0;32m<ipython-input-28-0da8a3d6b01b>\u001b[0m in \u001b[0;36m<module>\u001b[0;34m()\u001b[0m\n\u001b[1;32m      1\u001b[0m \u001b[0;31m#gyro - same as above but Lazar not Morgan\u001b[0m\u001b[0;34m\u001b[0m\u001b[0;34m\u001b[0m\u001b[0m\n\u001b[0;32m----> 2\u001b[0;31m \u001b[0mplot_sensor\u001b[0m\u001b[0;34m(\u001b[0m\u001b[0mexercise\u001b[0m\u001b[0;34m=\u001b[0m\u001b[0;34m'tricep'\u001b[0m\u001b[0;34m,\u001b[0m\u001b[0msensor\u001b[0m\u001b[0;34m=\u001b[0m\u001b[0;34m\"gyro\"\u001b[0m\u001b[0;34m,\u001b[0m \u001b[0mlookahead\u001b[0m\u001b[0;34m=\u001b[0m\u001b[0;36m12\u001b[0m\u001b[0;34m,\u001b[0m\u001b[0muser\u001b[0m\u001b[0;34m=\u001b[0m\u001b[0;34m\"Lazar\"\u001b[0m\u001b[0;34m)\u001b[0m\u001b[0;34m\u001b[0m\u001b[0m\n\u001b[0m",
        "\u001b[0;31mNameError\u001b[0m: name 'plot_sensor' is not defined"
       ]
      }
     ],
     "prompt_number": 28
    },
    {
     "cell_type": "code",
     "collapsed": false,
     "input": [
      "observations.append('Tricep+gryro: x axis is max when z and y are min and vice versa.')"
     ],
     "language": "python",
     "metadata": {},
     "outputs": [],
     "prompt_number": 29
    },
    {
     "cell_type": "code",
     "collapsed": false,
     "input": [
      "#magnetometer\n",
      "plot_sensor(exercise='tricep',sensor=\"magnet\", lookahead=8, user=\"Lazar\")"
     ],
     "language": "python",
     "metadata": {},
     "outputs": [
      {
       "ename": "NameError",
       "evalue": "name 'plot_sensor' is not defined",
       "output_type": "pyerr",
       "traceback": [
        "\u001b[0;31m---------------------------------------------------------------------------\u001b[0m\n\u001b[0;31mNameError\u001b[0m                                 Traceback (most recent call last)",
        "\u001b[0;32m<ipython-input-30-8311f82a84c8>\u001b[0m in \u001b[0;36m<module>\u001b[0;34m()\u001b[0m\n\u001b[1;32m      1\u001b[0m \u001b[0;31m#magnetometer\u001b[0m\u001b[0;34m\u001b[0m\u001b[0;34m\u001b[0m\u001b[0m\n\u001b[0;32m----> 2\u001b[0;31m \u001b[0mplot_sensor\u001b[0m\u001b[0;34m(\u001b[0m\u001b[0mexercise\u001b[0m\u001b[0;34m=\u001b[0m\u001b[0;34m'tricep'\u001b[0m\u001b[0;34m,\u001b[0m\u001b[0msensor\u001b[0m\u001b[0;34m=\u001b[0m\u001b[0;34m\"magnet\"\u001b[0m\u001b[0;34m,\u001b[0m \u001b[0mlookahead\u001b[0m\u001b[0;34m=\u001b[0m\u001b[0;36m8\u001b[0m\u001b[0;34m,\u001b[0m \u001b[0muser\u001b[0m\u001b[0;34m=\u001b[0m\u001b[0;34m\"Lazar\"\u001b[0m\u001b[0;34m)\u001b[0m\u001b[0;34m\u001b[0m\u001b[0m\n\u001b[0m",
        "\u001b[0;31mNameError\u001b[0m: name 'plot_sensor' is not defined"
       ]
      }
     ],
     "prompt_number": 30
    },
    {
     "cell_type": "code",
     "collapsed": false,
     "input": [
      "plot_sensor(exercise='tricep',sensor=\"magnet\", lookahead=8, user=\"Morgan\")"
     ],
     "language": "python",
     "metadata": {},
     "outputs": [
      {
       "ename": "NameError",
       "evalue": "name 'plot_sensor' is not defined",
       "output_type": "pyerr",
       "traceback": [
        "\u001b[0;31m---------------------------------------------------------------------------\u001b[0m\n\u001b[0;31mNameError\u001b[0m                                 Traceback (most recent call last)",
        "\u001b[0;32m<ipython-input-31-abd00fe26f76>\u001b[0m in \u001b[0;36m<module>\u001b[0;34m()\u001b[0m\n\u001b[0;32m----> 1\u001b[0;31m \u001b[0mplot_sensor\u001b[0m\u001b[0;34m(\u001b[0m\u001b[0mexercise\u001b[0m\u001b[0;34m=\u001b[0m\u001b[0;34m'tricep'\u001b[0m\u001b[0;34m,\u001b[0m\u001b[0msensor\u001b[0m\u001b[0;34m=\u001b[0m\u001b[0;34m\"magnet\"\u001b[0m\u001b[0;34m,\u001b[0m \u001b[0mlookahead\u001b[0m\u001b[0;34m=\u001b[0m\u001b[0;36m8\u001b[0m\u001b[0;34m,\u001b[0m \u001b[0muser\u001b[0m\u001b[0;34m=\u001b[0m\u001b[0;34m\"Morgan\"\u001b[0m\u001b[0;34m)\u001b[0m\u001b[0;34m\u001b[0m\u001b[0m\n\u001b[0m",
        "\u001b[0;31mNameError\u001b[0m: name 'plot_sensor' is not defined"
       ]
      }
     ],
     "prompt_number": 31
    },
    {
     "cell_type": "markdown",
     "metadata": {},
     "source": [
      "#### Conclusions for Triceps\n",
      "* The **Magnetometer** is best for tricep curls: All axis were accurate with peak detection at a very low ``lookahead=8``\n",
      "\n",
      "#### Other observations\n",
      "* Tricep curls magnetometer ranges were all similar, whereas, the bicep curl's Z magnetometer is much smaller than X and Y"
     ]
    },
    {
     "cell_type": "markdown",
     "metadata": {},
     "source": [
      "#### Shoulder Press"
     ]
    },
    {
     "cell_type": "code",
     "collapsed": false,
     "input": [
      "plot_sensor(exercise='shoulder',sensor='acc',lookahead=2,delta=.02)"
     ],
     "language": "python",
     "metadata": {},
     "outputs": [
      {
       "ename": "NameError",
       "evalue": "name 'plot_sensor' is not defined",
       "output_type": "pyerr",
       "traceback": [
        "\u001b[0;31m---------------------------------------------------------------------------\u001b[0m\n\u001b[0;31mNameError\u001b[0m                                 Traceback (most recent call last)",
        "\u001b[0;32m<ipython-input-32-25196db02b87>\u001b[0m in \u001b[0;36m<module>\u001b[0;34m()\u001b[0m\n\u001b[0;32m----> 1\u001b[0;31m \u001b[0mplot_sensor\u001b[0m\u001b[0;34m(\u001b[0m\u001b[0mexercise\u001b[0m\u001b[0;34m=\u001b[0m\u001b[0;34m'shoulder'\u001b[0m\u001b[0;34m,\u001b[0m\u001b[0msensor\u001b[0m\u001b[0;34m=\u001b[0m\u001b[0;34m'acc'\u001b[0m\u001b[0;34m,\u001b[0m\u001b[0mlookahead\u001b[0m\u001b[0;34m=\u001b[0m\u001b[0;36m2\u001b[0m\u001b[0;34m,\u001b[0m\u001b[0mdelta\u001b[0m\u001b[0;34m=\u001b[0m\u001b[0;36m.02\u001b[0m\u001b[0;34m)\u001b[0m\u001b[0;34m\u001b[0m\u001b[0m\n\u001b[0m",
        "\u001b[0;31mNameError\u001b[0m: name 'plot_sensor' is not defined"
       ]
      }
     ],
     "prompt_number": 32
    },
    {
     "cell_type": "code",
     "collapsed": false,
     "input": [
      "#same as above - lazar not morgan\n",
      "plot_sensor(exercise='shoulder',sensor='acc',lookahead=2,delta=.02, user='Lazar')"
     ],
     "language": "python",
     "metadata": {},
     "outputs": [
      {
       "ename": "NameError",
       "evalue": "name 'plot_sensor' is not defined",
       "output_type": "pyerr",
       "traceback": [
        "\u001b[0;31m---------------------------------------------------------------------------\u001b[0m\n\u001b[0;31mNameError\u001b[0m                                 Traceback (most recent call last)",
        "\u001b[0;32m<ipython-input-33-390a3b212e66>\u001b[0m in \u001b[0;36m<module>\u001b[0;34m()\u001b[0m\n\u001b[1;32m      1\u001b[0m \u001b[0;31m#same as above - lazar not morgan\u001b[0m\u001b[0;34m\u001b[0m\u001b[0;34m\u001b[0m\u001b[0m\n\u001b[0;32m----> 2\u001b[0;31m \u001b[0mplot_sensor\u001b[0m\u001b[0;34m(\u001b[0m\u001b[0mexercise\u001b[0m\u001b[0;34m=\u001b[0m\u001b[0;34m'shoulder'\u001b[0m\u001b[0;34m,\u001b[0m\u001b[0msensor\u001b[0m\u001b[0;34m=\u001b[0m\u001b[0;34m'acc'\u001b[0m\u001b[0;34m,\u001b[0m\u001b[0mlookahead\u001b[0m\u001b[0;34m=\u001b[0m\u001b[0;36m2\u001b[0m\u001b[0;34m,\u001b[0m\u001b[0mdelta\u001b[0m\u001b[0;34m=\u001b[0m\u001b[0;36m.02\u001b[0m\u001b[0;34m,\u001b[0m \u001b[0muser\u001b[0m\u001b[0;34m=\u001b[0m\u001b[0;34m'Lazar'\u001b[0m\u001b[0;34m)\u001b[0m\u001b[0;34m\u001b[0m\u001b[0m\n\u001b[0m",
        "\u001b[0;31mNameError\u001b[0m: name 'plot_sensor' is not defined"
       ]
      }
     ],
     "prompt_number": 33
    },
    {
     "cell_type": "code",
     "collapsed": false,
     "input": [
      "observations.append(\"Shoulder+acc: x,y,z all have small ranges and for all t: x>z>y\")"
     ],
     "language": "python",
     "metadata": {},
     "outputs": [],
     "prompt_number": 34
    },
    {
     "cell_type": "code",
     "collapsed": false,
     "input": [
      "plot_sensor(exercise='shoulder',sensor='gyro',lookahead=6)"
     ],
     "language": "python",
     "metadata": {},
     "outputs": [
      {
       "ename": "NameError",
       "evalue": "name 'plot_sensor' is not defined",
       "output_type": "pyerr",
       "traceback": [
        "\u001b[0;31m---------------------------------------------------------------------------\u001b[0m\n\u001b[0;31mNameError\u001b[0m                                 Traceback (most recent call last)",
        "\u001b[0;32m<ipython-input-1-778d93cc3166>\u001b[0m in \u001b[0;36m<module>\u001b[0;34m()\u001b[0m\n\u001b[0;32m----> 1\u001b[0;31m \u001b[0mplot_sensor\u001b[0m\u001b[0;34m(\u001b[0m\u001b[0mexercise\u001b[0m\u001b[0;34m=\u001b[0m\u001b[0;34m'shoulder'\u001b[0m\u001b[0;34m,\u001b[0m\u001b[0msensor\u001b[0m\u001b[0;34m=\u001b[0m\u001b[0;34m'gyro'\u001b[0m\u001b[0;34m,\u001b[0m\u001b[0mlookahead\u001b[0m\u001b[0;34m=\u001b[0m\u001b[0;36m6\u001b[0m\u001b[0;34m)\u001b[0m\u001b[0;34m\u001b[0m\u001b[0m\n\u001b[0m",
        "\u001b[0;31mNameError\u001b[0m: name 'plot_sensor' is not defined"
       ]
      }
     ],
     "prompt_number": 1
    },
    {
     "cell_type": "code",
     "collapsed": false,
     "input": [
      "plot_sensor(exercise='shoulder',sensor='magnet',lookahead=8)"
     ],
     "language": "python",
     "metadata": {},
     "outputs": [
      {
       "output_type": "stream",
       "stream": "stdout",
       "text": [
        "8 local min, 8 local max found on magnet_x axis\n",
        "9 local min, 9 local max found on magnet_y axis\n",
        "5 local min, 5 local max found on magnet_z axis\n"
       ]
      },
      {
       "html": [
        "\n",
        "<style>\n",
        "\n",
        "</style>\n",
        "\n",
        "<div id=\"fig1174344931341605252627947\"></div>\n",
        "<script>\n",
        "function mpld3_load_lib(url, callback){\n",
        "  var s = document.createElement('script');\n",
        "  s.src = url;\n",
        "  s.async = true;\n",
        "  s.onreadystatechange = s.onload = callback;\n",
        "  s.onerror = function(){console.warn(\"failed to load library \" + url);};\n",
        "  document.getElementsByTagName(\"head\")[0].appendChild(s);\n",
        "}\n",
        "\n",
        "function create_fig1174344931341605252627947(){\n",
        "  \n",
        "  mpld3.draw_figure(\"fig1174344931341605252627947\", {\"width\": 480.0, \"axes\": [{\"xlim\": [0.0, 30.0], \"yscale\": \"linear\", \"axesbg\": \"#EAEAF2\", \"texts\": [{\"v_baseline\": \"auto\", \"h_anchor\": \"middle\", \"color\": \"#000000\", \"text\": \"10 reps of shoulder: sensor=magnet, user=Morgan, set_id=10\", \"coordinates\": \"axes\", \"zorder\": 3, \"alpha\": 1, \"fontsize\": 12.0, \"position\": [0.5, 1.0224014336917562], \"rotation\": -0.0, \"id\": \"117434511891152\"}, {\"v_baseline\": \"auto\", \"h_anchor\": \"start\", \"color\": \"#000000\", \"text\": \"x\", \"coordinates\": \"axes\", \"zorder\": 1000003.0, \"alpha\": 1, \"fontsize\": 10.0, \"position\": [0.95858534946236551, 0.92741935483870963], \"rotation\": -0.0, \"id\": \"117434493114704\"}, {\"v_baseline\": \"auto\", \"h_anchor\": \"start\", \"color\": \"#000000\", \"text\": \"y\", \"coordinates\": \"axes\", \"zorder\": 1000003.0, \"alpha\": 1, \"fontsize\": 10.0, \"position\": [0.95858534946236551, 0.8646953405017922], \"rotation\": -0.0, \"id\": \"117434500133584\"}, {\"v_baseline\": \"auto\", \"h_anchor\": \"start\", \"color\": \"#000000\", \"text\": \"z\", \"coordinates\": \"axes\", \"zorder\": 1000003.0, \"alpha\": 1, \"fontsize\": 10.0, \"position\": [0.95858534946236551, 0.80197132616487454], \"rotation\": -0.0, \"id\": \"117434500135440\"}], \"zoomable\": true, \"images\": [], \"xdomain\": [0.0, 30.0], \"ylim\": [-200.0, 700.0], \"paths\": [{\"edgecolor\": \"#FFFFFF\", \"facecolor\": \"#EAEAF2\", \"edgewidth\": 0.3, \"pathcodes\": [\"M\", \"L\", \"L\", \"L\", \"L\", \"Z\"], \"yindex\": 1, \"coordinates\": \"axes\", \"dasharray\": \"10,0\", \"zorder\": 1000001.0, \"alpha\": 1, \"xindex\": 0, \"data\": \"data09\", \"id\": \"117434493113168\"}], \"sharey\": [], \"sharex\": [], \"axesbgalpha\": null, \"axes\": [{\"grid\": {\"color\": \"#FFFFFF\", \"alpha\": 1.0, \"dasharray\": \"10,0\", \"gridOn\": true}, \"position\": \"bottom\", \"nticks\": 7, \"tickvalues\": null, \"tickformat\": null}, {\"grid\": {\"color\": \"#FFFFFF\", \"alpha\": 1.0, \"dasharray\": \"10,0\", \"gridOn\": true}, \"position\": \"left\", \"nticks\": 10, \"tickvalues\": null, \"tickformat\": null}], \"lines\": [{\"color\": \"#4C72B0\", \"yindex\": 1, \"coordinates\": \"data\", \"dasharray\": \"10,0\", \"zorder\": 2, \"alpha\": 1, \"xindex\": 0, \"linewidth\": 1.4, \"data\": \"data01\", \"id\": \"117434494623440\"}, {\"color\": \"#55A868\", \"yindex\": 2, \"coordinates\": \"data\", \"dasharray\": \"10,0\", \"zorder\": 2, \"alpha\": 1, \"xindex\": 0, \"linewidth\": 1.4, \"data\": \"data01\", \"id\": \"117434494625296\"}, {\"color\": \"#C44E52\", \"yindex\": 3, \"coordinates\": \"data\", \"dasharray\": \"10,0\", \"zorder\": 2, \"alpha\": 1, \"xindex\": 0, \"linewidth\": 1.4, \"data\": \"data01\", \"id\": \"117434494626768\"}, {\"color\": \"#4C72B0\", \"yindex\": 1, \"coordinates\": \"axes\", \"dasharray\": \"10,0\", \"zorder\": 1000002.0, \"alpha\": 1, \"xindex\": 0, \"linewidth\": 1.4, \"data\": \"data08\", \"id\": \"117434500132112\"}, {\"color\": \"#55A868\", \"yindex\": 2, \"coordinates\": \"axes\", \"dasharray\": \"10,0\", \"zorder\": 1000002.0, \"alpha\": 1, \"xindex\": 0, \"linewidth\": 1.4, \"data\": \"data08\", \"id\": \"117434500134480\"}, {\"color\": \"#C44E52\", \"yindex\": 3, \"coordinates\": \"axes\", \"dasharray\": \"10,0\", \"zorder\": 1000002.0, \"alpha\": 1, \"xindex\": 0, \"linewidth\": 1.4, \"data\": \"data08\", \"id\": \"117434500025808\"}], \"markers\": [{\"edgecolor\": \"#000000\", \"facecolor\": \"#8172B2\", \"edgewidth\": 0.0, \"yindex\": 1, \"coordinates\": \"data\", \"zorder\": 2, \"markerpath\": [[[0.0, 3.0], [0.7956093000000001, 3.0], [1.5587396123545605, 2.683901074764725], [2.121320343559643, 2.121320343559643], [2.683901074764725, 1.5587396123545605], [3.0, 0.7956093000000001], [3.0, 0.0], [3.0, -0.7956093000000001], [2.683901074764725, -1.5587396123545605], [2.121320343559643, -2.121320343559643], [1.5587396123545605, -2.683901074764725], [0.7956093000000001, -3.0], [0.0, -3.0], [-0.7956093000000001, -3.0], [-1.5587396123545605, -2.683901074764725], [-2.121320343559643, -2.121320343559643], [-2.683901074764725, -1.5587396123545605], [-3.0, -0.7956093000000001], [-3.0, 0.0], [-3.0, 0.7956093000000001], [-2.683901074764725, 1.5587396123545605], [-2.121320343559643, 2.121320343559643], [-1.5587396123545605, 2.683901074764725], [-0.7956093000000001, 3.0], [0.0, 3.0]], [\"M\", \"C\", \"C\", \"C\", \"C\", \"C\", \"C\", \"C\", \"C\", \"Z\"]], \"alpha\": 1, \"xindex\": 0, \"data\": \"data02\", \"id\": \"117434494463696pts\"}, {\"edgecolor\": \"#000000\", \"facecolor\": \"#CCB974\", \"edgewidth\": 0.0, \"yindex\": 1, \"coordinates\": \"data\", \"zorder\": 2, \"markerpath\": [[[0.0, 3.0], [0.7956093000000001, 3.0], [1.5587396123545605, 2.683901074764725], [2.121320343559643, 2.121320343559643], [2.683901074764725, 1.5587396123545605], [3.0, 0.7956093000000001], [3.0, 0.0], [3.0, -0.7956093000000001], [2.683901074764725, -1.5587396123545605], [2.121320343559643, -2.121320343559643], [1.5587396123545605, -2.683901074764725], [0.7956093000000001, -3.0], [0.0, -3.0], [-0.7956093000000001, -3.0], [-1.5587396123545605, -2.683901074764725], [-2.121320343559643, -2.121320343559643], [-2.683901074764725, -1.5587396123545605], [-3.0, -0.7956093000000001], [-3.0, 0.0], [-3.0, 0.7956093000000001], [-2.683901074764725, 1.5587396123545605], [-2.121320343559643, 2.121320343559643], [-1.5587396123545605, 2.683901074764725], [-0.7956093000000001, 3.0], [0.0, 3.0]], [\"M\", \"C\", \"C\", \"C\", \"C\", \"C\", \"C\", \"C\", \"C\", \"Z\"]], \"alpha\": 1, \"xindex\": 0, \"data\": \"data03\", \"id\": \"117434494465232pts\"}, {\"edgecolor\": \"#000000\", \"facecolor\": \"#64B5CD\", \"edgewidth\": 0.0, \"yindex\": 1, \"coordinates\": \"data\", \"zorder\": 2, \"markerpath\": [[[0.0, 3.0], [0.7956093000000001, 3.0], [1.5587396123545605, 2.683901074764725], [2.121320343559643, 2.121320343559643], [2.683901074764725, 1.5587396123545605], [3.0, 0.7956093000000001], [3.0, 0.0], [3.0, -0.7956093000000001], [2.683901074764725, -1.5587396123545605], [2.121320343559643, -2.121320343559643], [1.5587396123545605, -2.683901074764725], [0.7956093000000001, -3.0], [0.0, -3.0], [-0.7956093000000001, -3.0], [-1.5587396123545605, -2.683901074764725], [-2.121320343559643, -2.121320343559643], [-2.683901074764725, -1.5587396123545605], [-3.0, -0.7956093000000001], [-3.0, 0.0], [-3.0, 0.7956093000000001], [-2.683901074764725, 1.5587396123545605], [-2.121320343559643, 2.121320343559643], [-1.5587396123545605, 2.683901074764725], [-0.7956093000000001, 3.0], [0.0, 3.0]], [\"M\", \"C\", \"C\", \"C\", \"C\", \"C\", \"C\", \"C\", \"C\", \"Z\"]], \"alpha\": 1, \"xindex\": 0, \"data\": \"data04\", \"id\": \"117434494466768pts\"}, {\"edgecolor\": \"#000000\", \"facecolor\": \"#4C72B0\", \"edgewidth\": 0.0, \"yindex\": 1, \"coordinates\": \"data\", \"zorder\": 2, \"markerpath\": [[[0.0, 3.0], [0.7956093000000001, 3.0], [1.5587396123545605, 2.683901074764725], [2.121320343559643, 2.121320343559643], [2.683901074764725, 1.5587396123545605], [3.0, 0.7956093000000001], [3.0, 0.0], [3.0, -0.7956093000000001], [2.683901074764725, -1.5587396123545605], [2.121320343559643, -2.121320343559643], [1.5587396123545605, -2.683901074764725], [0.7956093000000001, -3.0], [0.0, -3.0], [-0.7956093000000001, -3.0], [-1.5587396123545605, -2.683901074764725], [-2.121320343559643, -2.121320343559643], [-2.683901074764725, -1.5587396123545605], [-3.0, -0.7956093000000001], [-3.0, 0.0], [-3.0, 0.7956093000000001], [-2.683901074764725, 1.5587396123545605], [-2.121320343559643, 2.121320343559643], [-1.5587396123545605, 2.683901074764725], [-0.7956093000000001, 3.0], [0.0, 3.0]], [\"M\", \"C\", \"C\", \"C\", \"C\", \"C\", \"C\", \"C\", \"C\", \"Z\"]], \"alpha\": 1, \"xindex\": 0, \"data\": \"data05\", \"id\": \"117434515586256pts\"}, {\"edgecolor\": \"#000000\", \"facecolor\": \"#55A868\", \"edgewidth\": 0.0, \"yindex\": 1, \"coordinates\": \"data\", \"zorder\": 2, \"markerpath\": [[[0.0, 3.0], [0.7956093000000001, 3.0], [1.5587396123545605, 2.683901074764725], [2.121320343559643, 2.121320343559643], [2.683901074764725, 1.5587396123545605], [3.0, 0.7956093000000001], [3.0, 0.0], [3.0, -0.7956093000000001], [2.683901074764725, -1.5587396123545605], [2.121320343559643, -2.121320343559643], [1.5587396123545605, -2.683901074764725], [0.7956093000000001, -3.0], [0.0, -3.0], [-0.7956093000000001, -3.0], [-1.5587396123545605, -2.683901074764725], [-2.121320343559643, -2.121320343559643], [-2.683901074764725, -1.5587396123545605], [-3.0, -0.7956093000000001], [-3.0, 0.0], [-3.0, 0.7956093000000001], [-2.683901074764725, 1.5587396123545605], [-2.121320343559643, 2.121320343559643], [-1.5587396123545605, 2.683901074764725], [-0.7956093000000001, 3.0], [0.0, 3.0]], [\"M\", \"C\", \"C\", \"C\", \"C\", \"C\", \"C\", \"C\", \"C\", \"Z\"]], \"alpha\": 1, \"xindex\": 0, \"data\": \"data06\", \"id\": \"117434493097744pts\"}, {\"edgecolor\": \"#000000\", \"facecolor\": \"#C44E52\", \"edgewidth\": 0.0, \"yindex\": 1, \"coordinates\": \"data\", \"zorder\": 2, \"markerpath\": [[[0.0, 3.0], [0.7956093000000001, 3.0], [1.5587396123545605, 2.683901074764725], [2.121320343559643, 2.121320343559643], [2.683901074764725, 1.5587396123545605], [3.0, 0.7956093000000001], [3.0, 0.0], [3.0, -0.7956093000000001], [2.683901074764725, -1.5587396123545605], [2.121320343559643, -2.121320343559643], [1.5587396123545605, -2.683901074764725], [0.7956093000000001, -3.0], [0.0, -3.0], [-0.7956093000000001, -3.0], [-1.5587396123545605, -2.683901074764725], [-2.121320343559643, -2.121320343559643], [-2.683901074764725, -1.5587396123545605], [-3.0, -0.7956093000000001], [-3.0, 0.0], [-3.0, 0.7956093000000001], [-2.683901074764725, 1.5587396123545605], [-2.121320343559643, 2.121320343559643], [-1.5587396123545605, 2.683901074764725], [-0.7956093000000001, 3.0], [0.0, 3.0]], [\"M\", \"C\", \"C\", \"C\", \"C\", \"C\", \"C\", \"C\", \"C\", \"Z\"]], \"alpha\": 1, \"xindex\": 0, \"data\": \"data07\", \"id\": \"117434493111632pts\"}], \"id\": \"117434500207056\", \"ydomain\": [-200.0, 700.0], \"collections\": [], \"xscale\": \"linear\", \"bbox\": [0.125, 0.125, 0.77500000000000002, 0.77500000000000002]}], \"data\": {\"data08\": [[0.8749533303464756, 0.943100358422939, 0.8803763440860216, 0.817652329749104], [0.9346904868578256, 0.943100358422939, 0.8803763440860216, 0.817652329749104]], \"data09\": [[0.8630058990442055, 0.7759856630824373], [0.9850657108721625, 0.7759856630824373], [0.9850657108721625, 0.9775985663082437], [0.8630058990442055, 0.9775985663082437], [0.8630058990442055, 0.7759856630824373]], \"data06\": [[2.349, 60.72], [7.578, 118.68], [9.349, 120.52], [10.448, 92.0], [14.749, 126.96]], \"data07\": [[3.648, -13.8], [8.177, 70.84], [10.049, 69.0], [13.599, 40.48], [15.249, 95.68]], \"data04\": [[1.848, 632.96], [4.264, 622.84], [6.462, 658.72], [8.573, 650.44], [10.448, 668.84], [12.249, 663.32], [13.972, 647.68], [15.584, 665.16], [17.348, 666.08]], \"data05\": [[4.049, 449.88], [5.87, 590.64], [6.97, 594.32], [9.049, 594.32], [10.948, 599.84], [13.467, 589.72], [15.074, 603.52], [16.349, 603.52], [20.048, 583.28]], \"data02\": [[1.948, -123.28], [6.462, -58.88], [8.573, -77.28], [10.448, -50.6], [12.249, -62.56], [13.972, -80.96], [15.584, -40.48], [17.348, -37.72]], \"data03\": [[3.648, -179.4], [8.177, -142.6], [9.949, -146.28], [10.948, -145.36], [13.467, -157.32], [14.349, -131.56], [16.804, -125.12], [19.882, -130.64]], \"data01\": [[0.17, -169.28, 586.04, -34.96], [0.248, -169.28, 582.36, -37.72], [0.348, -169.28, 584.2, -35.88], [0.458, -170.2, 586.04, -35.88], [0.574, -168.36, 585.12, -32.2], [0.697, -167.44, 586.04, -28.52], [0.849, -161.0, 592.48, -19.32], [0.948, -158.24, 597.08, -23.0], [1.058, -159.16, 596.16, -30.36], [1.178, -162.84, 588.8, -50.6], [1.314, -174.8, 575.92, -55.2], [1.449, -177.56, 576.84, -26.68], [1.555, -177.56, 576.84, 0.92], [1.68, -146.28, 615.48, 38.64], [1.848, -125.12, 632.96, 53.36], [1.948, -123.28, 631.12, 55.2], [2.07, -140.76, 615.48, 48.76], [2.184, -158.24, 596.16, 57.04], [2.349, -164.68, 589.72, 60.72], [2.449, -167.44, 585.12, 57.04], [2.55, -164.68, 585.12, 48.76], [2.67, -164.68, 585.12, 40.48], [2.793, -168.36, 586.96, 30.36], [2.949, -162.84, 589.72, 28.52], [3.049, -161.0, 591.56, 23.92], [3.149, -158.24, 598.0, 21.16], [3.258, -153.64, 600.76, 13.8], [3.402, -154.56, 598.92, 8.28], [3.549, -167.44, 584.2, -9.2], [3.648, -179.4, 577.76, -13.8], [3.755, -175.72, 586.04, 16.56], [3.882, -157.32, 600.76, 45.08], [4.049, -136.16, 449.88, 43.24], [4.148, -132.48, 622.84, 42.32], [4.264, -138.0, 622.84, 40.48], [4.383, -148.12, 606.28, 47.84], [4.549, -159.16, 594.32, 48.76], [4.648, -153.64, 595.24, 61.64], [4.758, -153.64, 592.48, 56.12], [4.868, -154.56, 593.4, 52.44], [4.994, -149.04, 601.68, 48.76], [5.149, -135.24, 609.96, 57.96], [5.249, -131.56, 613.64, 58.88], [5.349, -122.36, 612.72, 71.76], [5.467, -121.44, 618.24, 71.76], [5.606, -126.96, 615.48, 69.0], [5.749, -139.84, 602.6, 69.0], [5.87, -152.72, 590.64, 59.8], [5.965, -150.88, 593.4, 65.32], [6.08, -135.24, 609.04, 66.24], [6.219, -104.88, 636.64, 71.76], [6.349, -85.56, 647.68, 79.12], [6.462, -58.88, 658.72, 92.0], [6.595, -80.04, 646.76, 96.6], [6.749, -108.56, 620.08, 102.12], [6.858, -127.88, 598.92, 112.24], [6.97, -131.56, 594.32, 111.32], [7.081, -131.56, 598.0, 104.88], [7.249, -128.8, 604.44, 100.28], [7.349, -115.0, 613.64, 103.04], [7.452, -97.52, 621.92, 112.24], [7.578, -80.96, 629.28, 118.68], [7.749, -72.68, 633.88, 117.76], [7.848, -81.88, 634.8, 106.72], [7.948, -95.68, 631.12, 93.84], [8.058, -129.72, 609.96, 74.52], [8.177, -142.6, 601.68, 70.84], [8.349, -132.48, 610.88, 76.36], [8.449, -101.2, 632.96, 87.4], [8.573, -77.28, 650.44, 88.32], [8.69, -82.8, 648.6, 89.24], [8.849, -112.24, 621.92, 98.44], [8.949, -133.4, 600.76, 101.2], [9.049, -133.4, 594.32, 113.16], [9.192, -128.8, 596.16, 114.08], [9.349, -125.12, 596.16, 120.52], [9.449, -118.68, 605.36, 112.24], [9.549, -109.48, 609.96, 114.08], [9.669, -103.04, 618.24, 107.64], [9.789, -128.8, 604.44, 86.48], [9.949, -146.28, 596.16, 70.84], [10.049, -142.6, 603.52, 69.0], [10.168, -115.0, 627.44, 74.52], [10.283, -74.52, 656.88, 92.0], [10.448, -50.6, 668.84, 92.0], [10.549, -65.32, 658.72, 87.4], [10.663, -114.08, 625.6, 87.4], [10.778, -138.92, 603.52, 82.8], [10.948, -145.36, 599.84, 76.36], [11.049, -138.92, 604.44, 80.04], [11.152, -134.32, 603.52, 88.32], [11.266, -126.04, 611.8, 75.44], [11.378, -112.24, 620.08, 79.12], [11.549, -119.6, 615.48, 86.48], [11.648, -130.64, 603.52, 77.28], [11.753, -142.6, 600.76, 63.48], [11.868, -138.92, 604.44, 67.16], [12.006, -122.36, 626.52, 56.12], [12.148, -81.88, 653.2, 73.6], [12.249, -62.56, 663.32, 75.44], [12.358, -94.76, 645.84, 69.92], [12.485, -125.12, 621.0, 68.08], [12.649, -132.48, 613.64, 65.32], [12.749, -138.92, 610.88, 49.68], [12.859, -136.16, 608.12, 66.24], [12.989, -136.16, 605.36, 70.84], [13.149, -135.24, 606.28, 55.2], [13.249, -139.84, 604.44, 63.48], [13.349, -138.0, 603.52, 62.56], [13.467, -157.32, 589.72, 51.52], [13.599, -156.4, 592.48, 40.48], [13.749, -137.08, 610.88, 59.8], [13.849, -100.28, 635.72, 89.24], [13.972, -80.96, 647.68, 100.28], [14.108, -105.8, 625.6, 94.76], [14.249, -118.68, 616.4, 92.92], [14.349, -131.56, 609.96, 83.72], [14.475, -126.96, 607.2, 92.0], [14.649, -119.6, 608.12, 104.88], [14.749, -101.2, 613.64, 126.96], [14.849, -103.96, 615.48, 119.6], [14.956, -107.64, 611.8, 112.24], [15.074, -125.12, 603.52, 105.8], [15.249, -129.72, 606.28, 95.68], [15.349, -108.56, 619.16, 108.56], [15.449, -72.68, 644.92, 116.84], [15.584, -40.48, 665.16, 115.0], [15.749, -61.64, 651.36, 115.0], [15.849, -83.72, 637.56, 117.76], [15.949, -107.64, 616.4, 118.68], [16.111, -114.08, 610.88, 118.68], [16.249, -112.24, 609.04, 115.92], [16.349, -114.08, 603.52, 126.04], [16.449, -104.88, 609.04, 127.88], [16.559, -107.64, 610.88, 124.2], [16.673, -117.76, 609.96, 114.08], [16.804, -125.12, 603.52, 101.2], [16.948, -119.6, 610.88, 101.2], [17.068, -98.44, 624.68, 107.64], [17.182, -60.72, 652.28, 117.76], [17.348, -37.72, 666.08, 118.68], [17.448, -67.16, 642.16, 123.28], [17.549, -80.96, 632.04, 124.2], [17.693, -98.44, 611.8, 143.52], [17.849, -103.96, 606.28, 137.08], [17.949, -97.52, 604.44, 146.28], [18.049, -94.76, 607.2, 145.36], [18.158, -91.08, 610.88, 146.28], [18.276, -90.16, 609.04, 147.2], [18.449, -98.44, 607.2, 138.92], [18.548, -112.24, 607.2, 125.12], [18.673, -111.32, 610.88, 133.4], [18.771, -89.24, 620.08, 139.84], [18.888, -53.36, 644.0, 138.0], [19.048, -35.88, 655.96, 140.76], [19.148, -23.92, 658.72, 147.2], [19.277, -57.96, 635.72, 151.8], [19.448, -96.6, 612.72, 149.04], [19.548, -115.92, 589.72, 144.44], [19.648, -126.96, 594.32, 122.36], [19.754, -124.2, 592.48, 125.12], [19.882, -130.64, 585.12, 135.24], [20.048, -126.96, 583.28, 137.08], [20.148, -115.0, 584.2, 146.28], [20.248, -107.64, 589.72, 149.96], [20.364, -101.2, 595.24, 156.4], [20.488, -100.28, 597.08, 156.4], [20.648, -98.44, 598.92, 151.8], [20.748, -99.36, 599.84, 153.64], [20.868, -101.2, 595.24, 150.88], [20.99, -101.2, 598.0, 152.72], [21.148, -99.36, 597.08, 150.88], [21.248, -100.28, 601.68, 151.8], [21.348, -101.2, 598.0, 148.12], [21.457, -101.2, 598.0, 147.2], [21.564, -102.12, 597.08, 147.2], [21.687, -103.04, 596.16, 149.96], [21.848, -103.96, 595.24, 151.8], [21.957, -102.12, 595.24, 150.88], [22.078, -105.8, 591.56, 148.12], [22.248, -105.8, 595.24, 149.96], [22.348, -101.2, 597.08, 153.64], [22.447, -101.2, 593.4, 152.72], [22.553, -101.2, 592.48, 152.72], [22.679, -103.04, 595.24, 154.56], [22.848, -104.88, 592.48, 151.8], [22.948, -101.2, 588.8, 155.48], [23.048, -104.88, 591.56, 155.48], [23.154, -101.2, 588.8, 158.24], [23.269, -98.44, 591.56, 160.08], [23.382, -98.44, 589.72, 160.08], [23.549, -97.52, 587.88, 162.84], [23.648, -102.12, 588.8, 161.0], [23.748, -100.28, 586.96, 165.6], [23.88, -99.36, 586.96, 165.6], [24.049, -96.6, 588.8, 166.52], [24.147, -94.76, 587.88, 166.52], [24.249, -94.76, 587.88, 167.44], [24.348, -95.68, 588.8, 167.44], [24.448, -98.44, 586.96, 165.6], [24.581, -96.6, 586.96, 166.52], [24.748, -98.44, 589.72, 167.44], [24.849, -98.44, 586.04, 168.36], [24.947, -98.44, 584.2, 166.52], [25.068, -98.44, 586.04, 166.52]]}, \"id\": \"117434493134160\", \"toolbar\": [\"reset\", \"move\"], \"height\": 320.0});\n",
        "}\n",
        "\n",
        "if(typeof(mpld3) !== \"undefined\"){\n",
        "   // already loaded: just create the figure\n",
        "   create_fig1174344931341605252627947();\n",
        "}else if(typeof define === \"function\" && define.amd){\n",
        "   // require.js is available: use it to load d3/mpld3\n",
        "   require.config({paths: {d3: \"http://d3js.org/d3.v3.min\"}});\n",
        "   require([\"d3\"], function(d3){\n",
        "      window.d3 = d3;\n",
        "      mpld3_load_lib(\"http://mpld3.github.io/js/mpld3.v0.1.js\", create_fig1174344931341605252627947);\n",
        "    });\n",
        "}else{\n",
        "    // require.js not available: dynamically load d3 & mpld3\n",
        "    mpld3_load_lib(\"http://d3js.org/d3.v3.min.js\", function(){\n",
        "        mpld3_load_lib(\"http://mpld3.github.io/js/mpld3.v0.1.js\", create_fig1174344931341605252627947);})\n",
        "}\n",
        "</script>"
       ],
       "metadata": {},
       "output_type": "display_data",
       "png": "[encoded data removed]",
       "text": [
        "<matplotlib.figure.Figure at 0x10bcfc950>"
       ]
      }
     ],
     "prompt_number": 81
    },
    {
     "cell_type": "markdown",
     "metadata": {},
     "source": [
      "#### Conclusions for Shoulder\n",
      " The accelerometer and magnetometer show large deltas between respective axes. *Note: good features for classifiers would be:\n",
      "\n",
      "1. Average value of an axis\n",
      "2. Difference in of average value of axis between 3 axes (e.g. shoulder seems to have big delta between ave(y) and ave(x) or ave(z)"
     ]
    },
    {
     "cell_type": "markdown",
     "metadata": {},
     "source": [
      "## Future Work as of 3.18.2014\n",
      "* Collect more observations about differences in exercises\n",
      "* Use above observations to make feature set\n",
      "* Improve peak detection algorithm by incorporating range (max-min)\n",
      "* Label repitions using peak detection algorithm\n",
      "* Segment data into training, test, and holdout\n",
      "* Run several supervised learning classifiers (Naive Bayes, SVM) over dataset using aforementioned feature set to automatically classify reps as a certain exercise type.\n",
      "* Compare and contrast varios supervised learning methods on accuracy, precision, f-score, and speed."
     ]
    },
    {
     "cell_type": "markdown",
     "metadata": {},
     "source": [
      "###Observations"
     ]
    },
    {
     "cell_type": "code",
     "collapsed": false,
     "input": [
      "for i in observations: print i"
     ],
     "language": "python",
     "metadata": {},
     "outputs": [
      {
       "output_type": "stream",
       "stream": "stdout",
       "text": [
        "Shoulder+acc: x,y,z all have small ranges and for all t: x>z>y\n"
       ]
      }
     ],
     "prompt_number": 82
    },
    {
     "cell_type": "markdown",
     "metadata": {},
     "source": [
      "##Live Peak Detection"
     ]
    },
    {
     "cell_type": "markdown",
     "metadata": {},
     "source": [
      "After observing the patterns of the sample data above, I have devised the following real-time, peak detection function. It has the following attributes derrived from the observations above:\n",
      "\n",
      "* It uses the accelerometer and not the other sensors to detect the start and end of the peak\n",
      "    * The accelerometer "
     ]
    },
    {
     "cell_type": "code",
     "collapsed": false,
     "input": [
      "def std(mylist):\n",
      "    ave=sum(mylist)/len(mylist)\n",
      "    deviations= [abs(x - ave)**2 for x in mylist]\n",
      "    # print deviations\n",
      "    st_dev= (sum(deviations)/len(deviations))**.5\n",
      "    return st_dev\n",
      "###\n",
      "# Function by Morgan Wallace\n",
      "#\n",
      "# accepts streamed data from hercubit\n",
      "# returns features of peaks\n",
      "###\n",
      "\n",
      "deltas={'acc':.15,'gyro':2500,'magnet':15}\n",
      "last_peaks={}\n",
      "t=[]\n",
      "x=[]\n",
      "y=[]\n",
      "z=[]\n",
      "rep_count=0\n",
      "from hercubit import settings\n",
      "def live_peaks(sample,debug=False,lookahead=9,elim_first_value=True,get_features=False):\n",
      "    global deltas, last_peaks,t,y,x,z,rep_count\n",
      "\n",
      "    # #refresh\n",
      "    # if len(t)>1:\n",
      "    #     if t[-1]+(settings.sampleRate*2)<time.time():\n",
      "    #         last_peaks={}\n",
      "    #         t=[]\n",
      "    #         x=[]\n",
      "    #         y=[]\n",
      "    #         z=[]\n",
      "\n",
      "    if debug==True:\n",
      "        # Graph peaks\n",
      "        import matplotlib.pyplot as plt\n",
      "        import pylab as pl\n",
      "\n",
      "    #time - (although, it's considered the 'x' axis in the peak detection function\n",
      "    t.append(sample['time'])\n",
      "    \n",
      "    #using just the accelerometer's x,y,z for peak detection\n",
      "    x.append(sample['accel'][0])\n",
      "    y.append(sample['accel'][1])\n",
      "    z.append(sample['accel'][2])\n",
      "\n",
      "\n",
      "    #Don't even look for peaks unless a min_rep_window worth of time has passed\n",
      "    if len(t)<settings.min_rep_window/settings.sampleRate: return None\n",
      "    \n",
      "    x_peaks=peakdetect(x,t,lookahead=lookahead,delta=deltas['acc'])\n",
      "    y_peaks=peakdetect(y,t,lookahead=lookahead,delta=deltas['acc'])\n",
      "    z_peaks=peakdetect(z,t,lookahead=lookahead,delta=deltas['acc'])\n",
      "    \n",
      "    ###\n",
      "    # Test for completion of repitition\n",
      "    # ...Once all axes have min and max\n",
      "    peaks_soFar= sum([1 for i in x_peaks+y_peaks+z_peaks if i!=[]])\n",
      "#     print peaks_soFar\n",
      "    peak_cutoff=3\n",
      "    if peaks_soFar<peak_cutoff: return None #not enough peaks yet to be a repitition\n",
      "    if peaks_soFar>=peak_cutoff:\n",
      "\n",
      "        sds={}\n",
      "        sds['x']=std(x)\n",
      "        sds['y']=std(y)\n",
      "        sds['z']=std(z)\n",
      "        avg={}\n",
      "        avg['x']=sum(x)/len(x)\n",
      "        avg['y']=sum(y)/len(y)\n",
      "        avg['z']=sum(z)/len(z)\n",
      "\n",
      "        if sds['y']>.42 and sds['x']>0.09 and sds['z']>0.13: # bicep curls\n",
      "            if peaks_soFar<5: \n",
      "                if sum([1 for i in y_peaks if i!=[]])!=2:\n",
      "                    return  None    \n",
      "            \n",
      "            print \"Bicep Curl\"\n",
      "        if sds['x']>.3 and sds['y']<.29 and sds['z']<.17: #tricep curl\n",
      "            if peaks_soFar<5:\n",
      "                if sum([1 for i in x_peaks if i!=[]])!=2:\n",
      "                    return None\n",
      "            print \"Tricep Curl\"\n",
      "        if sds['x']<0.19 and sds['z']<0.13:# Shoulder Press\n",
      "            if sum([1 for i in y_peaks if i!=[]])!=2:\n",
      "                return None\n",
      "            else: print \"Shoulder Press\"\n",
      "        # if y[-1]>y[1]:\n",
      "        #     if y[-1]>y[1]+.2: return None\n",
      "        # else:\n",
      "        #     if y[-1]<y[1]-.2: return None\n",
      "    # print \"sd: \"+str(sds)\n",
      "    # print \"avg: \"+str(avg)\n",
      "\n",
      "\n",
      "\n",
      "    # print sds\n",
      "    rep_count+=1\n",
      "    print 'reps: '+str(rep_count)\n",
      "    if debug==True:\n",
      "        # Graph peaks\n",
      "#         import matplotlib.pyplot as plt\n",
      "#         import pylab as pl\n",
      "        fig, ax = plt.subplots()\n",
      "        ax.plot(t, x,label='x')\n",
      "        ax.plot(t, y,label='y')\n",
      "        ax.plot(t, z,label='z')\n",
      "        print t\n",
      "#         ax.plot([q[0] for q in x_peaks[0]+x_peaks[1]],[q[1] for q in x_peaks[0]+x_peaks[1]],'o')\n",
      "#         ax.plot([q[0] for q in y_peaks[0]+y_peaks[1]],[q[1] for q in y_peaks[0]+y_peaks[1]],'o')\n",
      "#         ax.plot([q[0] for q in z_peaks[0]+z_peaks[1]],[q[1] for q in z_peaks[0]+z_peaks[1]],'o')\n",
      "        ax.legend()\n",
      "    #find axis with \n",
      "\n",
      "    next_start_time= max([i[0][0] for i in x_peaks+y_peaks+z_peaks if i!=[]])\n",
      "    print next_start_time\n",
      "    # print l\n",
      "    # print max(l)\n",
      "    # #set place to start next peak detection at last min/max\n",
      "    # for axis in (x_peaks,y_peaks,z_peaks):\n",
      "    #     if axis[0]!=[] and axis[1]!=[]:    \n",
      "    #         t_max= axis[0][-1][0] #time of x's max\n",
      "    #         t_min= axis[1][-1][0] #time of x's min\n",
      "    # next_start_time=max(t_max,t_min) #the later of the above 2\n",
      "#                     print next_start_time\n",
      "    for c in t:\n",
      "#                         print c\n",
      "        if round(c,2)==round(next_start_time,2):\n",
      "            end=c\n",
      "            i=t.index(c)\n",
      "            break\n",
      "    t=t[i:]\n",
      "    x=x[i:]\n",
      "    y=y[i:]\n",
      "    z=z[i:]\n",
      "\n",
      "    #extract features\n",
      "    if get_features==False:\n",
      "        return rep_count\n",
      "    else:  \n",
      "        ranges={}\n",
      "#         print x_peaks\n",
      "        \n",
      "        #since not all peaks for all axis will have occurred, not all ranges can be determined\n",
      "        if x_peaks[0]!=[] and x_peaks[1]!=[]:\n",
      "            ranges['x']=x_peaks[0][0][1]-x_peaks[1][0][1]\n",
      "        else: \n",
      "            ranges['x']=None\n",
      "        if y_peaks[0]!=[] and y_peaks[1]!=[]:\n",
      "            ranges['y']=y_peaks[0][0][1]-y_peaks[1][0][1]\n",
      "        else: \n",
      "            ranges['y']=None\n",
      "        if z_peaks[0]!=[] and z_peaks[1]!=[]:\n",
      "            ranges['z']=z_peaks[0][0][1]-z_peaks[1][0][1]\n",
      "        else: \n",
      "            ranges['z']=None\n",
      "            \n",
      "#         ranges['y']=y_peaks[0][0][1]-y_peaks[1][0][1]\n",
      "#         ranges['z']=z_peaks[0][0][1]-z_peaks[1][0][1]\n",
      "        avg={}\n",
      "        avg['x']=sum(x)/len(x)\n",
      "        avg['y']=sum(y)/len(y)\n",
      "        avg['z']=sum(z)/len(z)\n",
      "        sds={}\n",
      "        sds['x']=std(x)\n",
      "        sds['y']=std(y)\n",
      "        sds['z']=std(z)\n",
      "        \n",
      "        features={'peak start':t[0],'ranges':ranges,'means':avg,\"standard deviations\":sds,'peak end':end}\n",
      "        \n",
      "        return features               "
     ],
     "language": "python",
     "metadata": {},
     "outputs": [],
     "prompt_number": 135
    },
    {
     "cell_type": "code",
     "collapsed": false,
     "input": [
      "def generator_df(set_id=1):\n",
      "    #Only get samples from one session/set_id\n",
      "    df_x=df[df['set_id']==set_id]\n",
      "    \n",
      "    for i in range(len(df_x)):\n",
      "        row=list(df.iloc[i])\n",
      "        \n",
      "        #reformat to match format of raw data stream from device\n",
      "        sample={\"accel\":row[4:7],'gyro':row[7:10],'magnet':row[10:13],'time':row[3]}\n",
      "        yield sample"
     ],
     "language": "python",
     "metadata": {},
     "outputs": [],
     "prompt_number": 96
    },
    {
     "cell_type": "code",
     "collapsed": false,
     "input": [
      "g=generator_df()"
     ],
     "language": "python",
     "metadata": {},
     "outputs": [],
     "prompt_number": 137
    },
    {
     "cell_type": "code",
     "collapsed": false,
     "input": [
      "while True:\n",
      "    sample=g.next()\n",
      "    features=live_peaks(sample,debug=True,get_features=True)\n",
      "    if features!= None:\n",
      "        print features\n",
      "        break"
     ],
     "language": "python",
     "metadata": {},
     "outputs": [
      {
       "output_type": "stream",
       "stream": "stdout",
       "text": [
        "Shoulder Press\n",
        "reps: 4\n",
        "[4.1420209407806396, 4.2419619560241699, 4.3700101375579834, 4.4839210510253906, 4.6423361301422119, 4.7424540519714355, 4.8440561294555664, 5.0026941299438477, 5.1423969268798828, 5.2451510429382324, 5.3589479923248291, 5.4752471446990967, 5.6424810886383057, 5.7538180351257324, 5.876349925994873, 6.0422029495239258, 6.1413180828094482, 6.2413840293884277, 6.350059986114502, 6.4901809692382812, 6.6425130367279053, 6.7417430877685547, 6.8790841102600098, 7.0418190956115723, 7.1422660350799561, 7.2423920631408691, 7.3577721118927002]\n",
        "6.14131808281\n",
        "{'ranges': {'y': 1.51, 'x': None, 'z': None}, 'peak end': 6.1413180828094482, 'peak start': 6.1413180828094482, 'standard deviations': {'y': 0.35549755610509365, 'x': 0.15970530712523912, 'z': 0.10940107422380418}, 'means': {'y': 0.54818181818181821, 'x': -0.61181818181818182, 'z': -0.10363636363636362}}\n"
       ]
      },
      {
       "html": [
        "\n",
        "<style>\n",
        "\n",
        "</style>\n",
        "\n",
        "<div id=\"fig894544921820969682648912\"></div>\n",
        "<script>\n",
        "function mpld3_load_lib(url, callback){\n",
        "  var s = document.createElement('script');\n",
        "  s.src = url;\n",
        "  s.async = true;\n",
        "  s.onreadystatechange = s.onload = callback;\n",
        "  s.onerror = function(){console.warn(\"failed to load library \" + url);};\n",
        "  document.getElementsByTagName(\"head\")[0].appendChild(s);\n",
        "}\n",
        "\n",
        "function create_fig894544921820969682648912(){\n",
        "  \n",
        "  mpld3.draw_figure(\"fig894544921820969682648912\", {\"width\": 480.0, \"axes\": [{\"xlim\": [4.0, 7.5], \"yscale\": \"linear\", \"axesbg\": \"#EAEAF2\", \"texts\": [{\"v_baseline\": \"auto\", \"h_anchor\": \"start\", \"color\": \"#000000\", \"text\": \"x\", \"coordinates\": \"axes\", \"zorder\": 1000003.0, \"alpha\": 1, \"fontsize\": 10.0, \"position\": [0.95858534946236551, 0.92741935483870963], \"rotation\": -0.0, \"id\": \"89454514981264\"}, {\"v_baseline\": \"auto\", \"h_anchor\": \"start\", \"color\": \"#000000\", \"text\": \"y\", \"coordinates\": \"axes\", \"zorder\": 1000003.0, \"alpha\": 1, \"fontsize\": 10.0, \"position\": [0.95858534946236551, 0.8646953405017922], \"rotation\": -0.0, \"id\": \"89454514908112\"}, {\"v_baseline\": \"auto\", \"h_anchor\": \"start\", \"color\": \"#000000\", \"text\": \"z\", \"coordinates\": \"axes\", \"zorder\": 1000003.0, \"alpha\": 1, \"fontsize\": 10.0, \"position\": [0.95858534946236551, 0.80197132616487454], \"rotation\": -0.0, \"id\": \"89454511067472\"}], \"zoomable\": true, \"images\": [], \"xdomain\": [4.0, 7.5], \"ylim\": [-1.0, 1.0], \"paths\": [{\"edgecolor\": \"#FFFFFF\", \"facecolor\": \"#EAEAF2\", \"edgewidth\": 0.3, \"pathcodes\": [\"M\", \"L\", \"L\", \"L\", \"L\", \"Z\"], \"yindex\": 1, \"coordinates\": \"axes\", \"dasharray\": \"10,0\", \"zorder\": 1000001.0, \"alpha\": 1, \"xindex\": 0, \"data\": \"data03\", \"id\": \"89454514981392\"}], \"sharey\": [], \"sharex\": [], \"axesbgalpha\": null, \"axes\": [{\"grid\": {\"color\": \"#FFFFFF\", \"alpha\": 1.0, \"dasharray\": \"10,0\", \"gridOn\": true}, \"position\": \"bottom\", \"nticks\": 8, \"tickvalues\": null, \"tickformat\": null}, {\"grid\": {\"color\": \"#FFFFFF\", \"alpha\": 1.0, \"dasharray\": \"10,0\", \"gridOn\": true}, \"position\": \"left\", \"nticks\": 5, \"tickvalues\": null, \"tickformat\": null}], \"lines\": [{\"color\": \"#4C72B0\", \"yindex\": 1, \"coordinates\": \"data\", \"dasharray\": \"10,0\", \"zorder\": 2, \"alpha\": 1, \"xindex\": 0, \"linewidth\": 1.4, \"data\": \"data01\", \"id\": \"89454514901776\"}, {\"color\": \"#55A868\", \"yindex\": 2, \"coordinates\": \"data\", \"dasharray\": \"10,0\", \"zorder\": 2, \"alpha\": 1, \"xindex\": 0, \"linewidth\": 1.4, \"data\": \"data01\", \"id\": \"89454514900752\"}, {\"color\": \"#C44E52\", \"yindex\": 3, \"coordinates\": \"data\", \"dasharray\": \"10,0\", \"zorder\": 2, \"alpha\": 1, \"xindex\": 0, \"linewidth\": 1.4, \"data\": \"data01\", \"id\": \"89454514980432\"}, {\"color\": \"#4C72B0\", \"yindex\": 1, \"coordinates\": \"axes\", \"dasharray\": \"10,0\", \"zorder\": 1000002.0, \"alpha\": 1, \"xindex\": 0, \"linewidth\": 1.4, \"data\": \"data02\", \"id\": \"89454514909904\"}, {\"color\": \"#55A868\", \"yindex\": 2, \"coordinates\": \"axes\", \"dasharray\": \"10,0\", \"zorder\": 1000002.0, \"alpha\": 1, \"xindex\": 0, \"linewidth\": 1.4, \"data\": \"data02\", \"id\": \"89454514910032\"}, {\"color\": \"#C44E52\", \"yindex\": 3, \"coordinates\": \"axes\", \"dasharray\": \"10,0\", \"zorder\": 1000002.0, \"alpha\": 1, \"xindex\": 0, \"linewidth\": 1.4, \"data\": \"data02\", \"id\": \"89454514908560\"}], \"markers\": [], \"id\": \"89454511621968\", \"ydomain\": [-1.0, 1.0], \"collections\": [], \"xscale\": \"linear\", \"bbox\": [0.125, 0.125, 0.77500000000000002, 0.77500000000000002]}], \"data\": {\"data02\": [[0.8749533303464756, 0.943100358422939, 0.8803763440860216, 0.817652329749104], [0.9346904868578256, 0.943100358422939, 0.8803763440860216, 0.817652329749104]], \"data03\": [[0.8630058990442055, 0.7759856630824373], [0.9850657108721625, 0.7759856630824373], [0.9850657108721625, 0.9775985663082437], [0.8630058990442055, 0.9775985663082437], [0.8630058990442055, 0.7759856630824373]], \"data01\": [[4.14202094078064, -0.83, 0.05, 0.04], [4.24196195602417, -0.78, 0.36, 0.07], [4.370010137557983, -0.71, 0.6, 0.01], [4.483921051025391, -0.58, 0.72, -0.07], [4.642336130142212, -0.47, 0.79, -0.11], [4.7424540519714355, -0.42, 0.83, -0.16], [4.844056129455566, -0.47, 0.87, -0.18], [5.002694129943848, -0.63, 0.83, -0.12], [5.142396926879883, -0.75, 0.65, -0.07], [5.245151042938232, -0.81, 0.32, 0.0], [5.358947992324829, -0.7, -0.05, 0.07], [5.475247144699097, -0.58, -0.32, 0.08], [5.642481088638306, -0.47, -0.52, 0.07], [5.753818035125732, -0.43, -0.64, 0.07], [5.876349925994873, -0.41, -0.59, 0.07], [6.042202949523926, -0.62, -0.37, 0.05], [6.141318082809448, -0.75, -0.03, 0.13], [6.241384029388428, -0.76, 0.37, -0.04], [6.350059986114502, -0.64, 0.66, -0.15], [6.490180969238281, -0.49, 0.8, -0.22], [6.642513036727905, -0.37, 0.85, -0.22], [6.741743087768555, -0.35, 0.89, -0.22], [6.87908411026001, -0.45, 0.92, -0.19], [7.041819095611572, -0.66, 0.84, -0.15], [7.142266035079956, -0.8, 0.59, -0.07], [7.242392063140869, -0.78, 0.24, -0.01], [7.3577721118927, -0.68, -0.1, 0.0]]}, \"id\": \"89454492182096\", \"toolbar\": [\"reset\", \"move\"], \"height\": 320.0});\n",
        "}\n",
        "\n",
        "if(typeof(mpld3) !== \"undefined\"){\n",
        "   // already loaded: just create the figure\n",
        "   create_fig894544921820969682648912();\n",
        "}else if(typeof define === \"function\" && define.amd){\n",
        "   // require.js is available: use it to load d3/mpld3\n",
        "   require.config({paths: {d3: \"http://d3js.org/d3.v3.min\"}});\n",
        "   require([\"d3\"], function(d3){\n",
        "      window.d3 = d3;\n",
        "      mpld3_load_lib(\"http://mpld3.github.io/js/mpld3.v0.1.js\", create_fig894544921820969682648912);\n",
        "    });\n",
        "}else{\n",
        "    // require.js not available: dynamically load d3 & mpld3\n",
        "    mpld3_load_lib(\"http://d3js.org/d3.v3.min.js\", function(){\n",
        "        mpld3_load_lib(\"http://mpld3.github.io/js/mpld3.v0.1.js\", create_fig894544921820969682648912);})\n",
        "}\n",
        "</script>"
       ],
       "metadata": {},
       "output_type": "display_data",
       "png": "[encoded data removed]",
       "text": [
        "<matplotlib.figure.Figure at 0x10bc14250>"
       ]
      }
     ],
     "prompt_number": 140
    }
   ],
   "metadata": {}
  }
 ]
}